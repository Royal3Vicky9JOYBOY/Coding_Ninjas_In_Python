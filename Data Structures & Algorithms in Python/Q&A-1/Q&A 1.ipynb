{
 "cells": [
  {
   "cell_type": "markdown",
   "id": "df66ed34",
   "metadata": {},
   "source": [
    "# Binary Tree Node\n",
    "\n",
    "A node in Binary trees can have how many children ?\n",
    "\n",
    "ANS:0 or 1 or 2 "
   ]
  },
  {
   "cell_type": "markdown",
   "id": "86b104dd",
   "metadata": {},
   "source": [
    "# Input Binary Tree\n",
    "\n",
    "Consider the below code\n",
    "\n",
    "void takeInput():\n",
    "    \n",
    "    print(\"Enter root data\")\n",
    "    \n",
    "    rootData = int(input())\n",
    "    \n",
    "    if (rootData == -1) {\n",
    "        \n",
    "        return None\n",
    "        \n",
    "    }\n",
    "\n",
    "    root = BinaryTreeNode(rootData)\n",
    "    \n",
    "    root.left = takeInput()\n",
    "    \n",
    "    root.right = takeInput()\n",
    "    \n",
    "    return root\n",
    "\n",
    "Alt text    \n",
    "\n",
    "                            2\n",
    "                           / \\\n",
    "                          7   5\n",
    "                         / \\   \\\n",
    "                        2  6    9\n",
    "                          / \\  /\n",
    "                        5   11 4\n",
    "                        \n",
    "What will be the input(excluding -1) to above code to construct this tree ?\n",
    "\n",
    " 1)  2 7 2 6 5 11 5 9 4 \n",
    "    \n",
    " 2)  2 7 5 6 11 2 5 4 9 \n",
    "\n",
    " 3)  2 7 5 2 6 9 5 11 4\n",
    "\n",
    "    \n",
    "ANS: 1"
   ]
  },
  {
   "cell_type": "markdown",
   "id": "d0a9730b",
   "metadata": {},
   "source": [
    "# Binary Tree Levelwise\n",
    "\n",
    "Print given tree level wise\n",
    "Alt text\n",
    "\n",
    "                        0\n",
    "                       / \\\n",
    "                      1   2\n",
    "                     / \\ / \\\n",
    "                    3  4 5  6\n",
    "                   / \\ /\\/\\/ \\\n",
    "                  7  8(9)(10)(11)(12)(13)(14)\n",
    "                  \n",
    " 1) 0 1 3 7 8 4 9 10 2 5 11 12 6 13 14\n",
    " \n",
    " 2) 0 1 2 3 4 5 6 7 8 9 10 11 12 13 14\n",
    " \n",
    " 3) 0 2 1 6 5 4 3 14 13 12 11 10 9 8 7\n",
    " \n",
    " ANS: 2"
   ]
  },
  {
   "cell_type": "markdown",
   "id": "f7602231",
   "metadata": {},
   "source": [
    "# Height Of Tree\n",
    "\n",
    "The maximum and minimum number of nodes in a binary tree of height 6 are\n",
    "A tree with zero node has height 0 A tree with one node has height 1\n",
    "\n",
    "ANS: 63 and 6, respectively \n",
    "\n"
   ]
  },
  {
   "cell_type": "markdown",
   "id": "e162c96e",
   "metadata": {},
   "source": [
    "# Inorder Prorder Postorder\n",
    "\n",
    "The inorder and preorder traversal of a binary tree are\n",
    "\n",
    "   Inorder:   d b e a p q r\n",
    "   \n",
    "   PreOrder:  a b d e q p r \n",
    "   \n",
    "The postorder traversal of the binary tree is:\n",
    "\n",
    " (A) d e b p r q a\n",
    " \n",
    " (B) e d b r p q a\n",
    " \n",
    " (C) e d b p r q a\n",
    " \n",
    " (D) d e p r b q a\n",
    " \n",
    " ANS: A\n"
   ]
  },
  {
   "cell_type": "markdown",
   "id": "50500e8f",
   "metadata": {},
   "source": [
    "# IsBST?\n",
    "\n",
    "Is this a BST ?\n",
    "\n",
    "                      10\n",
    "                        \\\n",
    "                         20\n",
    "                           \\\n",
    "                            30\n",
    "                              \\\n",
    "                               40\n",
    "                                 \\\n",
    "                                  50\n",
    "             \n",
    "ANS : YES"
   ]
  },
  {
   "cell_type": "markdown",
   "id": "63d83df9",
   "metadata": {},
   "source": [
    "# BST Time Complexity\n",
    "\n",
    "The run time for traversing all the nodes of a binary search tree with n nodes and printing them in an order is\n",
    "\n",
    "a)  O(nlg(n))\n",
    "\n",
    "b)  O(n)\n",
    "\n",
    "c)  O(√n)\n",
    "\n",
    "d)  O(log(n))\n",
    "\n",
    "ANS: b"
   ]
  },
  {
   "cell_type": "markdown",
   "id": "52bd1ad5",
   "metadata": {},
   "source": [
    "# Traversal In BST\n",
    "\n",
    "Which type of traversal of binary search tree outputs the value in sorted order ?\n",
    "\n",
    "a) Pre-order\n",
    " \n",
    "b)  In-order\n",
    "\n",
    "c)  Post-order\n",
    "\n",
    "d)  None\n",
    "\n",
    "ANS: b"
   ]
  },
  {
   "cell_type": "markdown",
   "id": "1bbe0317",
   "metadata": {},
   "source": [
    "# Insertion In BST\n",
    "\n",
    "Which one of the following is the tightest upper bound that represents the time complexity of inserting an object into a binary search tree of n nodes?\n",
    "\n",
    "ANS: O(n) \n",
    "\n"
   ]
  },
  {
   "cell_type": "markdown",
   "id": "8e85aa1a",
   "metadata": {},
   "source": [
    "# Insertion/Deletion In BST\n",
    "\n",
    "What are the worst-case complexities of insertion and deletion of a key in a binary search tree?\n",
    "\n",
    "ANS:θ (n) for both insertion and deletion "
   ]
  },
  {
   "cell_type": "markdown",
   "id": "a0a48b7e",
   "metadata": {},
   "source": [
    "# Predict The Output\n",
    "\n",
    "What will be the output of following code?\n",
    "\n",
    "d = {1:2, “abc”:5, “def”:7}\n",
    "\n",
    "print(d[0])\n",
    "\n",
    "ANS: Error "
   ]
  },
  {
   "cell_type": "markdown",
   "id": "a9d7d34e",
   "metadata": {},
   "source": [
    "# Predict The Output\n",
    "\n",
    "What will be the output of following code?\n",
    "\n",
    "d = {1:2, “abc”:5, “def”:7}\n",
    "\n",
    "print(d.get(0,5))\n",
    "\n",
    "ANS: 5 \n",
    "\n",
    "Solution Description\n",
    "We can make use of this feature in another way. Say we want the method to do the following action: If the key is present in the dictionary then return the value corresponding to the key. In case the key is not present, return a custom desired value ( say 0 ).\n",
    "\n"
   ]
  },
  {
   "cell_type": "markdown",
   "id": "db985c39",
   "metadata": {},
   "source": [
    "# Predict The Output\n",
    "\n",
    "What will be the output of following code?\n",
    "\n",
    "d = {1:2, “abc”:5, “def”:7}\n",
    "\n",
    "if 2 in d: \n",
    "    \n",
    "    print(‘Present’)\n",
    "    \n",
    "else: \n",
    "    \n",
    "    print(‘Not Present’)\n",
    "    \n",
    "ANS: Not Present \n",
    "    \n",
    "Solution Description\n",
    "The “in” operator iterates only through the keys of the dictionary."
   ]
  },
  {
   "cell_type": "markdown",
   "id": "c803f244",
   "metadata": {},
   "source": [
    "# Predict The Output\n",
    "\n",
    "What will be the output of following code?\n",
    "\n",
    "a = {1:2,’list’:[1,2],3:5}\n",
    "\n",
    "b = {4:5,3:7}\n",
    "\n",
    "a.update(b)\n",
    "\n",
    "print(a[3])\n",
    "\n",
    "ANS: 7\n",
    "\n",
    "Solution Description\n",
    "The “update” method is used to merge the contents of both the dictionaries and form a single dictionary out of it. In this process, the second dictionary is unchanged and the contents of the second dictionary are copied into the first dictionary. The uncommon keys from the second dictionary are added to the first with their corresponding values. However, if these dictionaries have any common key, then the value of the common key present in the first dictionary is updated to the new value from the second.\n",
    "\n",
    "In this case when the update is called then tuple 'a' becomes:\n",
    "a = {1:2,’list’:[1,2],4:5,3:7}\n",
    "\n",
    "So, a[3] returns 7."
   ]
  },
  {
   "cell_type": "markdown",
   "id": "445acd80",
   "metadata": {},
   "source": [
    "# Predict The Output\n",
    "\n",
    "What will be the output of following code?\n",
    "\n",
    "a = {1:2,’list’:[1,2],3:5}\n",
    "\n",
    "a.pop(‘list’)\n",
    "\n",
    "a[‘list’] = [3,5]\n",
    "\n",
    "print(a[‘list’])\n",
    "\n",
    "ANS: [3,5] \n",
    "\n",
    "Solution Description\n",
    "In order to delete an entry corresponding to any key in a dictionary, we can simply pop the key from the dictionary. The method used here is .pop(). This method removes the key-value pair corresponding to any particular key and then returns the value of the removed key-value pair.\n",
    "\n",
    "In this case, when a.pop(‘list’) is called it removed the key 'list' from a. And when \n",
    "a[‘list’] = [3,5] is called it added another key named 'list'.\n",
    "\n",
    "The output for print(a[‘list’]) is [3, 5].\n"
   ]
  },
  {
   "cell_type": "markdown",
   "id": "6f9c0554",
   "metadata": {},
   "source": [
    "# Complexity Hashmap\n",
    "\n",
    "Average Case Time Complexity of Hashmap in insertion, deletion & searching\n",
    "\n",
    "ANS : O(1) "
   ]
  },
  {
   "cell_type": "markdown",
   "id": "db2b9c5c",
   "metadata": {},
   "source": [
    "# Load Factor\n",
    "\n",
    "Given: n = no of entries in Hashmap b= size of bucket array What is load factor mathematically ?\n",
    "\n",
    "B2\n",
    "\n",
    "ANS: n/b "
   ]
  },
  {
   "cell_type": "markdown",
   "id": "e7d5b986",
   "metadata": {},
   "source": [
    "# Time Complexity\n",
    "\n",
    "Time Complexity for retrieving all keyset from Hashmap\n",
    "\n",
    "ANS: O(n) \n",
    "    \n",
    "Solution Description\n",
    "Will iterate through all the values"
   ]
  },
  {
   "cell_type": "markdown",
   "id": "582e18f8",
   "metadata": {},
   "source": [
    "# Insertion In Max Heap\n",
    "\n",
    "Consider a max heap, represented by the array: 40, 30, 20, 10, 15, 16, 17, 8, 4. Now consider that a value 35 is inserted into this heap. After insertion, the new heap is\n",
    "\n",
    "ANS: 40, 35, 20, 10, 30, 16, 17, 8, 4, 15 "
   ]
  },
  {
   "cell_type": "markdown",
   "id": "f0151787",
   "metadata": {},
   "source": [
    "# Insertion In PQ-MaxHeap\n",
    "\n",
    "A Priority-Queue is implemented as a Max-Heap. Initially, it has 5 elements. The level-order traversal of the heap is given below: 10, 8, 5, 3, 2 Two new elements ”1‘ and ”7‘ are inserted in the heap in that order. The level-order traversal of the heap after the insertion of the elements is:\n",
    "        \n",
    "10, 8, 7, 3, 2, 1, 5 "
   ]
  },
  {
   "cell_type": "markdown",
   "id": "c1a98ed3",
   "metadata": {},
   "source": [
    "# Re-heap After Removal\n",
    "\n",
    "An operator delete(i) for a binary heap data structure is to be designed to delete the item in the i-th node. Assume that the heap is implemented in an array and i refers to the i-th index of the array. If the heap tree has depth d (number of edges on the path from the root to the farthest leaf), then what is the time complexity to re-fix the heap efficiently after the removal of the element?\n",
    "\n",
    "ANS: O(d) but not O(1) "
   ]
  }
 ],
 "metadata": {
  "kernelspec": {
   "display_name": "Python 3",
   "language": "python",
   "name": "python3"
  },
  "language_info": {
   "codemirror_mode": {
    "name": "ipython",
    "version": 3
   },
   "file_extension": ".py",
   "mimetype": "text/x-python",
   "name": "python",
   "nbconvert_exporter": "python",
   "pygments_lexer": "ipython3",
   "version": "3.8.8"
  }
 },
 "nbformat": 4,
 "nbformat_minor": 5
}
