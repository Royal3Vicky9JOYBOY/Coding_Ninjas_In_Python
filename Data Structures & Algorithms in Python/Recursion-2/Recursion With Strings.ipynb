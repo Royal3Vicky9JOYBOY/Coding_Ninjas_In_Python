{
 "cells": [
  {
   "cell_type": "code",
   "execution_count": 3,
   "id": "3f147127",
   "metadata": {},
   "outputs": [],
   "source": [
    "# Base case: len == 0 do nothing          \n",
    "# H:our function can do this for l-1 sized strings\n"
   ]
  },
  {
   "cell_type": "code",
   "execution_count": 6,
   "id": "014312d2",
   "metadata": {},
   "outputs": [],
   "source": [
    "def replaceChar(s,a,b):\n",
    "    if len(s) == 0:\n",
    "        return s\n",
    "    smallOutput = replaceChar(s[1:],a,b)\n",
    "    if s[0]==a:\n",
    "        return b + smallOutput\n",
    "    else:\n",
    "        return s[0]+smallOutput"
   ]
  },
  {
   "cell_type": "code",
   "execution_count": 7,
   "id": "970f42b6",
   "metadata": {},
   "outputs": [
    {
     "data": {
      "text/plain": [
       "'daxdxxd'"
      ]
     },
     "execution_count": 7,
     "metadata": {},
     "output_type": "execute_result"
    }
   ],
   "source": [
    "replaceChar(\"dacdxcd\",'c','x')"
   ]
  },
  {
   "cell_type": "markdown",
   "id": "c548ee05",
   "metadata": {},
   "source": [
    "# Replace Pi"
   ]
  },
  {
   "cell_type": "markdown",
   "id": "d22b22d5",
   "metadata": {},
   "source": [
    "Replace Pi in String"
   ]
  },
  {
   "cell_type": "code",
   "execution_count": 8,
   "id": "ff240840",
   "metadata": {},
   "outputs": [],
   "source": [
    "# Base: l==0 or l==1 return Same string"
   ]
  },
  {
   "cell_type": "code",
   "execution_count": 9,
   "id": "ea5dc609",
   "metadata": {},
   "outputs": [],
   "source": [
    "def replacePi(s):\n",
    "    if len(s)==0 or len(s)==1:\n",
    "        return s\n",
    "    if s[0]=='p' and s[1]=='i':\n",
    "        smallOutput=replacePi(s[2:])\n",
    "        return \"3.14\"+smallOutput\n",
    "    else:\n",
    "        smallOutput = replacePi(s[1:])\n",
    "        return s[0]+smallOutput"
   ]
  },
  {
   "cell_type": "code",
   "execution_count": 10,
   "id": "4f6e5fad",
   "metadata": {},
   "outputs": [
    {
     "data": {
      "text/plain": [
       "'abcd'"
      ]
     },
     "execution_count": 10,
     "metadata": {},
     "output_type": "execute_result"
    }
   ],
   "source": [
    "replacePi(\"abcd\")"
   ]
  },
  {
   "cell_type": "code",
   "execution_count": 11,
   "id": "cf4931ae",
   "metadata": {},
   "outputs": [
    {
     "data": {
      "text/plain": [
       "'3.14p3.14'"
      ]
     },
     "execution_count": 11,
     "metadata": {},
     "output_type": "execute_result"
    }
   ],
   "source": [
    "replacePi(\"pippi\")"
   ]
  },
  {
   "cell_type": "code",
   "execution_count": 12,
   "id": "763842c1",
   "metadata": {},
   "outputs": [
    {
     "data": {
      "text/plain": [
       "'ap3.14le'"
      ]
     },
     "execution_count": 12,
     "metadata": {},
     "output_type": "execute_result"
    }
   ],
   "source": [
    "replacePi(\"appile\")"
   ]
  },
  {
   "cell_type": "markdown",
   "id": "64a094ca",
   "metadata": {},
   "source": [
    "# Binary Search Using Recursion"
   ]
  },
  {
   "cell_type": "code",
   "execution_count": 15,
   "id": "b82c4541",
   "metadata": {},
   "outputs": [],
   "source": [
    "def binarySearch(a,x,si,ei):\n",
    "    if si>ei:\n",
    "        return -1\n",
    "    mid = (si+ei)//2"
   ]
  },
  {
   "cell_type": "code",
   "execution_count": 17,
   "id": "e0857bc9",
   "metadata": {},
   "outputs": [
    {
     "data": {
      "text/plain": [
       "3"
      ]
     },
     "execution_count": 17,
     "metadata": {},
     "output_type": "execute_result"
    }
   ],
   "source": [
    "(2+5)//2"
   ]
  },
  {
   "cell_type": "code",
   "execution_count": 18,
   "id": "50f75c82",
   "metadata": {},
   "outputs": [],
   "source": [
    "def binarySearch(a,x,si,ei):\n",
    "    if si>ei:\n",
    "        return -1\n",
    "    mid = (si+ei)//2\n",
    "    if a[mid]==x:\n",
    "        return mid\n",
    "    elif a[mid]>x:\n",
    "        return binarySearch(a,x,si,mid-1)\n",
    "    else:\n",
    "        return binarySearch(a,x,mid-1,ei)\n",
    "        "
   ]
  },
  {
   "cell_type": "code",
   "execution_count": 20,
   "id": "ce4dfe3d",
   "metadata": {},
   "outputs": [
    {
     "data": {
      "text/plain": [
       "1"
      ]
     },
     "execution_count": 20,
     "metadata": {},
     "output_type": "execute_result"
    }
   ],
   "source": [
    "binarySearch([1,3,5,7,9,11,13,15,16,17],3,0,9)     #array has to be sorted"
   ]
  },
  {
   "cell_type": "code",
   "execution_count": 21,
   "id": "2c55c4a3",
   "metadata": {},
   "outputs": [
    {
     "data": {
      "text/plain": [
       "-1"
      ]
     },
     "execution_count": 21,
     "metadata": {},
     "output_type": "execute_result"
    }
   ],
   "source": [
    "binarySearch([1,3,5,7,9,11,13,15,16,17],2,0,9)"
   ]
  },
  {
   "cell_type": "markdown",
   "id": "15e11f58",
   "metadata": {},
   "source": [
    "# Merge Sort"
   ]
  },
  {
   "cell_type": "code",
   "execution_count": 31,
   "id": "3bffc068",
   "metadata": {},
   "outputs": [],
   "source": [
    "def merge(a1,a2,a):\n",
    "    i=0\n",
    "    j=0\n",
    "    k=0\n",
    "    while i<len(a1) and j<len(a2):\n",
    "        if (a1[i] < a2[j]):\n",
    "            a[k]=a1[i]\n",
    "            k=k+1\n",
    "            i=i+1\n",
    "        else:\n",
    "            a[k]=a2[j]\n",
    "            k=k+1\n",
    "            j=j+1\n",
    "            \n",
    "    while i<len(a1):\n",
    "        a[k]=a1[i]\n",
    "        k=k+1\n",
    "        i=i+1\n",
    "        \n",
    "    while j<len(a2):\n",
    "        a[k]=a2[j]\n",
    "        k=k+1\n",
    "        j=j+1\n",
    "        "
   ]
  },
  {
   "cell_type": "code",
   "execution_count": 32,
   "id": "54312f6f",
   "metadata": {},
   "outputs": [],
   "source": [
    "def merge_sort(a):\n",
    "    if len(a)==0 or len(a)==1:\n",
    "        return\n",
    "    mid = len(a)//2\n",
    "    a1=a[0:mid]\n",
    "    a2=a[mid:]\n",
    "    \n",
    "    merge_sort(a1)\n",
    "    merge_sort(a2)\n",
    "    \n",
    "    merge(a1,a2,a)"
   ]
  },
  {
   "cell_type": "code",
   "execution_count": 33,
   "id": "b05546d5",
   "metadata": {},
   "outputs": [
    {
     "data": {
      "text/plain": [
       "[1, 3, 4, 5, 7, 9, 10]"
      ]
     },
     "execution_count": 33,
     "metadata": {},
     "output_type": "execute_result"
    }
   ],
   "source": [
    "a=[10,5,3,1,7,9,4]\n",
    "merge_sort(a)\n",
    "a"
   ]
  },
  {
   "cell_type": "markdown",
   "id": "b155c1bc",
   "metadata": {},
   "source": [
    "# Quick Sort"
   ]
  },
  {
   "cell_type": "code",
   "execution_count": 50,
   "id": "5a3c5690",
   "metadata": {},
   "outputs": [],
   "source": [
    "def partition(a,si,ei):\n",
    "    pivot=a[si]\n",
    "    c=0      #find number of elements smaller than pivot\n",
    "    for i in range(si,ei+1):\n",
    "        if a[i]<pivot:\n",
    "            c=c+1\n",
    "    a[si+c],a[si]=a[si],a[si+c]\n",
    "    pivot_index=si+c\n",
    "        \n",
    "    i=si\n",
    "    j=ei\n",
    "    while i<j:\n",
    "        if a[i]<pivot:\n",
    "            i=i+1\n",
    "        elif a[j]>=pivot:\n",
    "            j=j-1\n",
    "        else:\n",
    "            a[i],a[j]=a[j],a[i]\n",
    "            i=i+1\n",
    "            j=j-1\n",
    "    return pivot_index"
   ]
  },
  {
   "cell_type": "code",
   "execution_count": 46,
   "id": "c96fdfe5",
   "metadata": {},
   "outputs": [],
   "source": [
    "def quick_sort(a,si,ei):\n",
    "    if si>=ei:\n",
    "        return\n",
    "    pivot_index=partition(a,si,ei)\n",
    "    quick_sort(a,si,pivot_index-1)\n",
    "    quick_sort(a,pivot_index+1,ei)\n",
    "    "
   ]
  },
  {
   "cell_type": "code",
   "execution_count": 53,
   "id": "00d58026",
   "metadata": {},
   "outputs": [
    {
     "name": "stdout",
     "output_type": "stream",
     "text": [
      "5\n"
     ]
    },
    {
     "data": {
      "text/plain": [
       "[1, 2, 4, 5, 3, 6, 7, 8, 9, 10]"
      ]
     },
     "execution_count": 53,
     "metadata": {},
     "output_type": "execute_result"
    }
   ],
   "source": [
    "a=[6,10,9,8,7,1,3,5,4,2]\n",
    "print(partition(a,0,len(a)-1))\n",
    "a"
   ]
  },
  {
   "cell_type": "code",
   "execution_count": 52,
   "id": "74d16619",
   "metadata": {},
   "outputs": [
    {
     "data": {
      "text/plain": [
       "[1, 2, 3, 4, 5, 6, 7, 8, 9, 10]"
      ]
     },
     "execution_count": 52,
     "metadata": {},
     "output_type": "execute_result"
    }
   ],
   "source": [
    "a=[6,10,9,8,7,1,3,5,4,2]\n",
    "quick_sort(a,0,len(a)-1)\n",
    "a"
   ]
  },
  {
   "cell_type": "markdown",
   "id": "39a5b9cc",
   "metadata": {},
   "source": [
    "# Tower of Hanoi"
   ]
  },
  {
   "cell_type": "code",
   "execution_count": 55,
   "id": "813a3330",
   "metadata": {},
   "outputs": [],
   "source": [
    "# only one disc at a time\n",
    "# at any point larger disc can't be put on a smaller one"
   ]
  },
  {
   "cell_type": "code",
   "execution_count": 57,
   "id": "9546d2a0",
   "metadata": {},
   "outputs": [],
   "source": [
    "def tower_hanoi(n,a,b,c):\n",
    "    if n==1:\n",
    "        print(\"move 1st disk from\",a,\"to\",c)\n",
    "        return\n",
    "    tower_hanoi(n-1,a,c,b)\n",
    "    print(\"move\",n,\"th disk from\",a,\"to\",c)\n",
    "    tower_hanoi(n-1,b,a,c)"
   ]
  },
  {
   "cell_type": "code",
   "execution_count": 58,
   "id": "2dd3e595",
   "metadata": {},
   "outputs": [
    {
     "name": "stdout",
     "output_type": "stream",
     "text": [
      "move 1st disk from s to d\n"
     ]
    }
   ],
   "source": [
    "tower_hanoi(1,\"s\",\"h\",\"d\")"
   ]
  },
  {
   "cell_type": "code",
   "execution_count": 59,
   "id": "4766eea9",
   "metadata": {},
   "outputs": [
    {
     "name": "stdout",
     "output_type": "stream",
     "text": [
      "move 1st disk from s to h\n",
      "move 2 th disk from s to d\n",
      "move 1st disk from h to d\n"
     ]
    }
   ],
   "source": [
    "tower_hanoi(2,\"s\",\"h\",\"d\")"
   ]
  },
  {
   "cell_type": "code",
   "execution_count": 60,
   "id": "684f79d7",
   "metadata": {},
   "outputs": [
    {
     "name": "stdout",
     "output_type": "stream",
     "text": [
      "move 1st disk from s to d\n",
      "move 2 th disk from s to h\n",
      "move 1st disk from d to h\n",
      "move 3 th disk from s to d\n",
      "move 1st disk from h to s\n",
      "move 2 th disk from h to d\n",
      "move 1st disk from s to d\n",
      "move 4 th disk from s to h\n",
      "move 1st disk from d to h\n",
      "move 2 th disk from d to s\n",
      "move 1st disk from h to s\n",
      "move 3 th disk from d to h\n",
      "move 1st disk from s to d\n",
      "move 2 th disk from s to h\n",
      "move 1st disk from d to h\n",
      "move 5 th disk from s to d\n",
      "move 1st disk from h to s\n",
      "move 2 th disk from h to d\n",
      "move 1st disk from s to d\n",
      "move 3 th disk from h to s\n",
      "move 1st disk from d to h\n",
      "move 2 th disk from d to s\n",
      "move 1st disk from h to s\n",
      "move 4 th disk from h to d\n",
      "move 1st disk from s to d\n",
      "move 2 th disk from s to h\n",
      "move 1st disk from d to h\n",
      "move 3 th disk from s to d\n",
      "move 1st disk from h to s\n",
      "move 2 th disk from h to d\n",
      "move 1st disk from s to d\n"
     ]
    }
   ],
   "source": [
    "tower_hanoi(5,\"s\",\"h\",\"d\")"
   ]
  }
 ],
 "metadata": {
  "kernelspec": {
   "display_name": "Python 3",
   "language": "python",
   "name": "python3"
  },
  "language_info": {
   "codemirror_mode": {
    "name": "ipython",
    "version": 3
   },
   "file_extension": ".py",
   "mimetype": "text/x-python",
   "name": "python",
   "nbconvert_exporter": "python",
   "pygments_lexer": "ipython3",
   "version": "3.8.8"
  }
 },
 "nbformat": 4,
 "nbformat_minor": 5
}
