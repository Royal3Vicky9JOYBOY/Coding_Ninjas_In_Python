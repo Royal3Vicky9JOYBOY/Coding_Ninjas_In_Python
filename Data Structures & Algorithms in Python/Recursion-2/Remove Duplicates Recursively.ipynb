{
 "cells": [
  {
   "cell_type": "markdown",
   "id": "3b99dd30",
   "metadata": {},
   "source": [
    "# Remove Duplicates Recursively\n",
    "Send Feedback\n",
    "Given a string S, remove consecutive duplicates from it recursively.\n",
    "Input Format :\n",
    "String S\n",
    "Output Format :\n",
    "Output string\n",
    "Constraints :\n",
    "1 <= |S| <= 10^3\n",
    "where |S| represents the length of string\n",
    "Sample Input 1 :\n",
    "aabccba\n",
    "Sample Output 1 :\n",
    "abcba\n",
    "Sample Input 2 :\n",
    "xxxyyyzwwzzz\n",
    "Sample Output 2 :\n",
    "xyzwz"
   ]
  },
  {
   "cell_type": "code",
   "execution_count": 2,
   "id": "dc820054",
   "metadata": {},
   "outputs": [
    {
     "name": "stdout",
     "output_type": "stream",
     "text": [
      "vviicckkyy\n",
      "vicky\n"
     ]
    }
   ],
   "source": [
    "def removeConsecutiveDuplicates(string):\n",
    "    # Please add your code here\n",
    "\n",
    "    if len(string) == 1:\n",
    "        return string\n",
    "    \n",
    "    if string[0] == string[1]:\n",
    "        smallOutput = removeConsecutiveDuplicates(string[1:])\n",
    "        return smallOutput   \n",
    "    \n",
    "    else:\n",
    "        nextOutput = removeConsecutiveDuplicates(string[1:])\n",
    "        return string[0] + nextOutput\n",
    "\n",
    "# Main\n",
    "string = input().strip()\n",
    "print(removeConsecutiveDuplicates(string))\n"
   ]
  }
 ],
 "metadata": {
  "kernelspec": {
   "display_name": "Python 3",
   "language": "python",
   "name": "python3"
  },
  "language_info": {
   "codemirror_mode": {
    "name": "ipython",
    "version": 3
   },
   "file_extension": ".py",
   "mimetype": "text/x-python",
   "name": "python",
   "nbconvert_exporter": "python",
   "pygments_lexer": "ipython3",
   "version": "3.8.8"
  }
 },
 "nbformat": 4,
 "nbformat_minor": 5
}
