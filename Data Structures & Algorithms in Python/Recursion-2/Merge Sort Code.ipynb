{
 "cells": [
  {
   "cell_type": "markdown",
   "id": "ba12956f",
   "metadata": {},
   "source": [
    "# Merge Sort Code\n",
    "Send Feedback\n",
    "Sort an array A using Merge Sort.\n",
    "Change in the input array itself. So no need to return or print anything.\n",
    "Input format :\n",
    "Line 1 : Integer n i.e. Array size\n",
    "Line 2 : Array elements (separated by space)\n",
    "Output format :\n",
    "Array elements in increasing order (separated by space)\n",
    "Constraints :\n",
    "1 <= n <= 10^3\n",
    "Sample Input 1 :\n",
    "6 \n",
    "2 6 8 5 4 3\n",
    "Sample Output 1 :\n",
    "2 3 4 5 6 8\n",
    "Sample Input 2 :\n",
    "5\n",
    "2 1 5 2 3\n",
    "Sample Output 2 :\n",
    "1 2 2 3 5 "
   ]
  },
  {
   "cell_type": "code",
   "execution_count": 1,
   "id": "d0cff9e4",
   "metadata": {},
   "outputs": [
    {
     "name": "stdout",
     "output_type": "stream",
     "text": [
      "5\n",
      "3 6 9 5 10\n",
      "3 5 6 9 10\n"
     ]
    }
   ],
   "source": [
    "def merge(arr1,arr2,arr):\n",
    "    i = 0\n",
    "    j = 0\n",
    "    k = 0\n",
    "    while i < len(arr1) and j < len(arr2): \n",
    "        if arr1[i]<arr2[j]:\n",
    "            arr[k] = arr1[i]\n",
    "            k = k+1\n",
    "            i = i+1\n",
    "        else:\n",
    "            arr[k] = arr2[j]\n",
    "            k = k+1\n",
    "            j = j+1\n",
    "    while i < len(arr1):\n",
    "        arr[k] = arr1[i]\n",
    "        k = k+1\n",
    "        i = i+1\n",
    "    while j < len(arr2):\n",
    "        arr[k] = arr2[j]\n",
    "        k = k+1\n",
    "        j = j+1\n",
    "        \n",
    "        \n",
    "def mergeSort(arr):\n",
    "    if len(arr) == 0 or len (arr) == 1:\n",
    "        return\n",
    "    mid = len(arr)//2\n",
    "    arr1 = arr[0:mid]\n",
    "    arr2 = arr[mid:]\n",
    "    mergeSort(arr1)\n",
    "    mergeSort(arr2)\n",
    "    merge(arr1,arr2,arr)\n",
    "    pass\n",
    "\n",
    "# Main\n",
    "n=int(input())\n",
    "arr=list(int(i) for i in input().strip().split(' '))\n",
    "mergeSort(arr)\n",
    "print(*arr)\n"
   ]
  }
 ],
 "metadata": {
  "kernelspec": {
   "display_name": "Python 3",
   "language": "python",
   "name": "python3"
  },
  "language_info": {
   "codemirror_mode": {
    "name": "ipython",
    "version": 3
   },
   "file_extension": ".py",
   "mimetype": "text/x-python",
   "name": "python",
   "nbconvert_exporter": "python",
   "pygments_lexer": "ipython3",
   "version": "3.8.8"
  }
 },
 "nbformat": 4,
 "nbformat_minor": 5
}
