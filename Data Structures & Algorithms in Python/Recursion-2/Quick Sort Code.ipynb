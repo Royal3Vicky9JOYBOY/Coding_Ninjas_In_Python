{
 "cells": [
  {
   "cell_type": "markdown",
   "id": "4c84f1b7",
   "metadata": {},
   "source": [
    "# Quick Sort Code\n",
    "Send Feedback\n",
    "Sort an array A using Quick Sort.\n",
    "Change in the input array itself. So no need to return or print anything.\n",
    "\n",
    "\n",
    "Input format :\n",
    "Line 1 : Integer n i.e. Array size\n",
    "Line 2 : Array elements (separated by space)\n",
    "Output format :\n",
    "Array elements in increasing order (separated by space)\n",
    "Constraints :\n",
    "1 <= n <= 10^3\n",
    "Sample Input 1 :\n",
    "6 \n",
    "2 6 8 5 4 3\n",
    "Sample Output 1 :\n",
    "2 3 4 5 6 8\n",
    "Sample Input 2 :\n",
    "5\n",
    "1 5 2 7 3\n",
    "Sample Output 2 :\n",
    "1 2 3 5 7 "
   ]
  },
  {
   "cell_type": "code",
   "execution_count": 2,
   "id": "c0eb251c",
   "metadata": {},
   "outputs": [
    {
     "name": "stdout",
     "output_type": "stream",
     "text": [
      "3\n",
      "9 6 3\n",
      "3 6 9 \n"
     ]
    }
   ],
   "source": [
    "def partition(a,s,e):\n",
    "    pivot=a[s]\n",
    "    c=0\n",
    "    for i in range(s,e+1):\n",
    "        if (a[i] < pivot):\n",
    "            c=c+1\n",
    "    a[s+c],a[s]=a[s],a[s+c]\n",
    "    pivot_index=s+c\n",
    "    i=s\n",
    "    j=e\n",
    "    while i<j:\n",
    "        if a[i]<pivot:\n",
    "            i=i+1\n",
    "        elif a[j]>=pivot:\n",
    "            j=j-1\n",
    "        else:\n",
    "            a[i],a[j]=a[j],a[i]\n",
    "            i=i+1\n",
    "            j=j-1\n",
    "    return pivot_index\n",
    "def quick_sort(a,s,e):\n",
    "    if s>=e:\n",
    "        return\n",
    "    pivot_index=partition(a,s,e)\n",
    "    quick_sort(a,s,pivot_index-1)\n",
    "    quick_sort(a,pivot_index+1,e)\n",
    "n=int(input())\n",
    "a=[int(x) for x in input().split()]\n",
    "quick_sort(a,0,len(a)-1)\n",
    "for i in a:\n",
    "    print(i,end=\" \")\n",
    "print()"
   ]
  }
 ],
 "metadata": {
  "kernelspec": {
   "display_name": "Python 3",
   "language": "python",
   "name": "python3"
  },
  "language_info": {
   "codemirror_mode": {
    "name": "ipython",
    "version": 3
   },
   "file_extension": ".py",
   "mimetype": "text/x-python",
   "name": "python",
   "nbconvert_exporter": "python",
   "pygments_lexer": "ipython3",
   "version": "3.8.8"
  }
 },
 "nbformat": 4,
 "nbformat_minor": 5
}
