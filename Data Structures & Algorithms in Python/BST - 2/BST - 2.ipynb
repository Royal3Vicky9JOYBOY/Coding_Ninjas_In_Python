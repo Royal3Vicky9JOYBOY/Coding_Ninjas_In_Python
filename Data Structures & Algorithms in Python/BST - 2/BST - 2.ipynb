{
 "cells": [
  {
   "cell_type": "markdown",
   "id": "d9e28ddb",
   "metadata": {},
   "source": [
    "# Root To Node Path In Binary Tree"
   ]
  },
  {
   "cell_type": "markdown",
   "id": "d4417e4f",
   "metadata": {},
   "source": [
    "                           1\n",
    "                          / \\\n",
    "                         2   7              # u need 5\n",
    "                        / \\ / \\             # it will be <5,7,1>\n",
    "                       3  4 5  9\n",
    "                           \n",
    "                        "
   ]
  },
  {
   "cell_type": "markdown",
   "id": "219474f4",
   "metadata": {},
   "source": [
    " 1. root is None?\n",
    "    \n",
    " 2. root data == search element\n",
    "\n",
    " 3. if 1&2 is not true call on left\n",
    " \n",
    "                    none?/   \\\n",
    "                        /yes  \\no\n",
    "            call on right     append root.data to left output\n",
    "        yes none? /  \\\n",
    "                 /    \\\n",
    "        return none   append root.data to right output "
   ]
  },
  {
   "cell_type": "code",
   "execution_count": 1,
   "id": "11830146",
   "metadata": {},
   "outputs": [],
   "source": [
    "class BinaryTreeNode:\n",
    "    def __init__(self, data):\n",
    "        self.data=data\n",
    "        self.left=None\n",
    "        self.right=None "
   ]
  },
  {
   "cell_type": "code",
   "execution_count": 2,
   "id": "bfcc72aa",
   "metadata": {},
   "outputs": [],
   "source": [
    "def search(root, x):\n",
    "    if root == None:\n",
    "        return False\n",
    "    if root.data == x:\n",
    "        return True\n",
    "    elif root.data>x:\n",
    "        return search(root.left,x)\n",
    "    else:\n",
    "        return search(root.right,x)"
   ]
  },
  {
   "cell_type": "code",
   "execution_count": 3,
   "id": "21024c79",
   "metadata": {},
   "outputs": [],
   "source": [
    "def printTreeDetailed(root):   \n",
    "    if root == None:\n",
    "        return                   \n",
    "    print(root.data, end=\":\") \n",
    "    if root.left != None:\n",
    "        print(\"L\", root.left.data,end=\",\")\n",
    "    if root.right != None:\n",
    "        print(\"R\", root.right.data,end=\" \")\n",
    "    print()\n",
    "    printTreeDetailed(root.left)         \n",
    "    printTreeDetailed(root.right)"
   ]
  },
  {
   "cell_type": "code",
   "execution_count": 4,
   "id": "737546f5",
   "metadata": {},
   "outputs": [],
   "source": [
    "import queue\n",
    "def takeLevelWiseTreeInput():\n",
    "    q=queue.Queue()\n",
    "    print(\"Enter root\")\n",
    "    rootData=int(input())\n",
    "    if(rootData==-1):\n",
    "        return None\n",
    "    root=BinaryTreeNode(rootData)\n",
    "    q.put(root)\n",
    "    while(not(q.empty())):\n",
    "        current_node=q.get()\n",
    "        print(\"Enter left child of\",current_node.data)\n",
    "        leftChildData=int(input())\n",
    "        if leftChildData !=-1:\n",
    "            leftChild=BinaryTreeNode(leftChildData)\n",
    "            current_node.left=leftChild\n",
    "            q.put(leftChild)\n",
    "            \n",
    "        print(\"Enter right child of\",current_node.data)\n",
    "        rightChildData=int(input())\n",
    "        if rightChildData !=-1:\n",
    "            rightChild=BinaryTreeNode(rightChildData)\n",
    "            current_node.right=rightChild\n",
    "            q.put(rightChild)\n",
    "            \n",
    "    return root"
   ]
  },
  {
   "cell_type": "code",
   "execution_count": 6,
   "id": "87b4c934",
   "metadata": {},
   "outputs": [],
   "source": [
    "def nodeToRootPath(root,s):\n",
    "    if root==None:\n",
    "        return None\n",
    "    if root.data==s:\n",
    "        l=list()\n",
    "        l.append(root.data)\n",
    "        return l\n",
    "    leftOutput=nodeToRootPath(root.left,s)\n",
    "    if leftOutput !=None:\n",
    "        leftOutput.append(root.data)\n",
    "        return leftOutput\n",
    "    rightOutput=nodeToRootPath(root.right,s)\n",
    "    if rightOutput !=None:\n",
    "        rightOutput.append(root.data)\n",
    "        return rightOutput\n",
    "    else:\n",
    "        return None\n",
    "        "
   ]
  },
  {
   "cell_type": "code",
   "execution_count": 8,
   "id": "bb6aceed",
   "metadata": {},
   "outputs": [
    {
     "name": "stdout",
     "output_type": "stream",
     "text": [
      "Enter root\n",
      "1\n",
      "Enter left child of 1\n",
      "2\n",
      "Enter right child of 1\n",
      "3\n",
      "Enter left child of 2\n",
      "-1\n",
      "Enter right child of 2\n",
      "-1\n",
      "Enter left child of 3\n",
      "4\n",
      "Enter right child of 3\n",
      "6\n",
      "Enter left child of 4\n",
      "-1\n",
      "Enter right child of 4\n",
      "-1\n",
      "Enter left child of 6\n",
      "5\n",
      "Enter right child of 6\n",
      "9\n",
      "Enter left child of 5\n",
      "7\n",
      "Enter right child of 5\n",
      "8\n",
      "Enter left child of 9\n",
      "-1\n",
      "Enter right child of 9\n",
      "-1\n",
      "Enter left child of 7\n",
      "-1\n",
      "Enter right child of 7\n",
      "-1\n",
      "Enter left child of 8\n",
      "-1\n",
      "Enter right child of 8\n",
      "-1\n",
      "1:L 2,R 3 \n",
      "2:\n",
      "3:L 4,R 6 \n",
      "4:\n",
      "6:L 5,R 9 \n",
      "5:L 7,R 8 \n",
      "7:\n",
      "8:\n",
      "9:\n"
     ]
    },
    {
     "data": {
      "text/plain": [
       "[5, 6, 3, 1]"
      ]
     },
     "execution_count": 8,
     "metadata": {},
     "output_type": "execute_result"
    }
   ],
   "source": [
    "root=takeLevelWiseTreeInput()\n",
    "printTreeDetailed(root)\n",
    "nodeToRootPath(root,5)"
   ]
  },
  {
   "cell_type": "markdown",
   "id": "729e6788",
   "metadata": {},
   "source": [
    "                          1\n",
    "                         / \\\n",
    "                        2   3\n",
    "                           / \\\n",
    "                          4   6\n",
    "                             / \\\n",
    "                            5   9\n",
    "                           / \\\n",
    "                          7   8\n",
    "                         "
   ]
  },
  {
   "cell_type": "markdown",
   "id": "b3752b8a",
   "metadata": {},
   "source": [
    "# Structure Of BST Class"
   ]
  },
  {
   "cell_type": "code",
   "execution_count": 9,
   "id": "8453b6af",
   "metadata": {},
   "outputs": [],
   "source": [
    "class BinaryTreeNode:\n",
    "    def __init__(self, data):\n",
    "        self.data=data\n",
    "        self.left=None\n",
    "        self.right=None "
   ]
  },
  {
   "cell_type": "code",
   "execution_count": 10,
   "id": "f7055a67",
   "metadata": {},
   "outputs": [],
   "source": [
    "class BST:\n",
    "    \n",
    "    def __init__(self):  \n",
    "        self.root=None\n",
    "        self.numNodes = 0\n",
    "        \n",
    "    def printTree(self):\n",
    "        return\n",
    "    \n",
    "    def isPresent(self, data):\n",
    "        return False\n",
    "    \n",
    "    def insert(self, data):\n",
    "        return\n",
    "    \n",
    "    def deleteData(self, data):\n",
    "        return False\n",
    "    \n",
    "    def count(self):\n",
    "        return 0"
   ]
  },
  {
   "cell_type": "code",
   "execution_count": null,
   "id": "38404e86",
   "metadata": {},
   "outputs": [],
   "source": [
    "b=BST()\n",
    "b.insert(10)\n",
    "b.insert(5)\n",
    "b.insert(12)\n",
    "print(b.isPresent(10))\n",
    "print(b.ispresent(7))\n",
    "print(b.deleteData(4))\n",
    "print(b.deleteData(10))\n",
    "print(b.count())\n",
    "b.printTree()"
   ]
  },
  {
   "cell_type": "markdown",
   "id": "22c16598",
   "metadata": {},
   "source": [
    "# BST Class - Search & Print"
   ]
  },
  {
   "cell_type": "code",
   "execution_count": null,
   "id": "9ee946e8",
   "metadata": {},
   "outputs": [],
   "source": [
    "# Search and Print Functions\n",
    "class BinaryTreeNode:\n",
    "    def __init__(self, data):\n",
    "        self.data=data\n",
    "        self.left=None\n",
    "        self.right=None "
   ]
  },
  {
   "cell_type": "code",
   "execution_count": null,
   "id": "50738ba1",
   "metadata": {},
   "outputs": [],
   "source": [
    "class BST:\n",
    "    \n",
    "    def __init__(self):  \n",
    "        self.root=None\n",
    "        self.numNodes = 0\n",
    "        \n",
    "    def printTreeHelper(self,root):\n",
    "        if root == None:\n",
    "            return                   \n",
    "        print(root.data, end=\":\") \n",
    "        if root.left != None:\n",
    "            print(\"L\", root.left.data,end=\",\")\n",
    "        if root.right != None:\n",
    "            print(\"R\", root.right.data,end=\" \")\n",
    "        print()\n",
    "        printTreeHelper(root.left)         \n",
    "        printTreeHelper(root.right)\n",
    "        \n",
    "    def printTree(self):\n",
    "        printTreeHelper(self.root)\n",
    "        \n",
    "    \n",
    "    def isPresentHelper(self,root, data):\n",
    "        if self.root==None:\n",
    "            return False\n",
    "        \n",
    "        if self.root.data == data:\n",
    "            return True\n",
    "        \n",
    "        if self.root.data > data:\n",
    "            # call on left\n",
    "            return isPresentHelper(root.left, data)\n",
    "        else:\n",
    "            # call on right\n",
    "            return isPresentHelper(root.right, data)\n",
    "       \n",
    "    def ispresent(self,data): \n",
    "        return isPresentHelper(self.root, data)\n",
    "    \n",
    "    def insert(self, data):\n",
    "        return\n",
    "    \n",
    "    def deleteData(self, data):\n",
    "        return False\n",
    "    \n",
    "    def count(self):\n",
    "        return 0"
   ]
  },
  {
   "cell_type": "code",
   "execution_count": null,
   "id": "eb979a03",
   "metadata": {},
   "outputs": [],
   "source": [
    "b=BST()\n",
    "b.insert(10)\n",
    "b.insert(5)\n",
    "b.insert(12)\n",
    "print(b.isPresent(10))\n",
    "print(b.ispresent(7))\n",
    "print(b.deleteData(4))\n",
    "print(b.deleteData(10))\n",
    "print(b.count())\n",
    "b.printTree()"
   ]
  },
  {
   "cell_type": "markdown",
   "id": "98a0c88a",
   "metadata": {},
   "source": [
    "# Insert In BST"
   ]
  },
  {
   "cell_type": "code",
   "execution_count": null,
   "id": "5f24c69b",
   "metadata": {},
   "outputs": [],
   "source": [
    "# Inserting Data In BST\n",
    "# insert(root, data) \n",
    "# 1. if root is None? then create node with given data & return this node.\n",
    "# 2. whether to call on left or right\n",
    "# 3. call on that side & recieve the new root for that side\n",
    "# 4. attach that to the root\n",
    "class BinaryTreeNode:\n",
    "    def __init__(self, data):\n",
    "        self.data=data\n",
    "        self.left=None\n",
    "        self.right=None "
   ]
  },
  {
   "cell_type": "code",
   "execution_count": null,
   "id": "2d233e31",
   "metadata": {},
   "outputs": [],
   "source": [
    "class BST:\n",
    "    \n",
    "    def __init__(self):  \n",
    "        self.root=None\n",
    "        self.numNodes = 0\n",
    "        \n",
    "    def printTreeHelper(self,root):\n",
    "        if root == None:\n",
    "            return                   \n",
    "        print(root.data, end=\":\") \n",
    "        if root.left != None:\n",
    "            print(\"L\", root.left.data,end=\",\")\n",
    "        if root.right != None:\n",
    "            print(\"R\", root.right.data,end=\" \")\n",
    "        print()\n",
    "        self.printTreeHelper(root.left)         \n",
    "        self.printTreeHelper(root.right)\n",
    "        \n",
    "    def printTree(self):\n",
    "        self.printTreeHelper(self.root)\n",
    "        \n",
    "    \n",
    "    def isPresentHelper(self,root, data):\n",
    "        if self.root==None:\n",
    "            return False\n",
    "        \n",
    "        if self.root.data == data:\n",
    "            return True\n",
    "        \n",
    "        if self.root.data > data:\n",
    "            # call on left\n",
    "            return self.isPresentHelper(root.left, data)\n",
    "        else:\n",
    "            # call on right\n",
    "            return self.isPresentHelper(root.right, data)\n",
    "       \n",
    "    def ispresent(self,data): \n",
    "        return self.isPresentHelper(self.root, data)\n",
    "    \n",
    "    def insertHelper(self,root,data):\n",
    "        if root = None:\n",
    "            node=BinaryTreeNode(data)\n",
    "            return node\n",
    "        \n",
    "        if root.data>data:\n",
    "            root.left=self.insertHelper(root.left,data)\n",
    "            return root\n",
    "        else:\n",
    "            root.right=self.insertHelper(root.right,data)\n",
    "            \n",
    "        \n",
    "    def insert(self, data):\n",
    "        self.numNodes +=1\n",
    "        self.root=self.insertHelper(self.root,data)\n",
    "        \n",
    "    \n",
    "    def deleteData(self, data):\n",
    "        return False\n",
    "    \n",
    "    def count(self):\n",
    "        return self.numNodes"
   ]
  },
  {
   "cell_type": "code",
   "execution_count": null,
   "id": "cc7e8e77",
   "metadata": {},
   "outputs": [],
   "source": [
    "b=BST()\n",
    "b.insert(10)\n",
    "b.insert(5)\n",
    "b.insert(12)\n",
    "print(b.isPresent(10))\n",
    "print(b.ispresent(7))\n",
    "print(b.deleteData(4))\n",
    "print(b.deleteData(10))\n",
    "print(b.count())\n",
    "b.printTree()"
   ]
  },
  {
   "cell_type": "markdown",
   "id": "e23706d6",
   "metadata": {},
   "source": [
    "# Insertion In BST\n",
    "\n",
    "The tightest upper bound that represents the time complexity of inserting an object into a binary search tree of n nodes: O(n) \n",
    "\n"
   ]
  },
  {
   "cell_type": "markdown",
   "id": "ef233baf",
   "metadata": {},
   "source": [
    "# Delete In BST"
   ]
  },
  {
   "cell_type": "code",
   "execution_count": null,
   "id": "8792eef3",
   "metadata": {},
   "outputs": [],
   "source": [
    "# How To Implement Delete Function?\n",
    "# deleteData(root,data)\n",
    "# 1. True/False\n",
    "# 2. root\n",
    "# 1. root==none\n",
    "#      return False,None\n",
    "# 2. root.data > data \n",
    "#    deleted,newleft=deleteData(rootleft,data)\n",
    "#     root.left=newleft\n",
    "# 3. rootdata < data\n",
    "#      deleted,newright=deleteData(rootright,data)\n",
    "#     root.right=newright\n",
    "# 4. root.data == data"
   ]
  },
  {
   "cell_type": "code",
   "execution_count": null,
   "id": "0531a1df",
   "metadata": {},
   "outputs": [],
   "source": [
    "# * zero children return None\n",
    "# * One child returning that child as new root\n",
    "# * Two children \n",
    "#        left < root(replacing the root) <- something bigher\n",
    "#        smallest in right side\n",
    "#  Two possibilities 1. take left maximum as new root (we are not taking this)\n",
    "#                    2. take right minimum as new root(this one ok)\n",
    "# 1. root == None\n",
    "# 2. root.data < data\n",
    "#    call delete on right side\n",
    "# 3. root.data > data\n",
    "#    call delete on left side\n",
    "# 4.root.dat == data\n",
    "#     * root is leaf return None\n",
    "#     * root has 1child return that child as new root\n",
    "#     * Two children\n",
    "#           (a) replace root with min of right side\n",
    "#           (b) call delete on right side for m\n",
    "#                 delete(root.right,m)"
   ]
  },
  {
   "cell_type": "markdown",
   "id": "fc600186",
   "metadata": {},
   "source": [
    "# Delete In BST - Code"
   ]
  },
  {
   "cell_type": "code",
   "execution_count": 1,
   "id": "ebf7c67e",
   "metadata": {},
   "outputs": [],
   "source": [
    "# Delete Function Implementation\n",
    "class BinaryTreeNode:\n",
    "    def __init__(self, data):\n",
    "        self.data=data\n",
    "        self.left=None\n",
    "        self.right=None "
   ]
  },
  {
   "cell_type": "code",
   "execution_count": 7,
   "id": "f1b88d2f",
   "metadata": {},
   "outputs": [],
   "source": [
    "class BST:\n",
    "    \n",
    "    def __init__(self):  \n",
    "        self.root=None\n",
    "        self.numNodes = 0\n",
    "        \n",
    "    def printTreeHelper(self,root):\n",
    "        if root == None:\n",
    "            return                   \n",
    "        print(root.data, end=\":\") \n",
    "        if root.left != None:\n",
    "            print(\"L\", root.left.data,end=\",\")\n",
    "        if root.right != None:\n",
    "            print(\"R\", root.right.data,end=\"\")\n",
    "        print()\n",
    "        self.printTreeHelper(root.left)         \n",
    "        self.printTreeHelper(root.right)\n",
    "        \n",
    "    def printTree(self):\n",
    "        self.printTreeHelper(self.root)\n",
    "        \n",
    "    \n",
    "    def isPresentHelper(self,root, data):\n",
    "        if root==None:\n",
    "            return False\n",
    "        \n",
    "        if root.data == data:\n",
    "            return True\n",
    "        \n",
    "        if root.data > data:\n",
    "            # call on left\n",
    "            return self.isPresentHelper(root.left, data)\n",
    "        else:\n",
    "            # call on right\n",
    "            return self.isPresentHelper(root.right, data)\n",
    "       \n",
    "    def isPresent(self,data): \n",
    "        return self.isPresentHelper(self.root, data)\n",
    "    \n",
    "    def insertHelper(self,root,data):\n",
    "        if root == None:\n",
    "            node=BinaryTreeNode(data)\n",
    "            return node\n",
    "        \n",
    "        if root.data>data:\n",
    "            root.left=self.insertHelper(root.left,data)\n",
    "            return root\n",
    "        else:\n",
    "            root.right=self.insertHelper(root.right,data)\n",
    "            return root\n",
    "            \n",
    "        \n",
    "    def insert(self, data):\n",
    "        self.numNodes += 1\n",
    "        self.root=self.insertHelper(self.root,data)\n",
    "        \n",
    "    def min(self, root):\n",
    "        if root == None:\n",
    "            return 10000\n",
    "        \n",
    "        if root.left == None:\n",
    "            return root.data\n",
    "        \n",
    "        return self.min(root.left)\n",
    "        \n",
    "    def deleteDataHelper(self,root,data):\n",
    "        if root == None:\n",
    "            return False, None\n",
    "        \n",
    "        if root.data < data:\n",
    "            deleted,newRightNode=self.deleteDataHelper(root.right, data)\n",
    "            root.right = newRightNode\n",
    "            return deleted, root\n",
    "        \n",
    "        if root.data > data:\n",
    "            deleted,newLeftNode=self.deleteDataHelper(root.left, data)\n",
    "            root.left = newLeftNode\n",
    "            return deleted, root\n",
    "        \n",
    "        # root is leaf\n",
    "        if root.left == None and root.right == None:\n",
    "            return True, None\n",
    "        \n",
    "        # root has one child\n",
    "        if root.left == None:\n",
    "            return True, root.right\n",
    "        \n",
    "        if root.right == None:\n",
    "            return True, root.left\n",
    "        \n",
    "        # root has two children\n",
    "        replacement =self.min(root.right)\n",
    "        root.data=replacement\n",
    "        deleted, newRightNode=self.deleteDataHelper(root.right,replacement)\n",
    "        root.right=newRightNode\n",
    "        return True, root\n",
    "        \n",
    "        \n",
    "    \n",
    "    def deleteData(self, data):\n",
    "        deleted, newRoot = self.deleteDataHelper(self.root, data)\n",
    "        if deleted:\n",
    "            self.numNodes -= 1\n",
    "        self.root=newRoot\n",
    "        return deleted\n",
    "    \n",
    "    def count(self):\n",
    "        return self.numNodes"
   ]
  },
  {
   "cell_type": "code",
   "execution_count": 8,
   "id": "3e2e5615",
   "metadata": {},
   "outputs": [
    {
     "name": "stdout",
     "output_type": "stream",
     "text": [
      "True\n",
      "False\n",
      "False\n",
      "True\n",
      "2\n",
      "12:L 5,\n",
      "5:\n"
     ]
    }
   ],
   "source": [
    "b=BST()\n",
    "b.insert(10)\n",
    "b.insert(5)\n",
    "b.insert(12)\n",
    "print(b.isPresent(10))             \n",
    "print(b.isPresent(7))              \n",
    "print(b.deleteData(4))                     \n",
    "print(b.deleteData(10))            \n",
    "print(b.count())                  \n",
    "b.printTree()"
   ]
  },
  {
   "cell_type": "markdown",
   "id": "0b3030c0",
   "metadata": {},
   "source": [
    "                           10\n",
    "                           / \\\n",
    "                          5  12\n",
    "                          \n",
    "                           12\n",
    "                           /\n",
    "                          5"
   ]
  },
  {
   "cell_type": "code",
   "execution_count": 9,
   "id": "1913c44a",
   "metadata": {},
   "outputs": [
    {
     "name": "stdout",
     "output_type": "stream",
     "text": [
      "8\n",
      "10:L 5,R 12\n",
      "5:R 7\n",
      "7:L 6,R 8\n",
      "6:\n",
      "8:\n",
      "12:L 11,R 15\n",
      "11:\n",
      "15:\n"
     ]
    }
   ],
   "source": [
    "b=BST()\n",
    "b.insert(10)\n",
    "b.insert(5)\n",
    "b.insert(7)\n",
    "b.insert(6)\n",
    "b.insert(8)\n",
    "b.insert(12)\n",
    "b.insert(11)\n",
    "b.insert(15)\n",
    "print(b.count())                   \n",
    "b.printTree()"
   ]
  },
  {
   "cell_type": "markdown",
   "id": "7f701f6c",
   "metadata": {},
   "source": [
    "                            10\n",
    "                           /  \\\n",
    "                          5   12\n",
    "                           \\  / \\\n",
    "                            7 11 15\n",
    "                           / \\\n",
    "                          6   8\n",
    "                           "
   ]
  },
  {
   "cell_type": "code",
   "execution_count": 11,
   "id": "16e2d5f3",
   "metadata": {},
   "outputs": [
    {
     "name": "stdout",
     "output_type": "stream",
     "text": [
      "8\n",
      "10:L 5,R 12\n",
      "5:R 7\n",
      "7:L 6,R 8\n",
      "6:\n",
      "8:\n",
      "12:L 11,R 15\n",
      "11:\n",
      "15:\n",
      "10:L 5,R 12\n",
      "5:R 7\n",
      "7:L 6,\n",
      "6:\n",
      "12:L 11,R 15\n",
      "11:\n",
      "15:\n",
      "10:L 7,R 12\n",
      "7:L 6,\n",
      "6:\n",
      "12:L 11,R 15\n",
      "11:\n",
      "15:\n"
     ]
    }
   ],
   "source": [
    "b=BST()\n",
    "b.insert(10)\n",
    "b.insert(5)\n",
    "b.insert(7)\n",
    "b.insert(6)\n",
    "b.insert(8)\n",
    "b.insert(12)\n",
    "b.insert(11)\n",
    "b.insert(15)\n",
    "print(b.count())                   \n",
    "b.printTree()\n",
    "b.deleteData(8)\n",
    "b.printTree()\n",
    "b.deleteData(5)\n",
    "b.printTree()"
   ]
  },
  {
   "cell_type": "markdown",
   "id": "b7e34c8d",
   "metadata": {},
   "source": [
    "                        10\n",
    "                        / \\\n",
    "                       7  12\n",
    "                      /   / \\\n",
    "                     6   11 15"
   ]
  },
  {
   "cell_type": "code",
   "execution_count": 12,
   "id": "8c839a2d",
   "metadata": {},
   "outputs": [
    {
     "name": "stdout",
     "output_type": "stream",
     "text": [
      "8\n",
      "10:L 5,R 12\n",
      "5:R 7\n",
      "7:L 6,R 8\n",
      "6:\n",
      "8:\n",
      "12:L 11,R 15\n",
      "11:\n",
      "15:\n",
      "11:L 5,R 12\n",
      "5:R 7\n",
      "7:L 6,R 8\n",
      "6:\n",
      "8:\n",
      "12:R 15\n",
      "15:\n"
     ]
    }
   ],
   "source": [
    "b=BST()\n",
    "b.insert(10)\n",
    "b.insert(5)\n",
    "b.insert(7)\n",
    "b.insert(6)\n",
    "b.insert(8)\n",
    "b.insert(12)\n",
    "b.insert(11)\n",
    "b.insert(15)\n",
    "print(b.count())                   \n",
    "b.printTree()\n",
    "b.deleteData(10)\n",
    "b.printTree()\n"
   ]
  },
  {
   "cell_type": "markdown",
   "id": "bd7c93a8",
   "metadata": {},
   "source": [
    "                             11\n",
    "                             / \\\n",
    "                            5  12\n",
    "                             \\   \\\n",
    "                              7  15\n",
    "                             / \\\n",
    "                            6   8\n",
    "                             "
   ]
  },
  {
   "cell_type": "markdown",
   "id": "79e1c01a",
   "metadata": {},
   "source": [
    "# Insertion/Deletion In BST\n",
    "\n",
    "What are the worst-case complexities of insertion and deletion of a key in a binary search tree : θ (n) for both insertion and deletion "
   ]
  },
  {
   "cell_type": "markdown",
   "id": "5b59dcdb",
   "metadata": {},
   "source": [
    "# Time Complexity Of BST Functions"
   ]
  },
  {
   "cell_type": "code",
   "execution_count": null,
   "id": "2e379b39",
   "metadata": {},
   "outputs": [],
   "source": [
    "# search is h\n",
    "# 1. leaf -> height\n",
    "# 2. 1child -> height\n",
    "# 3. 2child -> * find the node with data (k)\n",
    "#              * find min of right side (h-k)\n",
    "#              * delete m from right side (h-k)\n",
    "#  O(height)"
   ]
  },
  {
   "cell_type": "markdown",
   "id": "529351b9",
   "metadata": {},
   "source": [
    "# Balanced BST"
   ]
  },
  {
   "cell_type": "code",
   "execution_count": null,
   "id": "c010dcf2",
   "metadata": {},
   "outputs": [],
   "source": [
    "# BST -> Balanced Trees\n",
    "# h = logn\n",
    "# O(logn)\n",
    "# Balance in BST\n",
    "# 1. AVL Trees (read about AVL Trees)\n",
    "# 2. Red Black Trees"
   ]
  }
 ],
 "metadata": {
  "kernelspec": {
   "display_name": "Python 3",
   "language": "python",
   "name": "python3"
  },
  "language_info": {
   "codemirror_mode": {
    "name": "ipython",
    "version": 3
   },
   "file_extension": ".py",
   "mimetype": "text/x-python",
   "name": "python",
   "nbconvert_exporter": "python",
   "pygments_lexer": "ipython3",
   "version": "3.8.8"
  }
 },
 "nbformat": 4,
 "nbformat_minor": 5
}
