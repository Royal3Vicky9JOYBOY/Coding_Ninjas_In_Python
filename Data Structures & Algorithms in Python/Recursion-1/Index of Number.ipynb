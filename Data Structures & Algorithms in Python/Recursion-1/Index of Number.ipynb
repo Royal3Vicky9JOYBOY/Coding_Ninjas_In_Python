{
 "cells": [
  {
   "cell_type": "markdown",
   "id": "c7ab1a43",
   "metadata": {},
   "source": [
    "# First Index of Number"
   ]
  },
  {
   "cell_type": "markdown",
   "id": "a1649bdf",
   "metadata": {},
   "source": [
    "First Index of Number in List"
   ]
  },
  {
   "cell_type": "code",
   "execution_count": 1,
   "id": "cb010904",
   "metadata": {},
   "outputs": [],
   "source": [
    "def firstIndex(a,x):\n",
    "    l=len(a)\n",
    "    if l==0:\n",
    "        return -1\n",
    "    \n",
    "    if a[0]==x:\n",
    "        return 0\n",
    "    \n",
    "    smallerList=a[1:]\n",
    "    smallerListOutput=firstIndex(smallerList,x)\n",
    "    \n",
    "    if smallerListOutput == -1:\n",
    "        return -1\n",
    "    else:\n",
    "        return smallerListOutput + 1"
   ]
  },
  {
   "cell_type": "code",
   "execution_count": 2,
   "id": "f8f88ead",
   "metadata": {},
   "outputs": [
    {
     "data": {
      "text/plain": [
       "5"
      ]
     },
     "execution_count": 2,
     "metadata": {},
     "output_type": "execute_result"
    }
   ],
   "source": [
    "a=[1,2,4,5,6,7,8,9,7]\n",
    "firstIndex(a,7)"
   ]
  },
  {
   "cell_type": "code",
   "execution_count": 3,
   "id": "c5f28f20",
   "metadata": {},
   "outputs": [],
   "source": [
    "def firstIndexB(a, x, si):\n",
    "    l = len(a)\n",
    "    if si == l:\n",
    "        return -1\n",
    "    \n",
    "    if a[si] == x:\n",
    "        return si\n",
    "    \n",
    "    smallerListOutput =firstIndexB(a, x, si +1)\n",
    "    return smallerListOutput"
   ]
  },
  {
   "cell_type": "code",
   "execution_count": 4,
   "id": "47377a21",
   "metadata": {},
   "outputs": [
    {
     "data": {
      "text/plain": [
       "5"
      ]
     },
     "execution_count": 4,
     "metadata": {},
     "output_type": "execute_result"
    }
   ],
   "source": [
    "a=[1,2,4,5,6,7,8,9,7]\n",
    "firstIndexB(a,7,0)"
   ]
  },
  {
   "cell_type": "markdown",
   "id": "a5f8f4ce",
   "metadata": {},
   "source": [
    "# Last Index of Number"
   ]
  },
  {
   "cell_type": "markdown",
   "id": "5d9694ab",
   "metadata": {},
   "source": [
    "Last Index of an Element in Array"
   ]
  },
  {
   "cell_type": "code",
   "execution_count": null,
   "id": "c91c90cc",
   "metadata": {},
   "outputs": [],
   "source": [
    "# a[0:l-1] (one of the way)"
   ]
  },
  {
   "cell_type": "code",
   "execution_count": null,
   "id": "66782417",
   "metadata": {},
   "outputs": [],
   "source": [
    "# Base case: l==0   return -1\n",
    "# hypothesis:the smaller list returns correct last index\n",
    "#step:first call search on last list,if small output is -1,only then check the starting element "
   ]
  },
  {
   "cell_type": "code",
   "execution_count": 7,
   "id": "259f3373",
   "metadata": {},
   "outputs": [],
   "source": [
    "def lastIndex(a, x):\n",
    "    l = len(a)\n",
    "    if l == 0:\n",
    "        return -1\n",
    "    \n",
    "    smallerList = a[1:]\n",
    "    smallerListOutput = lastIndex(smallerList, x)\n",
    "    if smallerListOutput != -1:\n",
    "        return smallerListOutput + 1\n",
    "    else:\n",
    "        if a[0] == x:\n",
    "            return 0\n",
    "        else:\n",
    "            return -1"
   ]
  },
  {
   "cell_type": "code",
   "execution_count": 8,
   "id": "7c88b93a",
   "metadata": {},
   "outputs": [
    {
     "data": {
      "text/plain": [
       "7"
      ]
     },
     "execution_count": 8,
     "metadata": {},
     "output_type": "execute_result"
    }
   ],
   "source": [
    "a = [1,2,3,4,5,4,6,4,7,8]\n",
    "x = 4\n",
    "lastIndex(a, x)"
   ]
  }
 ],
 "metadata": {
  "kernelspec": {
   "display_name": "Python 3",
   "language": "python",
   "name": "python3"
  },
  "language_info": {
   "codemirror_mode": {
    "name": "ipython",
    "version": 3
   },
   "file_extension": ".py",
   "mimetype": "text/x-python",
   "name": "python",
   "nbconvert_exporter": "python",
   "pygments_lexer": "ipython3",
   "version": "3.8.8"
  }
 },
 "nbformat": 4,
 "nbformat_minor": 5
}
