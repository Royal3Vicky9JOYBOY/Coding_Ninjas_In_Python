{
 "cells": [
  {
   "cell_type": "markdown",
   "id": "3aab38ca",
   "metadata": {},
   "source": [
    "# Check Number in Array\n",
    "Send Feedback\n",
    "Given an array of length N and an integer x, you need to find if x is present in the array or not. Return true or false.\n",
    "Do this recursively.\n",
    "Input Format :\n",
    "Line 1 : An Integer N i.e. size of array\n",
    "Line 2 : N integers which are elements of the array, separated by spaces\n",
    "Line 3 : Integer x\n",
    "Output Format :\n",
    "'true' or 'false'\n",
    "Constraints :\n",
    "1 <= N <= 10^3\n",
    "Sample Input 1 :\n",
    "3\n",
    "9 8 10\n",
    "8\n",
    "Sample Output 1 :\n",
    "true\n",
    "Sample Input 2 :\n",
    "3\n",
    "9 8 10\n",
    "2\n",
    "Sample Output 2 :\n",
    "false "
   ]
  },
  {
   "cell_type": "code",
   "execution_count": 1,
   "id": "a45aa4d3",
   "metadata": {},
   "outputs": [
    {
     "name": "stdout",
     "output_type": "stream",
     "text": [
      "3\n",
      "3 6 9\n",
      "9\n",
      "true\n"
     ]
    }
   ],
   "source": [
    "\n",
    "def checkNumber(arr, x):\n",
    "    # Please add your code here\n",
    "       if len(arr) == 0:\n",
    "               return False\n",
    "       if arr[0] == x:\n",
    "               return True\n",
    "       return checkNumber(arr[1:],x)\n",
    "    \n",
    "\n",
    "# Main\n",
    "from sys import setrecursionlimit\n",
    "setrecursionlimit(11000)\n",
    "n=int(input())\n",
    "arr=list(int(i) for i in input().strip().split(' '))\n",
    "x=int(input())\n",
    "if checkNumber(arr, x):\n",
    "    print('true')\n",
    "else:\n",
    "    print('false')\n",
    "    \n",
    "    \n",
    "    \n",
    "    "
   ]
  }
 ],
 "metadata": {
  "kernelspec": {
   "display_name": "Python 3",
   "language": "python",
   "name": "python3"
  },
  "language_info": {
   "codemirror_mode": {
    "name": "ipython",
    "version": 3
   },
   "file_extension": ".py",
   "mimetype": "text/x-python",
   "name": "python",
   "nbconvert_exporter": "python",
   "pygments_lexer": "ipython3",
   "version": "3.8.8"
  }
 },
 "nbformat": 4,
 "nbformat_minor": 5
}
