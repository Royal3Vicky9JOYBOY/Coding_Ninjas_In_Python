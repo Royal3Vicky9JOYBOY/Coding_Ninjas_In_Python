{
 "cells": [
  {
   "cell_type": "markdown",
   "id": "3d30db14",
   "metadata": {},
   "source": [
    "# Sum Of Array\n",
    "Send Feedback\n",
    "Given an array of length N, you need to find and return the sum of all elements of the array.\n",
    "Do this recursively.\n",
    "Input Format :\n",
    "Line 1 : An Integer N i.e. size of array\n",
    "Line 2 : N integers which are elements of the array, separated by spaces\n",
    "Output Format :\n",
    "Sum\n",
    "Constraints :\n",
    "1 <= N <= 10^3\n",
    "Sample Input 1 :\n",
    "3\n",
    "9 8 9\n",
    "Sample Output 1 :\n",
    "26\n",
    "Sample Input 2 :\n",
    "3\n",
    "4 2 1\n",
    "Sample Output 2 :\n",
    "7    "
   ]
  },
  {
   "cell_type": "code",
   "execution_count": 1,
   "id": "8803a6c1",
   "metadata": {},
   "outputs": [
    {
     "name": "stdout",
     "output_type": "stream",
     "text": [
      "3\n",
      "3 6 9\n",
      "18\n"
     ]
    }
   ],
   "source": [
    "def sumArray(arr):\n",
    "    # Please add your code here\n",
    "    l=len(arr)\n",
    "    if l==0:\n",
    "        return 0\n",
    "    else:\n",
    "        return arr[0]+sumArray(arr[1:])\n",
    "        \n",
    "    pass\n",
    "\n",
    "# Main\n",
    "from sys import setrecursionlimit\n",
    "setrecursionlimit(11000)\n",
    "n=int(input())\n",
    "arr=list(int(i) for i in input().strip().split(' '))\n",
    "print(sumArray(arr))\n"
   ]
  }
 ],
 "metadata": {
  "kernelspec": {
   "display_name": "Python 3",
   "language": "python",
   "name": "python3"
  },
  "language_info": {
   "codemirror_mode": {
    "name": "ipython",
    "version": 3
   },
   "file_extension": ".py",
   "mimetype": "text/x-python",
   "name": "python",
   "nbconvert_exporter": "python",
   "pygments_lexer": "ipython3",
   "version": "3.8.8"
  }
 },
 "nbformat": 4,
 "nbformat_minor": 5
}
