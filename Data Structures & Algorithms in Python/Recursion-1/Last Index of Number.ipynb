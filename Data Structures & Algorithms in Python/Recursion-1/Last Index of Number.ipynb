{
 "cells": [
  {
   "cell_type": "markdown",
   "id": "63dbaa22",
   "metadata": {},
   "source": [
    "# Last Index Of Number Question\n",
    "Send Feedback\n",
    "Given an array of length N and an integer x, you need to find and return the last index of integer x present in the array. Return -1 if it is not present in the array.\n",
    "Last index means - if x is present multiple times in the array, return the index at which x comes last in the array.\n",
    "You should start traversing your array from 0, not from (N - 1).\n",
    "Do this recursively. Indexing in the array starts from 0.\n",
    "Input Format :\n",
    "Line 1 : An Integer N i.e. size of array\n",
    "Line 2 : N integers which are elements of the array, separated by spaces\n",
    "Line 3 : Integer x\n",
    "Output Format :\n",
    "last index or -1\n",
    "Constraints :\n",
    "1 <= N <= 10^3\n",
    "Sample Input :\n",
    "4\n",
    "9 8 10 8\n",
    "8\n",
    "Sample Output :\n",
    "3"
   ]
  },
  {
   "cell_type": "code",
   "execution_count": 4,
   "id": "34e63ece",
   "metadata": {},
   "outputs": [
    {
     "name": "stdout",
     "output_type": "stream",
     "text": [
      "3 \n",
      "3 6 10 9\n",
      "9\n",
      "3\n"
     ]
    }
   ],
   "source": [
    "def lastIndex(arr, x):\n",
    "    if len(arr) == 0:\n",
    "        return -1\n",
    "    b = lastIndex(arr[1:], x)\n",
    "    if b != -1:\n",
    "        return b+1\n",
    "    else:\n",
    "        if arr[0] == x:\n",
    "            return 0\n",
    "        else:\n",
    "            return -1\n",
    "    \n",
    "    \n",
    "n = int(input()) \n",
    "arr = list(int(i) for i in input().strip().split(' '))\n",
    "x = int(input())\n",
    "print(lastIndex(arr, x))\n"
   ]
  }
 ],
 "metadata": {
  "kernelspec": {
   "display_name": "Python 3",
   "language": "python",
   "name": "python3"
  },
  "language_info": {
   "codemirror_mode": {
    "name": "ipython",
    "version": 3
   },
   "file_extension": ".py",
   "mimetype": "text/x-python",
   "name": "python",
   "nbconvert_exporter": "python",
   "pygments_lexer": "ipython3",
   "version": "3.8.8"
  }
 },
 "nbformat": 4,
 "nbformat_minor": 5
}
