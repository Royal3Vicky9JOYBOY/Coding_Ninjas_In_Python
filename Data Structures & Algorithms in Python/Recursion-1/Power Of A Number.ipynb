{
 "cells": [
  {
   "cell_type": "markdown",
   "id": "6f7d739e",
   "metadata": {},
   "source": [
    "# Power Of A Number\n",
    "Send Feedback\n",
    "Write a program to find x to the power n (i.e. x^n). Take x and n from the user. You need to print the answer.\n",
    "Note : For this question, you can assume that 0 raised to the power of 0 is 1\n",
    "\n",
    "\n",
    "Input format :\n",
    "Two integers x and n (separated by space)\n",
    "Output Format :\n",
    "x^n (i.e. x raise to the power n)\n",
    "Constraints:\n",
    "0 <= x <= 8 \n",
    "0 <= n <= 9\n",
    "Sample Input 1 :\n",
    " 3 4\n",
    "Sample Output 1 :\n",
    "81\n",
    "Sample Input 2 :\n",
    " 2 5\n",
    "Sample Output 2 :\n",
    "32"
   ]
  },
  {
   "cell_type": "code",
   "execution_count": 3,
   "id": "5518f732",
   "metadata": {},
   "outputs": [
    {
     "name": "stdout",
     "output_type": "stream",
     "text": [
      "3 9\n",
      "19683\n"
     ]
    }
   ],
   "source": [
    "s = input().split()\n",
    "x, n = int(s[0]), int(s[1])\n",
    "\n",
    "def power(x,n):\n",
    "    ans = 1\n",
    "    while n > 0:\n",
    "        ans = ans*x\n",
    "        n = n-1\n",
    "    return ans\n",
    "print(power(x,n))"
   ]
  }
 ],
 "metadata": {
  "kernelspec": {
   "display_name": "Python 3",
   "language": "python",
   "name": "python3"
  },
  "language_info": {
   "codemirror_mode": {
    "name": "ipython",
    "version": 3
   },
   "file_extension": ".py",
   "mimetype": "text/x-python",
   "name": "python",
   "nbconvert_exporter": "python",
   "pygments_lexer": "ipython3",
   "version": "3.8.8"
  }
 },
 "nbformat": 4,
 "nbformat_minor": 5
}
