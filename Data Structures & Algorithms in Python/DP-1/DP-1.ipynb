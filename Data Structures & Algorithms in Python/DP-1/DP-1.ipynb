{
 "cells": [
  {
   "cell_type": "markdown",
   "id": "a06cf421",
   "metadata": {},
   "source": [
    "# Intro To Dynamic Programming"
   ]
  },
  {
   "cell_type": "code",
   "execution_count": null,
   "id": "8b44d12c",
   "metadata": {},
   "outputs": [],
   "source": [
    "# Dynamic Programming\n",
    "# 1. Optimal Substructure (Recurssion)\n",
    "# 2. Overlapping Subproblems (DP)  (Memoization)"
   ]
  },
  {
   "cell_type": "markdown",
   "id": "09b782e7",
   "metadata": {},
   "source": [
    "# Fibonacci Memoization"
   ]
  },
  {
   "cell_type": "markdown",
   "id": "3327262f",
   "metadata": {},
   "source": [
    "# Fibonacci DP"
   ]
  },
  {
   "cell_type": "code",
   "execution_count": 2,
   "id": "3879616d",
   "metadata": {},
   "outputs": [
    {
     "name": "stdout",
     "output_type": "stream",
     "text": [
      "7\n",
      "13\n"
     ]
    }
   ],
   "source": [
    "def fibb(n):\n",
    "    \n",
    "    if n==0 or n==1:\n",
    "        return n\n",
    "    \n",
    "    ans1 = fibb(n-1)\n",
    "    ans2 = fibb(n-2)\n",
    "    \n",
    "    myAns = ans1 + ans2\n",
    "    return myAns\n",
    "\n",
    "n=int(input())\n",
    "ans=fibb(n)\n",
    "print(ans)"
   ]
  },
  {
   "cell_type": "code",
   "execution_count": 7,
   "id": "c11b7914",
   "metadata": {},
   "outputs": [
    {
     "name": "stdout",
     "output_type": "stream",
     "text": [
      "7\n",
      "13\n"
     ]
    }
   ],
   "source": [
    "def fibb(n,dp):\n",
    "    \n",
    "    if n==0 or n==1:\n",
    "        return n\n",
    "    \n",
    "    if dp[n-1] == -1:\n",
    "        ans1 = fibb(n-1,dp)\n",
    "        dp[n-1]=ans1\n",
    "    else:\n",
    "        ans1=dp[n-1]\n",
    "        \n",
    "    if dp[n-2]==-1:\n",
    "        ans2=fibb(n-2,dp)\n",
    "        dp[n-2]=ans2\n",
    "    else:\n",
    "        ans2=dp[n-2]\n",
    "    \n",
    "    myAns = ans1 + ans2\n",
    "    return myAns\n",
    "\n",
    "n=int(input())\n",
    "dp = [-1 for i in range(n+1)]\n",
    "ans=fibb(n,dp)\n",
    "print(ans)"
   ]
  },
  {
   "cell_type": "markdown",
   "id": "f7c87da7",
   "metadata": {},
   "source": [
    "# Time Complexity Of Memoization"
   ]
  },
  {
   "cell_type": "code",
   "execution_count": null,
   "id": "d0718563",
   "metadata": {},
   "outputs": [],
   "source": [
    "# Time Complexity Of Memoization Of Fibonacci\n",
    "O(n)"
   ]
  },
  {
   "cell_type": "markdown",
   "id": "2bab16e5",
   "metadata": {},
   "source": [
    "# Iterative Dynamic Programming"
   ]
  },
  {
   "cell_type": "code",
   "execution_count": 6,
   "id": "46ca0482",
   "metadata": {},
   "outputs": [
    {
     "name": "stdout",
     "output_type": "stream",
     "text": [
      "7\n",
      "13\n"
     ]
    }
   ],
   "source": [
    "\n",
    "def fibb(n,dp):\n",
    "    \n",
    "    if n==0 or n==1:\n",
    "        return n\n",
    "    \n",
    "    if dp[n-1] == -1:\n",
    "        ans1 = fibb(n-1,dp)\n",
    "        dp[n-1]=ans1\n",
    "    else:\n",
    "        ans1=dp[n-1]\n",
    "        \n",
    "    if dp[n-2]==-1:\n",
    "        ans2=fibb(n-2,dp)\n",
    "        dp[n-2]=ans2\n",
    "    else:\n",
    "        ans2=dp[n-2]\n",
    "    \n",
    "    myAns = ans1 + ans2\n",
    "    return myAns\n",
    "def fibbI(n):\n",
    "    dp=[0 for i in range(n+1)]\n",
    "    dp[0]=0\n",
    "    dp[1]=1\n",
    "    i=2\n",
    "    while i<=n:\n",
    "        dp[i]=dp[i-1]+dp[i-2]\n",
    "        i+=1\n",
    "    return dp[n]\n",
    "n=int(input())\n",
    "ans=fibbI(n)\n",
    "# dp = [-1 for i in range(n+1)]\n",
    "# ans=fibb(n,dp)\n",
    "print(ans)"
   ]
  },
  {
   "cell_type": "code",
   "execution_count": null,
   "id": "bdfea142",
   "metadata": {},
   "outputs": [],
   "source": [
    "# 1. Recursion/recursion relation\n",
    "# 2. Memoization\n",
    "# 3. Iterative DP\n",
    "# follow this process"
   ]
  },
  {
   "cell_type": "markdown",
   "id": "3f74cda8",
   "metadata": {},
   "source": [
    "# Why Iterative Solutions Are Better?"
   ]
  },
  {
   "cell_type": "code",
   "execution_count": null,
   "id": "950c9b44",
   "metadata": {},
   "outputs": [],
   "source": [
    "# Recursion -> T & S is O(n)   # Stack Overflow\n",
    "# Iterative -> T & S is O(n)   # No-Stack Overflow"
   ]
  },
  {
   "cell_type": "markdown",
   "id": "7dfa4ad2",
   "metadata": {},
   "source": [
    "# Minimum Steps To 1(Explain)"
   ]
  },
  {
   "cell_type": "markdown",
   "id": "4558ca73",
   "metadata": {},
   "source": [
    "# Minimum Steps To 1(Code)"
   ]
  },
  {
   "cell_type": "code",
   "execution_count": 6,
   "id": "77c6c801",
   "metadata": {},
   "outputs": [
    {
     "name": "stdout",
     "output_type": "stream",
     "text": [
      "20\n",
      "4\n"
     ]
    }
   ],
   "source": [
    "import sys\n",
    "def minStepsTo1(n):\n",
    "    \n",
    "    \n",
    "    if n==1:\n",
    "        return 0\n",
    "    \n",
    "    ans1 = sys.maxsize\n",
    "    if n%3 == 0:\n",
    "         ans1 = minStepsTo1(n//3)\n",
    "            \n",
    "    ans2 = sys.maxsize\n",
    "    if n%2 == 0:\n",
    "        ans2 = minStepsTo1(n//2)\n",
    "        \n",
    "    ans3 = minStepsTo1(n-1)\n",
    "    \n",
    "    ans = 1 + min(ans1,ans2,ans3)\n",
    "    return ans\n",
    "\n",
    "n=int(input())\n",
    "ans = minStepsTo1(n)\n",
    "print(ans)"
   ]
  },
  {
   "cell_type": "code",
   "execution_count": 5,
   "id": "c3f7aef8",
   "metadata": {},
   "outputs": [
    {
     "name": "stdout",
     "output_type": "stream",
     "text": [
      "20\n",
      "4\n"
     ]
    }
   ],
   "source": [
    "# Min Steps To 1 - Memoization\n",
    "import sys\n",
    "\n",
    "def minStepsTo1(n,dp):\n",
    "    \n",
    "    if n==1:\n",
    "        return 0\n",
    "    \n",
    "    ans1 = sys.maxsize\n",
    "    if n%3 == 0:\n",
    "        if dp[n//3] == -1:\n",
    "            ans1=minStepsTo1(n//3,dp)\n",
    "            dp[n//3] = ans1\n",
    "        else:\n",
    "            ans1=dp[n//3]\n",
    "        \n",
    "        \n",
    "    ans2 = sys.maxsize\n",
    "    if n%2 == 0:\n",
    "        if dp[n//2]==-1:\n",
    "            ans2 = minStepsTo1(n//2,dp)\n",
    "            dp[n//2]=ans2\n",
    "        else:\n",
    "            ans2=dp[n//2]\n",
    "            \n",
    "    if dp[n-1] == -1:         \n",
    "        ans3 = minStepsTo1(n-1,dp)\n",
    "        dp[n-1]=ans3\n",
    "    else:\n",
    "        ans3=dp[n-1]\n",
    "    \n",
    "    ans = 1 + min(ans1,ans2,ans3)\n",
    "    return ans\n",
    "\n",
    "n=int(input())\n",
    "dp=[-1 for i in range(n+1)]\n",
    "ans = minStepsTo1(n,dp)\n",
    "print(ans)"
   ]
  },
  {
   "cell_type": "code",
   "execution_count": 1,
   "id": "44a976aa",
   "metadata": {},
   "outputs": [
    {
     "ename": "ValueError",
     "evalue": "invalid literal for int() with base 10: ''",
     "output_type": "error",
     "traceback": [
      "\u001b[1;31m---------------------------------------------------------------------------\u001b[0m",
      "\u001b[1;31mValueError\u001b[0m                                Traceback (most recent call last)",
      "\u001b[1;32m<ipython-input-1-323d7af62e4a>\u001b[0m in \u001b[0;36m<module>\u001b[1;34m\u001b[0m\n\u001b[0;32m     33\u001b[0m \u001b[1;33m\u001b[0m\u001b[0m\n\u001b[0;32m     34\u001b[0m \u001b[1;31m#main\u001b[0m\u001b[1;33m\u001b[0m\u001b[1;33m\u001b[0m\u001b[1;33m\u001b[0m\u001b[0m\n\u001b[1;32m---> 35\u001b[1;33m \u001b[0mn\u001b[0m \u001b[1;33m=\u001b[0m \u001b[0mint\u001b[0m\u001b[1;33m(\u001b[0m\u001b[0mstdin\u001b[0m\u001b[1;33m.\u001b[0m\u001b[0mreadline\u001b[0m\u001b[1;33m(\u001b[0m\u001b[1;33m)\u001b[0m\u001b[1;33m.\u001b[0m\u001b[0mrstrip\u001b[0m\u001b[1;33m(\u001b[0m\u001b[1;33m)\u001b[0m\u001b[1;33m)\u001b[0m\u001b[1;33m\u001b[0m\u001b[1;33m\u001b[0m\u001b[0m\n\u001b[0m\u001b[0;32m     36\u001b[0m \u001b[0mprint\u001b[0m\u001b[1;33m(\u001b[0m\u001b[0mcountMinStepsToOne\u001b[0m\u001b[1;33m(\u001b[0m\u001b[0mn\u001b[0m\u001b[1;33m)\u001b[0m\u001b[1;33m)\u001b[0m\u001b[1;33m\u001b[0m\u001b[1;33m\u001b[0m\u001b[0m\n",
      "\u001b[1;31mValueError\u001b[0m: invalid literal for int() with base 10: ''"
     ]
    }
   ],
   "source": [
    "from sys import stdin\n",
    "from sys import maxsize as MAX_VALUE\n",
    "\n",
    "\n",
    "\n",
    "def countMinStepsToOne(n) :\n",
    "\tif n == 1 :\n",
    "\t\treturn 0\n",
    "\n",
    "\tminSteps = [0] * (n + 1)\n",
    "\t\n",
    "\tminSteps[1] = 0\n",
    "\n",
    "\tfor currStep in range(2, (n + 1)) :\n",
    "\n",
    "\t\tsubtractOne = MAX_VALUE\n",
    "\t\tdivideByTwo = MAX_VALUE\n",
    "\t\tdivideByThree = MAX_VALUE\n",
    "\n",
    "\t\tsubtractOne = minSteps[currStep - 1]\n",
    "\n",
    "\t\tif currStep % 2 == 0 :\n",
    "\t\t\tdivideByTwo = minSteps[currStep // 2]\n",
    "\n",
    "\t\tif currStep % 3 == 0 :\n",
    "\t\t\tdivideByThree = minSteps[currStep // 3]\n",
    "\n",
    "\t\tminSteps[currStep] = 1 + min(subtractOne, divideByTwo, divideByThree)\n",
    "\n",
    "\treturn minSteps[n]\n",
    "\n",
    "\n",
    "\n",
    "#main\n",
    "n = int(stdin.readline().rstrip())\n",
    "print(countMinStepsToOne(n))"
   ]
  },
  {
   "cell_type": "markdown",
   "id": "f19f4ea5",
   "metadata": {},
   "source": [
    "# Min.Squares To Represent N (Explain)"
   ]
  },
  {
   "cell_type": "markdown",
   "id": "01e618cd",
   "metadata": {},
   "source": [
    "# Min.Squares To Represent N (Recursively)"
   ]
  },
  {
   "cell_type": "code",
   "execution_count": 8,
   "id": "13bc290d",
   "metadata": {},
   "outputs": [
    {
     "name": "stdout",
     "output_type": "stream",
     "text": [
      "28\n",
      "4\n"
     ]
    }
   ],
   "source": [
    "import math,sys\n",
    "\n",
    "def minSquares(n):\n",
    "    \n",
    "    if n==0:\n",
    "        return 0\n",
    "        \n",
    "    \n",
    "    ans = sys.maxsize\n",
    "    root = int(math.sqrt(n))\n",
    "    for i in range(1,root+1):\n",
    "        currAns = 1 + minSquares(n-(i**2))\n",
    "        ans = min(ans,currAns)\n",
    "\n",
    "    return ans\n",
    "\n",
    "n = int(input())\n",
    "ans = minSquares(n)\n",
    "print(ans)"
   ]
  },
  {
   "cell_type": "markdown",
   "id": "083001e7",
   "metadata": {},
   "source": [
    "# Min.Squares To Represent N (Memoization)"
   ]
  },
  {
   "cell_type": "code",
   "execution_count": 12,
   "id": "e7b65706",
   "metadata": {},
   "outputs": [
    {
     "name": "stdout",
     "output_type": "stream",
     "text": [
      "369\n",
      "2\n"
     ]
    }
   ],
   "source": [
    "import math,sys\n",
    "\n",
    "def minSquares(n,dp):\n",
    "    \n",
    "    if n==0:\n",
    "        return 0\n",
    "        \n",
    "    \n",
    "    ans = sys.maxsize\n",
    "    root = int(math.sqrt(n))\n",
    "    for i in range(1,root+1):\n",
    "        \n",
    "        newCheckValue = n-(i**2)\n",
    "        if dp[newCheckValue] == -1:\n",
    "            smallAns = minSquares(newCheckValue,dp)\n",
    "            dp[newCheckValue] = smallAns\n",
    "            currAns = 1 + smallAns\n",
    "        else:\n",
    "            currAns = 1 + dp[newCheckValue]\n",
    "    \n",
    "        ans = min(ans,currAns)\n",
    "\n",
    "    return ans\n",
    "\n",
    "n = int(input())\n",
    "dp = [-1 for i in range(n+1)]\n",
    "ans = minSquares(n,dp)\n",
    "print(ans)"
   ]
  },
  {
   "cell_type": "markdown",
   "id": "c6739201",
   "metadata": {},
   "source": [
    "# Min.Squares To Represent N (Iteratively)"
   ]
  },
  {
   "cell_type": "code",
   "execution_count": 14,
   "id": "7e36853f",
   "metadata": {},
   "outputs": [
    {
     "name": "stdout",
     "output_type": "stream",
     "text": [
      "41\n",
      "2\n"
     ]
    }
   ],
   "source": [
    "import sys,math\n",
    "def minSquaresI(n):\n",
    "    \n",
    "    dp = [-1 for i in range(n+1)]\n",
    "    dp[0]=0\n",
    "    \n",
    "    for i in range(1,n+1):\n",
    "        ans = sys.maxsize\n",
    "        root = int(math.sqrt(i))\n",
    "        for j in range(1,root+1):\n",
    "            currAns = 1 + dp[i-(j**2)]\n",
    "            ans = min(ans,currAns)\n",
    "        dp[i] = ans\n",
    "    return dp[n]\n",
    "\n",
    "n = int(input())\n",
    "ans = minSquaresI(n)\n",
    "print(ans)"
   ]
  },
  {
   "cell_type": "markdown",
   "id": "0d9bdc22",
   "metadata": {},
   "source": [
    "# LIS - Explain"
   ]
  },
  {
   "cell_type": "code",
   "execution_count": null,
   "id": "0bd197c4",
   "metadata": {},
   "outputs": [],
   "source": [
    "# longest increasing subsequence\n",
    "# Length of lis including,Lis including that element,overal max lis possible"
   ]
  },
  {
   "cell_type": "markdown",
   "id": "80dbdaa9",
   "metadata": {},
   "source": [
    "# LIS - Recursive"
   ]
  },
  {
   "cell_type": "code",
   "execution_count": 20,
   "id": "2f809080",
   "metadata": {},
   "outputs": [
    {
     "name": "stdout",
     "output_type": "stream",
     "text": [
      "7\n",
      "6 3 1 2 0 7 9\n",
      "4\n"
     ]
    }
   ],
   "source": [
    "def lis(li,i,n):\n",
    "    \n",
    "    if i==n:\n",
    "        return 0,0\n",
    "    including_max = 1\n",
    "    for j in range(i+1,n):\n",
    "        if li[j] >= li[i]:\n",
    "            further_including_max = lis(li,j,n)[0]\n",
    "            including_max = max(including_max,1 + further_including_max)\n",
    "            \n",
    "    excluding_max = lis(li,i+1,n)[1]\n",
    "    overalMax = max(including_max,excluding_max)\n",
    "    return including_max,overalMax\n",
    "\n",
    "n = int(input())\n",
    "li = [int(ele) for ele in input().split()]\n",
    "ans = lis(li,0,n)[1]\n",
    "print(ans)"
   ]
  },
  {
   "cell_type": "markdown",
   "id": "4b4e67eb",
   "metadata": {},
   "source": [
    "# LIS - Memoization"
   ]
  },
  {
   "cell_type": "code",
   "execution_count": 3,
   "id": "e679de2e",
   "metadata": {},
   "outputs": [
    {
     "name": "stdout",
     "output_type": "stream",
     "text": [
      "7\n",
      "6 3 1 2 0 7 9\n",
      "4\n"
     ]
    }
   ],
   "source": [
    "def lis(li,i,n,dp):\n",
    "    \n",
    "    if i==n:\n",
    "        return 0,0\n",
    "    including_max = 1\n",
    "    for j in range(i+1,n):\n",
    "        if li[j] >= li[i]:\n",
    "            if dp[j] == -1:\n",
    "                ans = lis(li,j,n,dp)\n",
    "                further_including_max = ans[0]\n",
    "            else:\n",
    "                further_including_max = dp[j][0]\n",
    "            including_max = max(including_max,1 + further_including_max)\n",
    "    \n",
    "    if dp[i+1] == -1:\n",
    "        ans = lis(li,i+1,n,dp)\n",
    "        dp[i+1] = ans\n",
    "        excluding_max = ans[1]\n",
    "    else:\n",
    "        excluding_max = dp[i+1][1]\n",
    "        \n",
    "    overalMax = max(including_max,excluding_max)\n",
    "    return including_max,overalMax\n",
    "\n",
    "n = int(input())\n",
    "li = [int(ele) for ele in input().split()]\n",
    "dp = [-1 for i in range(n+1)]\n",
    "ans = lis(li,0,n,dp)[1]\n",
    "print(ans)"
   ]
  },
  {
   "cell_type": "markdown",
   "id": "79bae3bf",
   "metadata": {},
   "source": [
    "# LIS - Iteratively"
   ]
  },
  {
   "cell_type": "code",
   "execution_count": null,
   "id": "7c2d7f79",
   "metadata": {},
   "outputs": [],
   "source": [
    "# dp[i]\n",
    "# * including ith element lis\n",
    "# * overall max lis starting from ith element"
   ]
  },
  {
   "cell_type": "code",
   "execution_count": 3,
   "id": "93811f2b",
   "metadata": {},
   "outputs": [
    {
     "name": "stdout",
     "output_type": "stream",
     "text": [
      "7\n",
      "6 3 1 2 0 7 9\n",
      "4\n"
     ]
    }
   ],
   "source": [
    "def lisI(li,n):\n",
    "    \n",
    "    dp = [[0 for j in range(2)] for i in range(n+1)]\n",
    "    \n",
    "    for i in range(n-1,-1,-1):\n",
    "        \n",
    "        including_max = 1\n",
    "        for j in range(i+1,n):\n",
    "            if li[j] > li[i]:\n",
    "                including_max = max(including_max,1+dp[j][0])   \n",
    "        dp[i][0] = including_max\n",
    "        excluding_max = dp[i+1][1]\n",
    "        overallMax = max(including_max,excluding_max)\n",
    "        dp[i][1] = overallMax\n",
    "            \n",
    "    return dp[0][1]\n",
    "\n",
    "n = int(input())\n",
    "li=[int(ele) for ele in input().split()]\n",
    "ans = lisI(li,n)\n",
    "print(ans)\n",
    "            "
   ]
  }
 ],
 "metadata": {
  "kernelspec": {
   "display_name": "Python 3",
   "language": "python",
   "name": "python3"
  },
  "language_info": {
   "codemirror_mode": {
    "name": "ipython",
    "version": 3
   },
   "file_extension": ".py",
   "mimetype": "text/x-python",
   "name": "python",
   "nbconvert_exporter": "python",
   "pygments_lexer": "ipython3",
   "version": "3.8.8"
  }
 },
 "nbformat": 4,
 "nbformat_minor": 5
}
