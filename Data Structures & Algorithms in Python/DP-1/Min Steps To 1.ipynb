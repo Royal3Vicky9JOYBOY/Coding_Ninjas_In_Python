{
 "cells": [
  {
   "cell_type": "markdown",
   "id": "a00eb3d6",
   "metadata": {},
   "source": [
    "# Min Steps To 1\n",
    "Send Feedback\n",
    "Given a positive integer 'n', find and return the minimum number of steps that 'n' has to take to get reduced to 1. You can perform any one of the following 3 steps:\n",
    "1.) Subtract 1 from it. (n = n - ­1) ,\n",
    "2.) If n is divisible by 2, divide by 2.( if n % 2 == 0, then n = n / 2 ) ,\n",
    "3.) If n is divisible by 3, divide by 3. (if n % 3 == 0, then n = n / 3 ).  \n",
    "Input format :\n",
    "The first and the only line of input contains an integer value, 'n'.\n",
    "Output format :\n",
    "Print the minimum number of steps.\n",
    "Constraints :\n",
    "1 <= n <= 10 ^ 6\n",
    "Time Limit: 1 sec\n",
    "Sample Input 1 :\n",
    "4\n",
    "Sample Output 1 :\n",
    "2 \n",
    "Explanation of Sample Output 1 :\n",
    "For n = 4\n",
    "Step 1 :  n = 4 / 2  = 2\n",
    "Step 2 : n = 2 / 2  =  1 \n",
    "Sample Input 2 :\n",
    "7\n",
    "Sample Output 2 :\n",
    "3\n",
    "Explanation of Sample Output 2 :\n",
    "For n = 7\n",
    "Step 1 :  n = 7 ­- 1 = 6\n",
    "Step 2 : n = 6  / 3 = 2 \n",
    "Step 3 : n = 2 / 2 = 1  "
   ]
  },
  {
   "cell_type": "code",
   "execution_count": 1,
   "id": "6c479d94",
   "metadata": {},
   "outputs": [
    {
     "name": "stdout",
     "output_type": "stream",
     "text": [
      "7\n",
      "3\n"
     ]
    }
   ],
   "source": [
    "def minStepsTo1DP(n,dp) : \n",
    "    if n == 1  :\n",
    "        return 0\n",
    "\n",
    "\n",
    "\n",
    "    \n",
    "    ans3 = 999999\n",
    "    if n % 3 == 0 :\n",
    "        if dp[n//3] != -1 :\n",
    "            ans3 = dp[n//3]\n",
    "        else :\n",
    "            ans3 =   minStepsTo1DP(n//3 , dp )\n",
    "            \n",
    "                       \n",
    "    ans2 = 9999999\n",
    "    if n % 2 == 0 :\n",
    "        if dp[n//2] != -1 :\n",
    "            ans2 = dp[n//2]\n",
    "        else :\n",
    "            \n",
    "            ans2 =    minStepsTo1DP(n//2 , dp )\n",
    "            \n",
    "            \n",
    "    ans1 = 999999\n",
    "    if dp[n-1] != -1 :\n",
    "        ans1 = dp[n-1]\n",
    "    else :\n",
    "        ans1 =   minStepsTo1DP(n-1, dp )\n",
    "        dp[n-1] = ans1 \n",
    "            \n",
    "    \n",
    "            \n",
    "    msteps = 1 + min ( ans1 , ans2 , ans3 )\n",
    "    #dp[n] = msteps\n",
    "    \n",
    "    \n",
    "    \n",
    "        \n",
    "    return msteps \n",
    "        \n",
    "    \n",
    "\n",
    "\n",
    "# Main\n",
    "n=int(input())\n",
    "from sys import setrecursionlimit\n",
    "setrecursionlimit(110000)\n",
    "dp = [ -1 for i in range (n+1)]\n",
    "print(minStepsTo1DP(n,dp))\n"
   ]
  }
 ],
 "metadata": {
  "kernelspec": {
   "display_name": "Python 3",
   "language": "python",
   "name": "python3"
  },
  "language_info": {
   "codemirror_mode": {
    "name": "ipython",
    "version": 3
   },
   "file_extension": ".py",
   "mimetype": "text/x-python",
   "name": "python",
   "nbconvert_exporter": "python",
   "pygments_lexer": "ipython3",
   "version": "3.8.8"
  }
 },
 "nbformat": 4,
 "nbformat_minor": 5
}
