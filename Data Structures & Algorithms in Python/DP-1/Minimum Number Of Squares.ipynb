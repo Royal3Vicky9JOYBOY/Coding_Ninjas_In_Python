{
 "cells": [
  {
   "cell_type": "markdown",
   "id": "3cdf77b7",
   "metadata": {},
   "source": [
    "# Minimum Number Of Squares\n",
    "Send Feedback\n",
    "A number can always be represented as a sum of squares of other numbers. Note that 1 is a square and we can always break a number as [(1 * 1) + (1 * 1) + (1 * 1) + …]. Given a number n, find the minimum number of squares that sum to n.\n",
    "Input format:\n",
    " The first and only line of input contains an integer N (1 <= N <= 10000)\n",
    "Constraints:\n",
    " Time Limit: 1 seconds\n",
    "Output format:\n",
    "The first and only line of output contains the minimum number if squares that sum to n.\n",
    "Sample Test Cases:\n",
    "Sample Input 1:\n",
    "100\n",
    "Sample Output 1:\n",
    "1\n",
    "Explanation:\n",
    "We can write 100 as 10^2 also, 100 can be written as (5^2) + (5^2) + (5^2) + (5^2), but this representation requires 4 squares. So, in this case, the expected answer would be 1, that is, 10^2.\n"
   ]
  },
  {
   "cell_type": "code",
   "execution_count": 1,
   "id": "ab8e4700",
   "metadata": {},
   "outputs": [
    {
     "name": "stdout",
     "output_type": "stream",
     "text": [
      "300\n",
      "3\n"
     ]
    }
   ],
   "source": [
    "import sys,math\n",
    "def minStepsTo1(n):\n",
    "    dp=[-1 for i in range(n+1)]\n",
    "    dp[0] = 0\n",
    "    for i in range(1,n+1):\n",
    "        ans = sys.maxsize\n",
    "        root=int(math.sqrt(i))\n",
    "        for j in range(1,root+1):\n",
    "            currAns= 1 + dp[i-j**2]\n",
    "            ans= min(ans,currAns)\n",
    "        dp[i] = ans\n",
    "    return dp[n]\n",
    "\n",
    "        \n",
    "\n",
    "    \n",
    "n = int(input())\n",
    "ans = minStepsTo1(n)\n",
    "print(ans)\n",
    "\n",
    "\n",
    "\n",
    "\n",
    "\n"
   ]
  }
 ],
 "metadata": {
  "kernelspec": {
   "display_name": "Python 3",
   "language": "python",
   "name": "python3"
  },
  "language_info": {
   "codemirror_mode": {
    "name": "ipython",
    "version": 3
   },
   "file_extension": ".py",
   "mimetype": "text/x-python",
   "name": "python",
   "nbconvert_exporter": "python",
   "pygments_lexer": "ipython3",
   "version": "3.8.8"
  }
 },
 "nbformat": 4,
 "nbformat_minor": 5
}
