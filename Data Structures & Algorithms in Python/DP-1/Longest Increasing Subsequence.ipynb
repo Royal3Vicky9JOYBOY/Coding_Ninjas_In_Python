{
 "cells": [
  {
   "cell_type": "markdown",
   "id": "1f1aa87f",
   "metadata": {},
   "source": [
    "# Longest Increasing Subsequence\n",
    "Send Feedback\n",
    "Given an array with N elements, you need to find the length of the longest subsequence in the given array such that all elements of the subsequence are sorted in strictly increasing order.\n",
    "Input Format\n",
    "The first line of input contains an integer N. The following line contains N space separated integers, that denote the value of elements of array.\n",
    "Output Format\n",
    "The first and only line of output contains the length of longest subsequence.\n",
    "Constraints\n",
    "1 <= N <= 10^3\n",
    "Time Limit: 1 second\n",
    "Sample Input 1 :\n",
    "6\n",
    "5 4 11 1 16 8\n",
    "Sample Output 1 :\n",
    "3\n",
    "Sample Output Explanation\n",
    "Length of longest subsequence is 3 i.e. (5,11,16) or (4,11,16).\n",
    "Sample Input 2 :\n",
    "3\n",
    "1 2 2\n",
    "Sample Output 2 :\n",
    "2"
   ]
  },
  {
   "cell_type": "code",
   "execution_count": 1,
   "id": "2342b9da",
   "metadata": {},
   "outputs": [
    {
     "name": "stdout",
     "output_type": "stream",
     "text": [
      "3\n",
      "3 6 9\n",
      "3\n"
     ]
    }
   ],
   "source": [
    "import sys\n",
    "sys.setrecursionlimit(1001)\n",
    "\n",
    "def lis(arr,i,n,dp): \n",
    "    if i == n:\n",
    "        return 0,0\n",
    "    \n",
    "    including_max = 1\n",
    "    for j in range(i+1,n):\n",
    "        if arr[j] > arr[i]:\n",
    "            if dp[j] == -1:\n",
    "                ans = lis(arr,j,n,dp)\n",
    "                dp[j] = ans\n",
    "                further_including_max = ans[0]\n",
    "            else:\n",
    "                further_including_max = dp[j][0]\n",
    "            \n",
    "            \n",
    "            including_max = max(including_max , 1+ further_including_max)\n",
    "            \n",
    "    if dp[i+1] == -1:\n",
    "        ans = lis(arr , i+1 , n,dp)\n",
    "        dp[i+1] = ans\n",
    "        excluding_max = ans[1]\n",
    "    else:\n",
    "        excluding_max = dp[i+1][1]\n",
    "        \n",
    "    overall_max = max(including_max , excluding_max)\n",
    "    \n",
    "    return including_max , overall_max\n",
    "                \n",
    "\n",
    "n = int(input())\n",
    "li = [int(ele) for ele in input().split()]\n",
    "dp = [-1 for i in range(n+1)]\n",
    "ans = lis(li,0,n,dp)[1]\n",
    "print(ans)"
   ]
  }
 ],
 "metadata": {
  "kernelspec": {
   "display_name": "Python 3",
   "language": "python",
   "name": "python3"
  },
  "language_info": {
   "codemirror_mode": {
    "name": "ipython",
    "version": 3
   },
   "file_extension": ".py",
   "mimetype": "text/x-python",
   "name": "python",
   "nbconvert_exporter": "python",
   "pygments_lexer": "ipython3",
   "version": "3.8.8"
  }
 },
 "nbformat": 4,
 "nbformat_minor": 5
}
