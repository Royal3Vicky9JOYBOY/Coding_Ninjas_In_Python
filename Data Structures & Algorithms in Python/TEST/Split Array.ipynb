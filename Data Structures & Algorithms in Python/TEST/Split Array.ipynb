{
 "cells": [
  {
   "cell_type": "markdown",
   "id": "0eb46733",
   "metadata": {},
   "source": [
    "# Split Array\n",
    "Send Feedback\n",
    "Given an integer array A of size N, check if the input array can be splitted in two parts such that -\n",
    "- Sum of both parts is equal\n",
    "- All elements in the input, which are divisible by 5 should be in same group.\n",
    "- All elements in the input, which are divisible by 3 (but not divisible by 5) should be in other group.\n",
    "- Elements which are neither divisible by 5 nor by 3, can be put in any group.\n",
    "Groups can be made with any set of elements, i.e. elements need not to be continuous. And you need to consider each and every element of input array in some group.\n",
    "Return true, if array can be split according to the above rules, else return false.\n",
    "Note : You will get marks only if all the test cases are passed.\n",
    "Input Format :\n",
    "Line 1 : Integer N (size of array)\n",
    "Line 2 : Array A elements (separated by space)\n",
    "Output Format :\n",
    "true or false\n",
    "Constraints :\n",
    "1 <= N <= 50\n",
    "Sample Input 1 :\n",
    "2\n",
    "1 2\n",
    "Sample Output 1 :\n",
    "false\n",
    "Sample Input 2 :\n",
    "3\n",
    "1 4 3\n",
    "Sample Output 2 :\n",
    "true"
   ]
  },
  {
   "cell_type": "code",
   "execution_count": 1,
   "id": "fb71147b",
   "metadata": {},
   "outputs": [
    {
     "name": "stdout",
     "output_type": "stream",
     "text": [
      "3\n",
      "3 6 9\n",
      "false\n"
     ]
    }
   ],
   "source": [
    "def split(arr,i,sum):\n",
    "    if i==len(arr):\n",
    "        if sum==0:\n",
    "            return True\n",
    "        else:\n",
    "            return False\n",
    "        \n",
    "    if((arr[i]%5) == 0):\n",
    "        return split(arr,i+1,sum+arr[i])\n",
    "    elif ((arr[i]%3) == 0):\n",
    "        return split(arr,i+1,sum-arr[i])\n",
    "    else:\n",
    "        ans1 = split(arr,i+1,sum+arr[i])\n",
    "        ans2 = split(arr,i+1,sum-arr[i])\n",
    "        return ans1 or ans2\n",
    "    \n",
    "n = input()\n",
    "arr = [int(ele) for ele in input().split()]\n",
    "ans = split(arr,0,0)\n",
    "if ans is True:\n",
    "    print('true')\n",
    "else:\n",
    "    print('false')"
   ]
  }
 ],
 "metadata": {
  "kernelspec": {
   "display_name": "Python 3",
   "language": "python",
   "name": "python3"
  },
  "language_info": {
   "codemirror_mode": {
    "name": "ipython",
    "version": 3
   },
   "file_extension": ".py",
   "mimetype": "text/x-python",
   "name": "python",
   "nbconvert_exporter": "python",
   "pygments_lexer": "ipython3",
   "version": "3.8.8"
  }
 },
 "nbformat": 4,
 "nbformat_minor": 5
}
