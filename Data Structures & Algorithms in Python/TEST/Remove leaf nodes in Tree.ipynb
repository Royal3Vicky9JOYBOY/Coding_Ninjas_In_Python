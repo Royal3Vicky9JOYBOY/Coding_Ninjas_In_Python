{
 "cells": [
  {
   "cell_type": "markdown",
   "id": "6dcb408a",
   "metadata": {},
   "source": [
    "# Remove leaf nodes in Tree\n",
    "Send Feedback\n",
    "Remove all leaf nodes from a given generic Tree. Leaf nodes are those nodes, which don't have any children.\n",
    "Note : Root will also be a leaf node if it doesn't have any child. You don't need to print the tree, just remove all leaf nodes and return the updated root.\n",
    "Input format :\n",
    "Line 1 : Elements in level order form separated by space (as per done in class). Order is - `\n",
    "\n",
    "Root_data, n (No_Of_Child_Of_Root), n children, and so on for every element `\n",
    "Output Format :\n",
    "Elements are printed level wise, each level in new line (separated by space)\n",
    "Sample Input 1 :\n",
    "10 3 20 30 40 2 40 50 0 0 0 0 \n",
    "Sample Output 1 : (Level wise, each level in new line)\n",
    "10\n",
    "20"
   ]
  },
  {
   "cell_type": "code",
   "execution_count": 1,
   "id": "e43b78e0",
   "metadata": {},
   "outputs": [
    {
     "name": "stdout",
     "output_type": "stream",
     "text": [
      "3 6 9 30 60 90 33 99\n",
      "3 "
     ]
    }
   ],
   "source": [
    "import queue \n",
    "class treeNode:\n",
    "    def __init__(self, data):\n",
    "        self.data = data\n",
    "        self.children = []\n",
    "    def __str__(self):\n",
    "        return str(self.data)\n",
    "\n",
    "def removeLeafNodes(root):\n",
    "    if len(root.children)==0:\n",
    "        return None\n",
    "    node_remove=[]\n",
    "    for child in root.children:\n",
    "        ans=removeLeafNodes(child)\n",
    "        if ans is None:\n",
    "            node_remove.append(child)\n",
    "    for node in node_remove:\n",
    "        root.children.remove(node)\n",
    "    return root\n",
    "     \n",
    "\n",
    "def createLevelWiseTree(arr):\n",
    "    root = treeNode(int(arr[0]))\n",
    "    q = [root]\n",
    "    size = len(arr)\n",
    "    i = 1\n",
    "    while i<size:\n",
    "        parent = q.pop(0)\n",
    "        childCount = int(arr[i])\n",
    "        i += 1\n",
    "        for j in range(0,childCount):\n",
    "            temp = treeNode(int(arr[i+j]))\n",
    "            parent.children.append(temp)\n",
    "            q.append(temp)\n",
    "        i += childCount\n",
    "    return root\n",
    "\n",
    "def printLevelWiseTree(root):\n",
    "    q = queue.Queue()\n",
    "    q.put(root)\n",
    "    q.put(None)\n",
    "    \n",
    "    while q.empty() is False:\n",
    "        front = q.get()\n",
    "        if front is None:\n",
    "            if q.empty():\n",
    "                return\n",
    "            else:\n",
    "                print()\n",
    "                q.put(None)\n",
    "        else:\n",
    "            print(front.data,end= ' ')\n",
    "            for child in front.children:\n",
    "                q.put(child)\n",
    "            \n",
    "        \n",
    "    \n",
    "    \n",
    "# Main\n",
    "arr = list(int(x) for x in input().strip().split(' '))\n",
    "root = createLevelWiseTree(arr)\n",
    "removeLeafNodes(root)\n",
    "printLevelWiseTree(root)"
   ]
  }
 ],
 "metadata": {
  "kernelspec": {
   "display_name": "Python 3",
   "language": "python",
   "name": "python3"
  },
  "language_info": {
   "codemirror_mode": {
    "name": "ipython",
    "version": 3
   },
   "file_extension": ".py",
   "mimetype": "text/x-python",
   "name": "python",
   "nbconvert_exporter": "python",
   "pygments_lexer": "ipython3",
   "version": "3.8.8"
  }
 },
 "nbformat": 4,
 "nbformat_minor": 5
}
