{
 "cells": [
  {
   "cell_type": "markdown",
   "id": "bf27ec62",
   "metadata": {},
   "source": [
    "#  Delete Alternate Nodes\n",
    "Send Feedback\n",
    "Given a Singly Linked List of integers, delete all the alternate nodes in the list.\n",
    "Example:\n",
    "List: 10 -> 20 -> 30 -> 40 -> 50 -> 60 -> null\n",
    "Alternate nodes will be:  20, 40, and 60.\n",
    "\n",
    "Hence after deleting, the list will be:\n",
    "Output: 10 -> 30 -> 50 -> null\n",
    "Note :\n",
    "The head of the list will remain the same. Don't need to print or return anything.\n",
    "Input format :\n",
    "The first and the only line of input will contain the elements of the Singly Linked List separated by a single space and terminated by -1.\n",
    "Output Format :\n",
    "The only line of output will contain the updated list elements.\n",
    "Input Constraints:\n",
    "1 <= N <= 10 ^ 6.\n",
    "Where N is the size of the Singly Linked List\n",
    "\n",
    "Time Limit: 1 sec\n",
    "Sample Input 1:\n",
    "1 2 3 4 5 -1\n",
    "Sample Output 1:\n",
    "1 3 5\n",
    "Explanation of Sample Input 1:\n",
    "2, 4 are alternate nodes so we need to delete them \n",
    "Sample Input 2:\n",
    "10 20 30 40 50 60 70 -1\n",
    "Sample Output 2:\n",
    "10 30 50 70 "
   ]
  },
  {
   "cell_type": "code",
   "execution_count": 5,
   "id": "4f153291",
   "metadata": {},
   "outputs": [],
   "source": [
    "''' \n",
    "    Following is the node structure\n",
    "\n",
    "class Node :\n",
    "    def __init__(self, data) :\n",
    "        self.data = data\n",
    "        self.next = None\n",
    "\n",
    "'''\n",
    "\n",
    "def deleteAlternateNodes(head):\n",
    "    # Write your code here\n",
    "    pass\n",
    "    if(head == None) :\n",
    "        return None\n",
    "    \n",
    "    # The variable cur stores the current node\n",
    "    cur = head\n",
    "    curNext = head\n",
    "   \n",
    "    while(cur != None and cur.next != None) :\n",
    "        \n",
    "        # The variable curNext stores the next node of current node\n",
    "        curNext = cur.next\n",
    "        cur.next = curNext.next\n",
    "\n",
    "        # Move cur to the next node\n",
    "        cur = cur.next\n"
   ]
  }
 ],
 "metadata": {
  "kernelspec": {
   "display_name": "Python 3",
   "language": "python",
   "name": "python3"
  },
  "language_info": {
   "codemirror_mode": {
    "name": "ipython",
    "version": 3
   },
   "file_extension": ".py",
   "mimetype": "text/x-python",
   "name": "python",
   "nbconvert_exporter": "python",
   "pygments_lexer": "ipython3",
   "version": "3.8.8"
  }
 },
 "nbformat": 4,
 "nbformat_minor": 5
}
