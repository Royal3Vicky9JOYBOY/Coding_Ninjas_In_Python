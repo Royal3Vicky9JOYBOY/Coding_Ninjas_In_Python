{
 "cells": [
  {
   "cell_type": "markdown",
   "id": "a29922f1",
   "metadata": {},
   "source": [
    "# Next Number\n",
    "Send Feedback\n",
    "Given a large number represented in the form of a linked list. Write code to increment the number by 1 in-place(i.e. without using extra space).\n",
    "Note: You don't need to print the elements, just update the elements and return the head of updated LL.\n",
    "Input Constraints:\n",
    "1 <= Length of Linked List <=10^6.\n",
    "Input format :\n",
    "Line 1 : Linked list elements (separated by space and terminated by -1)\n",
    "Output Format :\n",
    "Line 1: Updated linked list elements \n",
    "Sample Input 1 :\n",
    "3 9 2 5 -1\n",
    "Sample Output 1 :\n",
    "3 9 2 6\n",
    "Sample Input 2 :\n",
    "9 9 9 -1\n",
    "Sample Output 1 :\n",
    "1 0 0 0 "
   ]
  },
  {
   "cell_type": "code",
   "execution_count": 1,
   "id": "5ffe4586",
   "metadata": {},
   "outputs": [
    {
     "name": "stdout",
     "output_type": "stream",
     "text": [
      "3 6 9 1\n",
      "3 7 0 "
     ]
    }
   ],
   "source": [
    "class Node:\n",
    "    def __init__(self, data):\n",
    "        self.data = data\n",
    "        self.next = None\n",
    "\n",
    "\n",
    "\n",
    "def reverseList(head):\n",
    "    if not head:\n",
    "        return\n",
    "    curNode = head\n",
    "    prevNode = head\n",
    "    nextNode = head.next\n",
    "    curNode.next = None\n",
    "  \n",
    "    while(nextNode):\n",
    "        curNode = nextNode\n",
    "        nextNode = nextNode.next\n",
    "        curNode.next = prevNode\n",
    "        prevNode = curNode\n",
    "  \n",
    "    return curNode\n",
    "\n",
    "def nextNumber(head):\n",
    "    head = reverseList(head)\n",
    "    k = head\n",
    "    carry = 0\n",
    "    prev = None\n",
    "    head.data += 1\n",
    "  \n",
    "    # update carry for next calculation\n",
    "    while(head != None) and (head.data > 9 or carry > 0):\n",
    "        prev = head\n",
    "        head.data += carry\n",
    "        carry = head.data // 10\n",
    "        head.data = head.data % 10\n",
    "        head = head.next\n",
    "  \n",
    "    if carry > 0:\n",
    "        prev.next = Node(carry)\n",
    "    # Reverse the modified list\n",
    "    return reverseList(k)\n",
    "        \n",
    "def ll(arr):\n",
    "    if len(arr)==0:\n",
    "        return None\n",
    "    head = Node(arr[0])\n",
    "    last = head\n",
    "    for data in arr[1:]:\n",
    "        last.next = Node(data)\n",
    "        last = last.next\n",
    "    return head\n",
    "\n",
    "def printll(head):\n",
    "    while head is not None:\n",
    "        print(head.data,end= ' ')\n",
    "        head = head.next\n",
    "    return\n",
    "\n",
    "# Main\n",
    "# Read the link list elements including -1\n",
    "arr=[int(ele) for ele in input().split()]\n",
    "# Create a Linked list after removing -1 from list\n",
    "l = ll(arr[:-1])\n",
    "head = nextNumber(l)\n",
    "printll(head)"
   ]
  }
 ],
 "metadata": {
  "kernelspec": {
   "display_name": "Python 3",
   "language": "python",
   "name": "python3"
  },
  "language_info": {
   "codemirror_mode": {
    "name": "ipython",
    "version": 3
   },
   "file_extension": ".py",
   "mimetype": "text/x-python",
   "name": "python",
   "nbconvert_exporter": "python",
   "pygments_lexer": "ipython3",
   "version": "3.8.8"
  }
 },
 "nbformat": 4,
 "nbformat_minor": 5
}
