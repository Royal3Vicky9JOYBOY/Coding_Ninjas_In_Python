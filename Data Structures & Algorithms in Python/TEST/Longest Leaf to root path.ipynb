{
 "cells": [
  {
   "cell_type": "markdown",
   "id": "d09527e6",
   "metadata": {},
   "source": [
    "# Longest Leaf to root path\n",
    "Send Feedback\n",
    "Given a binary tree, return the longest path from leaf to root. Longest means, a path which contain maximum number of nodes from leaf to root.\n",
    "Input format :\n",
    "\n",
    "Elements in level order form (separated by space)\n",
    "\n",
    "(If any node does not have left or right child, take -1 in its place)\n",
    "\n",
    "Line 1 : Binary Tree 1 (separated by space)\n",
    "\n",
    "Sample Input 1 :\n",
    " 5 6 10 2 3 -1 -1 -1 -1 -1 9 -1 -1\n",
    "Sample Output 1 :\n",
    "9\n",
    "3\n",
    "6\n",
    "5"
   ]
  },
  {
   "cell_type": "code",
   "execution_count": 1,
   "id": "bff6081f",
   "metadata": {},
   "outputs": [
    {
     "name": "stdout",
     "output_type": "stream",
     "text": [
      "3 6 9 39 -1 -1 -1 -1 3 -1 -1\n",
      "3\n",
      "39\n",
      "6\n",
      "3\n"
     ]
    }
   ],
   "source": [
    "import queue\n",
    "class BinaryTreeNode:\n",
    "    def __init__(self, data):\n",
    "        self.data = data\n",
    "        self.left = None\n",
    "        self.right = None\n",
    "\n",
    "def longestPath(root):\n",
    "    if root == None:\n",
    "        return []\n",
    "    rightvect = longestPath(root.right)\n",
    "    leftvect = longestPath(root.left)\n",
    "    if (len(leftvect) > len(rightvect)):\n",
    "        leftvect.append(root.data)\n",
    "    else:\n",
    "        rightvect.append(root.data)\n",
    "    if len(leftvect) > len(rightvect):\n",
    "        return leftvect\n",
    "    return rightvect\n",
    "    pass\n",
    "    \n",
    "\n",
    "def buildLevelTree(levelorder):\n",
    "    index = 0\n",
    "    length = len(levelorder)\n",
    "    if length<=0 or levelorder[0]==-1:\n",
    "        return None\n",
    "    root = BinaryTreeNode(levelorder[index])\n",
    "    index += 1\n",
    "    q = queue.Queue()\n",
    "    q.put(root)\n",
    "    while not q.empty():\n",
    "        currentNode = q.get()\n",
    "        leftChild = levelorder[index]\n",
    "        index += 1\n",
    "        if leftChild != -1:\n",
    "            leftNode = BinaryTreeNode(leftChild)\n",
    "            currentNode.left =leftNode\n",
    "            q.put(leftNode)\n",
    "        rightChild = levelorder[index]\n",
    "        index += 1\n",
    "        if rightChild != -1:\n",
    "            rightNode = BinaryTreeNode(rightChild)\n",
    "            currentNode.right =rightNode\n",
    "            q.put(rightNode)\n",
    "    return root\n",
    "\n",
    "# Main\n",
    "levelOrder = [int(i) for i in input().strip().split()]\n",
    "root = buildLevelTree(levelOrder)\n",
    "path = longestPath(root)\n",
    "for ele in path:\n",
    "    print(ele)"
   ]
  }
 ],
 "metadata": {
  "kernelspec": {
   "display_name": "Python 3",
   "language": "python",
   "name": "python3"
  },
  "language_info": {
   "codemirror_mode": {
    "name": "ipython",
    "version": 3
   },
   "file_extension": ".py",
   "mimetype": "text/x-python",
   "name": "python",
   "nbconvert_exporter": "python",
   "pygments_lexer": "ipython3",
   "version": "3.8.8"
  }
 },
 "nbformat": 4,
 "nbformat_minor": 5
}
