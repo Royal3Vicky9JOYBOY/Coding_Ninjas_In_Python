{
 "cells": [
  {
   "cell_type": "markdown",
   "id": "c22cde38",
   "metadata": {},
   "source": [
    "# Does s contain t ?\n",
    "Send Feedback\n",
    "Given two string s and t, write a function to check if s contains all characters of t (in the same order as they are in string t).\n",
    "Return true or false.\n",
    "Do it recursively.\n",
    "E.g. : s = “abchjsgsuohhdhyrikkknddg” contains all characters of t=”coding” in the same order. So function will return true.\n",
    "Input Format :\n",
    "Line 1 : String s\n",
    "Line 2 : String t\n",
    "Output Format :\n",
    "true or false\n",
    "Sample Input 1 :\n",
    "abchjsgsuohhdhyrikkknddg\n",
    "coding\n",
    "Sample Output 1 :\n",
    "true\n",
    "Sample Input 2 :\n",
    "abcde\n",
    "aeb\n",
    "Sample Output 2 :\n",
    "false"
   ]
  },
  {
   "cell_type": "code",
   "execution_count": 2,
   "id": "28c5dcfa",
   "metadata": {},
   "outputs": [
    {
     "name": "stdout",
     "output_type": "stream",
     "text": [
      "coding ninjas\n",
      "anime ninjas\n",
      "false\n"
     ]
    }
   ],
   "source": [
    "def contains(s,t):\n",
    "    #Implement This Function Here\n",
    "    pass\n",
    "    if len(t)==0:\n",
    "        return True\n",
    "    if len(s)==0:\n",
    "        return False\n",
    "    if(s[0]==t[0]):\n",
    "        return contains(s[1:],t[1:])\n",
    "    else:\n",
    "        return contains(s[1:],t)\n",
    "    \n",
    "s = input()\n",
    "t = input()\n",
    "\n",
    "ans = contains(s,t)\n",
    "if ans is True:\n",
    "    print('true')\n",
    "else:\n",
    "    print('false')"
   ]
  }
 ],
 "metadata": {
  "kernelspec": {
   "display_name": "Python 3",
   "language": "python",
   "name": "python3"
  },
  "language_info": {
   "codemirror_mode": {
    "name": "ipython",
    "version": 3
   },
   "file_extension": ".py",
   "mimetype": "text/x-python",
   "name": "python",
   "nbconvert_exporter": "python",
   "pygments_lexer": "ipython3",
   "version": "3.8.8"
  }
 },
 "nbformat": 4,
 "nbformat_minor": 5
}
