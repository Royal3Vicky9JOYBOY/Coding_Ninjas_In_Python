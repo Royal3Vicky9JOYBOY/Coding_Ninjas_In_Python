{
 "cells": [
  {
   "cell_type": "markdown",
   "id": "f1ad8fc1",
   "metadata": {},
   "source": [
    "# Recurrence Relation for Tower of Hanoi Problem"
   ]
  },
  {
   "cell_type": "markdown",
   "id": "4a91cea7",
   "metadata": {},
   "source": [
    "The recurrence relation capturing the optimal execution time of the Towers of Hanoi problem with n discs is : T(n) = 2T(n − 1) + 1 "
   ]
  },
  {
   "cell_type": "markdown",
   "id": "fbd74516",
   "metadata": {},
   "source": [
    "# Complexity of different operations in a sorted array."
   ]
  },
  {
   "cell_type": "markdown",
   "id": "8a283097",
   "metadata": {},
   "source": [
    "Which of the following operations is not O(1) for an array of sorted data. You may assume that array elements are distinct.\n",
    "ans:Delete an element "
   ]
  },
  {
   "cell_type": "markdown",
   "id": "80985413",
   "metadata": {},
   "source": [
    "# Complexity of a Recurrence Relation"
   ]
  },
  {
   "cell_type": "markdown",
   "id": "938c3517",
   "metadata": {},
   "source": [
    "Which one of the following correctly determines the solution of the recurrence relation with T(1) = 1?\n",
    "T(n) = 2T(n/2) + Logn.\n",
    "\n",
    "\n",
    "\n",
    "Ans:O(NlogN)\n",
    "\n",
    "\n",
    "Solution Description\n",
    "Please find the images for the step by step explanation in the following links:. \n",
    "https://files.codingninjas.in/step1-10997.jpg\n",
    "https://files.codingninjas.in/step2-10998.jpg\t\n",
    "\n",
    "The log series summation can be understood from here: https://stackoverflow.com/questions/44231116/is-complexity-ologn-logn-2-logn-4-logn-8-log2-olog"
   ]
  }
 ],
 "metadata": {
  "kernelspec": {
   "display_name": "Python 3",
   "language": "python",
   "name": "python3"
  },
  "language_info": {
   "codemirror_mode": {
    "name": "ipython",
    "version": 3
   },
   "file_extension": ".py",
   "mimetype": "text/x-python",
   "name": "python",
   "nbconvert_exporter": "python",
   "pygments_lexer": "ipython3",
   "version": "3.8.8"
  }
 },
 "nbformat": 4,
 "nbformat_minor": 5
}
