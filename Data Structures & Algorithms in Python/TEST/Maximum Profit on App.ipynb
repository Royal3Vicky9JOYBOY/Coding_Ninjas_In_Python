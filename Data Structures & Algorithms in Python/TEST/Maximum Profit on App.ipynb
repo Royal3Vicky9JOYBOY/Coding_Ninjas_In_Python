{
 "cells": [
  {
   "cell_type": "markdown",
   "id": "0fe99962",
   "metadata": {},
   "source": [
    "# Maximum Profit on App\n",
    "Send Feedback\n",
    "You have made a smartphone app and want to set its subscription price such that the profit earned is maximised. There are certain users who will subscribe to your app only if their budget is greater than or equal to your price.\n",
    "You will be provided with a list of size N having budgets of subscribers and you need to return the maximum profit that you can earn.\n",
    "Lets say you decide that price of your app is Rs. x and there are N number of subscribers. So maximum profit you can earn is :\n",
    " m * x\n",
    "where m is total number of subscribers whose budget is greater than or equal to x.\n",
    "Input format :\n",
    "Line 1 : N (No. of subscribers)\n",
    "Line 2 : Budget of subscribers (separated by space)\n",
    "Output Format :\n",
    " Maximum profit\n",
    "Constraints :\n",
    "1 <= N <= 10^6\n",
    "1 <=budget[i]<=9999\n",
    "Sample Input 1 :\n",
    "4\n",
    "30 20 53 14\n",
    "Sample Output 1 :\n",
    "60\n",
    "Sample Output 1 Explanation :\n",
    "Price of your app should be Rs. 20 or Rs. 30. For both prices, you can get the profit Rs. 60.\n",
    "Sample Input 2 :\n",
    "5\n",
    "34 78 90 15 67\n",
    "Sample Output 2 :\n",
    "201\n",
    "Sample Output 2 Explanation :\n",
    "Price of your app should be Rs. 67. You can get the profit Rs. 201 (i.e. 3 * 67)."
   ]
  },
  {
   "cell_type": "code",
   "execution_count": 1,
   "id": "bc804afc",
   "metadata": {},
   "outputs": [
    {
     "name": "stdout",
     "output_type": "stream",
     "text": [
      "5\n",
      "3 6 9 33 99\n",
      "99\n"
     ]
    }
   ],
   "source": [
    "def maximumProfit(arr):\n",
    "    arr.sort()\n",
    "    count = 1\n",
    "    maxcost = -1\n",
    "    for i in range(len(arr)-1,-1,-1):\n",
    "        curr_cost=arr[i]*count\n",
    "        if curr_cost > maxcost:\n",
    "            maxcost = curr_cost\n",
    "        count+=1\n",
    "    return maxcost\n",
    "\n",
    "n = int(input())\n",
    "arr = [int(ele) for ele in input().split()]\n",
    "ans = maximumProfit(arr)\n",
    "print(ans)"
   ]
  }
 ],
 "metadata": {
  "kernelspec": {
   "display_name": "Python 3",
   "language": "python",
   "name": "python3"
  },
  "language_info": {
   "codemirror_mode": {
    "name": "ipython",
    "version": 3
   },
   "file_extension": ".py",
   "mimetype": "text/x-python",
   "name": "python",
   "nbconvert_exporter": "python",
   "pygments_lexer": "ipython3",
   "version": "3.8.8"
  }
 },
 "nbformat": 4,
 "nbformat_minor": 5
}
