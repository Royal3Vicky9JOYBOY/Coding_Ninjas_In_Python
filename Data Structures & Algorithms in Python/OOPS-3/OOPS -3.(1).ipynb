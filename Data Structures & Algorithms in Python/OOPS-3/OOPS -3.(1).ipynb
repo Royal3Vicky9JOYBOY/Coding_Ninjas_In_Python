{
 "cells": [
  {
   "cell_type": "markdown",
   "id": "497b58e8",
   "metadata": {},
   "source": [
    "# Custom Exception "
   ]
  },
  {
   "cell_type": "code",
   "execution_count": 12,
   "id": "934549ef",
   "metadata": {},
   "outputs": [],
   "source": [
    "class NegativeCarValue(Exception):\n",
    "    \n",
    "    def __init__(self,value,message=\"Car value can not be negative\"):\n",
    "        self.value=value\n",
    "        self.message=message                   \n",
    "        super().__init__(self.message)\n",
    "        \n",
    "    def __str__(self):\n",
    "        return f'{self.message} -->{self.value}'"
   ]
  },
  {
   "cell_type": "code",
   "execution_count": 13,
   "id": "41994c2e",
   "metadata": {},
   "outputs": [
    {
     "ename": "NegativeCarValue",
     "evalue": "Car value can not be negative -->-1",
     "output_type": "error",
     "traceback": [
      "\u001b[1;31m---------------------------------------------------------------------------\u001b[0m",
      "\u001b[1;31mNegativeCarValue\u001b[0m                          Traceback (most recent call last)",
      "\u001b[1;32m<ipython-input-13-02e2f6c2047a>\u001b[0m in \u001b[0;36m<module>\u001b[1;34m\u001b[0m\n\u001b[0;32m      1\u001b[0m \u001b[0ma\u001b[0m\u001b[1;33m=\u001b[0m\u001b[1;33m-\u001b[0m\u001b[1;36m1\u001b[0m\u001b[1;33m\u001b[0m\u001b[1;33m\u001b[0m\u001b[0m\n\u001b[0;32m      2\u001b[0m \u001b[1;32mif\u001b[0m \u001b[0ma\u001b[0m\u001b[1;33m<\u001b[0m\u001b[1;36m0\u001b[0m\u001b[1;33m:\u001b[0m\u001b[1;33m\u001b[0m\u001b[1;33m\u001b[0m\u001b[0m\n\u001b[1;32m----> 3\u001b[1;33m     \u001b[1;32mraise\u001b[0m \u001b[0mNegativeCarValue\u001b[0m\u001b[1;33m(\u001b[0m\u001b[0ma\u001b[0m\u001b[1;33m)\u001b[0m\u001b[1;33m\u001b[0m\u001b[1;33m\u001b[0m\u001b[0m\n\u001b[0m",
      "\u001b[1;31mNegativeCarValue\u001b[0m: Car value can not be negative -->-1"
     ]
    }
   ],
   "source": [
    "a=-1\n",
    "if a<0:\n",
    "    raise NegativeCarValue(a)"
   ]
  },
  {
   "cell_type": "code",
   "execution_count": 14,
   "id": "874aeac4",
   "metadata": {},
   "outputs": [],
   "source": [
    "class Vehicle():\n",
    "    def __init__(self,make,model,fuel):\n",
    "        self.make=make\n",
    "        self.model=model\n",
    "        self.fuel=fuel\n",
    "        self.current_year=2021\n",
    "        \n",
    "    def get_value(self):\n",
    "        age =self.current_year - self.model\n",
    "        \n",
    "        if age<0:\n",
    "            raise NegativeCarValue(age)\n",
    "        else:\n",
    "            return 1000*(1/age)\n",
    "    \n",
    "   "
   ]
  },
  {
   "cell_type": "code",
   "execution_count": 15,
   "id": "9750dd10",
   "metadata": {},
   "outputs": [],
   "source": [
    "myobj=Vehicle(\"Tesla\",2019,\"electric\")"
   ]
  },
  {
   "cell_type": "code",
   "execution_count": 16,
   "id": "6b0bf26b",
   "metadata": {},
   "outputs": [
    {
     "data": {
      "text/plain": [
       "500.0"
      ]
     },
     "execution_count": 16,
     "metadata": {},
     "output_type": "execute_result"
    }
   ],
   "source": [
    "myobj.get_value()"
   ]
  },
  {
   "cell_type": "code",
   "execution_count": 17,
   "id": "5de5d9b1",
   "metadata": {},
   "outputs": [],
   "source": [
    "myobj=Vehicle(\"Tesla\",2023,\"electric\")"
   ]
  },
  {
   "cell_type": "code",
   "execution_count": 18,
   "id": "3634fc75",
   "metadata": {},
   "outputs": [
    {
     "ename": "NegativeCarValue",
     "evalue": "Car value can not be negative -->-2",
     "output_type": "error",
     "traceback": [
      "\u001b[1;31m---------------------------------------------------------------------------\u001b[0m",
      "\u001b[1;31mNegativeCarValue\u001b[0m                          Traceback (most recent call last)",
      "\u001b[1;32m<ipython-input-18-bea87a96a623>\u001b[0m in \u001b[0;36m<module>\u001b[1;34m\u001b[0m\n\u001b[1;32m----> 1\u001b[1;33m \u001b[0mmyobj\u001b[0m\u001b[1;33m.\u001b[0m\u001b[0mget_value\u001b[0m\u001b[1;33m(\u001b[0m\u001b[1;33m)\u001b[0m\u001b[1;33m\u001b[0m\u001b[1;33m\u001b[0m\u001b[0m\n\u001b[0m",
      "\u001b[1;32m<ipython-input-14-1e95539a509f>\u001b[0m in \u001b[0;36mget_value\u001b[1;34m(self)\u001b[0m\n\u001b[0;32m     10\u001b[0m \u001b[1;33m\u001b[0m\u001b[0m\n\u001b[0;32m     11\u001b[0m         \u001b[1;32mif\u001b[0m \u001b[0mage\u001b[0m\u001b[1;33m<\u001b[0m\u001b[1;36m0\u001b[0m\u001b[1;33m:\u001b[0m\u001b[1;33m\u001b[0m\u001b[1;33m\u001b[0m\u001b[0m\n\u001b[1;32m---> 12\u001b[1;33m             \u001b[1;32mraise\u001b[0m \u001b[0mNegativeCarValue\u001b[0m\u001b[1;33m(\u001b[0m\u001b[0mage\u001b[0m\u001b[1;33m)\u001b[0m\u001b[1;33m\u001b[0m\u001b[1;33m\u001b[0m\u001b[0m\n\u001b[0m\u001b[0;32m     13\u001b[0m         \u001b[1;32melse\u001b[0m\u001b[1;33m:\u001b[0m\u001b[1;33m\u001b[0m\u001b[1;33m\u001b[0m\u001b[0m\n\u001b[0;32m     14\u001b[0m             \u001b[1;32mreturn\u001b[0m \u001b[1;36m1000\u001b[0m\u001b[1;33m*\u001b[0m\u001b[1;33m(\u001b[0m\u001b[1;36m1\u001b[0m\u001b[1;33m/\u001b[0m\u001b[0mage\u001b[0m\u001b[1;33m)\u001b[0m\u001b[1;33m\u001b[0m\u001b[1;33m\u001b[0m\u001b[0m\n",
      "\u001b[1;31mNegativeCarValue\u001b[0m: Car value can not be negative -->-2"
     ]
    }
   ],
   "source": [
    "myobj.get_value()"
   ]
  },
  {
   "cell_type": "code",
   "execution_count": 19,
   "id": "b6e9453b",
   "metadata": {},
   "outputs": [
    {
     "ename": "ZeroDenominatorError",
     "evalue": "",
     "output_type": "error",
     "traceback": [
      "\u001b[1;31m---------------------------------------------------------------------------\u001b[0m",
      "\u001b[1;31mZeroDenominatorError\u001b[0m                      Traceback (most recent call last)",
      "\u001b[1;32m<ipython-input-19-c9ebb5ac2a06>\u001b[0m in \u001b[0;36m<module>\u001b[1;34m\u001b[0m\n\u001b[0;32m      5\u001b[0m     \u001b[0mb\u001b[0m \u001b[1;33m=\u001b[0m \u001b[1;36m0\u001b[0m\u001b[1;33m\u001b[0m\u001b[1;33m\u001b[0m\u001b[0m\n\u001b[0;32m      6\u001b[0m     \u001b[1;32mif\u001b[0m\u001b[1;33m(\u001b[0m\u001b[0mb\u001b[0m\u001b[1;33m==\u001b[0m\u001b[1;36m0\u001b[0m\u001b[1;33m)\u001b[0m\u001b[1;33m:\u001b[0m\u001b[1;33m\u001b[0m\u001b[1;33m\u001b[0m\u001b[0m\n\u001b[1;32m----> 7\u001b[1;33m         \u001b[1;32mraise\u001b[0m \u001b[0mZeroDenominatorError\u001b[0m\u001b[1;33m(\u001b[0m\u001b[1;33m)\u001b[0m\u001b[1;33m\u001b[0m\u001b[1;33m\u001b[0m\u001b[0m\n\u001b[0m\u001b[0;32m      8\u001b[0m     \u001b[0mc\u001b[0m \u001b[1;33m=\u001b[0m \u001b[0ma\u001b[0m\u001b[1;33m/\u001b[0m\u001b[0mb\u001b[0m\u001b[1;33m\u001b[0m\u001b[1;33m\u001b[0m\u001b[0m\n\u001b[0;32m      9\u001b[0m \u001b[1;32mexcept\u001b[0m \u001b[0mZeroDivisionError\u001b[0m\u001b[1;33m:\u001b[0m\u001b[1;33m\u001b[0m\u001b[1;33m\u001b[0m\u001b[0m\n",
      "\u001b[1;31mZeroDenominatorError\u001b[0m: "
     ]
    }
   ],
   "source": [
    "class ZeroDenominatorError(Exception):\n",
    "    pass\n",
    "try:\n",
    "    a = 10\n",
    "    b = 0\n",
    "    if(b==0):\n",
    "        raise ZeroDenominatorError() \n",
    "    c = a/b\n",
    "except ZeroDivisionError:\n",
    "    print('Zero Division Error occured')"
   ]
  },
  {
   "cell_type": "markdown",
   "id": "f791dade",
   "metadata": {},
   "source": [
    "# Except Functionality"
   ]
  },
  {
   "cell_type": "code",
   "execution_count": 22,
   "id": "ccc3f3a2",
   "metadata": {},
   "outputs": [],
   "source": [
    "class NegativeCarValue(Exception):\n",
    "    \n",
    "    def __init__(self,value,message=\"Car value can not be negative\"):\n",
    "        self.value=value\n",
    "        self.message=message                   \n",
    "        super().__init__(self.message)\n",
    "        \n",
    "    def __str__(self):\n",
    "        return f'{self.message} -->{self.value}'"
   ]
  },
  {
   "cell_type": "code",
   "execution_count": 26,
   "id": "b6e1d65c",
   "metadata": {},
   "outputs": [],
   "source": [
    "class Vehicle():\n",
    "    def __init__(self,make,model,fuel):\n",
    "        self.make=make\n",
    "        self.model=model\n",
    "        self.fuel=fuel\n",
    "        self.current_year=2021\n",
    "        \n",
    "    def get_value(self):\n",
    "        age =self.current_year - self.model\n",
    "        try:\n",
    "            if age<0:\n",
    "                raise NegativeCarValue(age)\n",
    "            else:\n",
    "                return 1000*(1/age)\n",
    "            \n",
    "        except NegativeCarValue as e:\n",
    "            print(\"Error ****\",e)\n",
    "        \n",
    "        \n",
    "    "
   ]
  },
  {
   "cell_type": "code",
   "execution_count": 27,
   "id": "4ac3bbee",
   "metadata": {},
   "outputs": [],
   "source": [
    "myobj=Vehicle(\"Tesla\",2023,\"electric\")"
   ]
  },
  {
   "cell_type": "code",
   "execution_count": 28,
   "id": "08479d81",
   "metadata": {},
   "outputs": [
    {
     "name": "stdout",
     "output_type": "stream",
     "text": [
      "Error **** Car value can not be negative -->-2\n"
     ]
    }
   ],
   "source": [
    "myobj.get_value()"
   ]
  },
  {
   "cell_type": "code",
   "execution_count": 29,
   "id": "c48a4bb7",
   "metadata": {},
   "outputs": [
    {
     "name": "stdout",
     "output_type": "stream",
     "text": [
      "Zero Division Error occured\n"
     ]
    }
   ],
   "source": [
    "class ZeroDenominatorError(ZeroDivisionError):\n",
    "    pass\n",
    "try:\n",
    "    a = 10\n",
    "    b = 0\n",
    "    if(b==0):\n",
    "        raise ZeroDenominatorError()\n",
    "    c = a/b\n",
    "except ZeroDivisionError:\n",
    "    print('Zero Division Error occured')\n",
    "except ZeroDenominatorError:\n",
    "    print('Zero Denominator Error occured')"
   ]
  },
  {
   "cell_type": "markdown",
   "id": "835bd536",
   "metadata": {},
   "source": [
    "# Else And Finally"
   ]
  },
  {
   "cell_type": "code",
   "execution_count": null,
   "id": "c2902ea8",
   "metadata": {},
   "outputs": [],
   "source": [
    "class NegativeZeroModelYear(Exception):\n",
    "     # Expcetion if the car value comes out as negative\n",
    "    def __init__(self,value,message=\"model year can not be equal or greater than 2021\"):\n",
    "        self.value=value\n",
    "        self.message=message                   \n",
    "        super().__init__(self.message)\n",
    "        \n",
    "    def __str__(self):\n",
    "        return f'{self.message} -->{self.value}'\n",
    "    \n",
    "class CarModelYearAsString(Exception):\n",
    "    \n",
    "    def __init__(self,value,message=\"model year can not be strings.Try passing int values\"):\n",
    "        self.value=value\n",
    "        self.message=message                   \n",
    "        super().__init__(self.message)\n",
    "        \n",
    "    def __str__(self):\n",
    "        return f'{self.message} -->{self.value}'"
   ]
  },
  {
   "cell_type": "code",
   "execution_count": 33,
   "id": "033714d1",
   "metadata": {},
   "outputs": [],
   "source": [
    "class Vehicle():\n",
    "    def __init__(self,make,model,fuel):\n",
    "        self.make=make\n",
    "        self.model=model\n",
    "        self.fuel=fuel\n",
    "        self.current_year=2021\n",
    "        self.value=None\n",
    "        \n",
    "    def get_value(self):\n",
    "        try:\n",
    "            if type(self.model)==str:\n",
    "                status=\"Custom\"\n",
    "                raise CarModelYearAsString(self.model)\n",
    "            elif self.model >= self.current_year:\n",
    "                status=\"custom\"\n",
    "                raise NegativeZeroModelYear(self.model)\n",
    "            else:\n",
    "                self.age=self.current_year - self.model\n",
    "                self.value= 1000*(1/self.age)\n",
    "                status=\"success\"\n",
    "        except TypeError:\n",
    "                self.age=self.current_year - int(self.model)\n",
    "                self.value= 1000*(1/self.age)\n",
    "                status=\"inbuilt\"\n",
    "                \n",
    "        else:\n",
    "            print(\"code ran without any exception\")\n",
    "        \n",
    "        finally:\n",
    "            if status ==\"custom\":\n",
    "                print(\"code has inbuilt exceptions,please rectify that\")\n",
    "            elif status == \"inbuilt\":\n",
    "                print(\"code has inbuilt exceptions,please rectify that\")\n",
    "            else:\n",
    "                print(\"The value without any exception-\",self.value)\n",
    "            \n",
    "                \n",
    "        "
   ]
  },
  {
   "cell_type": "code",
   "execution_count": 34,
   "id": "58238222",
   "metadata": {},
   "outputs": [
    {
     "name": "stdout",
     "output_type": "stream",
     "text": [
      "code ran without any exception\n",
      "The value without any exception- 500.0\n"
     ]
    }
   ],
   "source": [
    "myobj=Vehicle(\"Tesla\",2019,\"electric\")\n",
    "myobj.get_value()"
   ]
  },
  {
   "cell_type": "code",
   "execution_count": 35,
   "id": "2033b3cf",
   "metadata": {},
   "outputs": [
    {
     "name": "stdout",
     "output_type": "stream",
     "text": [
      "Zero Division Error occured "
     ]
    }
   ],
   "source": [
    "class ZeroDenominatorError(ZeroDivisionError):\n",
    "    pass\n",
    "try:\n",
    "    a = 10\n",
    "    b = 0\n",
    "    if(b==0):\n",
    "        raise ZeroDenominatorError()\n",
    "    c = a/b\n",
    "except ZeroDivisionError:\n",
    "    print('Zero Division Error occured',end= \" \")\n",
    "except ZeroDenominatorError:\n",
    "    print('Zero Denominator Error occured',end = \" \")\n",
    "else:\n",
    "    print('else works')"
   ]
  },
  {
   "cell_type": "code",
   "execution_count": 36,
   "id": "e9a19069",
   "metadata": {},
   "outputs": [
    {
     "name": "stdout",
     "output_type": "stream",
     "text": [
      "else works\n"
     ]
    }
   ],
   "source": [
    "class ZeroDenominatorError(ZeroDivisionError):\n",
    "    pass\n",
    "try:\n",
    "    a = 10\n",
    "    b = 5\n",
    "    if(b==0):\n",
    "        raise ZeroDenominatorError()\n",
    "    c = a/b\n",
    "except ZeroDivisionError:\n",
    "    print('Zero Division Error occured',end= ' ')\n",
    "except ZeroDenominatorError:\n",
    "    print('Zero Denominator Error occured',end = ' ')\n",
    "else:\n",
    "    print('else works')"
   ]
  },
  {
   "cell_type": "code",
   "execution_count": 37,
   "id": "a510944f",
   "metadata": {},
   "outputs": [
    {
     "name": "stdout",
     "output_type": "stream",
     "text": [
      "else works finally works\n"
     ]
    }
   ],
   "source": [
    "class ZeroDenominatorError(ZeroDivisionError):\n",
    "    pass\n",
    "try:\n",
    "    a = 10\n",
    "    b = 5\n",
    "    if(b==0):\n",
    "        raise ZeroDenominatorError()\n",
    "    c = a/b\n",
    "except ZeroDivisionError:\n",
    "    print('Zero Division Error occured',end= ' ')\n",
    "except ZeroDenominatorError:\n",
    "    print('Zero Denominator Error occured',end = ' ')\n",
    "else:\n",
    "    print(\"else works\",end=' ')\n",
    "finally:\n",
    "    print('finally works')"
   ]
  }
 ],
 "metadata": {
  "kernelspec": {
   "display_name": "Python 3",
   "language": "python",
   "name": "python3"
  },
  "language_info": {
   "codemirror_mode": {
    "name": "ipython",
    "version": 3
   },
   "file_extension": ".py",
   "mimetype": "text/x-python",
   "name": "python",
   "nbconvert_exporter": "python",
   "pygments_lexer": "ipython3",
   "version": "3.8.8"
  }
 },
 "nbformat": 4,
 "nbformat_minor": 5
}
