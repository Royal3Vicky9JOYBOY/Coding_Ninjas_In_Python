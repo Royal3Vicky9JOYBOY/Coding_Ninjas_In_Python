{
 "cells": [
  {
   "cell_type": "markdown",
   "id": "ce7da689",
   "metadata": {},
   "source": [
    "# Intro To Linked List"
   ]
  },
  {
   "cell_type": "markdown",
   "id": "db4d5766",
   "metadata": {},
   "source": [
    "Node {  \n",
    "    \n",
    "    1.Data\n",
    "    \n",
    "    2.reference to next node\n",
    "    \n",
    "}\n",
    "\n",
    "1st node is Head\n",
    "\n",
    "last node is Tail"
   ]
  },
  {
   "cell_type": "markdown",
   "id": "ceb61aa2",
   "metadata": {},
   "source": [
    "# Linked List Node"
   ]
  },
  {
   "cell_type": "markdown",
   "id": "18633e62",
   "metadata": {},
   "source": [
    "Node Class"
   ]
  },
  {
   "cell_type": "code",
   "execution_count": 6,
   "id": "c3e18372",
   "metadata": {},
   "outputs": [
    {
     "name": "stdout",
     "output_type": "stream",
     "text": [
      "13\n",
      "15\n",
      "15\n",
      "<__main__.Node object at 0x0000017AE39D41F0>\n",
      "<__main__.Node object at 0x0000017AE39D4070>\n",
      "<__main__.Node object at 0x0000017AE39D4070>\n"
     ]
    }
   ],
   "source": [
    "class Node:\n",
    "    \n",
    "    def __init__(self,data):\n",
    "        self.data=data\n",
    "        self.next=None\n",
    "        \n",
    "a = Node(13)\n",
    "b = Node(15)\n",
    "a.next=b\n",
    "print(a.data)\n",
    "print(b.data)\n",
    "print(a.next.data)\n",
    "print(a)\n",
    "print(a.next)\n",
    "print(b)"
   ]
  },
  {
   "cell_type": "code",
   "execution_count": 7,
   "id": "4405e60e",
   "metadata": {},
   "outputs": [
    {
     "ename": "AttributeError",
     "evalue": "'NoneType' object has no attribute 'data'",
     "output_type": "error",
     "traceback": [
      "\u001b[1;31m---------------------------------------------------------------------------\u001b[0m",
      "\u001b[1;31mAttributeError\u001b[0m                            Traceback (most recent call last)",
      "\u001b[1;32m<ipython-input-7-03089b2b99ab>\u001b[0m in \u001b[0;36m<module>\u001b[1;34m\u001b[0m\n\u001b[0;32m     14\u001b[0m \u001b[1;31m# print(a.next)\u001b[0m\u001b[1;33m\u001b[0m\u001b[1;33m\u001b[0m\u001b[1;33m\u001b[0m\u001b[0m\n\u001b[0;32m     15\u001b[0m \u001b[1;31m# print(b)\u001b[0m\u001b[1;33m\u001b[0m\u001b[1;33m\u001b[0m\u001b[1;33m\u001b[0m\u001b[0m\n\u001b[1;32m---> 16\u001b[1;33m \u001b[0mprint\u001b[0m\u001b[1;33m(\u001b[0m\u001b[0mb\u001b[0m\u001b[1;33m.\u001b[0m\u001b[0mnext\u001b[0m\u001b[1;33m.\u001b[0m\u001b[0mdata\u001b[0m\u001b[1;33m)\u001b[0m\u001b[1;33m\u001b[0m\u001b[1;33m\u001b[0m\u001b[0m\n\u001b[0m",
      "\u001b[1;31mAttributeError\u001b[0m: 'NoneType' object has no attribute 'data'"
     ]
    }
   ],
   "source": [
    "class Node:\n",
    "    \n",
    "    def __init__(self,data):\n",
    "        self.data=data\n",
    "        self.next=None\n",
    "        \n",
    "a = Node(13)\n",
    "b = Node(15)\n",
    "a.next=b\n",
    "# print(a.data)\n",
    "# print(b.data)\n",
    "# print(a.next.data)\n",
    "# print(a)\n",
    "# print(a.next)\n",
    "# print(b)\n",
    "print(b.next.data)"
   ]
  },
  {
   "cell_type": "code",
   "execution_count": 8,
   "id": "1a04e201",
   "metadata": {},
   "outputs": [
    {
     "name": "stdout",
     "output_type": "stream",
     "text": [
      "20 10 "
     ]
    }
   ],
   "source": [
    "class Node:\n",
    "    def __init__(self, data):\n",
    "        self.data = data\n",
    "        self.next = None\n",
    "def printLL(head):\n",
    "    while head is not None:\n",
    "        print(head.data,end=\" \")\n",
    "        head = head.next\n",
    "\n",
    "\n",
    "\n",
    "node1 = Node(10)\n",
    "node2 = Node(20)\n",
    "node2.next = node1\n",
    "printLL(node2)\n"
   ]
  },
  {
   "cell_type": "code",
   "execution_count": 9,
   "id": "c5434a96",
   "metadata": {},
   "outputs": [
    {
     "name": "stdout",
     "output_type": "stream",
     "text": [
      "20 30 40 "
     ]
    }
   ],
   "source": [
    "class Node:\n",
    "    def __init__(self, data):\n",
    "        self.data = data\n",
    "        self.next = None\n",
    "def printLL(head):\n",
    "    while head is not None:\n",
    "        print(head.data,end=\" \")\n",
    "        head = head.next\n",
    "\n",
    "\n",
    "\n",
    "node1 = Node(10)\n",
    "node2 = Node(20)\n",
    "node3 = Node(30)\n",
    "node4 = Node(40)\n",
    "node1.next = node2\n",
    "node2.next = node3\n",
    "node3.next = node4\n",
    "printLL(node2)"
   ]
  },
  {
   "cell_type": "markdown",
   "id": "9b91f6c8",
   "metadata": {},
   "source": [
    "# Linked List Input - 1"
   ]
  },
  {
   "cell_type": "code",
   "execution_count": null,
   "id": "906b5edc",
   "metadata": {},
   "outputs": [],
   "source": [
    "class Node:\n",
    "    def __init__(self,data):\n",
    "        self.data=data\n",
    "        self.next=None\n",
    "def takeInput():\n",
    "    \n",
    "    inputList=[int(ele) for ele in input().split()]\n",
    "    head=None\n",
    "    for currData in inputList:\n",
    "        if cuurData==-1:\n",
    "            break\n",
    "            \n",
    "        newNode=Node(currData)\n",
    "        if head is None:\n",
    "            head=newNode\n",
    "        else:\n",
    "            curr = head\n",
    "            while curr.next is not None\n",
    "                curr=curr.next\n",
    "            curr.next=newNode\n",
    "        \n",
    "    return head\n",
    "        \n",
    "    \n",
    "head=takeInput()"
   ]
  },
  {
   "cell_type": "markdown",
   "id": "32cc3c1d",
   "metadata": {},
   "source": [
    "# Print Linked List"
   ]
  },
  {
   "cell_type": "code",
   "execution_count": 2,
   "id": "bbadcd5b",
   "metadata": {},
   "outputs": [
    {
     "name": "stdout",
     "output_type": "stream",
     "text": [
      "1 2 3 4 5 6 -1\n",
      "1-> 2-> 3-> 4-> 5-> 6-> None\n",
      "1-> 2-> 3-> 4-> 5-> 6-> None\n"
     ]
    }
   ],
   "source": [
    "class Node:\n",
    "    def __init__(self,data):\n",
    "        self.data=data\n",
    "        self.next=None\n",
    "def printLL(head):\n",
    "    while head is not None:\n",
    "        print(str(head.data) + \"->\",end=\" \")\n",
    "        head=head.next\n",
    "    print(\"None\")\n",
    "    return\n",
    "def takeInput():\n",
    "    \n",
    "    inputList=[int(ele) for ele in input().split()]\n",
    "    head=None\n",
    "    for currData in inputList:\n",
    "        if currData==-1:\n",
    "            break\n",
    "            \n",
    "        newNode=Node(currData)\n",
    "        if head is None:\n",
    "            head=newNode\n",
    "        else:\n",
    "            curr = head\n",
    "            while curr.next is not None:\n",
    "                curr=curr.next\n",
    "            curr.next=newNode\n",
    "        \n",
    "    return head\n",
    "        \n",
    "    \n",
    "head=takeInput()\n",
    "printLL(head)\n",
    "printLL(head)"
   ]
  },
  {
   "cell_type": "markdown",
   "id": "723049aa",
   "metadata": {},
   "source": [
    "# Time Complexity of Taking Input"
   ]
  },
  {
   "cell_type": "markdown",
   "id": "21fc5d18",
   "metadata": {},
   "source": [
    "# Linked List Input - 2"
   ]
  },
  {
   "cell_type": "markdown",
   "id": "f615c202",
   "metadata": {},
   "source": [
    "Optimized Way of Taking Input"
   ]
  },
  {
   "cell_type": "markdown",
   "id": "0cf5d1e2",
   "metadata": {},
   "source": [
    "O(1)\n",
    "\n",
    "Tail.next=new Node\n",
    "\n",
    "Tail=new Node\n",
    "\n",
    "Time Complexity O(n)"
   ]
  },
  {
   "cell_type": "code",
   "execution_count": 4,
   "id": "c37aec6f",
   "metadata": {},
   "outputs": [
    {
     "name": "stdout",
     "output_type": "stream",
     "text": [
      "1 2 3 4 5 6 -1\n",
      "1-> 2-> 3-> 4-> 5-> 6-> None\n"
     ]
    }
   ],
   "source": [
    "class Node:\n",
    "    def __init__(self,data):\n",
    "        self.data=data\n",
    "        self.next=None\n",
    "def printLL(head):\n",
    "    while head is not None:\n",
    "        print(str(head.data) + \"->\",end=\" \")\n",
    "        head=head.next\n",
    "    print(\"None\")\n",
    "    return\n",
    "def takeInput():\n",
    "    \n",
    "    inputList=[int(ele) for ele in input().split()]\n",
    "    head=None\n",
    "    tail=None\n",
    "    for currData in inputList:\n",
    "        if currData==-1:\n",
    "            break\n",
    "            \n",
    "        newNode=Node(currData)\n",
    "        if head is None:\n",
    "            head=newNode           # O(1) Order of  1 step\n",
    "            tail=newNode\n",
    "        else:\n",
    "            tail.next=newNode\n",
    "            tail=newNode\n",
    "        \n",
    "    return head\n",
    "        \n",
    "    \n",
    "head=takeInput()\n",
    "printLL(head)\n",
    "# printLL(head)"
   ]
  },
  {
   "cell_type": "code",
   "execution_count": 5,
   "id": "e9f2fbcc",
   "metadata": {},
   "outputs": [
    {
     "name": "stdout",
     "output_type": "stream",
     "text": [
      "11 21 "
     ]
    }
   ],
   "source": [
    "class Node:\n",
    "    def __init__(self, data):\n",
    "        self.data = data\n",
    "        self.next = None\n",
    "\n",
    "def printLL(head):\n",
    "    while head is not None:\n",
    "        print(head.data,end=\" \")\n",
    "        head = head.next\n",
    "\n",
    "def increment(head):\n",
    "     temp = head\n",
    "     while temp is not None:\n",
    "        temp.data +=1\n",
    "        temp = temp.next\n",
    "\n",
    "\n",
    "\n",
    "node1 = Node(10)\n",
    "node2 = Node(20)\n",
    "node1.next = node2\n",
    "increment(node1)\n",
    "printLL(node1)\n"
   ]
  },
  {
   "cell_type": "markdown",
   "id": "a950e5cb",
   "metadata": {},
   "source": [
    "# Insert At Ith Position - Iteratively"
   ]
  },
  {
   "cell_type": "markdown",
   "id": "ebc97385",
   "metadata": {},
   "source": [
    "2.prev.next=newNode # If prev is None  do different thing(head=newNode) [Else  do prev.next=newNode,newNode.next=curr,return head\n",
    "\n",
    "3.newNode.next=curr\n",
    "\n",
    "1.newnode\n"
   ]
  },
  {
   "cell_type": "markdown",
   "id": "ac518e83",
   "metadata": {},
   "source": [
    "# Insert At Ith Position Code - Iteratively"
   ]
  },
  {
   "cell_type": "code",
   "execution_count": 7,
   "id": "b95753a5",
   "metadata": {},
   "outputs": [
    {
     "name": "stdout",
     "output_type": "stream",
     "text": [
      "1 2 3 4 5 -1\n",
      "1-> 2-> 3-> 4-> 5-> None\n",
      "1-> 2-> 6-> 3-> 4-> 5-> None\n",
      "9-> 1-> 2-> 6-> 3-> 4-> 5-> None\n",
      "9-> 1-> 2-> 6-> 3-> 4-> 5-> 10-> None\n"
     ]
    }
   ],
   "source": [
    "class Node:\n",
    "    def __init__(self,data):\n",
    "        self.data=data\n",
    "        self.next=None\n",
    "def printLL(head):\n",
    "    while head is not None:\n",
    "        print(str(head.data) + \"->\",end=\" \")\n",
    "        head=head.next\n",
    "    print(\"None\")\n",
    "    return\n",
    "def length(head):\n",
    "    count=0\n",
    "    while head is not None:\n",
    "        count=count+1\n",
    "        head=head.next\n",
    "    return count\n",
    "def insertAtI(head,i,data):\n",
    "    \n",
    "    if i<0 or i>length(head):\n",
    "        return head\n",
    "    count=0\n",
    "    prev=None\n",
    "    curr=head\n",
    "    while count<i:\n",
    "        \n",
    "        prev=curr\n",
    "        curr=curr.next\n",
    "        count=count+1\n",
    "        \n",
    "    newNode=Node(data)\n",
    "    if prev is not None:\n",
    "        prev.next=newNode\n",
    "    else:\n",
    "        head=newNode\n",
    "    newNode.next=curr\n",
    "    \n",
    "    return head\n",
    "    \n",
    "    \n",
    "    \n",
    "def takeInput():\n",
    "    \n",
    "    inputList=[int(ele) for ele in input().split()]\n",
    "    head=None\n",
    "    tail=None\n",
    "    for currData in inputList:\n",
    "        if currData==-1:\n",
    "            break\n",
    "            \n",
    "        newNode=Node(currData)\n",
    "        if head is None:\n",
    "            head=newNode           \n",
    "            tail=newNode\n",
    "        else:\n",
    "            tail.next=newNode\n",
    "            tail=newNode\n",
    "        \n",
    "    return head\n",
    "        \n",
    "    \n",
    "head=takeInput()\n",
    "printLL(head)\n",
    "head=insertAtI(head,2,6)\n",
    "printLL(head)\n",
    "head=insertAtI(head,0,9)\n",
    "printLL(head)\n",
    "head=insertAtI(head,7,10)\n",
    "printLL(head)"
   ]
  },
  {
   "cell_type": "markdown",
   "id": "92bab626",
   "metadata": {},
   "source": [
    "# Insert At Ith Position-Recursively"
   ]
  },
  {
   "cell_type": "markdown",
   "id": "d6222635",
   "metadata": {},
   "source": [
    "newNode=Node(data)\n",
    "\n",
    "newNode.next=head\n",
    "\n",
    "return newNode\n",
    "\n",
    "smallhead=insert(head.next,i-1,data)\n",
    "\n",
    "head.next=smallhead\n",
    "\n",
    "return head"
   ]
  },
  {
   "cell_type": "markdown",
   "id": "5d158eeb",
   "metadata": {},
   "source": [
    " # Insert At Ith Position-Recursively(Code)"
   ]
  },
  {
   "cell_type": "code",
   "execution_count": 16,
   "id": "a8db3fde",
   "metadata": {},
   "outputs": [
    {
     "name": "stdout",
     "output_type": "stream",
     "text": [
      "1 2 3 4 5 -1\n",
      "1-> 2-> 3-> 4-> 5-> None\n",
      "1-> 2-> 6-> 3-> 4-> 5-> None\n",
      "9-> 1-> 2-> 6-> 3-> 4-> 5-> None\n",
      "9-> 1-> 2-> 6-> 3-> 4-> 5-> 10-> None\n"
     ]
    }
   ],
   "source": [
    "class Node:\n",
    "    def __init__(self,data):\n",
    "        self.data=data\n",
    "        self.next=None\n",
    "def printLL(head):\n",
    "    while head is not None:\n",
    "        print(str(head.data) + \"->\",end=\" \")\n",
    "        head=head.next\n",
    "    print(\"None\")\n",
    "    return\n",
    "def length(head):\n",
    "    count=0\n",
    "    while head is not None:\n",
    "        count=count+1\n",
    "        head=head.next\n",
    "        \n",
    "    return count \n",
    "\n",
    "def insertAtIR(head,i,data):\n",
    "    if i<0:\n",
    "        return head\n",
    "\n",
    "    if i==0:\n",
    "        newNode=Node(data)\n",
    "        newNode.next=head\n",
    "        return newNode\n",
    "    \n",
    "    if head is None:\n",
    "        return None\n",
    "    \n",
    "    smallHead=insertAtIR(head.next,i-1,data)\n",
    "    head.next=smallHead\n",
    "    return head\n",
    "\n",
    "def insertAtI(head,i,data):\n",
    "    \n",
    "    if i<0 or i>length(head):\n",
    "        return head\n",
    "    count=0\n",
    "    prev=None\n",
    "    curr=head\n",
    "    while count<i:\n",
    "        \n",
    "        prev=curr\n",
    "        curr=curr.next\n",
    "        count=count+1\n",
    "        \n",
    "    newNode=Node(data)\n",
    "    if prev is not None:\n",
    "        prev.next=newNode\n",
    "    else:\n",
    "        head=newNode\n",
    "    newNode.next=curr\n",
    "    \n",
    "    return head\n",
    "    \n",
    "    \n",
    "    \n",
    "def takeInput():\n",
    "    \n",
    "    inputList=[int(ele) for ele in input().split()]\n",
    "    head=None\n",
    "    tail=None\n",
    "    for currData in inputList:\n",
    "        if currData==-1:\n",
    "            break\n",
    "            \n",
    "        newNode=Node(currData)\n",
    "        if head is None:\n",
    "            head=newNode           \n",
    "            tail=newNode\n",
    "        else:\n",
    "            tail.next=newNode\n",
    "            tail=newNode\n",
    "        \n",
    "    return head\n",
    "        \n",
    "    \n",
    "head=takeInput()\n",
    "printLL(head)\n",
    "head=insertAtIR(head,2,6)\n",
    "printLL(head)\n",
    "head=insertAtIR(head,0,9)\n",
    "printLL(head)\n",
    "head=insertAtIR(head,7,10)\n",
    "printLL(head)"
   ]
  },
  {
   "cell_type": "markdown",
   "id": "c942ef6c",
   "metadata": {},
   "source": [
    "# Complexity Of Insertion"
   ]
  },
  {
   "cell_type": "markdown",
   "id": "e4d12a51",
   "metadata": {},
   "source": [
    "# Search in LL\n",
    "\n",
    "What will be the time complexity of searching an element in the linked list ? \n",
    "\n",
    "ANS:O(n)"
   ]
  },
  {
   "cell_type": "markdown",
   "id": "98e3fc19",
   "metadata": {},
   "source": [
    "# Add element at last\n",
    "\n",
    "Consider the Singly linked list having n elements. What will be the time taken to add an node at the end of linked list if is initially pointing to first node of the list.\n",
    "That is only head is given to you.\n",
    "\n",
    "ANS:O(n)"
   ]
  },
  {
   "cell_type": "markdown",
   "id": "1909857c",
   "metadata": {},
   "source": [
    "# Insert at 2nd position\n",
    "\n",
    "There is reference (or pointer) to first Node of the Linked List, then time required to insert element to second position is __________.\n",
    "Indexing starts from 0.\n",
    "\n",
    "ANS:O(1)"
   ]
  },
  {
   "cell_type": "markdown",
   "id": "17b59803",
   "metadata": {},
   "source": [
    "# Operations in O(1)\n",
    "\n",
    "Given an unsorted singly Linked List, suppose you have reference (or pointer) to its head node only, which of the following operation can be implemented in O(1) time?\n",
    "\n",
    "i)   Insertion at the front of the linked list\n",
    "\n",
    "ii)  Insertion at the end of the linked list\n",
    "\n",
    "iii) Deletion of the last node of the linked list\n",
    "\n",
    "iv)  Deletion of the front node of the linked list\n",
    "\n",
    "ANS: 1 and 4"
   ]
  },
  {
   "cell_type": "markdown",
   "id": "bacbcfd8",
   "metadata": {},
   "source": [
    "# Operations in O(1)\n",
    "\n",
    "Given an unsorted singly Linked List, suppose you have references (or pointer) to its head and tail nodes, which of the following operation can be implemented in O(1) time?\n",
    "\n",
    "i)   Insertion at the front of the linked list\n",
    "\n",
    "ii)  Insertion at the end of the linked list\n",
    "\n",
    "iii) Deletion of the last node of the linked list\n",
    "\n",
    "iv)  Deletion of the front node of the linked list\n",
    "\n",
    "ANS:1,2 and 4"
   ]
  }
 ],
 "metadata": {
  "kernelspec": {
   "display_name": "Python 3",
   "language": "python",
   "name": "python3"
  },
  "language_info": {
   "codemirror_mode": {
    "name": "ipython",
    "version": 3
   },
   "file_extension": ".py",
   "mimetype": "text/x-python",
   "name": "python",
   "nbconvert_exporter": "python",
   "pygments_lexer": "ipython3",
   "version": "3.8.8"
  }
 },
 "nbformat": 4,
 "nbformat_minor": 5
}
