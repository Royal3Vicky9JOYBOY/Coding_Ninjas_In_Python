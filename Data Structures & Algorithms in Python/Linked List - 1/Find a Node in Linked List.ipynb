{
 "cells": [
  {
   "cell_type": "markdown",
   "id": "7ccd439c",
   "metadata": {},
   "source": [
    "# Find a Node in Linked List\n",
    "Send Feedback\n",
    "You have been given a singly linked list of integers. Write a function that returns the index/position of integer data denoted by 'N' (if it exists). Return -1 otherwise.\n",
    "Note :\n",
    "Assume that the Indexing for the singly linked list always starts from 0.\n",
    "Input format :\n",
    "The first line contains an Integer 'T' which denotes the number of test cases. \n",
    "\n",
    "The first line of each test case or query contains the elements of the singly linked list separated by a single space. \n",
    "\n",
    "The second line contains the integer value 'N'. It denotes the data to be searched in the given singly linked list.\n",
    "Remember/Consider :\n",
    "While specifying the list elements for input, -1 indicates the end of the singly linked list and hence -1 would never be a list element.\n",
    "Output format :\n",
    "For each test case, return the index/position of 'N' in the singly linked list. Return -1, otherwise.\n",
    "\n",
    "Output for every test case will be printed in a separate line.\n",
    "Note:\n",
    "You do not need to print anything; it has already been taken care of. Just implement the given function.\n",
    " Constraints :\n",
    "1 <= T <= 10^2\n",
    "0 <= M <= 10^5\n",
    "\n",
    "Where 'M' is the size of the singly linked list.\n",
    "\n",
    "Time Limit: 1 sec\n",
    "Sample Input 1 :\n",
    "2\n",
    "3 4 5 2 6 1 9 -1\n",
    "5\n",
    "10 20 30 40 50 60 70 -1\n",
    "6\n",
    "Sample Output 1 :\n",
    "2\n",
    "-1\n",
    " Explanation for Sample Output 1:\n",
    "In test case 1, 'N' = 5 appears at position 2 (0-based indexing) in the given linked list.\n",
    "\n",
    "In test case 2, we can see that 'N' = 6 is not present in the given linked list.\n",
    "Sample Input 2 :\n",
    "2\n",
    "1 -1\n",
    "2\n",
    "3 4 5 2 6 1 9 -1\n",
    "6\n",
    "Sample Output 2 :\n",
    "-1\n",
    "4\n",
    " Explanation for Sample Output 2:\n",
    "In test case 1, we can see that 'N' = 2 is not present in the given linked list.\n",
    "\n",
    "In test case 2, 'N' = 6 appears at position 4 (0-based indexing) in the given linked list.\n"
   ]
  },
  {
   "cell_type": "code",
   "execution_count": 6,
   "id": "48e16d6a",
   "metadata": {},
   "outputs": [],
   "source": [
    "class Node :\n",
    "    def __init__(self, data) :\n",
    "        self.data = data\n",
    "        self.next = None\n",
    "\n",
    "def findNode(head, n) :\n",
    "    \n",
    "    curr = head\n",
    "    cnt = 0\n",
    "    while curr is not None:\n",
    "        if curr.data == n:\n",
    "            return cnt\n",
    "        cnt += 1\n",
    "        curr = curr.next\n",
    "        \n",
    "    return -1\n"
   ]
  }
 ],
 "metadata": {
  "kernelspec": {
   "display_name": "Python 3",
   "language": "python",
   "name": "python3"
  },
  "language_info": {
   "codemirror_mode": {
    "name": "ipython",
    "version": 3
   },
   "file_extension": ".py",
   "mimetype": "text/x-python",
   "name": "python",
   "nbconvert_exporter": "python",
   "pygments_lexer": "ipython3",
   "version": "3.8.8"
  }
 },
 "nbformat": 4,
 "nbformat_minor": 5
}
