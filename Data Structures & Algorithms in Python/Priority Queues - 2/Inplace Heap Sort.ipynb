{
 "cells": [
  {
   "cell_type": "markdown",
   "id": "b80615ed",
   "metadata": {},
   "source": [
    "# Inplace Heap Sort\n",
    "Send Feedback\n",
    "Given an integer array of size N. Sort this array (in decreasing order) using heap sort.\n",
    "Note: Space complexity should be O(1).\n",
    "Input Format:\n",
    "The first line of input contains an integer, that denotes the value of the size of the array or N.\n",
    "The following line contains N space separated integers, that denote the value of the elements of the array.\n",
    "Output Format :\n",
    "The first and only line of output contains array elements after sorting. The elements of the array in the output are separated by single space.\n",
    "Constraints :\n",
    "1 <= n <= 10^6\n",
    "Time Limit: 1 sec\n",
    "Sample Input 1:\n",
    "6 \n",
    "2 6 8 5 4 3\n",
    "Sample Output 1:\n",
    "8 6 5 4 3 2"
   ]
  },
  {
   "cell_type": "code",
   "execution_count": 1,
   "id": "d308ef19",
   "metadata": {},
   "outputs": [
    {
     "name": "stdout",
     "output_type": "stream",
     "text": [
      "6\n",
      "3 6 9 3 6 9\n",
      "9 9 6 6 3 3 "
     ]
    }
   ],
   "source": [
    "def downHeapify(arr,i,n):\n",
    "  parentIndex = i\n",
    "  childIndex1 = 2*(parentIndex)+1\n",
    "  childIndex2 = 2*(parentIndex)+2\n",
    "\n",
    "  while childIndex1<n:\n",
    "    minIndex = parentIndex\n",
    "    if arr[minIndex] > arr[childIndex1]:\n",
    "      minIndex = childIndex1\n",
    "    if childIndex2 < n and arr[minIndex] > arr[childIndex2]:\n",
    "      minIndex = childIndex2\n",
    "\n",
    "    if minIndex == parentIndex:\n",
    "      return\n",
    "    arr[minIndex], arr[parentIndex] = arr[parentIndex], arr[minIndex]\n",
    "    parentIndex = minIndex\n",
    "    childIndex1 = 2*(parentIndex)+1\n",
    "    childIndex2 = 2*(parentIndex)+2\n",
    "  return \n",
    "        \n",
    "\n",
    "def heapSort(arr):\n",
    "    n = len(arr)\n",
    "    for i in range(n//2-1, -1, -1):\n",
    "        downHeapify(arr, i, n)\n",
    "    for i in range(n-1,0,-1):\n",
    "        arr[0], arr[i] = arr[i], arr[0]\n",
    "        downHeapify(arr, 0, i)\n",
    "    return\n",
    "        \n",
    "        \n",
    "    \n",
    "        \n",
    "        \n",
    "        \n",
    "        \n",
    "        \n",
    "        \n",
    "    \n",
    "\n",
    "n = input()\n",
    "arr = [int(ele) for ele in input().split()]\n",
    "heapSort(arr)\n",
    "for ele in arr:\n",
    "    print(ele,end=' ')"
   ]
  }
 ],
 "metadata": {
  "kernelspec": {
   "display_name": "Python 3",
   "language": "python",
   "name": "python3"
  },
  "language_info": {
   "codemirror_mode": {
    "name": "ipython",
    "version": 3
   },
   "file_extension": ".py",
   "mimetype": "text/x-python",
   "name": "python",
   "nbconvert_exporter": "python",
   "pygments_lexer": "ipython3",
   "version": "3.8.8"
  }
 },
 "nbformat": 4,
 "nbformat_minor": 5
}
