{
 "cells": [
  {
   "cell_type": "markdown",
   "id": "d3025425",
   "metadata": {},
   "source": [
    "# K Smallest Elements\n",
    "Send Feedback\n",
    "You are given with an integer k and an array of integers that contain numbers in random order. Write a program to find k smallest numbers from given array. You need to save them in an array and return it.\n",
    "Time complexity should be O(n * logk) and space complexity should not be more than O(k).\n",
    "Note: Order of elements in the output is not important.\n",
    "Input Format :\n",
    "The first line of input contains an integer, that denotes the value of the size of the array. Let us denote it with the symbol N.\n",
    "The following line contains N space separated integers, that denote the value of the elements of the array.\n",
    "The following line contains an integer, that denotes the value of k.\n",
    "Output Format :\n",
    "The first and only line of output print k smallest elements. The elements in the output are separated by a single space. \n",
    "Constraints:\n",
    "Time Limit: 1 sec\n",
    "Sample Input 1 :\n",
    "13\n",
    "2 12 9 16 10 5 3 20 25 11 1 8 6 \n",
    "4\n",
    "Sample Output 1 :\n",
    "1 2 3 5 "
   ]
  },
  {
   "cell_type": "code",
   "execution_count": 1,
   "id": "621ea402",
   "metadata": {},
   "outputs": [
    {
     "name": "stdout",
     "output_type": "stream",
     "text": [
      "3\n",
      "3 6 9\n",
      "9\n",
      "3 6 9\n"
     ]
    }
   ],
   "source": [
    "import heapq\n",
    "def kSmallest(lst, k):\n",
    "    new_list = lst[:k]\n",
    "    heapq._heapify_max(new_list)\n",
    "    for i in lst[k:]:\n",
    "        if new_list[0] > i:\n",
    "            heapq._heapreplace_max(new_list, i)\n",
    "    \n",
    "    return new_list\n",
    "\n",
    "\n",
    "# Main\n",
    "n=int(input())\n",
    "lst=list(int(i) for i in input().strip().split(' '))\n",
    "k=int(input())\n",
    "ans=kSmallest(lst, k)\n",
    "ans.sort()\n",
    "print(*ans, sep=' ')"
   ]
  }
 ],
 "metadata": {
  "kernelspec": {
   "display_name": "Python 3",
   "language": "python",
   "name": "python3"
  },
  "language_info": {
   "codemirror_mode": {
    "name": "ipython",
    "version": 3
   },
   "file_extension": ".py",
   "mimetype": "text/x-python",
   "name": "python",
   "nbconvert_exporter": "python",
   "pygments_lexer": "ipython3",
   "version": "3.8.8"
  }
 },
 "nbformat": 4,
 "nbformat_minor": 5
}
