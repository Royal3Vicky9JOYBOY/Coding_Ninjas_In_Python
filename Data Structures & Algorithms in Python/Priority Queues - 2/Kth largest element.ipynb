{
 "cells": [
  {
   "cell_type": "markdown",
   "id": "fb1aacde",
   "metadata": {},
   "source": [
    "# Kth largest element\n",
    "Send Feedback\n",
    "Given an array A of random integers and an integer k, find and return the kth largest element in the array.\n",
    "Note: Try to do this question in less than O(N * logN) time.\n",
    "Input Format :\n",
    "The first line of input contains an integer, that denotes the value of the size of the array. Let us denote it with the symbol N.\n",
    "The following line contains N space separated integers, that denote the value of the elements of the array.\n",
    "The following contains an integer, that denotes the value of k.\n",
    "Output Format :\n",
    "The first and only line of output contains the kth largest element\n",
    "Constraints :\n",
    "1 <= N, Ai, k <= 10^5\n",
    "Time Limit: 1 sec\n",
    "Sample Input 1 :\n",
    "6\n",
    "9 4 8 7 11 3\n",
    "2\n",
    "Sample Output 1 :\n",
    "9\n",
    "Sample Input 2 :\n",
    "8\n",
    "2 6 10 11 13 4 1 20\n",
    "4\n",
    "Sample Output 2 :\n",
    "10"
   ]
  },
  {
   "cell_type": "code",
   "execution_count": 2,
   "id": "586024ea",
   "metadata": {},
   "outputs": [
    {
     "name": "stdout",
     "output_type": "stream",
     "text": [
      "6\n",
      "9 4 8 7 11 3\n",
      "2\n",
      "9\n"
     ]
    }
   ],
   "source": [
    "import heapq\n",
    "def kthLargest(lst, k):\n",
    "    heapq._heapify_max(lst)\n",
    "    li = []\n",
    "    for i in range(k):\n",
    "        li.append(heapq._heappop_max(lst))\n",
    "    return li[k-1]\n",
    " \n",
    "\n",
    "# Main\n",
    "n=int(input())\n",
    "lst=list(int(i) for i in input().strip().split(' '))\n",
    "k=int(input())\n",
    "ans=kthLargest(lst, k)\n",
    "print(ans)"
   ]
  }
 ],
 "metadata": {
  "kernelspec": {
   "display_name": "Python 3",
   "language": "python",
   "name": "python3"
  },
  "language_info": {
   "codemirror_mode": {
    "name": "ipython",
    "version": 3
   },
   "file_extension": ".py",
   "mimetype": "text/x-python",
   "name": "python",
   "nbconvert_exporter": "python",
   "pygments_lexer": "ipython3",
   "version": "3.8.8"
  }
 },
 "nbformat": 4,
 "nbformat_minor": 5
}
