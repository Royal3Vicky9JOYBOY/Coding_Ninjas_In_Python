{
 "cells": [
  {
   "cell_type": "markdown",
   "id": "cd45e426",
   "metadata": {},
   "source": [
    "# Heap Sort"
   ]
  },
  {
   "cell_type": "code",
   "execution_count": null,
   "id": "358d9e58",
   "metadata": {},
   "outputs": [],
   "source": [
    "# nlogn\n",
    "# SC-> O(n)->O(1)        "
   ]
  },
  {
   "cell_type": "markdown",
   "id": "71e873e4",
   "metadata": {},
   "source": [
    "# Inplace Heap Sort-1"
   ]
  },
  {
   "cell_type": "code",
   "execution_count": null,
   "id": "c13d2c60",
   "metadata": {},
   "outputs": [],
   "source": [
    "# min heap\n",
    "# max heap\n",
    "# (i)=1 to (n-1)\n",
    "#  c=i\n",
    "# pi=(i-1)/2\n",
    "# up-heaphy\n",
    "# build heap \n",
    "# i=n-1 to 0\n",
    "# Down-Heaphy"
   ]
  },
  {
   "cell_type": "markdown",
   "id": "f6a62ab0",
   "metadata": {},
   "source": [
    "# Inplace Heap Sort-2"
   ]
  },
  {
   "cell_type": "code",
   "execution_count": null,
   "id": "fbe58b7d",
   "metadata": {},
   "outputs": [],
   "source": [
    "# BuildHeap -> O(n)\n",
    "# n/2 non-leaf nodes\n",
    "# n-n/2 -> Leaf Nodes\n",
    "# n/2-1 to 0\n",
    "# i =(n/2 -1)...0\n",
    "# n/2 log n\n",
    "# i=n/2 to 0\n",
    "# downheaphy(i,n)\n",
    "# j=n-1 to 0\n",
    "# downheaphy(0,j)"
   ]
  },
  {
   "cell_type": "markdown",
   "id": "93d094f4",
   "metadata": {},
   "source": [
    "# Build Heap In O(n)"
   ]
  },
  {
   "cell_type": "markdown",
   "id": "17f6986a",
   "metadata": {},
   "source": [
    "      2 power 0             O\n",
    "                           / \\\n",
    "      2 power 1           O   O\n",
    "                         / \\ / \\\n",
    "      2 power 2         O  O O  O\n",
    "                       /\\ /\\ /\\ /\\\n",
    "      2 power 3       O O O OO OO O\n",
    "      \n",
    "      \n",
    "s=2 power 3 x 0 + 2 power 2 x 1 + ......2 power 0 x (3)\n",
    "\n",
    "                    ---> h\n",
    "s=2 power h-1 x 0 + 2 power h-2 x 1 + 2 power h-3 x 2 +......+ 2 power 0 x (h-1)"
   ]
  },
  {
   "cell_type": "code",
   "execution_count": null,
   "id": "ea6464db",
   "metadata": {},
   "outputs": [],
   "source": [
    "# h -> log base 2 n\n",
    "# s-> O(n)"
   ]
  },
  {
   "cell_type": "markdown",
   "id": "6fbd52cf",
   "metadata": {},
   "source": [
    "# Inplace Heap Sort Code"
   ]
  },
  {
   "cell_type": "code",
   "execution_count": 5,
   "id": "89054e4a",
   "metadata": {},
   "outputs": [
    {
     "name": "stdout",
     "output_type": "stream",
     "text": [
      "4 7 4 3 9 11 10\n",
      "11 10 9 7 4 4 3 "
     ]
    }
   ],
   "source": [
    "def down_heapify(arr,i,n):\n",
    "    \n",
    "    parentIndex=i\n",
    "    leftChildIndex=2*parentIndex+1\n",
    "    rightChildIndex=2*parentIndex+2\n",
    "    \n",
    "    while leftChildIndex < n:\n",
    "        minIndex=parentIndex\n",
    "        if arr[minIndex] > arr[leftChildIndex]:\n",
    "            minIndex=leftChildIndex\n",
    "        if rightChildIndex < n and arr[minIndex] > arr[rightChildIndex]:\n",
    "            minIndex=rightChildIndex\n",
    "            \n",
    "        if minIndex == parentIndex:\n",
    "            return\n",
    "        arr[minIndex],arr[parentIndex]=arr[parentIndex],arr[minIndex]\n",
    "        parentIndex=minIndex\n",
    "        leftChildIndex=2*parentIndex+1\n",
    "        rightChildIndex=2*parentIndex+2\n",
    "    return\n",
    "\n",
    "def heapSort(arr):\n",
    "    # Build the heap\n",
    "    n=len(arr)\n",
    "    for i in range(n//2-1,-1,-1):\n",
    "        down_heapify(arr,i,n)\n",
    "        \n",
    "    for i in range(n-1,0,-1):\n",
    "        arr[0],arr[i]=arr[i],arr[0]\n",
    "        down_heapify(arr,0,i)\n",
    "    return\n",
    "        \n",
    "    # Removing n elements from heap and put them at correct position\n",
    "arr =[int(ele) for ele in input().split()]\n",
    "heapSort(arr)\n",
    "for ele in arr:\n",
    "    print(ele,end=\" \")"
   ]
  },
  {
   "cell_type": "code",
   "execution_count": 6,
   "id": "25cb1e70",
   "metadata": {},
   "outputs": [
    {
     "name": "stdout",
     "output_type": "stream",
     "text": [
      "4 7 6 9 8 10 12 11\n",
      "4 6 7 8 9 10 11 12 "
     ]
    }
   ],
   "source": [
    "def down_heapify(arr,i,n):\n",
    "    \n",
    "    parentIndex=i\n",
    "    leftChildIndex=2*parentIndex+1\n",
    "    rightChildIndex=2*parentIndex+2\n",
    "    \n",
    "    while leftChildIndex < n:\n",
    "        minIndex=parentIndex\n",
    "        if arr[minIndex] > arr[leftChildIndex]:\n",
    "            minIndex=leftChildIndex\n",
    "        if rightChildIndex < n and arr[minIndex] > arr[rightChildIndex]:\n",
    "            minIndex=rightChildIndex\n",
    "            \n",
    "        if minIndex == parentIndex:\n",
    "            return\n",
    "        arr[minIndex],arr[parentIndex]=arr[parentIndex],arr[minIndex]\n",
    "        parentIndex=minIndex\n",
    "        leftChildIndex=2*parentIndex+1\n",
    "        rightChildIndex=2*parentIndex+2\n",
    "    return\n",
    "\n",
    "def heapSort(arr):\n",
    "    # Build the heap\n",
    "    n=len(arr)\n",
    "    for i in range(n//2-1,-1,-1):\n",
    "        down_heapify(arr,i,n)\n",
    "        \n",
    "    for i in range(n-1,0,-1):\n",
    "        arr[0],arr[i]=arr[i],arr[0]\n",
    "        down_heapify(arr,0,i)\n",
    "    return\n",
    "        \n",
    "    # Removing n elements from heap and put them at correct position\n",
    "arr =[int(ele) for ele in input().split()]\n",
    "heapSort(arr)\n",
    "for ele in arr[::-1]:\n",
    "    print(ele,end=\" \")"
   ]
  },
  {
   "cell_type": "markdown",
   "id": "8a283530",
   "metadata": {},
   "source": [
    "# Inbuilt Min Heap"
   ]
  },
  {
   "cell_type": "code",
   "execution_count": 7,
   "id": "8dee8eb4",
   "metadata": {},
   "outputs": [],
   "source": [
    "import heapq\n",
    "\n",
    "li=[1,5,4,8,7,9,11]\n",
    "heapq.heapify(li)"
   ]
  },
  {
   "cell_type": "code",
   "execution_count": 8,
   "id": "489c3ab9",
   "metadata": {},
   "outputs": [
    {
     "name": "stdout",
     "output_type": "stream",
     "text": [
      "[1, 5, 4, 8, 7, 9, 11]\n"
     ]
    }
   ],
   "source": [
    "print(li)"
   ]
  },
  {
   "cell_type": "code",
   "execution_count": 9,
   "id": "9727eb3e",
   "metadata": {},
   "outputs": [
    {
     "name": "stdout",
     "output_type": "stream",
     "text": [
      "[1, 2, 4, 5, 7, 9, 11, 8]\n"
     ]
    }
   ],
   "source": [
    "heapq.heappush(li,2)\n",
    "print(li)"
   ]
  },
  {
   "cell_type": "code",
   "execution_count": 10,
   "id": "c9c20973",
   "metadata": {},
   "outputs": [
    {
     "name": "stdout",
     "output_type": "stream",
     "text": [
      "1\n"
     ]
    }
   ],
   "source": [
    "print(heapq.heappop(li))"
   ]
  },
  {
   "cell_type": "code",
   "execution_count": 11,
   "id": "3ffa5101",
   "metadata": {},
   "outputs": [
    {
     "name": "stdout",
     "output_type": "stream",
     "text": [
      "[2, 5, 4, 8, 7, 9, 11]\n"
     ]
    }
   ],
   "source": [
    "print(li)"
   ]
  },
  {
   "cell_type": "code",
   "execution_count": 12,
   "id": "55c2e0a5",
   "metadata": {},
   "outputs": [
    {
     "name": "stdout",
     "output_type": "stream",
     "text": [
      "[4, 5, 6, 8, 7, 9, 11]\n"
     ]
    }
   ],
   "source": [
    "heapq.heapreplace(li,6)\n",
    "print(li)"
   ]
  },
  {
   "cell_type": "code",
   "execution_count": 13,
   "id": "b0dbd0f1",
   "metadata": {},
   "outputs": [
    {
     "data": {
      "text/plain": [
       "4"
      ]
     },
     "execution_count": 13,
     "metadata": {},
     "output_type": "execute_result"
    }
   ],
   "source": [
    "heapq.heapreplace(li,10)"
   ]
  },
  {
   "cell_type": "code",
   "execution_count": 14,
   "id": "28de1abf",
   "metadata": {},
   "outputs": [
    {
     "name": "stdout",
     "output_type": "stream",
     "text": [
      "[5, 7, 6, 8, 10, 9, 11]\n"
     ]
    }
   ],
   "source": [
    "print(li)"
   ]
  },
  {
   "cell_type": "markdown",
   "id": "74a0a5d6",
   "metadata": {},
   "source": [
    "# Inbuilt Max Heap"
   ]
  },
  {
   "cell_type": "code",
   "execution_count": 22,
   "id": "9340fde5",
   "metadata": {},
   "outputs": [
    {
     "name": "stdout",
     "output_type": "stream",
     "text": [
      "[9, 8, 4, 7, 5, 1, 2, 3]\n"
     ]
    }
   ],
   "source": [
    "import heapq\n",
    "li=[1,5,4,7,8,9,2,3]\n",
    "heapq._heapify_max(li)\n",
    "print(li)"
   ]
  },
  {
   "cell_type": "code",
   "execution_count": 23,
   "id": "8015656d",
   "metadata": {},
   "outputs": [
    {
     "name": "stdout",
     "output_type": "stream",
     "text": [
      "9\n"
     ]
    }
   ],
   "source": [
    "print(heapq._heappop_max(li))"
   ]
  },
  {
   "cell_type": "code",
   "execution_count": 24,
   "id": "2aa853e6",
   "metadata": {},
   "outputs": [
    {
     "name": "stdout",
     "output_type": "stream",
     "text": [
      "[8, 7, 4, 3, 5, 1, 2]\n"
     ]
    }
   ],
   "source": [
    "print(li)"
   ]
  },
  {
   "cell_type": "code",
   "execution_count": 25,
   "id": "809301b4",
   "metadata": {},
   "outputs": [
    {
     "name": "stdout",
     "output_type": "stream",
     "text": [
      "[7, 5, 4, 3, 0, 1, 2]\n"
     ]
    }
   ],
   "source": [
    "heapq._heapreplace_max(li,0)\n",
    "print(li)"
   ]
  },
  {
   "cell_type": "code",
   "execution_count": 26,
   "id": "4311e0a5",
   "metadata": {},
   "outputs": [
    {
     "name": "stdout",
     "output_type": "stream",
     "text": [
      "[7, 6, 4, 5, 0, 1, 2, 3]\n"
     ]
    }
   ],
   "source": [
    "li.append(6)\n",
    "heapq._siftdown_max(li,0,len(li)-1)\n",
    "print(li)"
   ]
  },
  {
   "cell_type": "markdown",
   "id": "af9e4e47",
   "metadata": {},
   "source": [
    "# K Smallest Elements In List(Explain)"
   ]
  },
  {
   "cell_type": "code",
   "execution_count": null,
   "id": "e350121b",
   "metadata": {},
   "outputs": [],
   "source": [
    "# heap replace\n",
    "# n log k"
   ]
  },
  {
   "cell_type": "markdown",
   "id": "a5e4cbe5",
   "metadata": {},
   "source": [
    "# K Smallest Elements In List(Code)"
   ]
  },
  {
   "cell_type": "code",
   "execution_count": 27,
   "id": "d5673edb",
   "metadata": {},
   "outputs": [
    {
     "name": "stdout",
     "output_type": "stream",
     "text": [
      "6 2 3 1 "
     ]
    }
   ],
   "source": [
    "import heapq\n",
    "\n",
    "def kSmallest(arr,k):\n",
    "    heap=arr[:k]\n",
    "    heapq._heapify_max(heap)\n",
    "    n=len(arr)\n",
    "    for i in range(k,n):\n",
    "        if heap[0] > arr[i]:\n",
    "            heapq._heapreplace_max(heap,arr[i])\n",
    "    return heap\n",
    "        \n",
    "arr=[10,6,7,2,3,8,9,11,1]\n",
    "k=4\n",
    "elements = kSmallest(arr,4)\n",
    "for ele in elements:\n",
    "    print(ele,end=\" \")\n"
   ]
  },
  {
   "cell_type": "code",
   "execution_count": 28,
   "id": "9aa3d174",
   "metadata": {},
   "outputs": [
    {
     "name": "stdout",
     "output_type": "stream",
     "text": [
      "7 6 1 2 3 "
     ]
    }
   ],
   "source": [
    "import heapq\n",
    "\n",
    "def kSmallest(arr,k):\n",
    "    heap=arr[:k]\n",
    "    heapq._heapify_max(heap)\n",
    "    n=len(arr)\n",
    "    for i in range(k,n):\n",
    "        if heap[0] > arr[i]:\n",
    "            heapq._heapreplace_max(heap,arr[i])\n",
    "    return heap\n",
    "        \n",
    "arr=[10,6,7,2,3,8,9,11,1]\n",
    "k=4\n",
    "elements = kSmallest(arr,5)\n",
    "for ele in elements:\n",
    "    print(ele,end=\" \")"
   ]
  }
 ],
 "metadata": {
  "kernelspec": {
   "display_name": "Python 3",
   "language": "python",
   "name": "python3"
  },
  "language_info": {
   "codemirror_mode": {
    "name": "ipython",
    "version": 3
   },
   "file_extension": ".py",
   "mimetype": "text/x-python",
   "name": "python",
   "nbconvert_exporter": "python",
   "pygments_lexer": "ipython3",
   "version": "3.8.8"
  }
 },
 "nbformat": 4,
 "nbformat_minor": 5
}
