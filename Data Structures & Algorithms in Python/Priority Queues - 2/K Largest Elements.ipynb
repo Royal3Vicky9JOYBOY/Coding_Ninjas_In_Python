{
 "cells": [
  {
   "cell_type": "markdown",
   "id": "a5386ead",
   "metadata": {},
   "source": [
    "# K Largest Elements\n",
    "Send Feedback\n",
    "You are given with an integer k and an array of integers that contain numbers in random order. Write a program to find k largest numbers from given array. You need to save them in an array and return it.\n",
    "Time complexity should be O(nlogk) and space complexity should be not more than O(k).\n",
    "Order of elements in the output is not important.\n",
    "Input Format :\n",
    "Line 1 : Size of array (n)\n",
    "Line 2 : Array elements (separated by space)\n",
    "Line 3 : Integer k\n",
    "Output Format :\n",
    "k largest elements\n",
    "Sample Input :\n",
    "13\n",
    "2 12 9 16 10 5 3 20 25 11 1 8 6 \n",
    "4\n",
    "Sample Output :\n",
    "12\n",
    "16\n",
    "20\n",
    "25"
   ]
  },
  {
   "cell_type": "code",
   "execution_count": 3,
   "id": "1e07bf08",
   "metadata": {},
   "outputs": [
    {
     "name": "stdout",
     "output_type": "stream",
     "text": [
      "12\n",
      "2 12 9 16 10 5 3 20 25 11 1 8 6\n",
      "4\n",
      "25\n",
      "20\n",
      "16\n",
      "12\n"
     ]
    }
   ],
   "source": [
    "import heapq\n",
    "def kLargest(lst, k):\n",
    "    heapq._heapify_max(lst)\n",
    "    li = []\n",
    "    for i in range(k):\n",
    "        li.append(heapq._heappop_max(lst))\n",
    "    return li\n",
    "    pass\n",
    "\n",
    "# Main Code\n",
    "n=int(input())\n",
    "lst=list(int(i) for i in input().strip().split(' '))\n",
    "k=int(input())\n",
    "ans=kLargest(lst, k)\n",
    "print(*ans, sep='\\n')\n"
   ]
  }
 ],
 "metadata": {
  "kernelspec": {
   "display_name": "Python 3",
   "language": "python",
   "name": "python3"
  },
  "language_info": {
   "codemirror_mode": {
    "name": "ipython",
    "version": 3
   },
   "file_extension": ".py",
   "mimetype": "text/x-python",
   "name": "python",
   "nbconvert_exporter": "python",
   "pygments_lexer": "ipython3",
   "version": "3.8.8"
  }
 },
 "nbformat": 4,
 "nbformat_minor": 5
}
