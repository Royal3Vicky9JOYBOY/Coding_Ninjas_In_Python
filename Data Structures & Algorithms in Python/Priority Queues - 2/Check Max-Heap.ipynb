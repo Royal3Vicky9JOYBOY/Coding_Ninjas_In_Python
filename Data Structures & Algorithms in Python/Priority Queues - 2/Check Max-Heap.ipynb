{
 "cells": [
  {
   "cell_type": "markdown",
   "id": "5ba48c45",
   "metadata": {},
   "source": [
    "# Check Max-Heap\n",
    "Send Feedback\n",
    "Given an array of integers, check whether it represents max-heap or not. Return true if the given array represents max-heap, else return false.\n",
    "Input Format:\n",
    "The first line of input contains an integer, that denotes the value of the size of the array. Let us denote it with the symbol N.\n",
    "The following line contains N space separated integers, that denote the value of the elements of the array.\n",
    "Output Format :\n",
    "The first and only line of output contains true if it represents max-heap and false if it is not a max-heap.\n",
    "Constraints:\n",
    "1 <= N <= 10^5\n",
    "1 <= Ai <= 10^5\n",
    "Time Limit: 1 sec\n",
    "Sample Input 1:\n",
    "8\n",
    "42 20 18 6 14 11 9 4\n",
    "Sample Output 1:\n",
    "true"
   ]
  },
  {
   "cell_type": "code",
   "execution_count": 1,
   "id": "36d6f82f",
   "metadata": {},
   "outputs": [
    {
     "name": "stdout",
     "output_type": "stream",
     "text": [
      "3\n",
      "3 6 9\n",
      "false\n"
     ]
    }
   ],
   "source": [
    "import heapq\n",
    "def checkMaxHeap(lst):\n",
    "   \n",
    "    n=len(lst)\n",
    "    for i in range(n):\n",
    "        left=(2*i)+1\n",
    "        right=left+1\n",
    "        if left<n and lst[left]>lst[i]:\n",
    "            return False\n",
    "        if right<n and lst[right]>lst[i]:\n",
    "            return False\n",
    "    return True\n",
    "\n",
    "# Main Code\n",
    "n=int(input())\n",
    "lst=list(int(i) for i in input().strip().split(' '))\n",
    "print('true') if checkMaxHeap(lst) else print('false')\n"
   ]
  }
 ],
 "metadata": {
  "kernelspec": {
   "display_name": "Python 3",
   "language": "python",
   "name": "python3"
  },
  "language_info": {
   "codemirror_mode": {
    "name": "ipython",
    "version": 3
   },
   "file_extension": ".py",
   "mimetype": "text/x-python",
   "name": "python",
   "nbconvert_exporter": "python",
   "pygments_lexer": "ipython3",
   "version": "3.8.8"
  }
 },
 "nbformat": 4,
 "nbformat_minor": 5
}
