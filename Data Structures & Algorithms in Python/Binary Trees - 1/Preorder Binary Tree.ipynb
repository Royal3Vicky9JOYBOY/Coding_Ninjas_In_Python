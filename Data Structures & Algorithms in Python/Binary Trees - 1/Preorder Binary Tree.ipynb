{
 "cells": [
  {
   "cell_type": "markdown",
   "id": "a039d7c6",
   "metadata": {},
   "source": [
    "# Preorder Binary Tree\n",
    "Send Feedback\n",
    "You are given the root node of a binary tree.Print its preorder traversal.\n",
    "Input Format:\n",
    "The first and the only line of input will contain the node data, all separated by a single space. Since -1 is used as an indication whether the left or right node data exist for root, it will not be a part of the node data.\n",
    "Output Format:\n",
    "The only line of output prints the preorder traversal of the given binary tree.\n",
    "Constraints:\n",
    "1 <= N <= 10^6\n",
    "Where N is the total number of nodes in the binary tree.\n",
    "\n",
    "Time Limit: 1 sec\n",
    "Sample Input 1:\n",
    "1 2 3 4 5 6 7 -1 -1 -1 -1 -1 -1 -1 -1\n",
    " Sample Output 1:\n",
    "1 2 4 5 3 6 7\n",
    "Sample Input 2:\n",
    "5 6 10 2 3 -1 -1 -1 -1 -1 9 -1 -1\n",
    " Sample Output 1:\n",
    "5 6 2 3 9 10"
   ]
  },
  {
   "cell_type": "code",
   "execution_count": 1,
   "id": "be80c36e",
   "metadata": {},
   "outputs": [
    {
     "ename": "ValueError",
     "evalue": "invalid literal for int() with base 10: ''",
     "output_type": "error",
     "traceback": [
      "\u001b[1;31m---------------------------------------------------------------------------\u001b[0m",
      "\u001b[1;31mValueError\u001b[0m                                Traceback (most recent call last)",
      "\u001b[1;32m<ipython-input-1-649fc05bcb97>\u001b[0m in \u001b[0;36m<module>\u001b[1;34m\u001b[0m\n\u001b[0;32m     62\u001b[0m \u001b[1;33m\u001b[0m\u001b[0m\n\u001b[0;32m     63\u001b[0m \u001b[1;31m# Main\u001b[0m\u001b[1;33m\u001b[0m\u001b[1;33m\u001b[0m\u001b[1;33m\u001b[0m\u001b[0m\n\u001b[1;32m---> 64\u001b[1;33m \u001b[0mroot\u001b[0m \u001b[1;33m=\u001b[0m \u001b[0mtakeInput\u001b[0m\u001b[1;33m(\u001b[0m\u001b[1;33m)\u001b[0m\u001b[1;33m\u001b[0m\u001b[1;33m\u001b[0m\u001b[0m\n\u001b[0m\u001b[0;32m     65\u001b[0m \u001b[0mpreOrder\u001b[0m\u001b[1;33m(\u001b[0m\u001b[0mroot\u001b[0m\u001b[1;33m)\u001b[0m\u001b[1;33m\u001b[0m\u001b[1;33m\u001b[0m\u001b[0m\n",
      "\u001b[1;32m<ipython-input-1-649fc05bcb97>\u001b[0m in \u001b[0;36mtakeInput\u001b[1;34m()\u001b[0m\n\u001b[0;32m     29\u001b[0m \u001b[1;31m#Taking level-order input using fast I/O method\u001b[0m\u001b[1;33m\u001b[0m\u001b[1;33m\u001b[0m\u001b[1;33m\u001b[0m\u001b[0m\n\u001b[0;32m     30\u001b[0m \u001b[1;32mdef\u001b[0m \u001b[0mtakeInput\u001b[0m\u001b[1;33m(\u001b[0m\u001b[1;33m)\u001b[0m\u001b[1;33m:\u001b[0m\u001b[1;33m\u001b[0m\u001b[1;33m\u001b[0m\u001b[0m\n\u001b[1;32m---> 31\u001b[1;33m     \u001b[0mlevelOrder\u001b[0m \u001b[1;33m=\u001b[0m \u001b[0mlist\u001b[0m\u001b[1;33m(\u001b[0m\u001b[0mmap\u001b[0m\u001b[1;33m(\u001b[0m\u001b[0mint\u001b[0m\u001b[1;33m,\u001b[0m \u001b[0mstdin\u001b[0m\u001b[1;33m.\u001b[0m\u001b[0mreadline\u001b[0m\u001b[1;33m(\u001b[0m\u001b[1;33m)\u001b[0m\u001b[1;33m.\u001b[0m\u001b[0mstrip\u001b[0m\u001b[1;33m(\u001b[0m\u001b[1;33m)\u001b[0m\u001b[1;33m.\u001b[0m\u001b[0msplit\u001b[0m\u001b[1;33m(\u001b[0m\u001b[1;34m\" \"\u001b[0m\u001b[1;33m)\u001b[0m\u001b[1;33m)\u001b[0m\u001b[1;33m)\u001b[0m\u001b[1;33m\u001b[0m\u001b[1;33m\u001b[0m\u001b[0m\n\u001b[0m\u001b[0;32m     32\u001b[0m     \u001b[0mstart\u001b[0m \u001b[1;33m=\u001b[0m \u001b[1;36m0\u001b[0m\u001b[1;33m\u001b[0m\u001b[1;33m\u001b[0m\u001b[0m\n\u001b[0;32m     33\u001b[0m \u001b[1;33m\u001b[0m\u001b[0m\n",
      "\u001b[1;31mValueError\u001b[0m: invalid literal for int() with base 10: ''"
     ]
    }
   ],
   "source": [
    "from sys import stdin, setrecursionlimit\n",
    "import queue\n",
    "\n",
    "setrecursionlimit(10 ** 6)\n",
    "\n",
    "\n",
    "# Following the structure used for Binary Tree\n",
    "class BinaryTreeNode:\n",
    "    def __init__(self, data):\n",
    "        self.data = data\n",
    "        self.left = None\n",
    "        self.right = None\n",
    "\n",
    "\n",
    "def preOrder(root):\n",
    "\t# Your code goes here\n",
    "    if root:\n",
    " \n",
    "        # First print the data of node\n",
    "        print(root.data,end=\" \")\n",
    " \n",
    "        # Then recur on left child\n",
    "        preOrder(root.left)\n",
    " \n",
    "        # Finally recur on right child\n",
    "        preOrder(root.right)\n",
    " \n",
    " \n",
    "#Taking level-order input using fast I/O method\n",
    "def takeInput():\n",
    "    levelOrder = list(map(int, stdin.readline().strip().split(\" \")))\n",
    "    start = 0\n",
    "\n",
    "    length = len(levelOrder)\n",
    "\n",
    "    root = BinaryTreeNode(levelOrder[start])\n",
    "    start += 1\n",
    "\n",
    "    q = queue.Queue()\n",
    "    q.put(root)\n",
    "\n",
    "    while not q.empty():\n",
    "        currentNode = q.get()\n",
    "\n",
    "        leftChild = levelOrder[start]\n",
    "        start += 1\n",
    "\n",
    "        if leftChild != -1:\n",
    "            leftNode = BinaryTreeNode(leftChild)\n",
    "            currentNode.left =leftNode\n",
    "            q.put(leftNode)\n",
    "\n",
    "        rightChild = levelOrder[start]\n",
    "        start += 1\n",
    "\n",
    "        if rightChild != -1:\n",
    "            rightNode = BinaryTreeNode(rightChild)\n",
    "            currentNode.right =rightNode\n",
    "            q.put(rightNode)\n",
    "\n",
    "    return root\n",
    "\n",
    "# Main\n",
    "root = takeInput()\n",
    "preOrder(root)"
   ]
  }
 ],
 "metadata": {
  "kernelspec": {
   "display_name": "Python 3",
   "language": "python",
   "name": "python3"
  },
  "language_info": {
   "codemirror_mode": {
    "name": "ipython",
    "version": 3
   },
   "file_extension": ".py",
   "mimetype": "text/x-python",
   "name": "python",
   "nbconvert_exporter": "python",
   "pygments_lexer": "ipython3",
   "version": "3.8.8"
  }
 },
 "nbformat": 4,
 "nbformat_minor": 5
}
