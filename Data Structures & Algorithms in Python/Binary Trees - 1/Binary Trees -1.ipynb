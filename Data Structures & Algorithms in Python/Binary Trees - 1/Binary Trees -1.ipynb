{
 "cells": [
  {
   "cell_type": "markdown",
   "id": "2d03d67c",
   "metadata": {},
   "source": [
    "# Introduction To Trees"
   ]
  },
  {
   "cell_type": "markdown",
   "id": "d21cf9a4",
   "metadata": {},
   "source": [
    "Binary Trees --> if each node can only have either 0 or 1 or 2 nodes."
   ]
  },
  {
   "cell_type": "markdown",
   "id": "b93213bf",
   "metadata": {},
   "source": [
    "# Terminology Of Trees"
   ]
  },
  {
   "cell_type": "markdown",
   "id": "bb24771a",
   "metadata": {},
   "source": [
    " Root,Node,Parent,Child,Siblings,leaf(Nodes without children)"
   ]
  },
  {
   "cell_type": "markdown",
   "id": "a287f9c9",
   "metadata": {},
   "source": [
    "# How To Create Binary Tree Node"
   ]
  },
  {
   "cell_type": "code",
   "execution_count": 68,
   "id": "05ff5f4c",
   "metadata": {},
   "outputs": [],
   "source": [
    "class BinaryTreeNode:\n",
    "    def __init__(self,data):\n",
    "        self.data=data\n",
    "        self.left=None\n",
    "        self.right=None"
   ]
  },
  {
   "cell_type": "code",
   "execution_count": 69,
   "id": "ac8f1b42",
   "metadata": {},
   "outputs": [],
   "source": [
    "bt1=BinaryTreeNode(1)\n",
    "bt2=BinaryTreeNode(4)\n",
    "bt3=BinaryTreeNode(5)"
   ]
  },
  {
   "cell_type": "code",
   "execution_count": 70,
   "id": "c4c1c43f",
   "metadata": {},
   "outputs": [],
   "source": [
    "bt1.left=bt2\n",
    "bt1.right=bt3"
   ]
  },
  {
   "cell_type": "markdown",
   "id": "bd0f3bc6",
   "metadata": {},
   "source": [
    "# Print Binary Tree\n"
   ]
  },
  {
   "cell_type": "code",
   "execution_count": 71,
   "id": "989d9441",
   "metadata": {},
   "outputs": [],
   "source": [
    "class BinaryTreeNode:\n",
    "    def __init__(self, data):\n",
    "        self.data=data\n",
    "        self.left=None\n",
    "        self.right=None"
   ]
  },
  {
   "cell_type": "code",
   "execution_count": 72,
   "id": "dd4664ae",
   "metadata": {},
   "outputs": [],
   "source": [
    "def printTree(root):   \n",
    "    if root == None:\n",
    "        return                   #Base -> is root a leaf\n",
    "    print(root.data)             # 1.what if root is None\n",
    "    printTree(root.left)         \n",
    "    printTree(root.right)\n",
    "          "
   ]
  },
  {
   "cell_type": "code",
   "execution_count": 73,
   "id": "10ec6537",
   "metadata": {},
   "outputs": [],
   "source": [
    "bt1=BinaryTreeNode(1)\n",
    "bt2=BinaryTreeNode(4)\n",
    "bt3=BinaryTreeNode(5)"
   ]
  },
  {
   "cell_type": "code",
   "execution_count": 74,
   "id": "dc8d49b0",
   "metadata": {},
   "outputs": [],
   "source": [
    "bt1.left=bt2\n",
    "bt1.right=bt3"
   ]
  },
  {
   "cell_type": "code",
   "execution_count": 75,
   "id": "75cf9258",
   "metadata": {},
   "outputs": [
    {
     "name": "stdout",
     "output_type": "stream",
     "text": [
      "1\n",
      "4\n",
      "5\n"
     ]
    }
   ],
   "source": [
    "printTree(bt1)"
   ]
  },
  {
   "cell_type": "code",
   "execution_count": 28,
   "id": "d23b04b9",
   "metadata": {},
   "outputs": [],
   "source": [
    "class BinaryTreeNode:\n",
    "    def __init__(self, data):\n",
    "        self.data=data\n",
    "        self.left=None\n",
    "        self.right=None"
   ]
  },
  {
   "cell_type": "code",
   "execution_count": 29,
   "id": "99e5de8d",
   "metadata": {},
   "outputs": [],
   "source": [
    "def printTree(root):   \n",
    "    if root == None:\n",
    "        return                   \n",
    "    print(root.data)             \n",
    "    printTree(root.left)         \n",
    "    printTree(root.right)"
   ]
  },
  {
   "cell_type": "code",
   "execution_count": 30,
   "id": "47b01d88",
   "metadata": {},
   "outputs": [],
   "source": [
    "def printTreeDetailed(root):   \n",
    "    if root == None:\n",
    "        return                   \n",
    "    print(root.data, end=\":\") \n",
    "    if root.left != None:\n",
    "        print(\"L\", root.left.data,end=\",\")\n",
    "    if root.right != None:\n",
    "        print(\"R\", root.right.data,end=\" \")\n",
    "    print()\n",
    "    printTreeDetailed(root.left)         \n",
    "    printTreeDetailed(root.right)"
   ]
  },
  {
   "cell_type": "code",
   "execution_count": 31,
   "id": "514afb76",
   "metadata": {},
   "outputs": [],
   "source": [
    "bt1=BinaryTreeNode(1)\n",
    "bt2=BinaryTreeNode(2)\n",
    "bt3=BinaryTreeNode(3)\n",
    "\n",
    "bt4=BinaryTreeNode(4)\n",
    "bt5=BinaryTreeNode(5)"
   ]
  },
  {
   "cell_type": "code",
   "execution_count": 32,
   "id": "b87fc08e",
   "metadata": {},
   "outputs": [],
   "source": [
    "bt1.left=bt2\n",
    "bt1.right=bt3\n",
    "bt2.left=bt4\n",
    "bt2.right=bt5"
   ]
  },
  {
   "cell_type": "code",
   "execution_count": 33,
   "id": "29ea534f",
   "metadata": {},
   "outputs": [
    {
     "name": "stdout",
     "output_type": "stream",
     "text": [
      "1:L 2,R 3 \n",
      "2:L 4,R 5 \n",
      "4:\n",
      "5:\n",
      "3:\n"
     ]
    }
   ],
   "source": [
    "printTreeDetailed(bt1)       # output:     # 1:L 2, R 3\n",
    "                                           # 2:l 4, R 5\n",
    "                                           # 4:\n",
    "                                           # 5:\n",
    "                                           # 3:"
   ]
  },
  {
   "cell_type": "markdown",
   "id": "29b98372",
   "metadata": {},
   "source": [
    "# Input Of Binary Tree"
   ]
  },
  {
   "cell_type": "code",
   "execution_count": 1,
   "id": "73eef147",
   "metadata": {},
   "outputs": [],
   "source": [
    "class BinaryTreeNode:\n",
    "    def __init__(self, data):\n",
    "        self.data=data\n",
    "        self.left=None\n",
    "        self.right=None"
   ]
  },
  {
   "cell_type": "code",
   "execution_count": 2,
   "id": "fdd73ce3",
   "metadata": {},
   "outputs": [],
   "source": [
    "def printTree(root):   \n",
    "    if root == None:\n",
    "        return                   \n",
    "    print(root.data)             \n",
    "    printTree(root.left)         \n",
    "    printTree(root.right)"
   ]
  },
  {
   "cell_type": "code",
   "execution_count": 3,
   "id": "3f156954",
   "metadata": {},
   "outputs": [],
   "source": [
    "def printTreeDetailed(root):   \n",
    "    if root == None:\n",
    "        return                   \n",
    "    print(root.data, end=\":\") \n",
    "    if root.left != None:\n",
    "        print(\"L\", root.left.data,end=\",\")\n",
    "    if root.right != None:\n",
    "        print(\"R\", root.right.data,end=\" \")\n",
    "    print()\n",
    "    printTreeDetailed(root.left)         \n",
    "    printTreeDetailed(root.right)"
   ]
  },
  {
   "cell_type": "code",
   "execution_count": 4,
   "id": "4b067d13",
   "metadata": {},
   "outputs": [],
   "source": [
    "def treeInput():\n",
    "    rootData=int(input())\n",
    "    if rootData == -1:\n",
    "        return None\n",
    "    \n",
    "    root=BinaryTreeNode(rootData)\n",
    "    leftTree=treeInput()\n",
    "    rightTree=treeInput()\n",
    "    root.left=leftTree\n",
    "    root.right=rightTree\n",
    "    return root"
   ]
  },
  {
   "cell_type": "code",
   "execution_count": 5,
   "id": "03d56a6a",
   "metadata": {},
   "outputs": [
    {
     "name": "stdout",
     "output_type": "stream",
     "text": [
      "1\n",
      "-1\n",
      "-1\n",
      "1:\n"
     ]
    }
   ],
   "source": [
    "root=treeInput()\n",
    "printTreeDetailed(root)"
   ]
  },
  {
   "cell_type": "code",
   "execution_count": 6,
   "id": "91a6aa43",
   "metadata": {},
   "outputs": [
    {
     "name": "stdout",
     "output_type": "stream",
     "text": [
      "1\n",
      "2\n",
      "4\n",
      "-1\n",
      "-1\n",
      "5\n",
      "-1\n",
      "-1\n",
      "3\n",
      "-1\n",
      "7\n",
      "-1\n",
      "-1\n",
      "1:L 2,R 3 \n",
      "2:L 4,R 5 \n",
      "4:\n",
      "5:\n",
      "3:R 7 \n",
      "7:\n"
     ]
    }
   ],
   "source": [
    "root=treeInput()\n",
    "printTreeDetailed(root)"
   ]
  },
  {
   "cell_type": "markdown",
   "id": "28a842a9",
   "metadata": {},
   "source": [
    "                                 1\n",
    "                                / \\\n",
    "                               2   3\n",
    "                              / \\   \\\n",
    "                             4   5   7"
   ]
  },
  {
   "cell_type": "code",
   "execution_count": 7,
   "id": "56b78de4",
   "metadata": {},
   "outputs": [
    {
     "name": "stdout",
     "output_type": "stream",
     "text": [
      "1\n",
      "2\n",
      "3\n",
      "-1\n",
      "-1\n",
      "4\n",
      "-1\n",
      "5\n",
      "6\n",
      "-1\n",
      "-1\n",
      "-1\n",
      "-1\n",
      "1:L 2,\n",
      "2:L 3,R 4 \n",
      "3:\n",
      "4:R 5 \n",
      "5:L 6,\n",
      "6:\n"
     ]
    }
   ],
   "source": [
    "root=treeInput()\n",
    "printTreeDetailed(root)"
   ]
  },
  {
   "cell_type": "markdown",
   "id": "68d33442",
   "metadata": {},
   "source": [
    "                         1\n",
    "                        / \\\n",
    "                       2   3\n",
    "                          /\n",
    "                         4\n",
    "                        / \\\n",
    "                       5   6"
   ]
  },
  {
   "cell_type": "markdown",
   "id": "e7643d2a",
   "metadata": {},
   "source": [
    "# Input Binary Tree"
   ]
  },
  {
   "cell_type": "code",
   "execution_count": null,
   "id": "412a66d0",
   "metadata": {},
   "outputs": [],
   "source": [
    "void takeInput():\n",
    "    print(\"Enter root data\")\n",
    "    rootData = int(input())\n",
    "    if (rootData == -1) {\n",
    "        return None\n",
    "    }\n",
    "    root = BinaryTreeNode(rootData)\n",
    "    root.left = takeInput()\n",
    "    root.right = takeInput()\n",
    "    return root"
   ]
  },
  {
   "cell_type": "markdown",
   "id": "7db092f2",
   "metadata": {},
   "source": [
    "                          2\n",
    "                         / \\\n",
    "                        7   5\n",
    "                       / \\   \\\n",
    "                      2   6   9\n",
    "                         / \\  /\n",
    "                        5  11 4   "
   ]
  },
  {
   "cell_type": "code",
   "execution_count": 1,
   "id": "c089d35d",
   "metadata": {},
   "outputs": [],
   "source": [
    "# What will be the input(excluding -1) to above code to construct this tree ?\n",
    " # 1)  2 7 2 6 5 11 5 9 4 \n",
    " # 2)  2 7 5 6 11 2 5 4 9 \n",
    " # 3)  2 7 5 2 6 9 5 11 4\n",
    " \n",
    "# ans-> 1"
   ]
  },
  {
   "cell_type": "markdown",
   "id": "248b9d1c",
   "metadata": {},
   "source": [
    "# Number Of Nodes In Binary Tree"
   ]
  },
  {
   "cell_type": "code",
   "execution_count": 5,
   "id": "90d0fa1f",
   "metadata": {},
   "outputs": [],
   "source": [
    "# root == None:\n",
    "# return 0\n",
    "# left count = numnodes(root.left)\n",
    "# right count = numnodes(root.right)"
   ]
  },
  {
   "cell_type": "code",
   "execution_count": 6,
   "id": "7ca753ec",
   "metadata": {},
   "outputs": [],
   "source": [
    "class BinaryTreeNode:\n",
    "    def __init__(self, data):\n",
    "        self.data=data\n",
    "        self.left=None\n",
    "        self.right=None"
   ]
  },
  {
   "cell_type": "code",
   "execution_count": 7,
   "id": "1ec7e998",
   "metadata": {},
   "outputs": [],
   "source": [
    "def printTreeDetailed(root):   \n",
    "    if root == None:\n",
    "        return                   \n",
    "    print(root.data, end=\":\") \n",
    "    if root.left != None:\n",
    "        print(\"L\", root.left.data,end=\",\")\n",
    "    if root.right != None:\n",
    "        print(\"R\", root.right.data,end=\" \")\n",
    "    print()\n",
    "    printTreeDetailed(root.left)         \n",
    "    printTreeDetailed(root.right)"
   ]
  },
  {
   "cell_type": "code",
   "execution_count": 2,
   "id": "58d52fae",
   "metadata": {},
   "outputs": [],
   "source": [
    "def treeInput():\n",
    "    rootData=int(input())\n",
    "    if rootData == -1:\n",
    "        return None\n",
    "    \n",
    "    root=BinaryTreeNode(rootData)\n",
    "    leftTree=treeInput()\n",
    "    rightTree=treeInput()\n",
    "    root.left=leftTree\n",
    "    root.right=rightTree\n",
    "    return root"
   ]
  },
  {
   "cell_type": "code",
   "execution_count": 8,
   "id": "4d522fba",
   "metadata": {},
   "outputs": [],
   "source": [
    "def numNodes(root):\n",
    "    if root==None:\n",
    "        return 0\n",
    "    leftCount = numNodes(root.left)\n",
    "    rightCount = numNodes(root.right)\n",
    "    return 1 + leftCount + rightCount"
   ]
  },
  {
   "cell_type": "code",
   "execution_count": 9,
   "id": "b9b05e7f",
   "metadata": {},
   "outputs": [
    {
     "name": "stdout",
     "output_type": "stream",
     "text": [
      "1\n",
      "2\n",
      "-1\n",
      "-1\n",
      "3\n",
      "4\n",
      "6\n",
      "-1\n",
      "-1\n",
      "-1\n",
      "5\n",
      "-1\n",
      "-1\n",
      "1:L 2,R 3 \n",
      "2:\n",
      "3:L 4,R 5 \n",
      "4:L 6,\n",
      "6:\n",
      "5:\n",
      "6\n"
     ]
    }
   ],
   "source": [
    "root = treeInput()\n",
    "printTreeDetailed(root)\n",
    "print(numNodes(root))"
   ]
  },
  {
   "cell_type": "markdown",
   "id": "61d41d90",
   "metadata": {},
   "source": [
    "                             1\n",
    "                            / \\\n",
    "                           2   3\n",
    "                              / \\\n",
    "                             4   5\n",
    "                            /\n",
    "                           6\n",
    "                           \n",
    "                           "
   ]
  },
  {
   "cell_type": "markdown",
   "id": "470f84dd",
   "metadata": {},
   "source": [
    "# Tree Traversals"
   ]
  },
  {
   "cell_type": "code",
   "execution_count": null,
   "id": "7cdd41d2",
   "metadata": {},
   "outputs": [],
   "source": [
    "# pre order: root\n",
    "         #  left\n",
    "         #  right"
   ]
  },
  {
   "cell_type": "code",
   "execution_count": null,
   "id": "958d73db",
   "metadata": {},
   "outputs": [],
   "source": [
    "# post order :\n",
    "       #  printTree(root.left)\n",
    "    #  printTree(root.right)\n",
    "       #  print(root.data)"
   ]
  },
  {
   "cell_type": "code",
   "execution_count": null,
   "id": "60c0d6d1",
   "metadata": {},
   "outputs": [],
   "source": [
    "# Inorder :\n",
    "     # left                            1\n",
    "     # root                           / \\\n",
    "     # right                         2   3\n",
    "                                #   / \\\n",
    "                                #  4   5\n",
    "      # 4,2,5,1,3"
   ]
  },
  {
   "cell_type": "markdown",
   "id": "8eb661d4",
   "metadata": {},
   "source": [
    "levelOrder Traversals\n",
    "                         \n",
    "                         1\n",
    "                        / \\\n",
    "                       2   3\n",
    "                      / \\ / \\\n",
    "                     4  5 6  7\n",
    "                       / \\\n",
    "                      8   9\n",
    "                      \n",
    "                      \n",
    "                      \n",
    "1,2,3,4,5,6,7,8,9\n",
    "                     \n",
    "                         "
   ]
  },
  {
   "cell_type": "markdown",
   "id": "73400c91",
   "metadata": {},
   "source": [
    "# Node With Largest Data"
   ]
  },
  {
   "cell_type": "code",
   "execution_count": 19,
   "id": "9c03fedc",
   "metadata": {},
   "outputs": [],
   "source": [
    "# Largest Data in Binary Tree\n",
    "class BinaryTreeNode:\n",
    "    def __init__(self, data):\n",
    "        self.data=data\n",
    "        self.left=None\n",
    "        self.right=None"
   ]
  },
  {
   "cell_type": "code",
   "execution_count": 20,
   "id": "4a209522",
   "metadata": {},
   "outputs": [],
   "source": [
    "def printTreeDetailed(root):   \n",
    "    if root == None:\n",
    "        return                   \n",
    "    print(root.data, end=\":\") \n",
    "    if root.left != None:\n",
    "        print(\"L\", root.left.data,end=\",\")\n",
    "    if root.right != None:\n",
    "        print(\"R\", root.right.data,end=\" \")\n",
    "    print()\n",
    "    printTreeDetailed(root.left)         \n",
    "    printTreeDetailed(root.right)"
   ]
  },
  {
   "cell_type": "code",
   "execution_count": 21,
   "id": "7bddb41a",
   "metadata": {},
   "outputs": [],
   "source": [
    "def treeInput():\n",
    "    rootData=int(input())\n",
    "    if rootData == -1:\n",
    "        return None\n",
    "    \n",
    "    root=BinaryTreeNode(rootData)\n",
    "    leftTree=treeInput()\n",
    "    rightTree=treeInput()\n",
    "    root.left=leftTree\n",
    "    root.right=rightTree\n",
    "    return root"
   ]
  },
  {
   "cell_type": "code",
   "execution_count": 22,
   "id": "0cef5d15",
   "metadata": {},
   "outputs": [],
   "source": [
    "def numNodes(root):\n",
    "    if root==None:\n",
    "        return 0\n",
    "    leftCount = numNodes(root.left)\n",
    "    rightCount = numNodes(root.right)\n",
    "    return 1 + leftCount + rightCount"
   ]
  },
  {
   "cell_type": "code",
   "execution_count": 23,
   "id": "343407e4",
   "metadata": {},
   "outputs": [
    {
     "data": {
      "text/plain": [
       "10"
      ]
     },
     "execution_count": 23,
     "metadata": {},
     "output_type": "execute_result"
    }
   ],
   "source": [
    "a=10\n",
    "b=5\n",
    "c=7 \n",
    "max(a,b,c)"
   ]
  },
  {
   "cell_type": "code",
   "execution_count": 24,
   "id": "495f4f77",
   "metadata": {},
   "outputs": [],
   "source": [
    "def largestData(root):\n",
    "    if root==None:\n",
    "        return-1 # ideally return - inf\n",
    "    leftLargest = largestData(root.left)\n",
    "    rightLargest= largestData(root.right)\n",
    "    largest=max(leftLargest,rightLargest,root.data)\n",
    "    return largest"
   ]
  },
  {
   "cell_type": "code",
   "execution_count": 25,
   "id": "e6762ddb",
   "metadata": {},
   "outputs": [
    {
     "name": "stdout",
     "output_type": "stream",
     "text": [
      "10\n",
      "20\n",
      "5\n",
      "-1\n",
      "-1\n",
      "9\n",
      "-1\n",
      "-1\n",
      "3\n",
      "-1\n",
      "-1\n",
      "10:L 20,R 3 \n",
      "20:L 5,R 9 \n",
      "5:\n",
      "9:\n",
      "3:\n"
     ]
    },
    {
     "data": {
      "text/plain": [
       "20"
      ]
     },
     "execution_count": 25,
     "metadata": {},
     "output_type": "execute_result"
    }
   ],
   "source": [
    "root = treeInput()\n",
    "printTreeDetailed(root)\n",
    "largestData(root)"
   ]
  },
  {
   "cell_type": "markdown",
   "id": "5de0aecc",
   "metadata": {},
   "source": [
    "# Height Of Tree"
   ]
  },
  {
   "cell_type": "markdown",
   "id": "f97263a0",
   "metadata": {},
   "source": [
    "The maximum and minimum number of nodes in a binary tree of height 6 are\n",
    "A tree with zero node has height 0 A tree with one node has height 1\n",
    "\n",
    "\n",
    "ans->63 and 6, respectively \n"
   ]
  },
  {
   "cell_type": "markdown",
   "id": "f71fde34",
   "metadata": {},
   "source": [
    "# Number Of Leaf Nodes\n"
   ]
  },
  {
   "cell_type": "code",
   "execution_count": 32,
   "id": "847dcaab",
   "metadata": {},
   "outputs": [],
   "source": [
    "class BinaryTreeNode:\n",
    "    def __init__(self, data):\n",
    "        self.data=data\n",
    "        self.left=None\n",
    "        self.right=None"
   ]
  },
  {
   "cell_type": "code",
   "execution_count": 33,
   "id": "6e02e949",
   "metadata": {},
   "outputs": [],
   "source": [
    "def printTreeDetailed(root):   \n",
    "    if root == None:\n",
    "        return                   \n",
    "    print(root.data, end=\":\") \n",
    "    if root.left != None:\n",
    "        print(\"L\", root.left.data,end=\",\")\n",
    "    if root.right != None:\n",
    "        print(\"R\", root.right.data,end=\" \")\n",
    "    print()\n",
    "    printTreeDetailed(root.left)         \n",
    "    printTreeDetailed(root.right)"
   ]
  },
  {
   "cell_type": "code",
   "execution_count": 34,
   "id": "c31e9881",
   "metadata": {},
   "outputs": [],
   "source": [
    "def treeInput():\n",
    "    rootData=int(input())\n",
    "    if rootData == -1:\n",
    "        return None\n",
    "    \n",
    "    root=BinaryTreeNode(rootData)\n",
    "    leftTree=treeInput()\n",
    "    rightTree=treeInput()\n",
    "    root.left=leftTree\n",
    "    root.right=rightTree\n",
    "    return root"
   ]
  },
  {
   "cell_type": "code",
   "execution_count": 35,
   "id": "b86514d6",
   "metadata": {},
   "outputs": [],
   "source": [
    "def numLeafNodes(root):\n",
    "    if root == None:\n",
    "        return 0\n",
    "    if root.left==None and root.right==None:\n",
    "        return 1\n",
    "    numLeafLeft=numLeafNodes(root.left)\n",
    "    numLeafRight=numLeafNodes(root.right)\n",
    "    return numLeafLeft+numLeafRight"
   ]
  },
  {
   "cell_type": "code",
   "execution_count": 30,
   "id": "daf18ecb",
   "metadata": {},
   "outputs": [
    {
     "name": "stdout",
     "output_type": "stream",
     "text": [
      "1\n",
      "2\n",
      "-1\n",
      "-1\n",
      "3\n",
      "4\n",
      "-1\n",
      "-1\n",
      "5\n",
      "-1\n",
      "-1\n",
      "1:L 2,R 3 \n",
      "2:\n",
      "3:L 4,R 5 \n",
      "4:\n",
      "5:\n",
      "3\n"
     ]
    }
   ],
   "source": [
    "root = treeInput()\n",
    "printTreeDetailed(root)\n",
    "print(numLeafNodes(root))"
   ]
  },
  {
   "cell_type": "code",
   "execution_count": 36,
   "id": "767c26e6",
   "metadata": {},
   "outputs": [
    {
     "name": "stdout",
     "output_type": "stream",
     "text": [
      "1\n",
      "2\n",
      "-1\n",
      "-1\n",
      "-1\n",
      "1:L 2,\n",
      "2:\n",
      "1\n"
     ]
    }
   ],
   "source": [
    "root = treeInput()\n",
    "printTreeDetailed(root)\n",
    "print(numLeafNodes(root))"
   ]
  },
  {
   "cell_type": "markdown",
   "id": "3525d169",
   "metadata": {},
   "source": [
    "# Print Nodes At Depth K"
   ]
  },
  {
   "cell_type": "code",
   "execution_count": 1,
   "id": "d71590cf",
   "metadata": {},
   "outputs": [],
   "source": [
    "class BinaryTreeNode:\n",
    "    def __init__(self, data):\n",
    "        self.data=data\n",
    "        self.left=None\n",
    "        self.right=None "
   ]
  },
  {
   "cell_type": "code",
   "execution_count": 2,
   "id": "7560067c",
   "metadata": {},
   "outputs": [],
   "source": [
    "def printTreeDetailed(root):   \n",
    "    if root == None:\n",
    "        return                   \n",
    "    print(root.data, end=\":\") \n",
    "    if root.left != None:\n",
    "        print(\"L\", root.left.data,end=\",\")\n",
    "    if root.right != None:\n",
    "        print(\"R\", root.right.data,end=\" \")\n",
    "    print()\n",
    "    printTreeDetailed(root.left)         \n",
    "    printTreeDetailed(root.right)"
   ]
  },
  {
   "cell_type": "code",
   "execution_count": 3,
   "id": "67afa5d1",
   "metadata": {},
   "outputs": [],
   "source": [
    "def treeInput():\n",
    "    rootData=int(input())\n",
    "    if rootData == -1:\n",
    "        return None\n",
    "    \n",
    "    root=BinaryTreeNode(rootData)\n",
    "    leftTree=treeInput()\n",
    "    rightTree=treeInput()\n",
    "    root.left=leftTree\n",
    "    root.right=rightTree\n",
    "    return root"
   ]
  },
  {
   "cell_type": "code",
   "execution_count": 4,
   "id": "b2cf5e4b",
   "metadata": {},
   "outputs": [],
   "source": [
    "def printDepthK(root, K):\n",
    "    if root==None:\n",
    "        return\n",
    "    if K==0:\n",
    "        print(root.data)\n",
    "        return\n",
    "    printDepthK(root.left,K-1)\n",
    "    printDepthK(root.right,K-1)"
   ]
  },
  {
   "cell_type": "code",
   "execution_count": 5,
   "id": "f60a1e5c",
   "metadata": {},
   "outputs": [
    {
     "name": "stdout",
     "output_type": "stream",
     "text": [
      "1\n",
      "2\n",
      "4\n",
      "-1\n",
      "-1\n",
      "5\n",
      "-1\n",
      "-1\n",
      "3\n",
      "6\n",
      "-1\n",
      "-1\n",
      "-1\n",
      "1:L 2,R 3 \n",
      "2:L 4,R 5 \n",
      "4:\n",
      "5:\n",
      "3:L 6,\n",
      "6:\n",
      "4\n",
      "5\n",
      "6\n"
     ]
    }
   ],
   "source": [
    "root = treeInput()\n",
    "printTreeDetailed(root)\n",
    "printDepthK(root,2)"
   ]
  },
  {
   "cell_type": "markdown",
   "id": "890826e6",
   "metadata": {},
   "source": [
    "                       1 (2,0)\n",
    "                      / \\\n",
    "               (2,1) 2   3  (2,1)\n",
    "                    / \\ / \n",
    "            (2,2)  4  5 6  (2,2)\n",
    "                     (2,3)\n",
    "     \n",
    "     \n",
    " another way --> print at k (root,k,d=0)\n",
    " \n",
    "               None\n",
    "               \n",
    "               K==d\n",
    "               \n",
    "              print at k ( root.left,k,d+1)\n",
    "                                right"
   ]
  },
  {
   "cell_type": "code",
   "execution_count": 6,
   "id": "cde09a3d",
   "metadata": {},
   "outputs": [],
   "source": [
    "class BinaryTreeNode:\n",
    "    def __init__(self, data):\n",
    "        self.data=data\n",
    "        self.left=None\n",
    "        self.right=None "
   ]
  },
  {
   "cell_type": "code",
   "execution_count": 7,
   "id": "1f399774",
   "metadata": {},
   "outputs": [],
   "source": [
    "def printTreeDetailed(root):   \n",
    "    if root == None:\n",
    "        return                   \n",
    "    print(root.data, end=\":\") \n",
    "    if root.left != None:\n",
    "        print(\"L\", root.left.data,end=\",\")\n",
    "    if root.right != None:\n",
    "        print(\"R\", root.right.data,end=\" \")\n",
    "    print()\n",
    "    printTreeDetailed(root.left)         \n",
    "    printTreeDetailed(root.right)"
   ]
  },
  {
   "cell_type": "code",
   "execution_count": 8,
   "id": "eaaa77e1",
   "metadata": {},
   "outputs": [],
   "source": [
    "def treeInput():\n",
    "    rootData=int(input())\n",
    "    if rootData == -1:\n",
    "        return None\n",
    "    \n",
    "    root=BinaryTreeNode(rootData)\n",
    "    leftTree=treeInput()\n",
    "    rightTree=treeInput()\n",
    "    root.left=leftTree\n",
    "    root.right=rightTree\n",
    "    return root"
   ]
  },
  {
   "cell_type": "code",
   "execution_count": 9,
   "id": "976f26a2",
   "metadata": {},
   "outputs": [],
   "source": [
    "def printDepthK(root, K):\n",
    "    if root==None:\n",
    "        return\n",
    "    if K==0:\n",
    "        print(root.data)\n",
    "        return\n",
    "    printDepthK(root.left,K-1)\n",
    "    printDepthK(root.right,K-1)"
   ]
  },
  {
   "cell_type": "code",
   "execution_count": 10,
   "id": "a97b29c0",
   "metadata": {},
   "outputs": [],
   "source": [
    "def printDepthKV2(root,K,d=0):\n",
    "    if root == None:\n",
    "        return\n",
    "    if K ==d:\n",
    "        print(root.data)\n",
    "        return\n",
    "    printDepthKV2(root.left,K,d+1)\n",
    "    printDepthKV2(root.right,K,d+1)\n",
    "    "
   ]
  },
  {
   "cell_type": "code",
   "execution_count": 12,
   "id": "c33db952",
   "metadata": {},
   "outputs": [
    {
     "name": "stdout",
     "output_type": "stream",
     "text": [
      "1\n",
      "2\n",
      "4\n",
      "-1\n",
      "-1\n",
      "5\n",
      "-1\n",
      "-1\n",
      "3\n",
      "6\n",
      "-1\n",
      "-1\n",
      "-1\n",
      "1:L 2,R 3 \n",
      "2:L 4,R 5 \n",
      "4:\n",
      "5:\n",
      "3:L 6,\n",
      "6:\n",
      "4\n",
      "5\n",
      "6\n"
     ]
    }
   ],
   "source": [
    "root = treeInput()\n",
    "printTreeDetailed(root)\n",
    "printDepthKV2(root,2)"
   ]
  },
  {
   "cell_type": "markdown",
   "id": "d6d98ee0",
   "metadata": {},
   "source": [
    "                               1\n",
    "                              / \\\n",
    "                             2   3\n",
    "                            / \\  /\n",
    "                           4  5  6\n",
    "                         "
   ]
  }
 ],
 "metadata": {
  "kernelspec": {
   "display_name": "Python 3",
   "language": "python",
   "name": "python3"
  },
  "language_info": {
   "codemirror_mode": {
    "name": "ipython",
    "version": 3
   },
   "file_extension": ".py",
   "mimetype": "text/x-python",
   "name": "python",
   "nbconvert_exporter": "python",
   "pygments_lexer": "ipython3",
   "version": "3.8.8"
  }
 },
 "nbformat": 4,
 "nbformat_minor": 5
}
