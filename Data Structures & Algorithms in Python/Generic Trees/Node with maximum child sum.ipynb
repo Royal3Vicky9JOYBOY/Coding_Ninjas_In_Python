{
 "cells": [
  {
   "cell_type": "markdown",
   "id": "221d24da",
   "metadata": {},
   "source": [
    "# Node with maximum child sum\n",
    "Send Feedback\n",
    "Given a generic tree, find and return the node for which sum of its data and data of all its child nodes is maximum. In the sum, data of the node and data of its immediate child nodes has to be taken.\n",
    "Input format :\n",
    "The first line of input contains data of the nodes of the tree in level order form. The order is: data for root node, number of children to root node, data of each of child nodes and so on and so forth for each node. The data of the nodes of the tree is separated by space. \n",
    "Output format :\n",
    "The first and only line of output contains the data of the node with maximum sum, as described in the task.\n",
    "Constraints:\n",
    "Time Limit: 1 sec\n",
    "Sample Input 1 :\n",
    "5 3 1 2 3 1 15 2 4 5 1 6 0 0 0 0\n",
    "Sample Output 1 :\n",
    "1"
   ]
  },
  {
   "cell_type": "code",
   "execution_count": 1,
   "id": "18d89dce",
   "metadata": {},
   "outputs": [
    {
     "name": "stdout",
     "output_type": "stream",
     "text": [
      "5 3 1 2 3 1 15 2 4 5 1 6 0 0 0 0 \n",
      "1\n"
     ]
    }
   ],
   "source": [
    "from sys import stdin,setrecursionlimit\n",
    "setrecursionlimit(10**6)\n",
    "class treeNode:\n",
    "    def __init__(self, data):\n",
    "        self.data = data\n",
    "        self.children = []\n",
    "        \n",
    "    def Sum(self):\n",
    "        ans=self.data\n",
    "        for child in self.children:\n",
    "            ans += child.data\n",
    "        return ans\n",
    "\n",
    "def maxSumNode(tree):\n",
    "    if not tree:\n",
    "        return None\n",
    "    ans, rootsum = tree, tree.Sum()\n",
    "    for child in tree.children:\n",
    "        tmp,tmpsum= maxSumNode(child)\n",
    "        if tmpsum>rootsum:\n",
    "            ans,rootsum=tmp,tmpsum\n",
    "    return ans,rootsum\n",
    "\n",
    "def createLevelWiseTree(arr):\n",
    "    root = treeNode(int(arr[0]))\n",
    "    q = [root]\n",
    "    size = len(arr)\n",
    "    i = 1\n",
    "    while i<size:\n",
    "        parent = q.pop(0)\n",
    "        childCount = int(arr[i])\n",
    "        i += 1\n",
    "        for j in range(0,childCount):\n",
    "            temp = treeNode(int(arr[i+j]))\n",
    "            parent.children.append(temp)\n",
    "            q.append(temp)\n",
    "        i += childCount\n",
    "    return root\n",
    "\n",
    "# Main\n",
    "arr = list(int(x) for x in input().strip().split(' '))\n",
    "tree = createLevelWiseTree(arr)\n",
    "temp, tempSum = maxSumNode(tree)\n",
    "print(temp.data)"
   ]
  }
 ],
 "metadata": {
  "kernelspec": {
   "display_name": "Python 3",
   "language": "python",
   "name": "python3"
  },
  "language_info": {
   "codemirror_mode": {
    "name": "ipython",
    "version": 3
   },
   "file_extension": ".py",
   "mimetype": "text/x-python",
   "name": "python",
   "nbconvert_exporter": "python",
   "pygments_lexer": "ipython3",
   "version": "3.8.8"
  }
 },
 "nbformat": 4,
 "nbformat_minor": 5
}
