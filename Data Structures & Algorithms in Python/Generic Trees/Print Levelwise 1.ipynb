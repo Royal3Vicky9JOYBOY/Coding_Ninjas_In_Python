{
 "cells": [
  {
   "cell_type": "markdown",
   "id": "8d9f5164",
   "metadata": {},
   "source": [
    "# Print Levelwise\n",
    "Send Feedback\n",
    "Given a generic tree, print the input tree in level wise order.\n",
    "For printing a node with data N, you need to follow the exact format -\n",
    "N:x1,x2,x3,...,xn\n",
    "where, N is data of any node present in the generic tree. x1, x2, x3, ...., xn are the children of node N. Note that there is no space in between.\n",
    "You need to print all nodes in the level order form in different lines.\n",
    "Input format :\n",
    "The first line of input contains data of the nodes of the tree in level order form. The order is: data for root node, number of children to root node, data of each of child nodes and so on and so forth for each node. The data of the nodes of the tree is separated by space.\n",
    "Output Format :\n",
    "The first and only line of output contains the elements of the tree in level wise order, as described in the task.\n",
    "Constraints:\n",
    "Time Limit: 1 sec\n",
    "Sample Input 1:\n",
    "10 3 20 30 40 2 40 50 0 0 0 0 \n",
    "Sample Output 1:\n",
    "10:20,30,40\n",
    "20:40,50\n",
    "30:\n",
    "40:\n",
    "40:\n",
    "50:"
   ]
  },
  {
   "cell_type": "code",
   "execution_count": 2,
   "id": "0c98a116",
   "metadata": {},
   "outputs": [
    {
     "name": "stdout",
     "output_type": "stream",
     "text": [
      "10 3 20 30 40 2 40 50 0 0 0 0\n",
      "10:20,30,40\n",
      "20:40,50\n",
      "30:\n",
      "40:\n",
      "40:\n",
      "50:\n"
     ]
    }
   ],
   "source": [
    "## import sys\n",
    "class treeNode:\n",
    "    def __init__(self, data):\n",
    "        self.data = data\n",
    "        self.children = []\n",
    "    def __str__(self):\n",
    "        return str(self.data)\n",
    "\n",
    "def printLevelWiseTree(tree):\n",
    "    q = [tree]\n",
    "    while q:\n",
    "        parent = q.pop(0)\n",
    "        print(parent.data,':', \",\".join(str(num) for num in parent.children),\n",
    "                sep='')\n",
    "        for child in parent.children:\n",
    "            q.append(child)\n",
    "\n",
    "def createLevelWiseTree(arr):\n",
    "    root = treeNode(int(arr[0]))\n",
    "    q = [root]\n",
    "    size = len(arr)\n",
    "    i = 1\n",
    "    while i<size:\n",
    "        parent = q.pop(0)\n",
    "        childCount = int(arr[i])\n",
    "        i += 1\n",
    "        for j in range(0,childCount):\n",
    "            temp = treeNode(int(arr[i+j]))\n",
    "            parent.children.append(temp)\n",
    "            q.append(temp)\n",
    "        i += childCount\n",
    "    return root\n",
    "\n",
    "# Main\n",
    "sys.setrecursionlimit(10**6)\n",
    "arr = list(int(x) for x in input().strip().split(' '))\n",
    "tree = createLevelWiseTree(arr)\n",
    "printLevelWiseTree(tree)"
   ]
  }
 ],
 "metadata": {
  "kernelspec": {
   "display_name": "Python 3",
   "language": "python",
   "name": "python3"
  },
  "language_info": {
   "codemirror_mode": {
    "name": "ipython",
    "version": 3
   },
   "file_extension": ".py",
   "mimetype": "text/x-python",
   "name": "python",
   "nbconvert_exporter": "python",
   "pygments_lexer": "ipython3",
   "version": "3.8.8"
  }
 },
 "nbformat": 4,
 "nbformat_minor": 5
}
