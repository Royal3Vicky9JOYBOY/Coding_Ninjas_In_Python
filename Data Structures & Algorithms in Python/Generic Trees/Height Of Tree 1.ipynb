{
 "cells": [
  {
   "cell_type": "markdown",
   "id": "5da03e3c",
   "metadata": {},
   "source": [
    "# Height Of Tree\n",
    "Send Feedback\n",
    "Given a generic tree, find and return the height of given tree.\n",
    "Input Format:\n",
    "The first line of input contains data of the nodes of the tree in level order form. The order is: data for root node, number of children to root node, data of each of child nodes and so on and so forth for each node. The data of the nodes of the tree is separated by space.  \n",
    "Output Format :\n",
    "The first and only line of output prints the height of the given generic tree.\n",
    "Constraints:\n",
    "Time Limit: 1 sec\n",
    "Sample Input 1:\n",
    "10 3 20 30 40 2 40 50 0 0 0 0 \n",
    "Sample Output 1:\n",
    "3"
   ]
  },
  {
   "cell_type": "code",
   "execution_count": 1,
   "id": "8b3c2c67",
   "metadata": {},
   "outputs": [
    {
     "name": "stdout",
     "output_type": "stream",
     "text": [
      "10 3 20 30 40 2 40 50 0 0 0 0 0\n",
      "3\n"
     ]
    }
   ],
   "source": [
    "import sys\n",
    "import queue\n",
    "sys.setrecursionlimit(10**6)\n",
    "\n",
    "class TreeNode:\n",
    "    def __init__(self,data):\n",
    "        self.data=data\n",
    "        self.children=[]\n",
    "        \n",
    "def takeInputLevelArr(a):\n",
    "    rootdata=a[0]\n",
    "    if rootdata==-1:\n",
    "        return None\n",
    "    i=1\n",
    "    q=queue.Queue()\n",
    "    root=TreeNode(rootdata)\n",
    "    q.put(root)\n",
    "    while not q.empty():\n",
    "        curr=q.get()\n",
    "        childCount=a[i]\n",
    "        i+=1\n",
    "        for j in range(childCount):\n",
    "            childData=a[i]\n",
    "            childNode=TreeNode(childData)\n",
    "            curr.children.append(childNode)\n",
    "            q.put(childNode)\n",
    "            i+=1\n",
    "    return root\n",
    "\n",
    "\n",
    "\n",
    "# def heightTree(root):\n",
    "    \n",
    "#     if root==None:\n",
    "#         return 0 #edge case\n",
    "    \n",
    "#     height=1\n",
    "#     for child in root.children:\n",
    "#         heightChild=heightTree(child)\n",
    "#         height=max(height,1+heightChild)\n",
    "#     return height\n",
    "        \n",
    "def heightTree(root):\n",
    "    \n",
    "    if root==None:\n",
    "        return 0\n",
    "    \n",
    "    height=0\n",
    "    for child in root.children:\n",
    "        heightChild=heightTree(child)\n",
    "        height=max(heightChild,height)\n",
    "        \n",
    "    return height+1\n",
    "#MAIN\n",
    "a=[int(ele) for ele in input().split()]\n",
    "root=takeInputLevelArr(a)\n",
    "print(heightTree(root))\n",
    "\n",
    "\n",
    "\n",
    "\n",
    "\n",
    "\n"
   ]
  }
 ],
 "metadata": {
  "kernelspec": {
   "display_name": "Python 3",
   "language": "python",
   "name": "python3"
  },
  "language_info": {
   "codemirror_mode": {
    "name": "ipython",
    "version": 3
   },
   "file_extension": ".py",
   "mimetype": "text/x-python",
   "name": "python",
   "nbconvert_exporter": "python",
   "pygments_lexer": "ipython3",
   "version": "3.8.8"
  }
 },
 "nbformat": 4,
 "nbformat_minor": 5
}
