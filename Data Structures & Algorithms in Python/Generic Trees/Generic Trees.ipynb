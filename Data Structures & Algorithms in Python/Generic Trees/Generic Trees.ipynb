{
 "cells": [
  {
   "cell_type": "markdown",
   "id": "64b376d3",
   "metadata": {},
   "source": [
    "# Generic Trees"
   ]
  },
  {
   "cell_type": "markdown",
   "id": "76587fa9",
   "metadata": {},
   "source": [
    "Node -> * data\n",
    "\n",
    "       * children list"
   ]
  },
  {
   "cell_type": "markdown",
   "id": "c8b61a4a",
   "metadata": {},
   "source": [
    "# Generic Tree Node"
   ]
  },
  {
   "cell_type": "code",
   "execution_count": 1,
   "id": "f36730fc",
   "metadata": {},
   "outputs": [],
   "source": [
    "class TreeNode:\n",
    "    def __init__(self,data):\n",
    "        self.data=data\n",
    "        self.children=list()"
   ]
  },
  {
   "cell_type": "code",
   "execution_count": 2,
   "id": "d99db949",
   "metadata": {},
   "outputs": [
    {
     "data": {
      "text/plain": [
       "<__main__.TreeNode at 0x1f8b2fba880>"
      ]
     },
     "execution_count": 2,
     "metadata": {},
     "output_type": "execute_result"
    }
   ],
   "source": [
    "root=TreeNode(5)\n",
    "root"
   ]
  },
  {
   "cell_type": "code",
   "execution_count": null,
   "id": "79973609",
   "metadata": {},
   "outputs": [],
   "source": [
    "n1=TreeNode(5)\n",
    "n2=TreeNode(2)\n",
    "n3=TreeNode(9)\n",
    "n4=TreeNode(8)\n",
    "n5=TreeNode(7)\n",
    "n6=TreeNode(15)\n",
    "n7=TreeNode(1)\n",
    "\n",
    "n1.children.append(n2)\n",
    "n1.children.append(n3)\n",
    "n1.children.append(n4)\n",
    "n1.children.append(n5)\n",
    "\n",
    "n3.children.append(n6)\n",
    "n3.children.append(n7)"
   ]
  },
  {
   "cell_type": "markdown",
   "id": "b1bea382",
   "metadata": {},
   "source": [
    "# Print Tree(Recursively)"
   ]
  },
  {
   "cell_type": "markdown",
   "id": "157f54ca",
   "metadata": {},
   "source": [
    "PreOrder           \n",
    "                             \n",
    "                             5\n",
    "                          / / \\ \\\n",
    "                         2 9   8 7\n",
    "                          / \\\n",
    "                         15  1\n",
    "                         \n",
    "                         \n",
    "                   5 2 9 15 1 8 7"
   ]
  },
  {
   "cell_type": "markdown",
   "id": "25ab2fe4",
   "metadata": {},
   "source": [
    " dont get to see the connection\n",
    "    \n",
    "                              5\n",
    "                           / / \\ \\ \\ \\\n",
    "                          2 9  15 1 8 7\n",
    "                          \n",
    "                          \n",
    "                          \n",
    "                          \n",
    "                        5 2 9 15 1 8 7\n",
    "                              \n",
    "                    \n",
    "                  "
   ]
  },
  {
   "cell_type": "markdown",
   "id": "5b5e09b0",
   "metadata": {},
   "source": [
    "5:2,9,8,7\n",
    "\n",
    "2:\n",
    "\n",
    "9:15,1\n",
    "\n",
    "15:\n",
    "\n",
    "1:\n",
    "\n",
    "8:\n",
    "\n",
    "7:"
   ]
  },
  {
   "cell_type": "code",
   "execution_count": 3,
   "id": "a2e36e5a",
   "metadata": {},
   "outputs": [],
   "source": [
    "class TreeNode:\n",
    "    def __init__(self,data):\n",
    "        self.data=data\n",
    "        self.children=list()"
   ]
  },
  {
   "cell_type": "code",
   "execution_count": 4,
   "id": "3c0498d7",
   "metadata": {},
   "outputs": [],
   "source": [
    "def printTree(root):\n",
    "    # TODO what if root is None\n",
    "    print(root.data)\n",
    "    for child in root.children:\n",
    "        printTree(child)"
   ]
  },
  {
   "cell_type": "code",
   "execution_count": 5,
   "id": "59f16610",
   "metadata": {},
   "outputs": [
    {
     "name": "stdout",
     "output_type": "stream",
     "text": [
      "5\n",
      "2\n",
      "9\n",
      "15\n",
      "1\n",
      "8\n",
      "7\n"
     ]
    }
   ],
   "source": [
    "n1=TreeNode(5)\n",
    "n2=TreeNode(2)\n",
    "n3=TreeNode(9)\n",
    "n4=TreeNode(8)\n",
    "n5=TreeNode(7)\n",
    "n6=TreeNode(15)\n",
    "n7=TreeNode(1)\n",
    "                                           # doesn't have basecase\n",
    "n1.children.append(n2)\n",
    "n1.children.append(n3)\n",
    "n1.children.append(n4)\n",
    "n1.children.append(n5)\n",
    "\n",
    "n3.children.append(n6)\n",
    "n3.children.append(n7)\n",
    "printTree(n1)"
   ]
  },
  {
   "cell_type": "code",
   "execution_count": null,
   "id": "a80b8235",
   "metadata": {},
   "outputs": [],
   "source": [
    "# we dont require basecase\n",
    "# root==None<-Not  because basecase "
   ]
  },
  {
   "cell_type": "code",
   "execution_count": 5,
   "id": "d63d7397",
   "metadata": {},
   "outputs": [],
   "source": [
    "class TreeNode:\n",
    "    def __init__(self,data):\n",
    "        self.data=data\n",
    "        self.children=list()"
   ]
  },
  {
   "cell_type": "code",
   "execution_count": 6,
   "id": "cb0384a8",
   "metadata": {},
   "outputs": [],
   "source": [
    "def printTree(root):\n",
    "    # Not a base case but an edge case\n",
    "    if root==None:\n",
    "        return\n",
    "    \n",
    "    print(root.data)\n",
    "    for child in root.children:\n",
    "        printTree(child)"
   ]
  },
  {
   "cell_type": "code",
   "execution_count": 7,
   "id": "c789db61",
   "metadata": {},
   "outputs": [],
   "source": [
    "def printTreeDetailed(root):\n",
    "    if root==None:\n",
    "        return\n",
    "    \n",
    "    print(root.data,\":\",end=\"\")\n",
    "    for child in root.children:\n",
    "        print(child.data,\",\",end=\"\")\n",
    "        \n",
    "    print()\n",
    "        \n",
    "    for child in root.children:\n",
    "        printTreeDetailed(child)"
   ]
  },
  {
   "cell_type": "code",
   "execution_count": 9,
   "id": "23ba78c1",
   "metadata": {},
   "outputs": [
    {
     "name": "stdout",
     "output_type": "stream",
     "text": [
      "5 :2 ,9 ,8 ,7 ,\n",
      "2 :\n",
      "9 :15 ,1 ,\n",
      "15 :\n",
      "1 :\n",
      "8 :\n",
      "7 :\n"
     ]
    }
   ],
   "source": [
    "n1=TreeNode(5)\n",
    "n2=TreeNode(2)\n",
    "n3=TreeNode(9)\n",
    "n4=TreeNode(8)\n",
    "n5=TreeNode(7)\n",
    "n6=TreeNode(15)\n",
    "n7=TreeNode(1)\n",
    "                                           \n",
    "n1.children.append(n2)\n",
    "n1.children.append(n3)\n",
    "n1.children.append(n4)\n",
    "n1.children.append(n5)\n",
    "\n",
    "n3.children.append(n6)\n",
    "n3.children.append(n7)\n",
    "printTreeDetailed(n1)"
   ]
  },
  {
   "cell_type": "markdown",
   "id": "cea324c9",
   "metadata": {},
   "source": [
    "# Take Tree Input(Recursively)"
   ]
  },
  {
   "cell_type": "code",
   "execution_count": null,
   "id": "39c841d6",
   "metadata": {},
   "outputs": [],
   "source": [
    "# 1. keep asking for next child till you get -1\n",
    "# 2.how many childreen does root data have?(using)"
   ]
  },
  {
   "cell_type": "code",
   "execution_count": 10,
   "id": "218190c0",
   "metadata": {},
   "outputs": [],
   "source": [
    "class TreeNode:\n",
    "    def __init__(self,data):\n",
    "        self.data=data\n",
    "        self.children=list()"
   ]
  },
  {
   "cell_type": "code",
   "execution_count": 11,
   "id": "93dd212e",
   "metadata": {},
   "outputs": [],
   "source": [
    "def printTree(root):\n",
    "    # Not a base case but an edge case\n",
    "    if root==None:\n",
    "        return\n",
    "    \n",
    "    print(root.data)\n",
    "    for child in root.children:\n",
    "        printTree(child)"
   ]
  },
  {
   "cell_type": "code",
   "execution_count": 12,
   "id": "11a20ce2",
   "metadata": {},
   "outputs": [],
   "source": [
    "def printTreeDetailed(root):\n",
    "    if root==None:\n",
    "        return\n",
    "    \n",
    "    print(root.data,\":\",end=\"\")\n",
    "    for child in root.children:\n",
    "        print(child.data,\",\",end=\"\")\n",
    "        \n",
    "    print()\n",
    "        \n",
    "    for child in root.children:\n",
    "        printTreeDetailed(child)"
   ]
  },
  {
   "cell_type": "code",
   "execution_count": 13,
   "id": "260c4a28",
   "metadata": {},
   "outputs": [],
   "source": [
    "def takeTreeInput():\n",
    "    print(\"Enter root Data\")\n",
    "    rootData = int(input())\n",
    "    if rootData == -1:\n",
    "        return None\n",
    "    \n",
    "    root = TreeNode(rootData)\n",
    "    \n",
    "    print(\"Enter number of children for\", rootData)\n",
    "    childrenCount=int(input())\n",
    "    for i in range(childrenCount):\n",
    "        child=takeTreeInput()\n",
    "        root.children.append(child)\n",
    "    \n",
    "    return root\n",
    "                   "
   ]
  },
  {
   "cell_type": "code",
   "execution_count": 14,
   "id": "ded773b6",
   "metadata": {},
   "outputs": [
    {
     "name": "stdout",
     "output_type": "stream",
     "text": [
      "Enter root Data\n",
      "5\n",
      "Enter number of children for 5\n",
      "1\n",
      "Enter root Data\n",
      "4\n",
      "Enter number of children for 4\n",
      "0\n",
      "5 :2 ,9 ,8 ,7 ,\n",
      "2 :\n",
      "9 :15 ,1 ,\n",
      "15 :\n",
      "1 :\n",
      "8 :\n",
      "7 :\n"
     ]
    }
   ],
   "source": [
    "root=takeTreeInput()\n",
    "printTreeDetailed(root)"
   ]
  },
  {
   "cell_type": "code",
   "execution_count": 15,
   "id": "e78a5570",
   "metadata": {},
   "outputs": [
    {
     "name": "stdout",
     "output_type": "stream",
     "text": [
      "Enter root Data\n",
      "5\n",
      "Enter number of children for 5\n",
      "4\n",
      "Enter root Data\n",
      "2\n",
      "Enter number of children for 2\n",
      "0\n",
      "Enter root Data\n",
      "9\n",
      "Enter number of children for 9\n",
      "2\n",
      "Enter root Data\n",
      "15\n",
      "Enter number of children for 15\n",
      "0\n",
      "Enter root Data\n",
      "1\n",
      "Enter number of children for 1\n",
      "0\n",
      "Enter root Data\n",
      "8\n",
      "Enter number of children for 8\n",
      "0\n",
      "Enter root Data\n",
      "7\n",
      "Enter number of children for 7\n",
      "0\n",
      "5 :2 ,9 ,8 ,7 ,\n",
      "2 :\n",
      "9 :15 ,1 ,\n",
      "15 :\n",
      "1 :\n",
      "8 :\n",
      "7 :\n"
     ]
    }
   ],
   "source": [
    "root=takeTreeInput()\n",
    "printTreeDetailed(root)"
   ]
  },
  {
   "cell_type": "markdown",
   "id": "421fd297",
   "metadata": {},
   "source": [
    "# Number Of Nodes In Generic Tree"
   ]
  },
  {
   "cell_type": "code",
   "execution_count": 16,
   "id": "e51f62a9",
   "metadata": {},
   "outputs": [],
   "source": [
    "class TreeNode:\n",
    "    def __init__(self,data):\n",
    "        self.data=data\n",
    "        self.children=list()"
   ]
  },
  {
   "cell_type": "code",
   "execution_count": 17,
   "id": "cfbcdcc5",
   "metadata": {},
   "outputs": [],
   "source": [
    "def printTree(root):\n",
    "    # Not a base case but an edge case\n",
    "    if root==None:\n",
    "        return\n",
    "    \n",
    "    print(root.data)\n",
    "    for child in root.children:\n",
    "        printTree(child)"
   ]
  },
  {
   "cell_type": "code",
   "execution_count": 18,
   "id": "1381692e",
   "metadata": {},
   "outputs": [],
   "source": [
    "def printTreeDetailed(root):\n",
    "    if root==None:\n",
    "        return\n",
    "    \n",
    "    print(root.data,\":\",end=\"\")\n",
    "    for child in root.children:\n",
    "        print(child.data,\",\",end=\"\")\n",
    "        \n",
    "    print()\n",
    "        \n",
    "    for child in root.children:\n",
    "        printTreeDetailed(child)"
   ]
  },
  {
   "cell_type": "code",
   "execution_count": 19,
   "id": "1b12d145",
   "metadata": {},
   "outputs": [],
   "source": [
    "def takeTreeInput():\n",
    "    print(\"Enter root Data\")\n",
    "    rootData = int(input())\n",
    "    if rootData == -1:\n",
    "        return None\n",
    "    \n",
    "    root = TreeNode(rootData)\n",
    "    \n",
    "    print(\"Enter number of children for\", rootData)\n",
    "    childrenCount=int(input())\n",
    "    for i in range(childrenCount):\n",
    "        child=takeTreeInput()\n",
    "        root.children.append(child)\n",
    "    \n",
    "    return root"
   ]
  },
  {
   "cell_type": "code",
   "execution_count": 20,
   "id": "0e24041f",
   "metadata": {},
   "outputs": [],
   "source": [
    "def numNodes(root):\n",
    "    \n",
    "    if root==None:\n",
    "        return 0\n",
    "    count=1\n",
    "    for child in root.children:\n",
    "        count = count + numNodes(child)\n",
    "    return count"
   ]
  },
  {
   "cell_type": "code",
   "execution_count": 23,
   "id": "78e373e9",
   "metadata": {},
   "outputs": [
    {
     "name": "stdout",
     "output_type": "stream",
     "text": [
      "Enter root Data\n",
      "1\n",
      "Enter number of children for 1\n",
      "3\n",
      "Enter root Data\n",
      "2\n",
      "Enter number of children for 2\n",
      "0\n",
      "Enter root Data\n",
      "3\n",
      "Enter number of children for 3\n",
      "2\n",
      "Enter root Data\n",
      "5\n",
      "Enter number of children for 5\n",
      "0\n",
      "Enter root Data\n",
      "6\n",
      "Enter number of children for 6\n",
      "3\n",
      "Enter root Data\n",
      "7\n",
      "Enter number of children for 7\n",
      "0\n",
      "Enter root Data\n",
      "8\n",
      "Enter number of children for 8\n",
      "0\n",
      "Enter root Data\n",
      "9\n",
      "Enter number of children for 9\n",
      "0\n",
      "Enter root Data\n",
      "4\n",
      "Enter number of children for 4\n",
      "0\n",
      "1 :2 ,3 ,4 ,\n",
      "2 :\n",
      "3 :5 ,6 ,\n",
      "5 :\n",
      "6 :7 ,8 ,9 ,\n",
      "7 :\n",
      "8 :\n",
      "9 :\n",
      "4 :\n",
      "9\n"
     ]
    }
   ],
   "source": [
    "root=takeTreeInput()\n",
    "printTreeDetailed(root)\n",
    "print(numNodes(root))"
   ]
  },
  {
   "cell_type": "markdown",
   "id": "401f4023",
   "metadata": {},
   "source": [
    "                             1\n",
    "                            //\\\n",
    "                           1 3 4\n",
    "                            / \\\n",
    "                           5   6\n",
    "                             / / \\\n",
    "                            7 8   9"
   ]
  },
  {
   "cell_type": "markdown",
   "id": "eb577e5a",
   "metadata": {},
   "source": [
    "# Tree Input Levelwise"
   ]
  },
  {
   "cell_type": "code",
   "execution_count": 31,
   "id": "0850237e",
   "metadata": {},
   "outputs": [],
   "source": [
    "# nodes which are not done with children\n",
    "class TreeNode:\n",
    "    def __init__(self,data):\n",
    "        self.data=data\n",
    "        self.children=list()"
   ]
  },
  {
   "cell_type": "code",
   "execution_count": 32,
   "id": "99afffff",
   "metadata": {},
   "outputs": [],
   "source": [
    "def printTree(root):\n",
    "    # Not a base case but an edge case\n",
    "    if root==None:\n",
    "        return\n",
    "    \n",
    "    print(root.data)\n",
    "    for child in root.children:\n",
    "        printTree(child)"
   ]
  },
  {
   "cell_type": "code",
   "execution_count": 33,
   "id": "d0edb2ba",
   "metadata": {},
   "outputs": [],
   "source": [
    "def printTreeDetailed(root):\n",
    "    if root==None:\n",
    "        return\n",
    "    \n",
    "    print(root.data,\":\",end=\"\")\n",
    "    for child in root.children:\n",
    "        print(child.data,\",\",end=\"\")\n",
    "        \n",
    "    print()\n",
    "        \n",
    "    for child in root.children:\n",
    "        printTreeDetailed(child)"
   ]
  },
  {
   "cell_type": "code",
   "execution_count": 34,
   "id": "83a5d460",
   "metadata": {},
   "outputs": [],
   "source": [
    "def takeTreeInput():\n",
    "    print(\"Enter root Data\")\n",
    "    rootData = int(input())\n",
    "    if rootData == -1:\n",
    "        return None\n",
    "    \n",
    "    root = TreeNode(rootData)\n",
    "    \n",
    "    print(\"Enter number of children for\", rootData)\n",
    "    childrenCount=int(input())\n",
    "    for i in range(childrenCount):\n",
    "        child=takeTreeInput()\n",
    "        root.children.append(child)\n",
    "        \n",
    "    \n",
    "    return root"
   ]
  },
  {
   "cell_type": "code",
   "execution_count": 36,
   "id": "4010e474",
   "metadata": {},
   "outputs": [],
   "source": [
    "import queue\n",
    "def takeTreeInputLevelWise():\n",
    "    q=queue.Queue()\n",
    "    print(\"Enter root\")\n",
    "    rootData=int(input())\n",
    "    if rootData == -1:\n",
    "        return None\n",
    "    \n",
    "    root = TreeNode(rootData)\n",
    "    q.put(root)\n",
    "    while(not(q.empty())):\n",
    "        current_node=q.get()\n",
    "        print(\"Enter num of children for\", current_node.data)\n",
    "        numChildren=int(input())\n",
    "        for i in range(numChildren):\n",
    "            print(\"Enter next child for\", current_node.data)\n",
    "            childData=int(input())\n",
    "            child=TreeNode(childData)\n",
    "            current_node.children.append(child)\n",
    "            q.put(child)\n",
    "            \n",
    "    return root\n",
    "        "
   ]
  },
  {
   "cell_type": "code",
   "execution_count": 37,
   "id": "28b5a6e0",
   "metadata": {},
   "outputs": [],
   "source": [
    "def numNodes(root):\n",
    "    \n",
    "    if root==None:\n",
    "        return 0\n",
    "    count=1\n",
    "    for child in root.children:\n",
    "        count = count + numNodes(child)\n",
    "    return count"
   ]
  },
  {
   "cell_type": "code",
   "execution_count": 38,
   "id": "012bc8f3",
   "metadata": {},
   "outputs": [
    {
     "name": "stdout",
     "output_type": "stream",
     "text": [
      "Enter root\n",
      "1\n",
      "Enter num of children for 1\n",
      "3\n",
      "Enter next child for 1\n",
      "2\n",
      "Enter next child for 1\n",
      "3\n",
      "Enter next child for 1\n",
      "4\n",
      "Enter num of children for 2\n",
      "0\n",
      "Enter num of children for 3\n",
      "2\n",
      "Enter next child for 3\n",
      "5\n",
      "Enter next child for 3\n",
      "6\n",
      "Enter num of children for 4\n",
      "0\n",
      "Enter num of children for 5\n",
      "0\n",
      "Enter num of children for 6\n",
      "3\n",
      "Enter next child for 6\n",
      "7\n",
      "Enter next child for 6\n",
      "8\n",
      "Enter next child for 6\n",
      "9\n",
      "Enter num of children for 7\n",
      "0\n",
      "Enter num of children for 8\n",
      "0\n",
      "Enter num of children for 9\n",
      "0\n",
      "1 :2 ,3 ,4 ,\n",
      "2 :\n",
      "3 :5 ,6 ,\n",
      "5 :\n",
      "6 :7 ,8 ,9 ,\n",
      "7 :\n",
      "8 :\n",
      "9 :\n",
      "4 :\n",
      "9\n"
     ]
    }
   ],
   "source": [
    "root=takeTreeInputLevelWise()\n",
    "printTreeDetailed(root)\n",
    "print(numNodes(root))"
   ]
  },
  {
   "cell_type": "markdown",
   "id": "eea7f562",
   "metadata": {},
   "source": [
    "                              1\n",
    "                             //\\\n",
    "                            2 3 4\n",
    "                             / \\\n",
    "                            5   6\n",
    "                               //\\\n",
    "                              7 8 9"
   ]
  }
 ],
 "metadata": {
  "kernelspec": {
   "display_name": "Python 3",
   "language": "python",
   "name": "python3"
  },
  "language_info": {
   "codemirror_mode": {
    "name": "ipython",
    "version": 3
   },
   "file_extension": ".py",
   "mimetype": "text/x-python",
   "name": "python",
   "nbconvert_exporter": "python",
   "pygments_lexer": "ipython3",
   "version": "3.8.8"
  }
 },
 "nbformat": 4,
 "nbformat_minor": 5
}
