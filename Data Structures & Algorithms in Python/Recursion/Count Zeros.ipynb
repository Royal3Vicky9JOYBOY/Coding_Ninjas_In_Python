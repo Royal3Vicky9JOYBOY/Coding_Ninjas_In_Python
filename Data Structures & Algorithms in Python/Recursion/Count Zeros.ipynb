{
 "cells": [
  {
   "cell_type": "markdown",
   "id": "37733793",
   "metadata": {},
   "source": [
    "# Count Zeros\n",
    "Send Feedback\n",
    "Given an integer N, count and return the number of zeros that are present in the given integer using recursion.\n",
    "Input Format :\n",
    "Integer N\n",
    "Output Format :\n",
    "Number of zeros in N\n",
    "Constraints :\n",
    "0 <= N <= 10^9\n",
    "Sample Input 1 :\n",
    "0\n",
    "Sample Output 1 :\n",
    "1\n",
    "Sample Input 2 :\n",
    "00010204\n",
    "Sample Output 2 :\n",
    "2\n",
    "Explanation for Sample Output 2 :\n",
    "Even though \"00010204\" has 5 zeros, the output would still be 2 because when you convert it to an integer, it becomes 10204.\n",
    "Sample Input 3 :\n",
    "708000\n",
    "Sample Output 3 :\n",
    "4"
   ]
  },
  {
   "cell_type": "code",
   "execution_count": 3,
   "id": "0ae3d9af",
   "metadata": {},
   "outputs": [
    {
     "name": "stdout",
     "output_type": "stream",
     "text": [
      "708000\n",
      "4\n"
     ]
    }
   ],
   "source": [
    "def countzeros(n):\n",
    "    if n == 0:\n",
    "        return 1\n",
    "    if (n < 10):\n",
    "        return 0\n",
    "    if (n % 10) == 0:\n",
    "        return 1 + countzeros(n // 10)\n",
    "    else:\n",
    "        return countzeros(n // 10)\n",
    "\n",
    "\n",
    "n = int(input())\n",
    "print(countzeros(n))\n"
   ]
  },
  {
   "cell_type": "code",
   "execution_count": 5,
   "id": "203bd9c2",
   "metadata": {},
   "outputs": [
    {
     "name": "stdout",
     "output_type": "stream",
     "text": [
      "3\n",
      "0\n"
     ]
    }
   ],
   "source": [
    "n = int(input())\n",
    "print(countzeros(n))"
   ]
  }
 ],
 "metadata": {
  "kernelspec": {
   "display_name": "Python 3",
   "language": "python",
   "name": "python3"
  },
  "language_info": {
   "codemirror_mode": {
    "name": "ipython",
    "version": 3
   },
   "file_extension": ".py",
   "mimetype": "text/x-python",
   "name": "python",
   "nbconvert_exporter": "python",
   "pygments_lexer": "ipython3",
   "version": "3.8.8"
  }
 },
 "nbformat": 4,
 "nbformat_minor": 5
}
