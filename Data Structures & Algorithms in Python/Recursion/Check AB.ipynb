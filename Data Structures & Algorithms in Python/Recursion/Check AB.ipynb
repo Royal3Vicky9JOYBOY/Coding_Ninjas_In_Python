{
 "cells": [
  {
   "cell_type": "markdown",
   "id": "7cc297db",
   "metadata": {},
   "source": [
    "# Check AB\n",
    "Send Feedback\n",
    "Suppose you have a string, S, made up of only 'a's and 'b's. Write a recursive function that checks if the string was generated using the following rules:\n",
    "a. The string begins with an 'a'\n",
    "b. Each 'a' is followed by nothing or an 'a' or \"bb\"\n",
    "c. Each \"bb\" is followed by nothing or an 'a'\n",
    "If all the rules are followed by the given string, return true otherwise return false.\n",
    "Input format :\n",
    "String S\n",
    "Output format :\n",
    "'true' or 'false'\n",
    "Constraints :\n",
    "1 <= |S| <= 1000\n",
    "where |S| represents length of string S.\n",
    "Sample Input 1 :\n",
    "abb\n",
    "Sample Output 1 :\n",
    "true\n",
    "Sample Input 2 :\n",
    "abababa\n",
    "Sample Output 2 :\n",
    "false\n",
    "Explanation for Sample Input 2\n",
    "In the above example, a is not followed by either \"a\" or \"bb\", instead it's followed by \"b\" which results in false to be returned."
   ]
  },
  {
   "cell_type": "code",
   "execution_count": 2,
   "id": "e1a9711e",
   "metadata": {},
   "outputs": [
    {
     "name": "stdout",
     "output_type": "stream",
     "text": [
      "ababa\n",
      "false\n"
     ]
    }
   ],
   "source": [
    "def checkAB(s):\n",
    "    if len(s) == 0:\n",
    "        return True\n",
    "    \n",
    "    if s[0] == 'a':\n",
    "        if len(s[1:]) > 1 and s[1:3] == 'bb':\n",
    "            return checkAB(s[3:])\n",
    "        else:\n",
    "            return checkAB(s[1:])\n",
    "        \n",
    "    else:\n",
    "        return False\n",
    "    \n",
    "    \n",
    "s=input()\n",
    "if checkAB(s):\n",
    "    print(\"true\")\n",
    "else:\n",
    "    print(\"false\")"
   ]
  },
  {
   "cell_type": "code",
   "execution_count": 3,
   "id": "7b5e8615",
   "metadata": {},
   "outputs": [
    {
     "name": "stdout",
     "output_type": "stream",
     "text": [
      "aabb\n",
      "true\n"
     ]
    }
   ],
   "source": [
    "s=input()\n",
    "if checkAB(s):\n",
    "    print(\"true\")\n",
    "else:\n",
    "    print(\"false\")"
   ]
  }
 ],
 "metadata": {
  "kernelspec": {
   "display_name": "Python 3",
   "language": "python",
   "name": "python3"
  },
  "language_info": {
   "codemirror_mode": {
    "name": "ipython",
    "version": 3
   },
   "file_extension": ".py",
   "mimetype": "text/x-python",
   "name": "python",
   "nbconvert_exporter": "python",
   "pygments_lexer": "ipython3",
   "version": "3.8.8"
  }
 },
 "nbformat": 4,
 "nbformat_minor": 5
}
