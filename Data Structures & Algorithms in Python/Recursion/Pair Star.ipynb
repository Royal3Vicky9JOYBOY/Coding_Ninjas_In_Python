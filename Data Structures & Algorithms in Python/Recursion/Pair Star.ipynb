{
 "cells": [
  {
   "cell_type": "markdown",
   "id": "4467ff45",
   "metadata": {},
   "source": [
    "# Pair Star\n",
    "Send Feedback\n",
    "Given a string S, compute recursively a new string where identical chars that are adjacent in the original string are separated from each other by a \"*\".\n",
    "Input format :\n",
    "String S\n",
    "Output format :\n",
    "Modified string\n",
    "Constraints :\n",
    "0 <= |S| <= 1000\n",
    "where |S| represents length of string S.\n",
    "Sample Input 1 :\n",
    "hello\n",
    "Sample Output 1:\n",
    "hel*lo\n",
    "Sample Input 2 :\n",
    "aaaa\n",
    "Sample Output 2 :\n",
    "a*a*a*a"
   ]
  },
  {
   "cell_type": "code",
   "execution_count": 3,
   "id": "d9090b1e",
   "metadata": {},
   "outputs": [
    {
     "name": "stdout",
     "output_type": "stream",
     "text": [
      "Luffy\n",
      "Luf*fy\n"
     ]
    }
   ],
   "source": [
    "def pairstar(a):\n",
    "    l=len(a)\n",
    "    if l==0 or l==1:\n",
    "        return a\n",
    "    newa=a[1:]\n",
    "    smalloutput=pairstar(newa)\n",
    "    if a[0]==a[1]:\n",
    "        return a[0]+'*'+smalloutput\n",
    "    else:\n",
    "        return a[0]+smalloutput\n",
    "a=input()\n",
    "print(pairstar(a))\n"
   ]
  }
 ],
 "metadata": {
  "kernelspec": {
   "display_name": "Python 3",
   "language": "python",
   "name": "python3"
  },
  "language_info": {
   "codemirror_mode": {
    "name": "ipython",
    "version": 3
   },
   "file_extension": ".py",
   "mimetype": "text/x-python",
   "name": "python",
   "nbconvert_exporter": "python",
   "pygments_lexer": "ipython3",
   "version": "3.8.8"
  }
 },
 "nbformat": 4,
 "nbformat_minor": 5
}
