{
 "cells": [
  {
   "cell_type": "markdown",
   "id": "9f0376b3",
   "metadata": {},
   "source": [
    "# String to Integer\n",
    "Send Feedback\n",
    "Write a recursive function to convert a given string into the number it represents. That is input will be a numeric string that contains only numbers, you need to convert the string into corresponding integer and return the answer.\n",
    "Input format :\n",
    "Numeric string S (string, Eg. \"1234\")\n",
    "Output format :\n",
    "Corresponding integer N (int, Eg. 1234)\n",
    "Constraints :\n",
    "0 <= |S| <= 9\n",
    "where |S| represents length of string S.\n",
    "Sample Input 1 :\n",
    "00001231\n",
    "Sample Output 1 :\n",
    "1231\n",
    "Sample Input 2 :\n",
    "12567\n",
    "Sample Output 2 :\n",
    "12567"
   ]
  },
  {
   "cell_type": "code",
   "execution_count": 2,
   "id": "9bc4aed4",
   "metadata": {},
   "outputs": [
    {
     "name": "stdout",
     "output_type": "stream",
     "text": [
      "03690\n",
      "3690\n"
     ]
    }
   ],
   "source": [
    "def strtoint(str):\n",
    "    if (len(str) == 1):\n",
    "        return ord(str[0]) - 48\n",
    "    a = strtoint(str[1:])\n",
    "    b = ord(str[0]) - 48\n",
    "    n = 10 ** (len(str) - 1)\n",
    "    return (b * n) + a\n",
    "\n",
    "str = input()\n",
    "print(strtoint(str))"
   ]
  }
 ],
 "metadata": {
  "kernelspec": {
   "display_name": "Python 3",
   "language": "python",
   "name": "python3"
  },
  "language_info": {
   "codemirror_mode": {
    "name": "ipython",
    "version": 3
   },
   "file_extension": ".py",
   "mimetype": "text/x-python",
   "name": "python",
   "nbconvert_exporter": "python",
   "pygments_lexer": "ipython3",
   "version": "3.8.8"
  }
 },
 "nbformat": 4,
 "nbformat_minor": 5
}
