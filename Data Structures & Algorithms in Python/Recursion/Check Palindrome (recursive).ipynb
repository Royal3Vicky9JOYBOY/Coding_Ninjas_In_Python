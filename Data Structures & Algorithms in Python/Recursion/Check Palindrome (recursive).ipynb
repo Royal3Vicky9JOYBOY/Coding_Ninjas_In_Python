{
 "cells": [
  {
   "cell_type": "markdown",
   "id": "c87fe064",
   "metadata": {},
   "source": [
    "# Check Palindrome (recursive)\n",
    "Send Feedback\n",
    "Check whether a given String S is a palindrome using recursion. Return true or false.\n",
    "Input Format :\n",
    "String S\n",
    "Output Format :\n",
    "'true' or 'false'\n",
    "Constraints :\n",
    "0 <= |S| <= 1000\n",
    "where |S| represents length of string S.\n",
    "Sample Input 1 :\n",
    "racecar\n",
    "Sample Output 1:\n",
    "true\n",
    "Sample Input 2 :\n",
    "ninja\n",
    "Sample Output 2:\n",
    "false"
   ]
  },
  {
   "cell_type": "code",
   "execution_count": 2,
   "id": "44ca66fa",
   "metadata": {},
   "outputs": [
    {
     "name": "stdout",
     "output_type": "stream",
     "text": [
      "Anime\n",
      "false\n"
     ]
    }
   ],
   "source": [
    "def RcheckPalindrome(str):\n",
    "    size=len(str)\n",
    "    if size <= 1:\n",
    "        return True\n",
    "    if str[0]!=str[size-1]:\n",
    "        return False\n",
    "    return RcheckPalindrome(str[1:-1])\n",
    "\n",
    "# Main\n",
    "from sys import setrecursionlimit\n",
    "setrecursionlimit(11000)\n",
    "str=input()\n",
    "if RcheckPalindrome(str):\n",
    "    print('true')\n",
    "else:\n",
    "    print('false')"
   ]
  }
 ],
 "metadata": {
  "kernelspec": {
   "display_name": "Python 3",
   "language": "python",
   "name": "python3"
  },
  "language_info": {
   "codemirror_mode": {
    "name": "ipython",
    "version": 3
   },
   "file_extension": ".py",
   "mimetype": "text/x-python",
   "name": "python",
   "nbconvert_exporter": "python",
   "pygments_lexer": "ipython3",
   "version": "3.8.8"
  }
 },
 "nbformat": 4,
 "nbformat_minor": 5
}
