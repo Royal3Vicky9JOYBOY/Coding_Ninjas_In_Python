{
 "cells": [
  {
   "cell_type": "markdown",
   "id": "734f3cd4",
   "metadata": {},
   "source": [
    "# Geometric Sum\n",
    "Send Feedback\n",
    "Given k, find the geometric sum i.e.\n",
    "1 + 1/2 + 1/4 + 1/8 + ... + 1/(2^k) \n",
    "using recursion.\n",
    "Input format :\n",
    "Integer k\n",
    "Output format :\n",
    "Geometric sum (upto 5 decimal places)\n",
    "Constraints :\n",
    "0 <= k <= 1000\n",
    "Sample Input 1 :\n",
    "3\n",
    "Sample Output 1 :\n",
    "1.87500\n",
    "Sample Input 2 :\n",
    "4\n",
    "Sample Output 2 :\n",
    "1.93750"
   ]
  },
  {
   "cell_type": "code",
   "execution_count": 1,
   "id": "65f9bd6e",
   "metadata": {},
   "outputs": [
    {
     "name": "stdout",
     "output_type": "stream",
     "text": [
      "3\n",
      "1.87500\n"
     ]
    }
   ],
   "source": [
    "def geometricsum(k):\n",
    "    if k == 0:\n",
    "        return 1 \n",
    "    output = 1/pow(2,k) + geometricsum(k-1)\n",
    "    return output\n",
    "k = int(input())\n",
    "print(\"%.5f\"%geometricsum(k))\n"
   ]
  }
 ],
 "metadata": {
  "kernelspec": {
   "display_name": "Python 3",
   "language": "python",
   "name": "python3"
  },
  "language_info": {
   "codemirror_mode": {
    "name": "ipython",
    "version": 3
   },
   "file_extension": ".py",
   "mimetype": "text/x-python",
   "name": "python",
   "nbconvert_exporter": "python",
   "pygments_lexer": "ipython3",
   "version": "3.8.8"
  }
 },
 "nbformat": 4,
 "nbformat_minor": 5
}
