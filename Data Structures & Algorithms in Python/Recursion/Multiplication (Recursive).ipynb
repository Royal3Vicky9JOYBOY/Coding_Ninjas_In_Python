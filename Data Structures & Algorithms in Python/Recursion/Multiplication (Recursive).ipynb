{
 "cells": [
  {
   "cell_type": "markdown",
   "id": "16cd99f5",
   "metadata": {},
   "source": [
    "# Multiplication (Recursive)\n",
    "Send Feedback\n",
    "Given two integers M & N, calculate and return their multiplication using recursion. You can only use subtraction and addition for your calculation. No other operators are allowed.\n",
    "Input format :\n",
    "Line 1 : Integer M\n",
    "Line 2 : Integer N\n",
    "Output format :\n",
    "M x N\n",
    "Constraints :\n",
    "0 <= M <= 1000\n",
    "0 <= N <= 1000\n",
    "Sample Input 1 :\n",
    "3 \n",
    "5\n",
    "Sample Output 1 :\n",
    "15\n",
    "Sample Input 2 :\n",
    "4 \n",
    "0\n",
    "Sample Output 2 :\n",
    "0"
   ]
  },
  {
   "cell_type": "code",
   "execution_count": 1,
   "id": "ef044db1",
   "metadata": {},
   "outputs": [
    {
     "name": "stdout",
     "output_type": "stream",
     "text": [
      "3\n",
      "9\n",
      "27\n"
     ]
    }
   ],
   "source": [
    "from sys import setrecursionlimit\n",
    "setrecursionlimit(10**6) \n",
    "def multiply(M,N):\n",
    "    if M == 0 or N==0:\n",
    "        return 0\n",
    "    else:\n",
    "         return (M + multiply(M, N - 1))\n",
    "         \n",
    "    \n",
    " \n",
    "# Driven code to check above\n",
    "M=int(input())\n",
    "N=int(input())\n",
    "result = multiply(M,N)\n",
    "print(result)"
   ]
  }
 ],
 "metadata": {
  "kernelspec": {
   "display_name": "Python 3",
   "language": "python",
   "name": "python3"
  },
  "language_info": {
   "codemirror_mode": {
    "name": "ipython",
    "version": 3
   },
   "file_extension": ".py",
   "mimetype": "text/x-python",
   "name": "python",
   "nbconvert_exporter": "python",
   "pygments_lexer": "ipython3",
   "version": "3.8.8"
  }
 },
 "nbformat": 4,
 "nbformat_minor": 5
}
