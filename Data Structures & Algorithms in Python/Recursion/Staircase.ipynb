{
 "cells": [
  {
   "cell_type": "markdown",
   "id": "be849fd8",
   "metadata": {},
   "source": [
    "# Staircase\n",
    "Send Feedback\n",
    "A child is running up a staircase with N steps, and can hop either 1 step, 2 steps or 3 steps at a time. Implement a method to count how many possible ways the child can run up to the stairs. You need to return number of possible ways W.\n",
    "Input format :\n",
    "Integer N\n",
    "Output Format :\n",
    "Integer W\n",
    "Constraints :\n",
    "1 <= N <= 30\n",
    "Sample Input 1 :\n",
    "4\n",
    "Sample Output 1 :\n",
    "7\n",
    "Sample Input 2 :\n",
    "5\n",
    "Sample Output 2 :\n",
    "13"
   ]
  },
  {
   "cell_type": "code",
   "execution_count": 1,
   "id": "daf73e0c",
   "metadata": {},
   "outputs": [
    {
     "name": "stdout",
     "output_type": "stream",
     "text": [
      "6\n",
      "24\n"
     ]
    }
   ],
   "source": [
    "def staircase(n):\n",
    "    if n<3:\n",
    "        return n\n",
    "    elif n==3:\n",
    "        return 4\n",
    "    return staircase(n-1)+staircase(n-2)+staircase(n-3)\n",
    "import sys\n",
    "sys.setrecursionlimit(99999)\n",
    "n=int(input())\n",
    "print(staircase(n))"
   ]
  }
 ],
 "metadata": {
  "kernelspec": {
   "display_name": "Python 3",
   "language": "python",
   "name": "python3"
  },
  "language_info": {
   "codemirror_mode": {
    "name": "ipython",
    "version": 3
   },
   "file_extension": ".py",
   "mimetype": "text/x-python",
   "name": "python",
   "nbconvert_exporter": "python",
   "pygments_lexer": "ipython3",
   "version": "3.8.8"
  }
 },
 "nbformat": 4,
 "nbformat_minor": 5
}
