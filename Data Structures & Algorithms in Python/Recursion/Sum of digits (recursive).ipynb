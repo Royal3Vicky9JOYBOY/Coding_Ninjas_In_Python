{
 "cells": [
  {
   "cell_type": "markdown",
   "id": "26772a1a",
   "metadata": {},
   "source": [
    "# Sum of digits (recursive)\n",
    "Send Feedback\n",
    "Write a recursive function that returns the sum of the digits of a given integer.\n",
    "Input format :\n",
    "Integer N\n",
    "Output format :\n",
    "Sum of digits of N\n",
    "Constraints :\n",
    "0 <= N <= 10^9\n",
    "Sample Input 1 :\n",
    "12345\n",
    "Sample Output 1 :\n",
    "15\n",
    "Sample Input 2 :\n",
    "9\n",
    "Sample Output 2 :\n",
    "9"
   ]
  },
  {
   "cell_type": "code",
   "execution_count": 1,
   "id": "6490954e",
   "metadata": {},
   "outputs": [
    {
     "name": "stdout",
     "output_type": "stream",
     "text": [
      "33\n",
      "6\n"
     ]
    }
   ],
   "source": [
    "def sum_of_digit( n ):\n",
    "    if n == 0:\n",
    "        return 0\n",
    "    return (n % 10 + sum_of_digit(int(n / 10)))\n",
    " \n",
    "\n",
    "n =int(input())\n",
    "result = sum_of_digit(n)\n",
    "print(result)\n",
    " "
   ]
  }
 ],
 "metadata": {
  "kernelspec": {
   "display_name": "Python 3",
   "language": "python",
   "name": "python3"
  },
  "language_info": {
   "codemirror_mode": {
    "name": "ipython",
    "version": 3
   },
   "file_extension": ".py",
   "mimetype": "text/x-python",
   "name": "python",
   "nbconvert_exporter": "python",
   "pygments_lexer": "ipython3",
   "version": "3.8.8"
  }
 },
 "nbformat": 4,
 "nbformat_minor": 5
}
