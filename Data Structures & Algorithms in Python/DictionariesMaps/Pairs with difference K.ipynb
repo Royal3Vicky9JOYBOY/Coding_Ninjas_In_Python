{
 "cells": [
  {
   "cell_type": "markdown",
   "id": "91f0f785",
   "metadata": {},
   "source": [
    "# Pairs with difference K\n",
    "Send Feedback\n",
    "You are given with an array of integers and an integer K. You have to find and print the count of all such pairs which have difference K.\n",
    "Note: Take absolute difference between the elements of the array.\n",
    "Input Format:\n",
    "The first line of input contains an integer, that denotes the value of the size of the array. Let us denote it with the symbol n.\n",
    "The following line contains n space separated integers, that denote the value of the elements of the array.\n",
    "The following line contains an integer, that denotes the value of K.\n",
    "Output format :\n",
    "The first and only line of output contains count of all such pairs which have an absolute difference of K. \n",
    "Constraints :\n",
    "0 <= n <= 10^4\n",
    "Time Limit: 1 sec\n",
    "Sample Input 1 :\n",
    "4 \n",
    "5 1 2 4\n",
    "3\n",
    "Sample Output 1 :\n",
    "2\n",
    "Sample Input 2 :\n",
    "4\n",
    "4 4 4 4 \n",
    "0\n",
    "Sample Output 2 :\n",
    "6\n"
   ]
  },
  {
   "cell_type": "code",
   "execution_count": 1,
   "id": "beaee17f",
   "metadata": {},
   "outputs": [
    {
     "ename": "SyntaxError",
     "evalue": "invalid syntax (<ipython-input-1-68f8f99f47b4>, line 1)",
     "output_type": "error",
     "traceback": [
      "\u001b[1;36m  File \u001b[1;32m\"<ipython-input-1-68f8f99f47b4>\"\u001b[1;36m, line \u001b[1;32m1\u001b[0m\n\u001b[1;33m    Pairs with difference K\u001b[0m\n\u001b[1;37m          ^\u001b[0m\n\u001b[1;31mSyntaxError\u001b[0m\u001b[1;31m:\u001b[0m invalid syntax\n"
     ]
    }
   ],
   "source": [
    "Pairs with difference K\n",
    "Send Feedback\n",
    "You are given with an array of integers and an integer K. You have to find and print the count of all such pairs which have difference K.\n",
    "Note: Take absolute difference between the elements of the array.\n",
    "Input Format:\n",
    "The first line of input contains an integer, that denotes the value of the size of the array. Let us denote it with the symbol n.\n",
    "The following line contains n space separated integers, that denote the value of the elements of the array.\n",
    "The following line contains an integer, that denotes the value of K.\n",
    "Output format :\n",
    "The first and only line of output contains count of all such pairs which have an absolute difference of K. \n",
    "Constraints :\n",
    "0 <= n <= 10^4\n",
    "Time Limit: 1 sec\n",
    "Sample Input 1 :\n",
    "4 \n",
    "5 1 2 4\n",
    "3\n",
    "Sample Output 1 :\n",
    "2\n",
    "Sample Input 2 :\n",
    "4\n",
    "4 4 4 4 \n",
    "0\n",
    "Sample Output 2 :\n",
    "6\n"
   ]
  }
 ],
 "metadata": {
  "kernelspec": {
   "display_name": "Python 3",
   "language": "python",
   "name": "python3"
  },
  "language_info": {
   "codemirror_mode": {
    "name": "ipython",
    "version": 3
   },
   "file_extension": ".py",
   "mimetype": "text/x-python",
   "name": "python",
   "nbconvert_exporter": "python",
   "pygments_lexer": "ipython3",
   "version": "3.8.8"
  }
 },
 "nbformat": 4,
 "nbformat_minor": 5
}
