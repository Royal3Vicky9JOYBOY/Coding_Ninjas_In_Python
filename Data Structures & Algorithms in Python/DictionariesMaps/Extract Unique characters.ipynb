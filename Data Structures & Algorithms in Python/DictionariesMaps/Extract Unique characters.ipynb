{
 "cells": [
  {
   "cell_type": "markdown",
   "id": "c8c9353a",
   "metadata": {},
   "source": [
    "# Extract Unique characters\n",
    "Send Feedback\n",
    "Given a string S, you need to remove all the duplicates. That means, the output string should contain each character only once. The respective order of characters should remain same, as in the input string.\n",
    "Input format:\n",
    "The first and only line of input contains a string, that denotes the value of S.\n",
    "Output format :\n",
    "The first and only line of output contains the updated string, as described in the task.\n",
    "Constraints :\n",
    "0 <= Length of S <= 10^8\n",
    "Time Limit: 1 sec\n",
    "Sample Input 1 :\n",
    "ababacd\n",
    "Sample Output 1 :\n",
    "abcd\n",
    "Sample Input 2 :\n",
    "abcde\n",
    "Sample Output 2 :\n",
    "abcde"
   ]
  },
  {
   "cell_type": "code",
   "execution_count": 1,
   "id": "0d8a4ab5",
   "metadata": {},
   "outputs": [
    {
     "name": "stdout",
     "output_type": "stream",
     "text": [
      "luffy\n",
      "lufy\n"
     ]
    }
   ],
   "source": [
    "def uniqueChar(s): \n",
    "    # Write your code here\n",
    "    d = {}\n",
    "    strout = \"\"\n",
    "    for i in range(len(s)):\n",
    "        key = s[i]\n",
    "        d[key] = d.get(key,0) + 1\n",
    "    for i in range(len(s)):\n",
    "        key = s[i]\n",
    "        value = d.get(key,0)\n",
    "        if value > 0:\n",
    "            strout += key\n",
    "            d[key] = 0\n",
    "    return strout\n",
    "\n",
    "\n",
    "\n",
    "\n",
    "\n",
    "\n",
    "# Main \n",
    "s=input() \n",
    "print(uniqueChar(s))"
   ]
  }
 ],
 "metadata": {
  "kernelspec": {
   "display_name": "Python 3",
   "language": "python",
   "name": "python3"
  },
  "language_info": {
   "codemirror_mode": {
    "name": "ipython",
    "version": 3
   },
   "file_extension": ".py",
   "mimetype": "text/x-python",
   "name": "python",
   "nbconvert_exporter": "python",
   "pygments_lexer": "ipython3",
   "version": "3.8.8"
  }
 },
 "nbformat": 4,
 "nbformat_minor": 5
}
