{
 "cells": [
  {
   "cell_type": "markdown",
   "id": "67738b91",
   "metadata": {},
   "source": [
    "# Maximum Frequency\n",
    "Send Feedback\n",
    "You are given an array of integers that contain numbers in random order. Write a program to find and return the number which occurs the maximum times in the given input.\n",
    "If two or more elements contend for the maximum frequency, return the element which occurs in the array first.\n",
    "Input Format:\n",
    "The first line of input contains an integer, that denotes the value of the size of the array. Let us denote it with the symbol N.\n",
    "The following line contains N space separated integers, that denote the value of the elements of the array.\n",
    "Output Format :\n",
    "The first and only line of output contains most frequent element in the given array.\n",
    "Constraints:\n",
    "0 <= N <= 10^8\n",
    "Time Limit: 1 sec\n",
    "Sample Input 1 :\n",
    "13\n",
    "2 12 2 11 12 2 1 2 2 11 12 2 6 \n",
    "Sample Output 1 :\n",
    "2\n",
    "Sample Input 2 :\n",
    "3\n",
    "1 4 5\n",
    "Sample Output 2 :\n",
    "1"
   ]
  },
  {
   "cell_type": "code",
   "execution_count": 1,
   "id": "f49e3943",
   "metadata": {},
   "outputs": [
    {
     "ename": "ValueError",
     "evalue": "invalid literal for int() with base 10: ''",
     "output_type": "error",
     "traceback": [
      "\u001b[1;31m---------------------------------------------------------------------------\u001b[0m",
      "\u001b[1;31mValueError\u001b[0m                                Traceback (most recent call last)",
      "\u001b[1;32m<ipython-input-1-65f7937473cc>\u001b[0m in \u001b[0;36m<module>\u001b[1;34m\u001b[0m\n\u001b[0;32m     47\u001b[0m \u001b[1;33m\u001b[0m\u001b[0m\n\u001b[0;32m     48\u001b[0m \u001b[1;33m\u001b[0m\u001b[0m\n\u001b[1;32m---> 49\u001b[1;33m \u001b[0marr\u001b[0m\u001b[1;33m,\u001b[0m \u001b[0mn\u001b[0m \u001b[1;33m=\u001b[0m \u001b[0mtakeInput\u001b[0m\u001b[1;33m(\u001b[0m\u001b[1;33m)\u001b[0m\u001b[1;33m\u001b[0m\u001b[1;33m\u001b[0m\u001b[0m\n\u001b[0m\u001b[0;32m     50\u001b[0m \u001b[0mprint\u001b[0m\u001b[1;33m(\u001b[0m\u001b[0mmaxfreq\u001b[0m\u001b[1;33m(\u001b[0m\u001b[0marr\u001b[0m\u001b[1;33m)\u001b[0m\u001b[1;33m)\u001b[0m\u001b[1;33m\u001b[0m\u001b[1;33m\u001b[0m\u001b[0m\n",
      "\u001b[1;32m<ipython-input-1-65f7937473cc>\u001b[0m in \u001b[0;36mtakeInput\u001b[1;34m()\u001b[0m\n\u001b[0;32m     40\u001b[0m \u001b[1;32mdef\u001b[0m \u001b[0mtakeInput\u001b[0m\u001b[1;33m(\u001b[0m\u001b[1;33m)\u001b[0m\u001b[1;33m:\u001b[0m\u001b[1;33m\u001b[0m\u001b[1;33m\u001b[0m\u001b[0m\n\u001b[0;32m     41\u001b[0m     \u001b[1;31m#To take fast I/O\u001b[0m\u001b[1;33m\u001b[0m\u001b[1;33m\u001b[0m\u001b[1;33m\u001b[0m\u001b[0m\n\u001b[1;32m---> 42\u001b[1;33m     \u001b[0mn\u001b[0m \u001b[1;33m=\u001b[0m \u001b[0mint\u001b[0m\u001b[1;33m(\u001b[0m\u001b[0mstdin\u001b[0m\u001b[1;33m.\u001b[0m\u001b[0mreadline\u001b[0m\u001b[1;33m(\u001b[0m\u001b[1;33m)\u001b[0m\u001b[1;33m.\u001b[0m\u001b[0mstrip\u001b[0m\u001b[1;33m(\u001b[0m\u001b[1;33m)\u001b[0m\u001b[1;33m)\u001b[0m\u001b[1;33m\u001b[0m\u001b[1;33m\u001b[0m\u001b[0m\n\u001b[0m\u001b[0;32m     43\u001b[0m     \u001b[1;32mif\u001b[0m \u001b[0mn\u001b[0m \u001b[1;33m==\u001b[0m \u001b[1;36m0\u001b[0m\u001b[1;33m:\u001b[0m\u001b[1;33m\u001b[0m\u001b[1;33m\u001b[0m\u001b[0m\n\u001b[0;32m     44\u001b[0m         \u001b[1;32mreturn\u001b[0m \u001b[0mlist\u001b[0m\u001b[1;33m(\u001b[0m\u001b[1;33m)\u001b[0m\u001b[1;33m,\u001b[0m \u001b[1;36m0\u001b[0m\u001b[1;33m\u001b[0m\u001b[1;33m\u001b[0m\u001b[0m\n",
      "\u001b[1;31mValueError\u001b[0m: invalid literal for int() with base 10: ''"
     ]
    }
   ],
   "source": [
    "# Maximum Frequency\n",
    "# Send Feedback\n",
    "# You are given an array of integers that contain numbers in random order. Write a program to find and return the number which occurs the maximum times in the given input.\n",
    "# If two or more elements contend for the maximum frequency, return the element which occurs in the array first.\n",
    "# Input Format:\n",
    "# The first line of input contains an integer, that denotes the value of the size of the array. Let us denote it with the symbol N.\n",
    "# The following line contains N space separated integers, that denote the value of the elements of the array.\n",
    "# Output Format:\n",
    "# The first and only line of output contains most frequent element in the given array.\n",
    "# Constraints:\n",
    "# 0 <= N <= 10 ^ 8\n",
    "# Time Limit: 1 sec\n",
    "# Sample Input 1:\n",
    "# 13\n",
    "# 2 12 2 11 12 2 1 2 2 11 12 2 6\n",
    "# Sample Output 1:\n",
    "# 2\n",
    "# Sample Input 2:\n",
    "# 3\n",
    "# 1 4 5\n",
    "# Sample Output 2:\n",
    "# 1\n",
    "from sys import stdin\n",
    "\n",
    "\n",
    "def maxfreq(arr):\n",
    "    #Write your code her\n",
    "    d = {}\n",
    "    for i in arr:\n",
    "        d[i] = d.get(i, 0)+1\n",
    "    max = -1\n",
    "    key = \"\"\n",
    "    for i in arr:\n",
    "        if d[i] > max:\n",
    "            max = d[i]\n",
    "            key = i\n",
    "    return key\n",
    "\n",
    "\n",
    "def takeInput():\n",
    "    #To take fast I/O\n",
    "    n = int(stdin.readline().strip())\n",
    "    if n == 0:\n",
    "        return list(), 0\n",
    "    arr = list(map(int, stdin.readline().strip().split()))\n",
    "    return arr, n\n",
    "\n",
    "\n",
    "arr, n = takeInput()\n",
    "print(maxfreq(arr))\n"
   ]
  }
 ],
 "metadata": {
  "kernelspec": {
   "display_name": "Python 3",
   "language": "python",
   "name": "python3"
  },
  "language_info": {
   "codemirror_mode": {
    "name": "ipython",
    "version": 3
   },
   "file_extension": ".py",
   "mimetype": "text/x-python",
   "name": "python",
   "nbconvert_exporter": "python",
   "pygments_lexer": "ipython3",
   "version": "3.8.8"
  }
 },
 "nbformat": 4,
 "nbformat_minor": 5
}
