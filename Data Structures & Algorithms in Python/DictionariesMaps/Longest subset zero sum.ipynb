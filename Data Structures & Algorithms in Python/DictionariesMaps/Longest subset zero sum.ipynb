{
 "cells": [
  {
   "cell_type": "markdown",
   "id": "5150905e",
   "metadata": {},
   "source": [
    "# Longest subset zero sum\n",
    "Send Feedback\n",
    "Given an array consisting of positive and negative integers, find the length of the longest subarray whose sum is zero.\n",
    "Input Format:\n",
    "The first line of input contains an integer, that denotes the value of the size of the array. Let us denote it with the symbol N.\n",
    "The following line contains N space separated integers, that denote the value of the elements of the array.\n",
    "Output Format\n",
    "The first and only line of output contains length of the longest subarray whose sum is zero.\n",
    "Constraints:\n",
    "0 <= N <= 10^8\n",
    "Time Limit: 1 sec\n",
    "Sample Input 1:\n",
    "10 \n",
    " 95 -97 -387 -435 -5 -70 897 127 23 284\n",
    "Sample Output 1:\n",
    "5\n",
    "Explanation:\n",
    "The five elements that form the longest subarray that sum up to zero are: -387, -435, -5, -70, 897 "
   ]
  },
  {
   "cell_type": "code",
   "execution_count": 4,
   "id": "9fe18d8f",
   "metadata": {},
   "outputs": [
    {
     "name": "stdout",
     "output_type": "stream",
     "text": [
      "10\n",
      " 95 -97 -387 -435 -5 -70 897 127 23 284\n",
      "5\n"
     ]
    }
   ],
   "source": [
    "def subsetSum(a):\n",
    "    d={}\n",
    "    sum=0\n",
    "    maxL=-100000\n",
    "    flag=False\n",
    "    for i in range(len(a)):\n",
    "        sum+=a[i]\n",
    "        if sum==0:\n",
    "            l=i+1\n",
    "            flag=True\n",
    "            \n",
    "        elif sum not in d:\n",
    "        \td[sum]=i\n",
    "        else:\n",
    "            l=i-d[sum]\n",
    "            flag=True\n",
    "            \n",
    "        if flag and l>maxL:\n",
    "            maxL=l\n",
    "    return maxL\n",
    "            \n",
    "            \n",
    "\n",
    "\n",
    "# Main\n",
    "n=int(input())\n",
    "l=list(int(i) for i in input().strip().split(' '))\n",
    "print(subsetSum(l))"
   ]
  }
 ],
 "metadata": {
  "kernelspec": {
   "display_name": "Python 3",
   "language": "python",
   "name": "python3"
  },
  "language_info": {
   "codemirror_mode": {
    "name": "ipython",
    "version": 3
   },
   "file_extension": ".py",
   "mimetype": "text/x-python",
   "name": "python",
   "nbconvert_exporter": "python",
   "pygments_lexer": "ipython3",
   "version": "3.8.8"
  }
 },
 "nbformat": 4,
 "nbformat_minor": 5
}
