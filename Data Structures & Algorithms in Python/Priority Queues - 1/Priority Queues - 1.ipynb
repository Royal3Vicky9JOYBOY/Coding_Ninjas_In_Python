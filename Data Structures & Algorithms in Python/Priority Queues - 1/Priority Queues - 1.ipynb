{
 "cells": [
  {
   "cell_type": "markdown",
   "id": "71868ea4",
   "metadata": {},
   "source": [
    "# Intro To Priority Queues"
   ]
  },
  {
   "cell_type": "code",
   "execution_count": null,
   "id": "3f65d624",
   "metadata": {},
   "outputs": [],
   "source": [
    "# 1.FCFS\n",
    "# 2.VIP      # AIRPLANE\n",
    "# 3.AGE"
   ]
  },
  {
   "cell_type": "code",
   "execution_count": null,
   "id": "829ae3b3",
   "metadata": {},
   "outputs": [],
   "source": [
    "# 1.FCFS\n",
    "# 2.CRITICALITY  # HOSPITAL"
   ]
  },
  {
   "cell_type": "code",
   "execution_count": null,
   "id": "6e4be619",
   "metadata": {},
   "outputs": [],
   "source": [
    "# 1. VALUE\n",
    "# 2. PRIORITY        # PRIORITY"
   ]
  },
  {
   "cell_type": "code",
   "execution_count": null,
   "id": "7960f5c5",
   "metadata": {},
   "outputs": [],
   "source": [
    "# 1.MIN PRIORITY QUEUE\n",
    "# 2.MAX PRIORITY QUEUE"
   ]
  },
  {
   "cell_type": "code",
   "execution_count": null,
   "id": "282cb114",
   "metadata": {},
   "outputs": [],
   "source": [
    "# 1. Insert\n",
    "# 2. Get min/max->Top of the stack\n",
    "# 3.Remove min/max->Pop"
   ]
  },
  {
   "cell_type": "markdown",
   "id": "d960542f",
   "metadata": {},
   "source": [
    "# Ways To Implement Priority Queue"
   ]
  },
  {
   "cell_type": "code",
   "execution_count": null,
   "id": "011a1d8c",
   "metadata": {},
   "outputs": [],
   "source": [
    "#  n arrays             | Insert       | get Min/Max        | Remove Min/Max\n",
    "# List/Array(unsorted) |  O(1)         |  O(n)              |  O(n)          <- n square\n",
    "# List/Array(Sorted)   |  O(n)         |  O(1)              |  O(n)          <- n square\n",
    "# Linkedlist(unsorted) |  O(1)         |  O(n)              |  O(n)          <- n square\n",
    "# Linkedlist(Sorted)   |  O(n)         |  O(1)              |  O(1)          <- n square\n",
    "# BST                  |  O(h)         |  O(n)              |  O(h)          <- n square\n",
    "# Balanced BST         |  O(logn)      |  O(logn)           |  O(logn)       <- nlogn\n",
    "# Hash Map             |  O(1)         |  O(n)              |  O(n)          <- n square"
   ]
  },
  {
   "cell_type": "code",
   "execution_count": null,
   "id": "22019e76",
   "metadata": {},
   "outputs": [],
   "source": [
    "# Balanced BST\n",
    "#             * 1. Balancing Factor\n",
    "#             * 2. Store"
   ]
  },
  {
   "cell_type": "markdown",
   "id": "8b3bb530",
   "metadata": {},
   "source": [
    "# Intro To Heaps"
   ]
  },
  {
   "cell_type": "code",
   "execution_count": null,
   "id": "0e1496f1",
   "metadata": {},
   "outputs": [],
   "source": [
    "# Heaps\n",
    "#     * 1. Complete Binary Tree\n",
    "#     * 2. HeapOrder Property"
   ]
  },
  {
   "cell_type": "code",
   "execution_count": null,
   "id": "3c2545a6",
   "metadata": {},
   "outputs": [],
   "source": [
    "# CBT ( Complete Binary Tree )\n",
    "# Each node can  have max 2 children (either 0,1 or 2)\n",
    "# Complete Binary Tree (In this  every level need to fill except the last)"
   ]
  },
  {
   "cell_type": "markdown",
   "id": "c79a59d2",
   "metadata": {},
   "source": [
    "             ->              O\n",
    "                            / \\\n",
    "             ->            O   O\n",
    "                         /  \\ / \\\n",
    "             ->         O   O O  O\n",
    "                      / \\ / \\ /\\ / \\\n",
    "             ->      O  O O O O O O O\n",
    "                    /\n",
    "             ->    O"
   ]
  },
  {
   "cell_type": "markdown",
   "id": "dde875a3",
   "metadata": {},
   "source": [
    "Except the last property remaining must be filled"
   ]
  },
  {
   "cell_type": "code",
   "execution_count": null,
   "id": "4a3154e9",
   "metadata": {},
   "outputs": [],
   "source": [
    "# Left to right\n",
    "# 1.Insert\n",
    "# All levels except last level should be filled\n",
    "# Elements in a level should be inserted from left to right\n",
    "# Remove (last to first)"
   ]
  },
  {
   "cell_type": "markdown",
   "id": "99a9f5ee",
   "metadata": {},
   "source": [
    "# Height Of CBT"
   ]
  },
  {
   "cell_type": "code",
   "execution_count": null,
   "id": "147b9673",
   "metadata": {},
   "outputs": [],
   "source": [
    "# Balanced BST\n",
    "# Balancing ->O(logn)\n",
    "# CBT (height will be O(logn))"
   ]
  },
  {
   "cell_type": "code",
   "execution_count": null,
   "id": "07dc6e27",
   "metadata": {},
   "outputs": [],
   "source": [
    "# min  Nodes of CBT Of Height H\n",
    "# 2 power 0 + 2 power 1.......+ 2 power h-2 +1"
   ]
  },
  {
   "cell_type": "markdown",
   "id": "bf337a3b",
   "metadata": {},
   "source": [
    "      2 power 0                <-     O \n",
    "                                     / \\\n",
    "      2 power 1                <-   O   O\n",
    "                                   / \\ / \\ \n",
    "      2 power 2                <- O  O O  O\n",
    "      2 power h-2  <-            /\n",
    "                                O"
   ]
  },
  {
   "cell_type": "code",
   "execution_count": null,
   "id": "4f88a978",
   "metadata": {},
   "outputs": [],
   "source": [
    "# Max nodes of CBT of Height H\n",
    "# 2 power 0 + 2 power 1 + 2 power 2 .......+ 2 power h-1"
   ]
  },
  {
   "cell_type": "markdown",
   "id": "2f8f1d80",
   "metadata": {},
   "source": [
    "       2 power 0         <-               O\n",
    "                                        /   \\\n",
    "       2 power 1         <-            O     O\n",
    "                                      / \\   / \\\n",
    "       2 power 2         <-          O  O  O   O\n",
    "                                    / \\/ \\/ \\ / \\\n",
    "       2 power 3         <-        O O O OO O O  O\n",
    "       2 n-1             <-\n",
    "       "
   ]
  },
  {
   "cell_type": "code",
   "execution_count": null,
   "id": "93cc9579",
   "metadata": {},
   "outputs": [],
   "source": [
    "# 2 power 0 + 2 power 1.......+ 2 power h-2 +1 <= n <= 2 power 0 + 2 power 1 + 2 power 2 .......+ 2 power h-1"
   ]
  },
  {
   "cell_type": "code",
   "execution_count": null,
   "id": "59816f9a",
   "metadata": {},
   "outputs": [],
   "source": [
    "#  2 power 0 + 2 power 1.......+ 2 power h-2 +1 <= n\n",
    "#  2 power(2 power h-1)/2-1 + 1 <= n\n",
    "#  2 power h-1 (-1+1){cancel} <= n\n",
    "#             n >= 2 power h-1"
   ]
  },
  {
   "cell_type": "code",
   "execution_count": null,
   "id": "cc15cb48",
   "metadata": {},
   "outputs": [],
   "source": [
    "#  n <= 2 power 0 + 2 power 1 + .......+ 2 power h-1\n",
    "#  n <= 2 power 0(2power h-1)/2-1\n",
    "#  n <= 2 power n -1"
   ]
  },
  {
   "cell_type": "code",
   "execution_count": null,
   "id": "cd2f64fb",
   "metadata": {},
   "outputs": [],
   "source": [
    "# 2 power n-1 <= n <= 2 power h-1"
   ]
  },
  {
   "cell_type": "code",
   "execution_count": null,
   "id": "882e21fe",
   "metadata": {},
   "outputs": [],
   "source": [
    "# n >= 2 power h-1     # take log on both sides"
   ]
  },
  {
   "cell_type": "code",
   "execution_count": null,
   "id": "7e24aaff",
   "metadata": {},
   "outputs": [],
   "source": [
    "# log base 2 (n) >= log base 2 (2 power h-1)\n",
    "# log base 2 (n) >= (h-1) log base 2 (2)          # log base 2 (2) = 1\n",
    "# log base 2 (n) >= (h-1)\n",
    "# n <= log base 2 n+1 "
   ]
  },
  {
   "cell_type": "code",
   "execution_count": null,
   "id": "ebaed79c",
   "metadata": {},
   "outputs": [],
   "source": [
    "# n <= 2 power h-1\n",
    "# (n+1) <= 2 power h\n",
    "# log base 2 (n+1) <= h log base 2 (2)\n",
    "#  h >= log base 2(n+1)"
   ]
  },
  {
   "cell_type": "code",
   "execution_count": null,
   "id": "cf56cf65",
   "metadata": {},
   "outputs": [],
   "source": [
    "# log base 2 (n+1) <= h <= log base 2 (n) +1   # 1 cancel\n",
    "# O log base 2 (n) <= h <= O (log base2 n )"
   ]
  },
  {
   "cell_type": "markdown",
   "id": "34a81075",
   "metadata": {},
   "source": [
    "# How To Store CBT?"
   ]
  },
  {
   "cell_type": "code",
   "execution_count": null,
   "id": "309321a5",
   "metadata": {},
   "outputs": [],
   "source": [
    "# 1. Height\n",
    "# 2. CBT (save and store)\n",
    "# level order Traversal (not using)\n",
    "# store it an array (visualizing the tree) "
   ]
  },
  {
   "cell_type": "markdown",
   "id": "7802cb49",
   "metadata": {},
   "source": [
    "                  1\n",
    "                 / \\\n",
    "                2   3\n",
    "               / \\ / \\\n",
    "              4  5 6  7\n",
    "             / \\\n",
    "            8   9"
   ]
  },
  {
   "cell_type": "code",
   "execution_count": null,
   "id": "a8375266",
   "metadata": {},
   "outputs": [],
   "source": [
    "#     0 1 2 3 4 5 6 7 8\n",
    "#     1 2 3 4 5 6 7 8 9       (see the above diagram)\n",
    "#     0 -> 1,2   (if my index 0 my child index  present at 1 & 2)\n",
    "#     1 -> 3,4\n",
    "#     2 -> 5,6\n",
    "# (i)->2i+1,\n",
    "#      2i+2\n",
    "# parent index = (child index - 1) / 2\n",
    "# 2*PI+1,2*PI+2 (for child index)"
   ]
  },
  {
   "cell_type": "markdown",
   "id": "1ba93d5e",
   "metadata": {},
   "source": [
    "# Heap Order Property"
   ]
  },
  {
   "cell_type": "code",
   "execution_count": null,
   "id": "8530bbf0",
   "metadata": {},
   "outputs": [],
   "source": [
    "# Min Heap\n",
    "# Max Heap"
   ]
  },
  {
   "cell_type": "markdown",
   "id": "cc9e58aa",
   "metadata": {},
   "source": [
    "# Min Heap\n",
    "\n",
    "\n",
    "                            10\n",
    "                           /  \\\n",
    "                          20  30\n",
    "                         /  \\ / \\\n",
    "                        40 50 70 80\n",
    "                           / \\\n",
    "                          60  80\n",
    "\n",
    " \n",
    "Every Node < Child Value\n",
    "\n",
    "# Max Heap\n",
    "\n",
    "Every Node > Child Value\n",
    "\n",
    "                          70\n",
    "                         /  \\\n",
    "                        50  40\n",
    "                       / \\  / \\\n",
    "                      25 30 12 39"
   ]
  },
  {
   "cell_type": "markdown",
   "id": "c8d6727f",
   "metadata": {},
   "source": [
    "# How To Insert In Heap?"
   ]
  },
  {
   "cell_type": "code",
   "execution_count": null,
   "id": "4830163b",
   "metadata": {},
   "outputs": [],
   "source": [
    "# Min Heap\n",
    "# 1. CBT\n",
    "# 2. Heap Order\n",
    "# O(h)\n",
    "# h->O(logn)"
   ]
  },
  {
   "cell_type": "markdown",
   "id": "f90aedf4",
   "metadata": {},
   "source": [
    "                             10\n",
    "                            /  \\\n",
    "                           20   40\n",
    "                          / \\   / \\\n",
    "                         60 100 45 50\n",
    "                        /\n",
    "                       80\n",
    "                       \n",
    " insert 15\n",
    " \n",
    "                             10\n",
    "                            /  \\\n",
    "                           20   40\n",
    "                          / \\   / \\\n",
    "                         60 100 45 50\n",
    "                        / \\\n",
    "                      80   15\n",
    "                      \n",
    "                      \n",
    "                             10\n",
    "                            /  \\\n",
    "                           20   40\n",
    "                          / \\   / \\\n",
    "                         15 100 45 50\n",
    "                        / \\\n",
    "                       80  60\n",
    "                       \n",
    "                       \n",
    "                             10\n",
    "                            /  \\\n",
    "                           15   40\n",
    "                          / \\   / \\\n",
    "                         20 100 45 50\n",
    "                        / \\\n",
    "                       80  60\n",
    " "
   ]
  },
  {
   "cell_type": "markdown",
   "id": "ac75fe8f",
   "metadata": {},
   "source": [
    "# Remove Elements From Heap"
   ]
  },
  {
   "cell_type": "markdown",
   "id": "233ebcb6",
   "metadata": {},
   "source": [
    "                          10\n",
    "                         /  \\\n",
    "                        20  30\n",
    "                       /  \\\n",
    "                      60  100\n",
    "                      \n",
    "  remove 10\n",
    "  \n",
    "                         100\n",
    "                         /  \\\n",
    "                        20  30\n",
    "                       /  \n",
    "                      60 \n",
    "                      \n",
    "                          20\n",
    "                         /  \\\n",
    "                        100  30\n",
    "                       /  \n",
    "                      60 \n",
    "                      \n",
    "                          20\n",
    "                         /  \\\n",
    "                        60  30\n",
    "                       /  \n",
    "                      100 "
   ]
  },
  {
   "cell_type": "markdown",
   "id": "c8f03a89",
   "metadata": {},
   "source": [
    " 10,20,18,3,7,6\n",
    " \n",
    "                         10\n",
    "                        /  \\\n",
    "                       20  18\n",
    "                      /\n",
    "                     3\n",
    "                     \n",
    "                         10\n",
    "                        /  \\\n",
    "                       3  18\n",
    "                      /\n",
    "                     20\n",
    "                     \n",
    "                         3\n",
    "                        / \\\n",
    "                       10 18\n",
    "                      /\n",
    "                     20\n",
    "                     \n",
    "                         3\n",
    "                        / \\\n",
    "                       10 18\n",
    "                      / \\ \n",
    "                     20  7\n",
    "                     \n",
    "                         3\n",
    "                        / \\\n",
    "                       7   18\n",
    "                      / \\ \n",
    "                     20  10\n",
    "                     \n",
    "                         3\n",
    "                        / \\\n",
    "                       7   18\n",
    "                      / \\  /\n",
    "                    20 10 6\n",
    "                    \n",
    "                         3\n",
    "                        / \\\n",
    "                       7   6\n",
    "                      / \\  /\n",
    "                    20 10  18              # up-heap or perculate up\n",
    "                    \n",
    " Delete                \n",
    "       \n",
    "                         18\n",
    "                        /  \\\n",
    "                       7    6\n",
    "                      / \\   \n",
    "                    20  10 \n",
    "                    \n",
    "                    \n",
    "                         6\n",
    "                        / \\\n",
    "                       7   18\n",
    "                      / \\   \n",
    "                    20  10                  # Down-heaphy or percolate down\n",
    "                    \n",
    "Delete               \n",
    "\n",
    "                         10\n",
    "                        / \\\n",
    "                       7   18\n",
    "                      /   \n",
    "                    20 \n",
    "                    \n",
    "                         7\n",
    "                        / \\\n",
    "                       20   18\n",
    "                      /   \n",
    "                    20 \n",
    "                    \n",
    "                          \n",
    "                          "
   ]
  },
  {
   "cell_type": "markdown",
   "id": "a76591c4",
   "metadata": {},
   "source": [
    "# Implementation Of Priority Queue"
   ]
  },
  {
   "cell_type": "code",
   "execution_count": null,
   "id": "3f2fdd91",
   "metadata": {},
   "outputs": [],
   "source": [
    "class PriorityQueueNode:\n",
    "    def __init__(self,value,priority):\n",
    "        self.value=value\n",
    "        self.priority=priority\n",
    "        \n",
    "class PriorityQueue:\n",
    "    \n",
    "    def __init__(self):\n",
    "        self.pq=[]\n",
    "        \n",
    "    def getSize(self):\n",
    "        return len(self.pq)\n",
    "    \n",
    "    def isEmpty(self):\n",
    "        return self.getSize()==0\n",
    "        \n",
    "    def getMin():\n",
    "        if self.isEmpty() is True:\n",
    "            return None\n",
    "        return self.pq[0].value\n",
    "    \n",
    "    def insert(self,value,priority):\n",
    "        pass\n",
    "    \n",
    "    def remmoveMin(self):\n",
    "        pass      "
   ]
  },
  {
   "cell_type": "markdown",
   "id": "8a6a2d26",
   "metadata": {},
   "source": [
    "# Insert In Priority Queue(Code)"
   ]
  },
  {
   "cell_type": "code",
   "execution_count": null,
   "id": "3e68ad8d",
   "metadata": {},
   "outputs": [],
   "source": [
    "class PriorityQueueNode:\n",
    "    def __init__(self,value,priority):\n",
    "        self.value=value\n",
    "        self.priority=priority\n",
    "        \n",
    "class PriorityQueue:\n",
    "    \n",
    "    def __init__(self):\n",
    "        self.pq=[]\n",
    "        \n",
    "    def getSize(self):\n",
    "        return len(self.pq)\n",
    "    \n",
    "    def isEmpty(self):\n",
    "        return self.getSize()==0\n",
    "        \n",
    "    def getMin():\n",
    "        if self.isEmpty() is True:\n",
    "            return None\n",
    "        return self.pq[0].value\n",
    "    \n",
    "    def __percolateUp(self):\n",
    "        childIndex=self.getSize()-1\n",
    "        while childIndex > 0:\n",
    "            parentIndex=(childIndex-1)//2\n",
    "            if self.pq[ChildIndex].priority < self.pq[parentIndex].priority:\n",
    "                self.pq[childIndex],self.pq[parentIndex]=self.pq[parentIndex],self.pq[childIndex]\n",
    "                childIndex=parentIndex\n",
    "            else:\n",
    "                break\n",
    "                \n",
    "        \n",
    "    def insert(self,value,priority):\n",
    "        pqNode=PriorityQueueNode(value,priority)\n",
    "        self.pq.append(pqNode)\n",
    "        self.__percolateUp()\n",
    "        \n",
    "    \n",
    "    def remmoveMin(self):\n",
    "        pass        "
   ]
  },
  {
   "cell_type": "markdown",
   "id": "8ed67bfd",
   "metadata": {},
   "source": [
    "# How To Implement Remove Minimum From PQ?"
   ]
  },
  {
   "cell_type": "markdown",
   "id": "aa5504c4",
   "metadata": {},
   "source": [
    "# Remove Minimum From Priority Queue "
   ]
  },
  {
   "cell_type": "code",
   "execution_count": null,
   "id": "2a6a3802",
   "metadata": {},
   "outputs": [],
   "source": [
    "# Remove Minimum For PQ(CODE)\n",
    "class PriorityQueueNode:\n",
    "    def __init__(self,value,priority):\n",
    "        self.value=value\n",
    "        self.priority=priority\n",
    "        \n",
    "class PriorityQueue:\n",
    "    \n",
    "    def __init__(self):\n",
    "        self.pq=[]\n",
    "        \n",
    "    def getSize(self):\n",
    "        return len(self.pq)\n",
    "    \n",
    "    def isEmpty(self):\n",
    "        return self.getSize()==0\n",
    "        \n",
    "    def getMin():\n",
    "        if self.isEmpty() is True:\n",
    "            return None\n",
    "        return self.pq[0].value\n",
    "    \n",
    "    def __percolateUp(self):\n",
    "        childIndex=self.getSize()-1\n",
    "        while childIndex > 0:\n",
    "            parentIndex=(childIndex-1)//2\n",
    "            if self.pq[ChildIndex].priority < self.pq[parentIndex].priority:\n",
    "                self.pq[childIndex],self.pq[parentIndex]=self.pq[parentIndex],self.pq[childIndex]\n",
    "                childIndex=parentIndex\n",
    "            else:\n",
    "                break\n",
    "                \n",
    "        \n",
    "    def insert(self,value,priority):\n",
    "        pqNode=PriorityQueueNode(value,priority)\n",
    "        self.pq.append(pqNode)\n",
    "        self.__percolateUp()\n",
    "        \n",
    "    def __percolateDown():\n",
    "        \n",
    "        parentIndex=0\n",
    "        leftChidIndex=2*parentIndex+1\n",
    "        rightChildIndex=2*parentIndex+2\n",
    "        \n",
    "        while leftChildIndex < slef.getSize():\n",
    "            minIndex=parentIndex\n",
    "            if self.pq[minIndex].priority > self.pq[leftChildIndex].priority:\n",
    "                minIndex=leftChildIndex\n",
    "            if rightChildIndex < self.fetSize() and self.pq[minIndex].priority > self.pq[rightChildIndex].priority:\n",
    "                minIndex=rightChildIndex\n",
    "            \n",
    "            if minIndex == parentIndex:\n",
    "                break\n",
    "            self.pq[parentIndex],self.pq[minIndex]=self.pq[minIndex],self.pq[parentIndex]\n",
    "            parentIndex=minIndex\n",
    "            leftChildIndex=2*parentIndex+1\n",
    "            rightChildIndex=2*parentIndex+2 \n",
    "            \n",
    "                \n",
    "        \n",
    "    def remmoveMin(self):\n",
    "        if self.isEmpty():\n",
    "            return None\n",
    "        ele = self.pq[0].value\n",
    "        self.pq[0]=self.pq[self.getSize()-1]\n",
    "        self.pq.pop()\n",
    "        self.__percolateDown()\n",
    "        return ele\n",
    "        "
   ]
  },
  {
   "cell_type": "markdown",
   "id": "c2340076",
   "metadata": {},
   "source": [
    "# Testing Code Of Priority Queue"
   ]
  },
  {
   "cell_type": "code",
   "execution_count": 8,
   "id": "acbf41be",
   "metadata": {},
   "outputs": [
    {
     "ename": "UnboundLocalError",
     "evalue": "local variable 'leftChildIndex' referenced before assignment",
     "output_type": "error",
     "traceback": [
      "\u001b[1;31m---------------------------------------------------------------------------\u001b[0m",
      "\u001b[1;31mUnboundLocalError\u001b[0m                         Traceback (most recent call last)",
      "\u001b[1;32m<ipython-input-8-5c0b4532e5d6>\u001b[0m in \u001b[0;36m<module>\u001b[1;34m\u001b[0m\n\u001b[0;32m     73\u001b[0m \u001b[0mpq\u001b[0m\u001b[1;33m.\u001b[0m\u001b[0minsert\u001b[0m\u001b[1;33m(\u001b[0m\u001b[1;34m'D'\u001b[0m\u001b[1;33m,\u001b[0m\u001b[1;36m4\u001b[0m\u001b[1;33m)\u001b[0m\u001b[1;33m\u001b[0m\u001b[1;33m\u001b[0m\u001b[0m\n\u001b[0;32m     74\u001b[0m \u001b[1;32mfor\u001b[0m \u001b[0mi\u001b[0m \u001b[1;32min\u001b[0m \u001b[0mrange\u001b[0m\u001b[1;33m(\u001b[0m\u001b[1;36m4\u001b[0m\u001b[1;33m)\u001b[0m\u001b[1;33m:\u001b[0m\u001b[1;33m\u001b[0m\u001b[1;33m\u001b[0m\u001b[0m\n\u001b[1;32m---> 75\u001b[1;33m     \u001b[0mprint\u001b[0m\u001b[1;33m(\u001b[0m\u001b[0mpq\u001b[0m\u001b[1;33m.\u001b[0m\u001b[0mremoveMin\u001b[0m\u001b[1;33m(\u001b[0m\u001b[1;33m)\u001b[0m\u001b[1;33m)\u001b[0m\u001b[1;33m\u001b[0m\u001b[1;33m\u001b[0m\u001b[0m\n\u001b[0m",
      "\u001b[1;32m<ipython-input-8-5c0b4532e5d6>\u001b[0m in \u001b[0;36mremoveMin\u001b[1;34m(self)\u001b[0m\n\u001b[0;32m     64\u001b[0m         \u001b[0mself\u001b[0m\u001b[1;33m.\u001b[0m\u001b[0mpq\u001b[0m\u001b[1;33m[\u001b[0m\u001b[1;36m0\u001b[0m\u001b[1;33m]\u001b[0m\u001b[1;33m=\u001b[0m\u001b[0mself\u001b[0m\u001b[1;33m.\u001b[0m\u001b[0mpq\u001b[0m\u001b[1;33m[\u001b[0m\u001b[0mself\u001b[0m\u001b[1;33m.\u001b[0m\u001b[0mgetSize\u001b[0m\u001b[1;33m(\u001b[0m\u001b[1;33m)\u001b[0m\u001b[1;33m-\u001b[0m\u001b[1;36m1\u001b[0m\u001b[1;33m]\u001b[0m\u001b[1;33m\u001b[0m\u001b[1;33m\u001b[0m\u001b[0m\n\u001b[0;32m     65\u001b[0m         \u001b[0mself\u001b[0m\u001b[1;33m.\u001b[0m\u001b[0mpq\u001b[0m\u001b[1;33m.\u001b[0m\u001b[0mpop\u001b[0m\u001b[1;33m(\u001b[0m\u001b[1;33m)\u001b[0m\u001b[1;33m\u001b[0m\u001b[1;33m\u001b[0m\u001b[0m\n\u001b[1;32m---> 66\u001b[1;33m         \u001b[0mself\u001b[0m\u001b[1;33m.\u001b[0m\u001b[0m__percolateDown\u001b[0m\u001b[1;33m(\u001b[0m\u001b[1;33m)\u001b[0m\u001b[1;33m\u001b[0m\u001b[1;33m\u001b[0m\u001b[0m\n\u001b[0m\u001b[0;32m     67\u001b[0m         \u001b[1;32mreturn\u001b[0m \u001b[0mele\u001b[0m\u001b[1;33m\u001b[0m\u001b[1;33m\u001b[0m\u001b[0m\n\u001b[0;32m     68\u001b[0m \u001b[1;33m\u001b[0m\u001b[0m\n",
      "\u001b[1;32m<ipython-input-8-5c0b4532e5d6>\u001b[0m in \u001b[0;36m__percolateDown\u001b[1;34m(self)\u001b[0m\n\u001b[0;32m     42\u001b[0m         \u001b[0mrightChildIndex\u001b[0m\u001b[1;33m=\u001b[0m\u001b[1;36m2\u001b[0m\u001b[1;33m*\u001b[0m\u001b[0mparentIndex\u001b[0m \u001b[1;33m+\u001b[0m\u001b[1;36m2\u001b[0m\u001b[1;33m\u001b[0m\u001b[1;33m\u001b[0m\u001b[0m\n\u001b[0;32m     43\u001b[0m \u001b[1;33m\u001b[0m\u001b[0m\n\u001b[1;32m---> 44\u001b[1;33m         \u001b[1;32mwhile\u001b[0m \u001b[0mleftChildIndex\u001b[0m \u001b[1;33m<\u001b[0m \u001b[0mself\u001b[0m\u001b[1;33m.\u001b[0m\u001b[0mgetSize\u001b[0m\u001b[1;33m(\u001b[0m\u001b[1;33m)\u001b[0m\u001b[1;33m:\u001b[0m\u001b[1;33m\u001b[0m\u001b[1;33m\u001b[0m\u001b[0m\n\u001b[0m\u001b[0;32m     45\u001b[0m             \u001b[0mminIndex\u001b[0m\u001b[1;33m=\u001b[0m\u001b[0mparentIndex\u001b[0m\u001b[1;33m\u001b[0m\u001b[1;33m\u001b[0m\u001b[0m\n\u001b[0;32m     46\u001b[0m             \u001b[1;32mif\u001b[0m \u001b[0mself\u001b[0m\u001b[1;33m.\u001b[0m\u001b[0mpq\u001b[0m\u001b[1;33m[\u001b[0m\u001b[0mminIndex\u001b[0m\u001b[1;33m]\u001b[0m\u001b[1;33m.\u001b[0m\u001b[0mpriority\u001b[0m \u001b[1;33m>\u001b[0m \u001b[0mself\u001b[0m\u001b[1;33m.\u001b[0m\u001b[0mpq\u001b[0m\u001b[1;33m[\u001b[0m\u001b[0mleftChildIndex\u001b[0m\u001b[1;33m]\u001b[0m\u001b[1;33m.\u001b[0m\u001b[0mpriority\u001b[0m\u001b[1;33m:\u001b[0m\u001b[1;33m\u001b[0m\u001b[1;33m\u001b[0m\u001b[0m\n",
      "\u001b[1;31mUnboundLocalError\u001b[0m: local variable 'leftChildIndex' referenced before assignment"
     ]
    }
   ],
   "source": [
    "class PriorityQueueNode:\n",
    "    def __init__(self,value,priority):\n",
    "        self.value=value\n",
    "        self.priority=priority\n",
    "        \n",
    "class PriorityQueue:\n",
    "    \n",
    "    def __init__(self):\n",
    "        self.pq=[]\n",
    "        \n",
    "    def getSize(self):\n",
    "        return len(self.pq)\n",
    "    \n",
    "    def isEmpty(self):\n",
    "        return self.getSize()==0\n",
    "        \n",
    "    def getMin(self):\n",
    "        if self.isEmpty() is True:\n",
    "            return None\n",
    "        return self.pq[0].value\n",
    "    \n",
    "    def __percolateUp(self):\n",
    "        childIndex=self.getSize()-1\n",
    "        while childIndex > 0:\n",
    "            parentIndex=(childIndex-1)//2\n",
    "            if self.pq[childIndex].priority < self.pq[parentIndex].priority:\n",
    "                self.pq[childIndex],self.pq[parentIndex]=self.pq[parentIndex],self.pq[childIndex]\n",
    "                childIndex=parentIndex\n",
    "            else:\n",
    "                break\n",
    "                \n",
    "         \n",
    "    def insert(self,value,priority):\n",
    "        pqNode=PriorityQueueNode(value,priority)\n",
    "        self.pq.append(pqNode)\n",
    "        self.__percolateUp()\n",
    "        \n",
    "    def __percolateDown(self):\n",
    "        \n",
    "        parentIndex=0\n",
    "        leftChidIndex=2*parentIndex +1\n",
    "        rightChildIndex=2*parentIndex +2\n",
    "        \n",
    "        while leftChildIndex < self.getSize():\n",
    "            minIndex=parentIndex\n",
    "            if self.pq[minIndex].priority > self.pq[leftChildIndex].priority:\n",
    "                minIndex=leftChildIndex\n",
    "            if rightChildIndex < self.getSize() and self.pq[minIndex].priority > self.pq[rightChildeIndex].priority:\n",
    "                minIndex=rightChildIndex\n",
    "            \n",
    "            if minIndex == parentIndex:\n",
    "                break\n",
    "            self.pq[parentIndex],self.pq[minIndex]=self.pq[minIndex],self.pq[parentIndex]\n",
    "            parentIndex=minIndex\n",
    "            leftChildIndex = 2*parentIndex +1\n",
    "            rightChildIndex = 2*parentIndex +2 \n",
    "            \n",
    "                \n",
    "        \n",
    "    def removeMin(self):\n",
    "        if self.isEmpty():\n",
    "            return None\n",
    "        ele = self.pq[0].value\n",
    "        self.pq[0]=self.pq[self.getSize()-1]\n",
    "        self.pq.pop()\n",
    "        self.__percolateDown()\n",
    "        return ele\n",
    "    \n",
    "pq=PriorityQueue()\n",
    "pq.insert('A',10)\n",
    "pq.insert('C',5)\n",
    "pq.insert('B',19)\n",
    "pq.insert('D',4)\n",
    "for i in range(4):\n",
    "    print(pq.removeMin())"
   ]
  },
  {
   "cell_type": "code",
   "execution_count": 3,
   "id": "a60e88cd",
   "metadata": {},
   "outputs": [
    {
     "name": "stdout",
     "output_type": "stream",
     "text": [
      "D\n",
      "C\n",
      "A\n",
      "B\n"
     ]
    }
   ],
   "source": [
    "class PriorityQueueNode:\n",
    "    def __init__(self,ele,priority):\n",
    "        self.ele = ele\n",
    "        self.priority = priority\n",
    "        \n",
    "class PriorityQueue:\n",
    "    def __init__(self):\n",
    "        self.pq = []\n",
    "    \n",
    "    def isEmpty(self):\n",
    "        return self.getSize() == 0\n",
    "    \n",
    "    def getSize(self):\n",
    "        return len(self.pq)\n",
    "\n",
    "    def getMin(self):\n",
    "        if self.isEmpty():\n",
    "            return None\n",
    "        return self.pq[0].ele\n",
    "    \n",
    "    def __percolateUp(self):\n",
    "        childIndex = self.getSize() - 1\n",
    "        while childIndex > 0:\n",
    "            parentIndex = (childIndex-1)//2\n",
    "            \n",
    "            if self.pq[parentIndex].priority > self.pq[childIndex].priority:\n",
    "                self.pq[parentIndex],self.pq[childIndex] = self.pq[childIndex],self.pq[parentIndex]\n",
    "                childIndex = parentIndex\n",
    "            else:\n",
    "                break\n",
    "        \n",
    "    def insert(self,ele,priority):\n",
    "        pqNode = PriorityQueueNode(ele,priority)\n",
    "        self.pq.append(pqNode)\n",
    "        self.__percolateUp()\n",
    "    def __percolatedown(self):\n",
    "        pi=0\n",
    "        lci=2*pi+1\n",
    "        rci=2*pi+2\n",
    "        while lci<len(self.pq):\n",
    "            min=pi\n",
    "            if self.pq[lci].priority<self.pq[pi].priority:\n",
    "                          min=lci\n",
    "            if rci<len(self.pq) and (self.pq[rci].priority<self.pq[min].priority):\n",
    "                          min=rci\n",
    "            if pi==min:\n",
    "                break\n",
    "            self.pq[min],self.pq[pi]=self.pq[pi],self.pq[min]\n",
    "            pi=min\n",
    "            lci=2*pi+1\n",
    "            rci=2*pi+2\n",
    "            \n",
    "    def removeMin(self):\n",
    "        if not self.isEmpty():\n",
    "            min=self.pq[0]\n",
    "            self.pq[0]=self.pq[len(self.pq)-1]\n",
    "            self.pq.pop()\n",
    "            self.__percolatedown()\n",
    "            return min.ele\n",
    "        \n",
    "pq=PriorityQueue()\n",
    "pq.insert('A',10)\n",
    "pq.insert('C',5)\n",
    "pq.insert('B',19)\n",
    "pq.insert('D',4)\n",
    "for i in range(4):\n",
    "    print(pq.removeMin())"
   ]
  }
 ],
 "metadata": {
  "kernelspec": {
   "display_name": "Python 3",
   "language": "python",
   "name": "python3"
  },
  "language_info": {
   "codemirror_mode": {
    "name": "ipython",
    "version": 3
   },
   "file_extension": ".py",
   "mimetype": "text/x-python",
   "name": "python",
   "nbconvert_exporter": "python",
   "pygments_lexer": "ipython3",
   "version": "3.8.8"
  }
 },
 "nbformat": 4,
 "nbformat_minor": 5
}
