{
 "cells": [
  {
   "cell_type": "markdown",
   "id": "fd6be4c7",
   "metadata": {},
   "source": [
    "# Space Complexity"
   ]
  },
  {
   "cell_type": "markdown",
   "id": "521b3a27",
   "metadata": {},
   "source": [
    "# More Examples of Space Complexity"
   ]
  },
  {
   "cell_type": "markdown",
   "id": "7a856b21",
   "metadata": {},
   "source": [
    "# Space Complexity Analysis\n",
    "\n",
    "What is the space complexity of following recursive code ?\n",
    "\n",
    "def multiplyRec(m, n):\n",
    "\n",
    "    if n==1:\n",
    "    \n",
    "        return m\n",
    "        \n",
    "    return m + multiplyRec(m,  n - 1)\n",
    "    \n",
    "ANS - O(n) \n"
   ]
  },
  {
   "cell_type": "markdown",
   "id": "83a8e14b",
   "metadata": {},
   "source": [
    "# Merge Sort Space Complexity\n",
    "\n",
    "The space complexity for merge sort is : O(n) \n"
   ]
  },
  {
   "cell_type": "markdown",
   "id": "9ac1d2cb",
   "metadata": {},
   "source": [
    "# Merge Sort Space Complexity Analysis"
   ]
  },
  {
   "cell_type": "markdown",
   "id": "32e90baf",
   "metadata": {},
   "source": [
    "Space Complexity of Merge Sort"
   ]
  },
  {
   "cell_type": "markdown",
   "id": "8b01a3e1",
   "metadata": {},
   "source": [
    "# Fibonacci Space Complexity\n",
    "\n",
    "The space complexity for finding nth fibonacci number using recursion is : O(n) "
   ]
  },
  {
   "cell_type": "markdown",
   "id": "6efcd264",
   "metadata": {},
   "source": [
    "# Analysis of Quick Sort"
   ]
  },
  {
   "cell_type": "code",
   "execution_count": null,
   "id": "6680be23",
   "metadata": {},
   "outputs": [],
   "source": [
    "O(nlogn)-->Time\n",
    "O(logn)--->Space"
   ]
  }
 ],
 "metadata": {
  "language_info": {
   "codemirror_mode": {
    "name": "ipython",
    "version": 3
   },
   "file_extension": ".py",
   "mimetype": "text/x-python",
   "name": "python",
   "nbconvert_exporter": "python",
   "pygments_lexer": "ipython3",
   "version": "3.8.8"
  }
 },
 "nbformat": 4,
 "nbformat_minor": 5
}
