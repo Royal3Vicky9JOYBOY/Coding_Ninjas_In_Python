{
 "cells": [
  {
   "cell_type": "markdown",
   "id": "44f92869",
   "metadata": {},
   "source": [
    "# Construct BST\n",
    "Send Feedback\n",
    "Given a sorted integer array A of size n, which contains all unique elements. You need to construct a balanced BST from this input array. Return the root of constructed BST.\n",
    "Note: If array size is even, take first mid as root.\n",
    "Input format:\n",
    "The first line of input contains an integer, which denotes the value of n. The following line contains n space separated integers, that denote the values of array.\n",
    "Output Format:\n",
    "The first and only line of output contains values of BST nodes, printed in pre order traversal.\n",
    "Constraints:\n",
    "Time Limit: 1 second\n",
    "Sample Input 1:\n",
    "7\n",
    "1 2 3 4 5 6 7\n",
    "Sample Output 1:\n",
    "4 2 1 3 6 5 7"
   ]
  },
  {
   "cell_type": "code",
   "execution_count": 1,
   "id": "2570e834",
   "metadata": {},
   "outputs": [
    {
     "name": "stdout",
     "output_type": "stream",
     "text": [
      "3\n",
      "3 6 9\n",
      "6 3 9 "
     ]
    }
   ],
   "source": [
    "import queue\n",
    "class BinaryTreeNode:\n",
    "    def __init__(self, data):\n",
    "        self.data = data\n",
    "        self.left = None\n",
    "        self.right = None\n",
    "\n",
    "def constructBST(lst):\n",
    "\n",
    "    mid = (len(lst)-1)//2\n",
    "    if len(lst)==0:\n",
    "        return None\n",
    "    root = BinaryTreeNode(lst[mid])\n",
    "    root.left = constructBST(lst[0:mid])\n",
    "    root.right = constructBST(lst[mid+1:])\n",
    "    return root######\n",
    "    \n",
    "\n",
    "def preOrder(root):\n",
    "    # Given a binary tree, print the preorder traversal of given tree. Pre-order\n",
    "    # traversal is: Root LeftChild RightChild\n",
    "    if root==None:\n",
    "        return\n",
    "    print(root.data, end=' ')\n",
    "    preOrder(root.left)\n",
    "    preOrder(root.right)\n",
    "\n",
    "# Main\n",
    "n=int(input())\n",
    "if(n>0):\n",
    "    lst=[int(i) for i in input().strip().split()]\n",
    "else:\n",
    "    lst=[]\n",
    "root=constructBST(lst)\n",
    "preOrder(root)"
   ]
  }
 ],
 "metadata": {
  "kernelspec": {
   "display_name": "Python 3",
   "language": "python",
   "name": "python3"
  },
  "language_info": {
   "codemirror_mode": {
    "name": "ipython",
    "version": 3
   },
   "file_extension": ".py",
   "mimetype": "text/x-python",
   "name": "python",
   "nbconvert_exporter": "python",
   "pygments_lexer": "ipython3",
   "version": "3.8.8"
  }
 },
 "nbformat": 4,
 "nbformat_minor": 5
}
