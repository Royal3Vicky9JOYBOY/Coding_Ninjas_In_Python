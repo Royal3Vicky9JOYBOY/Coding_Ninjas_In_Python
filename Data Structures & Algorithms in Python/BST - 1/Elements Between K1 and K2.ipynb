{
 "cells": [
  {
   "cell_type": "markdown",
   "id": "9e30b116",
   "metadata": {},
   "source": [
    "# Elements Between K1 and K2\n",
    "\n",
    "Given a Binary Search Tree and two integers k1 and k2, find and print the elements which are in range k1 and k2 (both inclusive).\n",
    "Print the elements in increasing order.\n",
    "Input format:\n",
    "The first line of input contains data of the nodes of the tree in level order form. The data of the nodes of the tree is separated by space. If any node does not have left or right child, take -1 in its place. Since -1 is used as an indication whether the left or right nodes exist, therefore, it will not be a part of the data of any node.\n",
    "The following line contains two integers, that denote the value of k1 and k2.\n",
    "Output Format:\n",
    " The first and only line of output prints the elements which are in range k1 and k2 (both inclusive). Print the elements in increasing order.\n",
    "Constraints:\n",
    "Time Limit: 1 second\n",
    "Sample Input 1:\n",
    "8 5 10 2 6 -1 -1 -1 -1 -1 7 -1 -1\n",
    "6 10\n",
    "Sample Output 1:\n",
    "6 7 8 10"
   ]
  },
  {
   "cell_type": "code",
   "execution_count": 1,
   "id": "f1dcfff2",
   "metadata": {},
   "outputs": [
    {
     "name": "stdout",
     "output_type": "stream",
     "text": [
      "8 5 10 3 6 -1 -1 -1 -1 -1 9 -1 -1\n",
      "3 9\n",
      "3 5 6 9 8 "
     ]
    }
   ],
   "source": [
    "import queue\n",
    "class BinaryTreeNode:\n",
    "    def __init__(self, data):\n",
    "        self.data = data\n",
    "        self.left = None\n",
    "        self.right = None\n",
    "\n",
    "def elementsInRangeK1K2(root, k1, k2):\n",
    "    if root is None:\n",
    "        return None\n",
    "    \n",
    "    elementsInRangeK1K2(root.left, k1, k2)\n",
    "    \n",
    "    if root.data >= k1 and root.data <= k2:\n",
    "        print(root.data, end = \" \")\n",
    "    \n",
    "    elementsInRangeK1K2(root.right, k1, k2)\n",
    "\n",
    "def buildLevelTree(levelorder):\n",
    "    index = 0\n",
    "    length = len(levelorder)\n",
    "    if length<=0 or levelorder[0]==-1:\n",
    "        return None\n",
    "    root = BinaryTreeNode(levelorder[index])\n",
    "    index += 1\n",
    "    q = queue.Queue()\n",
    "    q.put(root)\n",
    "    while not q.empty():\n",
    "        currentNode = q.get()\n",
    "        leftChild = levelorder[index]\n",
    "        index += 1\n",
    "        if leftChild != -1:\n",
    "            leftNode = BinaryTreeNode(leftChild)\n",
    "            currentNode.left =leftNode\n",
    "            q.put(leftNode)\n",
    "        rightChild = levelorder[index]\n",
    "        index += 1\n",
    "        if rightChild != -1:\n",
    "            rightNode = BinaryTreeNode(rightChild)\n",
    "            currentNode.right =rightNode\n",
    "            q.put(rightNode)\n",
    "    return root\n",
    "\n",
    "# Main\n",
    "levelOrder = [int(i) for i in input().strip().split()]\n",
    "root = buildLevelTree(levelOrder)\n",
    "k1, k2 = (int(i) for i in input().strip().split())\n",
    "elementsInRangeK1K2(root, k1, k2)"
   ]
  }
 ],
 "metadata": {
  "kernelspec": {
   "display_name": "Python 3",
   "language": "python",
   "name": "python3"
  },
  "language_info": {
   "codemirror_mode": {
    "name": "ipython",
    "version": 3
   },
   "file_extension": ".py",
   "mimetype": "text/x-python",
   "name": "python",
   "nbconvert_exporter": "python",
   "pygments_lexer": "ipython3",
   "version": "3.8.8"
  }
 },
 "nbformat": 4,
 "nbformat_minor": 5
}
