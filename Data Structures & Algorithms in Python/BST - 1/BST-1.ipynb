{
 "cells": [
  {
   "cell_type": "markdown",
   "id": "b20aad76",
   "metadata": {},
   "source": [
    "# Intro To BST"
   ]
  },
  {
   "cell_type": "code",
   "execution_count": 2,
   "id": "3161e9f3",
   "metadata": {},
   "outputs": [],
   "source": [
    "# LEFT(smaller)<ROOT<=RIGHT(larger) \n",
    "# Eg:\n",
    "#           6\n",
    "   #       / \\\n",
    "    #     3   9"
   ]
  },
  {
   "cell_type": "markdown",
   "id": "ff1f12da",
   "metadata": {},
   "source": [
    "# Search Node In BST"
   ]
  },
  {
   "cell_type": "code",
   "execution_count": null,
   "id": "0c0b9ee2",
   "metadata": {},
   "outputs": [],
   "source": [
    "# FIND DATA IN BINARY SEARCH TREE\n",
    "# O(h) \n",
    "# h is Log n"
   ]
  },
  {
   "cell_type": "markdown",
   "id": "e01378f0",
   "metadata": {},
   "source": [
    "# Code:Search Node In BST"
   ]
  },
  {
   "cell_type": "code",
   "execution_count": 17,
   "id": "80f42f6a",
   "metadata": {},
   "outputs": [],
   "source": [
    "# Find Data In Binary Search Tree\n",
    "class BinaryTreeNode:\n",
    "    def __init__(self, data):\n",
    "        self.data=data\n",
    "        self.left=None\n",
    "        self.right=None "
   ]
  },
  {
   "cell_type": "code",
   "execution_count": 18,
   "id": "64f0b703",
   "metadata": {},
   "outputs": [],
   "source": [
    "def search(root, x):\n",
    "    if root == None:\n",
    "        return False\n",
    "    if root.data == x:\n",
    "        return True\n",
    "    elif root.data>x:\n",
    "        return search(root.left,x)\n",
    "    else:\n",
    "        return search(root.right,x)"
   ]
  },
  {
   "cell_type": "code",
   "execution_count": 19,
   "id": "5029e07d",
   "metadata": {},
   "outputs": [],
   "source": [
    "def printTreeDetailed(root):   \n",
    "    if root == None:\n",
    "        return                   \n",
    "    print(root.data, end=\":\") \n",
    "    if root.left != None:\n",
    "        print(\"L\", root.left.data,end=\",\")\n",
    "    if root.right != None:\n",
    "        print(\"R\", root.right.data,end=\" \")\n",
    "    print()\n",
    "    printTreeDetailed(root.left)         \n",
    "    printTreeDetailed(root.right)"
   ]
  },
  {
   "cell_type": "code",
   "execution_count": 20,
   "id": "23833839",
   "metadata": {},
   "outputs": [],
   "source": [
    "import queue\n",
    "def takeLevelWiseTreeInput():\n",
    "    q=queue.Queue()\n",
    "    print(\"Enter root\")\n",
    "    rootData=int(input())\n",
    "    if(rootData==-1):\n",
    "        return None\n",
    "    root=BinaryTreeNode(rootData)\n",
    "    q.put(root)\n",
    "    while(not(q.empty())):\n",
    "        current_node=q.get()\n",
    "        print(\"Enter left child of\",current_node.data)\n",
    "        leftChildData=int(input())\n",
    "        if leftChildData !=-1:\n",
    "            leftChild=BinaryTreeNode(leftChildData)\n",
    "            current_node.left=leftChild\n",
    "            q.put(leftChild)\n",
    "            \n",
    "        print(\"Enter right child of\",current_node.data)\n",
    "        rightChildData=int(input())\n",
    "        if rightChildData !=-1:\n",
    "            rightChild=BinaryTreeNode(rightChildData)\n",
    "            current_node.right=rightChild\n",
    "            q.put(rightChild)\n",
    "            \n",
    "    return root\n",
    "    "
   ]
  },
  {
   "cell_type": "code",
   "execution_count": 21,
   "id": "f380abf6",
   "metadata": {},
   "outputs": [
    {
     "name": "stdout",
     "output_type": "stream",
     "text": [
      "Enter root\n",
      "4\n",
      "Enter left child of 4\n",
      "2\n",
      "Enter right child of 4\n",
      "6\n",
      "Enter left child of 2\n",
      "1\n",
      "Enter right child of 2\n",
      "3\n",
      "Enter left child of 6\n",
      "5\n",
      "Enter right child of 6\n",
      "7\n",
      "Enter left child of 1\n",
      "-1\n",
      "Enter right child of 1\n",
      "-1\n",
      "Enter left child of 3\n",
      "-1\n",
      "Enter right child of 3\n",
      "-1\n",
      "Enter left child of 5\n",
      "-1\n",
      "Enter right child of 5\n",
      "-1\n",
      "Enter left child of 7\n",
      "-1\n",
      "Enter right child of 7\n",
      "-1\n",
      "4:L 2,R 6 \n",
      "2:L 1,R 3 \n",
      "1:\n",
      "3:\n",
      "6:L 5,R 7 \n",
      "5:\n",
      "7:\n"
     ]
    },
    {
     "data": {
      "text/plain": [
       "True"
      ]
     },
     "execution_count": 21,
     "metadata": {},
     "output_type": "execute_result"
    }
   ],
   "source": [
    "root=takeLevelWiseTreeInput()\n",
    "printTreeDetailed(root)\n",
    "search(root, 5)"
   ]
  },
  {
   "cell_type": "markdown",
   "id": "b59cd9ee",
   "metadata": {},
   "source": [
    "                            4\n",
    "                           / \\\n",
    "                          2   6\n",
    "                         / \\ / \\\n",
    "                        1  3 5  7"
   ]
  },
  {
   "cell_type": "code",
   "execution_count": 22,
   "id": "b8566788",
   "metadata": {},
   "outputs": [
    {
     "name": "stdout",
     "output_type": "stream",
     "text": [
      "Enter root\n",
      "4\n",
      "Enter left child of 4\n",
      "2\n",
      "Enter right child of 4\n",
      "6\n",
      "Enter left child of 2\n",
      "1\n",
      "Enter right child of 2\n",
      "3\n",
      "Enter left child of 6\n",
      "5\n",
      "Enter right child of 6\n",
      "7\n",
      "Enter left child of 1\n",
      "-1\n",
      "Enter right child of 1\n",
      "-1\n",
      "Enter left child of 3\n",
      "-1\n",
      "Enter right child of 3\n",
      "-1\n",
      "Enter left child of 5\n",
      "-1\n",
      "Enter right child of 5\n",
      "-1\n",
      "Enter left child of 7\n",
      "-1\n",
      "Enter right child of 7\n",
      "-1\n",
      "4:L 2,R 6 \n",
      "2:L 1,R 3 \n",
      "1:\n",
      "3:\n",
      "6:L 5,R 7 \n",
      "5:\n",
      "7:\n"
     ]
    },
    {
     "data": {
      "text/plain": [
       "False"
      ]
     },
     "execution_count": 22,
     "metadata": {},
     "output_type": "execute_result"
    }
   ],
   "source": [
    "root=takeLevelWiseTreeInput()\n",
    "printTreeDetailed(root)\n",
    "search(root, 9)"
   ]
  },
  {
   "cell_type": "markdown",
   "id": "aab6c3be",
   "metadata": {},
   "source": [
    "# BST Time Complexity\n",
    "\n",
    "The run time for traversing all the nodes of a binary search tree with n nodes and printing them in an order is: O(n)"
   ]
  },
  {
   "cell_type": "markdown",
   "id": "bad1ffe0",
   "metadata": {},
   "source": [
    "# Print Elements In Range K1 and K2"
   ]
  },
  {
   "cell_type": "code",
   "execution_count": null,
   "id": "efacc473",
   "metadata": {},
   "outputs": [],
   "source": [
    "# k1 <= k2\n",
    "#  < K1 --> ONLY ON RIGHT\n",
    "#  > K2 --> ONLY ON LEFT\n",
    "#  OTHERWISE --> CALL BOTH SIDES"
   ]
  },
  {
   "cell_type": "markdown",
   "id": "7b78a585",
   "metadata": {},
   "source": [
    "# Code:Print Elements In Range K1 and K2"
   ]
  },
  {
   "cell_type": "code",
   "execution_count": 8,
   "id": "4c9ca9a5",
   "metadata": {},
   "outputs": [],
   "source": [
    "class BinaryTreeNode:\n",
    "    def __init__(self, data):\n",
    "        self.data=data\n",
    "        self.left=None\n",
    "        self.right=None "
   ]
  },
  {
   "cell_type": "code",
   "execution_count": 9,
   "id": "36551c83",
   "metadata": {},
   "outputs": [],
   "source": [
    "def search(root, x):\n",
    "    if root == None:\n",
    "        return False\n",
    "    if root.data == x:\n",
    "        return True\n",
    "    elif root.data>x:\n",
    "        return search(root.left,x)\n",
    "    else:\n",
    "        return search(root.right,x)"
   ]
  },
  {
   "cell_type": "code",
   "execution_count": 10,
   "id": "4c018e7d",
   "metadata": {},
   "outputs": [],
   "source": [
    "def printBetweenK1K2(root,k1,k2):\n",
    "    if root==None:\n",
    "        return\n",
    "    if root.data>k2:\n",
    "        printBetweenK1K2(root.left,k1,k2)\n",
    "    elif root.data<k1:\n",
    "        printBetweenK1K2(root.right,k1,k2)\n",
    "    else:\n",
    "        print(root.data)\n",
    "        printBetweenK1K2(root.left,k1,k2)\n",
    "        printBetweenK1K2(root.right,k1,k2)\n",
    "        "
   ]
  },
  {
   "cell_type": "code",
   "execution_count": 11,
   "id": "87d17973",
   "metadata": {},
   "outputs": [],
   "source": [
    "def printTreeDetailed(root):   \n",
    "    if root == None:\n",
    "        return                   \n",
    "    print(root.data, end=\":\") \n",
    "    if root.left != None:\n",
    "        print(\"L\", root.left.data,end=\",\")\n",
    "    if root.right != None:\n",
    "        print(\"R\", root.right.data,end=\" \")\n",
    "    print()\n",
    "    printTreeDetailed(root.left)         \n",
    "    printTreeDetailed(root.right)"
   ]
  },
  {
   "cell_type": "code",
   "execution_count": 12,
   "id": "3725ae56",
   "metadata": {},
   "outputs": [],
   "source": [
    "import queue\n",
    "def takeLevelWiseTreeInput():\n",
    "    q=queue.Queue()\n",
    "    print(\"Enter root\")\n",
    "    rootData=int(input())\n",
    "    if(rootData==-1):\n",
    "        return None\n",
    "    root=BinaryTreeNode(rootData)\n",
    "    q.put(root)\n",
    "    while(not(q.empty())):\n",
    "        current_node=q.get()\n",
    "        print(\"Enter left child of\",current_node.data)\n",
    "        leftChildData=int(input())\n",
    "        if leftChildData !=-1:\n",
    "            leftChild=BinaryTreeNode(leftChildData)\n",
    "            current_node.left=leftChild\n",
    "            q.put(leftChild)\n",
    "            \n",
    "        print(\"Enter right child of\",current_node.data)\n",
    "        rightChildData=int(input())\n",
    "        if rightChildData !=-1:\n",
    "            rightChild=BinaryTreeNode(rightChildData)\n",
    "            current_node.right=rightChild\n",
    "            q.put(rightChild)\n",
    "            \n",
    "    return root\n",
    "    \n",
    "    "
   ]
  },
  {
   "cell_type": "code",
   "execution_count": 13,
   "id": "81e50b78",
   "metadata": {},
   "outputs": [
    {
     "name": "stdout",
     "output_type": "stream",
     "text": [
      "Enter root\n",
      "4\n",
      "Enter left child of 4\n",
      "2\n",
      "Enter right child of 4\n",
      "10\n",
      "Enter left child of 2\n",
      "1\n",
      "Enter right child of 2\n",
      "3\n",
      "Enter left child of 10\n",
      "7\n",
      "Enter right child of 10\n",
      "12\n",
      "Enter left child of 1\n",
      "-1\n",
      "Enter right child of 1\n",
      "-1\n",
      "Enter left child of 3\n",
      "-1\n",
      "Enter right child of 3\n",
      "-1\n",
      "Enter left child of 7\n",
      "5\n",
      "Enter right child of 7\n",
      "6\n",
      "Enter left child of 12\n",
      "11\n",
      "Enter right child of 12\n",
      "18\n",
      "Enter left child of 5\n",
      "-1\n",
      "Enter right child of 5\n",
      "-1\n",
      "Enter left child of 6\n",
      "-1\n",
      "Enter right child of 6\n",
      "-1\n",
      "Enter left child of 11\n",
      "-1\n",
      "Enter right child of 11\n",
      "-1\n",
      "Enter left child of 18\n",
      "-1\n",
      "Enter right child of 18\n",
      "-1\n",
      "4:L 2,R 10 \n",
      "2:L 1,R 3 \n",
      "1:\n",
      "3:\n",
      "10:L 7,R 12 \n",
      "7:L 5,R 6 \n",
      "5:\n",
      "6:\n",
      "12:L 11,R 18 \n",
      "11:\n",
      "18:\n",
      "10\n",
      "7\n",
      "5\n",
      "6\n"
     ]
    }
   ],
   "source": [
    "root=takeLevelWiseTreeInput()\n",
    "printTreeDetailed(root)\n",
    "printBetweenK1K2(root,5,10)\n"
   ]
  },
  {
   "cell_type": "markdown",
   "id": "184d3805",
   "metadata": {},
   "source": [
    "                            4\n",
    "                           / \\\n",
    "                          2   10\n",
    "                         / \\  / \\\n",
    "                        1  3 7   12\n",
    "                            / \\  / \\\n",
    "                           5  6 11 18\n",
    "                       "
   ]
  },
  {
   "cell_type": "markdown",
   "id": "4ad0dc31",
   "metadata": {},
   "source": [
    "# Convert Sorted Array To BST"
   ]
  },
  {
   "cell_type": "code",
   "execution_count": null,
   "id": "f2c16c21",
   "metadata": {},
   "outputs": [],
   "source": [
    "# BASE CASE\n",
    "# 1. Take the middle element and create root node\n",
    "# 2. Take left side (of middle) of array , pass them recursively to get left subtree\n",
    "# 3. Use right side elements to get right subtree \n",
    "# 4.connect these subtrees with the root node\n",
    "# 5.return root node"
   ]
  },
  {
   "cell_type": "markdown",
   "id": "b702803a",
   "metadata": {},
   "source": [
    "# Check Is BST?"
   ]
  },
  {
   "cell_type": "code",
   "execution_count": 2,
   "id": "e642769f",
   "metadata": {},
   "outputs": [],
   "source": [
    "# Check If A Binary Tree Is BST\n",
    "class BinaryTreeNode:\n",
    "    def __init__(self, data):\n",
    "        self.data=data\n",
    "        self.left=None\n",
    "        self.right=None "
   ]
  },
  {
   "cell_type": "code",
   "execution_count": 3,
   "id": "89f0e596",
   "metadata": {},
   "outputs": [],
   "source": [
    "def search(root, x):\n",
    "    if root == None:\n",
    "        return False\n",
    "    if root.data == x:\n",
    "        return True\n",
    "    elif root.data>x:\n",
    "        return search(root.left,x)\n",
    "    else:\n",
    "        return search(root.right,x)"
   ]
  },
  {
   "cell_type": "code",
   "execution_count": 4,
   "id": "b299b7a9",
   "metadata": {},
   "outputs": [],
   "source": [
    "def printTreeDetailed(root):   \n",
    "    if root == None:\n",
    "        return                   \n",
    "    print(root.data, end=\":\") \n",
    "    if root.left != None:\n",
    "        print(\"L\", root.left.data,end=\",\")\n",
    "    if root.right != None:\n",
    "        print(\"R\", root.right.data,end=\" \")\n",
    "    print()\n",
    "    printTreeDetailed(root.left)         \n",
    "    printTreeDetailed(root.right)"
   ]
  },
  {
   "cell_type": "code",
   "execution_count": 5,
   "id": "5be0b45d",
   "metadata": {},
   "outputs": [],
   "source": [
    "import queue\n",
    "def takeLevelWiseTreeInput():\n",
    "    q=queue.Queue()\n",
    "    print(\"Enter root\")\n",
    "    rootData=int(input())\n",
    "    if(rootData==-1):\n",
    "        return None\n",
    "    root=BinaryTreeNode(rootData)\n",
    "    q.put(root)\n",
    "    while(not(q.empty())):\n",
    "        current_node=q.get()\n",
    "        print(\"Enter left child of\",current_node.data)\n",
    "        leftChildData=int(input())\n",
    "        if leftChildData !=-1:\n",
    "            leftChild=BinaryTreeNode(leftChildData)\n",
    "            current_node.left=leftChild\n",
    "            q.put(leftChild)\n",
    "            \n",
    "        print(\"Enter right child of\",current_node.data)\n",
    "        rightChildData=int(input())\n",
    "        if rightChildData !=-1:\n",
    "            rightChild=BinaryTreeNode(rightChildData)\n",
    "            current_node.right=rightChild\n",
    "            q.put(rightChild)\n",
    "            \n",
    "    return root\n",
    "    "
   ]
  },
  {
   "cell_type": "code",
   "execution_count": 6,
   "id": "b646e777",
   "metadata": {},
   "outputs": [],
   "source": [
    "def minTree(root):\n",
    "    if root==None:\n",
    "        return 100000\n",
    "    leftMin=minTree(root.left)\n",
    "    rightMin=minTree(root.right)\n",
    "    return min(leftMin,rightMin,root.data)"
   ]
  },
  {
   "cell_type": "code",
   "execution_count": 7,
   "id": "9943eda1",
   "metadata": {},
   "outputs": [],
   "source": [
    "def maxTree(root):\n",
    "    if root==None:\n",
    "        return -100000\n",
    "    leftMax=maxTree(root.left)\n",
    "    rightMax=maxTree(root.right)\n",
    "    return max(leftMax,rightMax,root.data)"
   ]
  },
  {
   "cell_type": "code",
   "execution_count": 8,
   "id": "2c3d32f2",
   "metadata": {},
   "outputs": [],
   "source": [
    "def isBST(root):\n",
    "    if root == None:\n",
    "        return True\n",
    "    leftMax=maxTree(root.left)\n",
    "    rightMin=minTree(root.right)\n",
    "    if root.data > rightMin or root.data <= leftMax:\n",
    "        return False\n",
    "    \n",
    "    isLeftBST=isBST(root.left)\n",
    "    isRightBST=isBST(root.right)\n",
    "    return isLeftBST and isRightBST"
   ]
  },
  {
   "cell_type": "code",
   "execution_count": 9,
   "id": "aae879b7",
   "metadata": {},
   "outputs": [
    {
     "name": "stdout",
     "output_type": "stream",
     "text": [
      "Enter root\n",
      "4\n",
      "Enter left child of 4\n",
      "2\n",
      "Enter right child of 4\n",
      "6\n",
      "Enter left child of 2\n",
      "1\n",
      "Enter right child of 2\n",
      "3\n",
      "Enter left child of 6\n",
      "5\n",
      "Enter right child of 6\n",
      "7\n",
      "Enter left child of 1\n",
      "-1\n",
      "Enter right child of 1\n",
      "-1\n",
      "Enter left child of 3\n",
      "-1\n",
      "Enter right child of 3\n",
      "-1\n",
      "Enter left child of 5\n",
      "-1\n",
      "Enter right child of 5\n",
      "-1\n",
      "Enter left child of 7\n",
      "-1\n",
      "Enter right child of 7\n",
      "-1\n",
      "4:L 2,R 6 \n",
      "2:L 1,R 3 \n",
      "1:\n",
      "3:\n",
      "6:L 5,R 7 \n",
      "5:\n",
      "7:\n"
     ]
    },
    {
     "data": {
      "text/plain": [
       "True"
      ]
     },
     "execution_count": 9,
     "metadata": {},
     "output_type": "execute_result"
    }
   ],
   "source": [
    "root=takeLevelWiseTreeInput()\n",
    "printTreeDetailed(root)\n",
    "isBST(root)\n"
   ]
  },
  {
   "cell_type": "markdown",
   "id": "5a6b39eb",
   "metadata": {},
   "source": [
    "                            4\n",
    "                           / \\\n",
    "                          2   6\n",
    "                         / \\ / \\\n",
    "                        1  3 5  7"
   ]
  },
  {
   "cell_type": "code",
   "execution_count": 10,
   "id": "b8d151be",
   "metadata": {},
   "outputs": [
    {
     "name": "stdout",
     "output_type": "stream",
     "text": [
      "Enter root\n",
      "4\n",
      "Enter left child of 4\n",
      "2\n",
      "Enter right child of 4\n",
      "6\n",
      "Enter left child of 2\n",
      "1\n",
      "Enter right child of 2\n",
      "10\n",
      "Enter left child of 6\n",
      "5\n",
      "Enter right child of 6\n",
      "7\n",
      "Enter left child of 1\n",
      "-1\n",
      "Enter right child of 1\n",
      "-1\n",
      "Enter left child of 10\n",
      "-1\n",
      "Enter right child of 10\n",
      "-1\n",
      "Enter left child of 5\n",
      "-1\n",
      "Enter right child of 5\n",
      "-1\n",
      "Enter left child of 7\n",
      "-1\n",
      "Enter right child of 7\n",
      "-1\n",
      "4:L 2,R 6 \n",
      "2:L 1,R 10 \n",
      "1:\n",
      "10:\n",
      "6:L 5,R 7 \n",
      "5:\n",
      "7:\n"
     ]
    },
    {
     "data": {
      "text/plain": [
       "False"
      ]
     },
     "execution_count": 10,
     "metadata": {},
     "output_type": "execute_result"
    }
   ],
   "source": [
    "root=takeLevelWiseTreeInput()\n",
    "printTreeDetailed(root)\n",
    "isBST(root)"
   ]
  },
  {
   "cell_type": "markdown",
   "id": "2e81e1ab",
   "metadata": {},
   "source": [
    "                            4\n",
    "                           / \\\n",
    "                          2   6\n",
    "                         / \\ / \\\n",
    "                        1 10 5  7"
   ]
  },
  {
   "cell_type": "code",
   "execution_count": null,
   "id": "1d20b330",
   "metadata": {},
   "outputs": [],
   "source": [
    "T(n)=2T(n/2)+O(n) # if tree is balanced\n",
    "T(n)=T(n-1)+O(n) # if tree is unbalanced"
   ]
  },
  {
   "cell_type": "markdown",
   "id": "46b961ca",
   "metadata": {},
   "source": [
    "# Improved Solution For Check BST?"
   ]
  },
  {
   "cell_type": "code",
   "execution_count": 1,
   "id": "54c50641",
   "metadata": {},
   "outputs": [],
   "source": [
    "# Better Solution for is BST\n",
    "class BinaryTreeNode:\n",
    "    def __init__(self, data):\n",
    "        self.data=data\n",
    "        self.left=None\n",
    "        self.right=None "
   ]
  },
  {
   "cell_type": "code",
   "execution_count": 2,
   "id": "29f6d594",
   "metadata": {},
   "outputs": [],
   "source": [
    "def search(root, x):\n",
    "    if root == None:\n",
    "        return False\n",
    "    if root.data == x:\n",
    "        return True\n",
    "    elif root.data>x:\n",
    "        return search(root.left,x)\n",
    "    else:\n",
    "        return search(root.right,x)"
   ]
  },
  {
   "cell_type": "code",
   "execution_count": 3,
   "id": "a14b30c9",
   "metadata": {},
   "outputs": [],
   "source": [
    "def printTreeDetailed(root):   \n",
    "    if root == None:\n",
    "        return                   \n",
    "    print(root.data, end=\":\") \n",
    "    if root.left != None:\n",
    "        print(\"L\", root.left.data,end=\",\")\n",
    "    if root.right != None:\n",
    "        print(\"R\", root.right.data,end=\" \")\n",
    "    print()\n",
    "    printTreeDetailed(root.left)         \n",
    "    printTreeDetailed(root.right)"
   ]
  },
  {
   "cell_type": "code",
   "execution_count": 4,
   "id": "c1e4ef68",
   "metadata": {},
   "outputs": [],
   "source": [
    "import queue\n",
    "def takeLevelWiseTreeInput():\n",
    "    q=queue.Queue()\n",
    "    print(\"Enter root\")\n",
    "    rootData=int(input())\n",
    "    if(rootData==-1):\n",
    "        return None\n",
    "    root=BinaryTreeNode(rootData)\n",
    "    q.put(root)\n",
    "    while(not(q.empty())):\n",
    "        current_node=q.get()\n",
    "        print(\"Enter left child of\",current_node.data)\n",
    "        leftChildData=int(input())\n",
    "        if leftChildData !=-1:\n",
    "            leftChild=BinaryTreeNode(leftChildData)\n",
    "            current_node.left=leftChild\n",
    "            q.put(leftChild)\n",
    "            \n",
    "        print(\"Enter right child of\",current_node.data)\n",
    "        rightChildData=int(input())\n",
    "        if rightChildData !=-1:\n",
    "            rightChild=BinaryTreeNode(rightChildData)\n",
    "            current_node.right=rightChild\n",
    "            q.put(rightChild)\n",
    "            \n",
    "    return root"
   ]
  },
  {
   "cell_type": "code",
   "execution_count": 5,
   "id": "bc9c0dca",
   "metadata": {},
   "outputs": [],
   "source": [
    "def minTree(root):\n",
    "    if root==None:\n",
    "        return 100000\n",
    "    leftMin=minTree(root.left)\n",
    "    rightMin=minTree(root.right)\n",
    "    return min(leftMin,rightMin,root.data)"
   ]
  },
  {
   "cell_type": "code",
   "execution_count": 6,
   "id": "9ff69059",
   "metadata": {},
   "outputs": [],
   "source": [
    "def maxTree(root):\n",
    "    if root==None:\n",
    "        return -100000\n",
    "    leftMax=maxTree(root.left)\n",
    "    rightMax=maxTree(root.right)\n",
    "    return max(leftMax,rightMax,root.data)"
   ]
  },
  {
   "cell_type": "code",
   "execution_count": 7,
   "id": "7992f24c",
   "metadata": {},
   "outputs": [],
   "source": [
    "def isBST(root):\n",
    "    if root == None:\n",
    "        return True\n",
    "    leftMax=maxTree(root.left)\n",
    "    rightMin=minTree(root.right)\n",
    "    if root.data > rightMin or root.data <= leftMax:\n",
    "        return False\n",
    "    \n",
    "    isLeftBST=isBST(root.left)\n",
    "    isRightBST=isBST(root.right)\n",
    "    return isLeftBST and isRightBST"
   ]
  },
  {
   "cell_type": "code",
   "execution_count": 8,
   "id": "559aab03",
   "metadata": {},
   "outputs": [],
   "source": [
    "def isBST2(root):\n",
    "    if root == None:\n",
    "        return 100000, -100000, True\n",
    "    leftMin, leftMax, isLeftBST = isBST2(root.left)\n",
    "    rightMin, rightMax, isRightBST = isBST2(root.right)\n",
    "    \n",
    "    minimum = min(leftMin, rightMin, root.data)\n",
    "    maximum = max(leftMax, rightMax, root.data)\n",
    "    isTreeBST=True\n",
    "    if root.data<=leftMax or root.data > rightMin:\n",
    "        isTreeBST=False\n",
    "    if not(isLeftBST) or not(isRightBST):\n",
    "        isTreeBST = False\n",
    "    \n",
    "    return minimum, maximum, isTreeBST\n",
    "    \n",
    "    "
   ]
  },
  {
   "cell_type": "code",
   "execution_count": 9,
   "id": "f87e6239",
   "metadata": {},
   "outputs": [
    {
     "name": "stdout",
     "output_type": "stream",
     "text": [
      "Enter root\n",
      "4\n",
      "Enter left child of 4\n",
      "2\n",
      "Enter right child of 4\n",
      "6\n",
      "Enter left child of 2\n",
      "1\n",
      "Enter right child of 2\n",
      "3\n",
      "Enter left child of 6\n",
      "5\n",
      "Enter right child of 6\n",
      "7\n",
      "Enter left child of 1\n",
      "-1\n",
      "Enter right child of 1\n",
      "-1\n",
      "Enter left child of 3\n",
      "-1\n",
      "Enter right child of 3\n",
      "-1\n",
      "Enter left child of 5\n",
      "-1\n",
      "Enter right child of 5\n",
      "-1\n",
      "Enter left child of 7\n",
      "-1\n",
      "Enter right child of 7\n",
      "-1\n",
      "4:L 2,R 6 \n",
      "2:L 1,R 3 \n",
      "1:\n",
      "3:\n",
      "6:L 5,R 7 \n",
      "5:\n",
      "7:\n"
     ]
    },
    {
     "data": {
      "text/plain": [
       "(1, 7, True)"
      ]
     },
     "execution_count": 9,
     "metadata": {},
     "output_type": "execute_result"
    }
   ],
   "source": [
    "root=takeLevelWiseTreeInput()\n",
    "printTreeDetailed(root)\n",
    "isBST2(root)"
   ]
  },
  {
   "cell_type": "markdown",
   "id": "76849155",
   "metadata": {},
   "source": [
    "                             4\n",
    "                            / \\\n",
    "                           2   6\n",
    "                          / \\ / \\\n",
    "                         1  3 5  7"
   ]
  },
  {
   "cell_type": "code",
   "execution_count": 11,
   "id": "4255f288",
   "metadata": {},
   "outputs": [
    {
     "name": "stdout",
     "output_type": "stream",
     "text": [
      "Enter root\n",
      "4\n",
      "Enter left child of 4\n",
      "2\n",
      "Enter right child of 4\n",
      "6\n",
      "Enter left child of 2\n",
      "1\n",
      "Enter right child of 2\n",
      "30\n",
      "Enter left child of 6\n",
      "5\n",
      "Enter right child of 6\n",
      "7\n",
      "Enter left child of 1\n",
      "-1\n",
      "Enter right child of 1\n",
      "-1\n",
      "Enter left child of 30\n",
      "-1\n",
      "Enter right child of 30\n",
      "-1\n",
      "Enter left child of 5\n",
      "-1\n",
      "Enter right child of 5\n",
      "-1\n",
      "Enter left child of 7\n",
      "-1\n",
      "Enter right child of 7\n",
      "-1\n",
      "4:L 2,R 6 \n",
      "2:L 1,R 30 \n",
      "1:\n",
      "30:\n",
      "6:L 5,R 7 \n",
      "5:\n",
      "7:\n"
     ]
    },
    {
     "data": {
      "text/plain": [
       "(1, 30, False)"
      ]
     },
     "execution_count": 11,
     "metadata": {},
     "output_type": "execute_result"
    }
   ],
   "source": [
    "root=takeLevelWiseTreeInput()\n",
    "printTreeDetailed(root)\n",
    "isBST2(root)"
   ]
  },
  {
   "cell_type": "markdown",
   "id": "2f33e123",
   "metadata": {},
   "source": [
    "                         4\n",
    "                        / \\\n",
    "                       2   6\n",
    "                      / \\ / \\\n",
    "                     1 30 5  7"
   ]
  },
  {
   "cell_type": "markdown",
   "id": "551a19b6",
   "metadata": {},
   "source": [
    "# Another Solution For Check BST?"
   ]
  },
  {
   "cell_type": "markdown",
   "id": "ac34a4a8",
   "metadata": {},
   "source": [
    "# Another Solution For Is BST\n",
    "       \n",
    "                         -∞,∞\n",
    "                        4\n",
    "                  -∞,3 / \\   4,∞\n",
    "                      2   6\n",
    "                -∞,1 / \\ / \\ 6,∞\n",
    "                    1  3 5  7\n",
    "                   (2,3) (4,5)                      \n",
    "            "
   ]
  },
  {
   "cell_type": "markdown",
   "id": "95163e86",
   "metadata": {},
   "source": [
    "                     min,max\n",
    "                      r\n",
    "            min,r-1  / \\ r,max"
   ]
  },
  {
   "cell_type": "code",
   "execution_count": 12,
   "id": "57cd8e47",
   "metadata": {},
   "outputs": [],
   "source": [
    "class BinaryTreeNode:\n",
    "    def __init__(self, data):\n",
    "        self.data=data\n",
    "        self.left=None\n",
    "        self.right=None "
   ]
  },
  {
   "cell_type": "code",
   "execution_count": 13,
   "id": "8f136472",
   "metadata": {},
   "outputs": [],
   "source": [
    "def search(root, x):\n",
    "    if root == None:\n",
    "        return False\n",
    "    if root.data == x:\n",
    "        return True\n",
    "    elif root.data>x:\n",
    "        return search(root.left,x)\n",
    "    else:\n",
    "        return search(root.right,x)"
   ]
  },
  {
   "cell_type": "code",
   "execution_count": 14,
   "id": "efc5f575",
   "metadata": {},
   "outputs": [],
   "source": [
    "def printTreeDetailed(root):   \n",
    "    if root == None:\n",
    "        return                   \n",
    "    print(root.data, end=\":\") \n",
    "    if root.left != None:\n",
    "        print(\"L\", root.left.data,end=\",\")\n",
    "    if root.right != None:\n",
    "        print(\"R\", root.right.data,end=\" \")\n",
    "    print()\n",
    "    printTreeDetailed(root.left)         \n",
    "    printTreeDetailed(root.right)"
   ]
  },
  {
   "cell_type": "code",
   "execution_count": 15,
   "id": "9c7770d5",
   "metadata": {},
   "outputs": [],
   "source": [
    "import queue\n",
    "def takeLevelWiseTreeInput():\n",
    "    q=queue.Queue()\n",
    "    print(\"Enter root\")\n",
    "    rootData=int(input())\n",
    "    if(rootData==-1):\n",
    "        return None\n",
    "    root=BinaryTreeNode(rootData)\n",
    "    q.put(root)\n",
    "    while(not(q.empty())):\n",
    "        current_node=q.get()\n",
    "        print(\"Enter left child of\",current_node.data)\n",
    "        leftChildData=int(input())\n",
    "        if leftChildData !=-1:\n",
    "            leftChild=BinaryTreeNode(leftChildData)\n",
    "            current_node.left=leftChild\n",
    "            q.put(leftChild)\n",
    "            \n",
    "        print(\"Enter right child of\",current_node.data)\n",
    "        rightChildData=int(input())\n",
    "        if rightChildData !=-1:\n",
    "            rightChild=BinaryTreeNode(rightChildData)\n",
    "            current_node.right=rightChild\n",
    "            q.put(rightChild)\n",
    "            \n",
    "    return root"
   ]
  },
  {
   "cell_type": "code",
   "execution_count": 16,
   "id": "69afcdbd",
   "metadata": {},
   "outputs": [],
   "source": [
    "def minTree(root):\n",
    "    if root==None:\n",
    "        return 100000\n",
    "    leftMin=minTree(root.left)\n",
    "    rightMin=minTree(root.right)\n",
    "    return min(leftMin,rightMin,root.data)"
   ]
  },
  {
   "cell_type": "code",
   "execution_count": 17,
   "id": "8fd331a9",
   "metadata": {},
   "outputs": [],
   "source": [
    "def maxTree(root):\n",
    "    if root==None:\n",
    "        return -100000\n",
    "    leftMax=maxTree(root.left)\n",
    "    rightMax=maxTree(root.right)\n",
    "    return max(leftMax,rightMax,root.data)"
   ]
  },
  {
   "cell_type": "code",
   "execution_count": 18,
   "id": "98da0e2c",
   "metadata": {},
   "outputs": [],
   "source": [
    "def isBST(root):\n",
    "    if root == None:\n",
    "        return True\n",
    "    leftMax=maxTree(root.left)\n",
    "    rightMin=minTree(root.right)\n",
    "    if root.data > rightMin or root.data <= leftMax:\n",
    "        return False\n",
    "    \n",
    "    isLeftBST=isBST(root.left)\n",
    "    isRightBST=isBST(root.right)\n",
    "    return isLeftBST and isRightBST"
   ]
  },
  {
   "cell_type": "code",
   "execution_count": 19,
   "id": "348aad25",
   "metadata": {},
   "outputs": [],
   "source": [
    "def isBST2(root):\n",
    "    if root == None:\n",
    "        return 100000, -100000, True\n",
    "    leftMin, leftMax, isLeftBST = isBST2(root.left)\n",
    "    rightMin, rightMax, isRightBST = isBST2(root.right)\n",
    "    \n",
    "    minimum = min(leftMin, rightMin, root.data)\n",
    "    maximum = max(leftMax, rightMax, root.data)\n",
    "    isTreeBST=True\n",
    "    if root.data<=leftMax or root.data > rightMin:\n",
    "        isTreeBST=False\n",
    "    if not(isLeftBST) or not(isRightBST):\n",
    "        isTreeBST = False\n",
    "    \n",
    "    return minimum, maximum, isTreeBST\n",
    "    \n",
    "    "
   ]
  },
  {
   "cell_type": "code",
   "execution_count": 20,
   "id": "38e9e6ad",
   "metadata": {},
   "outputs": [],
   "source": [
    "def isBST3(root,min_range,max_range):\n",
    "    if root==None:\n",
    "        return True\n",
    "    if root.data<min_range or root.data>max_range:\n",
    "        return False\n",
    "    isLeftWithConstraints=isBST3(root.left,min_range,root.data-1)\n",
    "    isRightWithConstraints=isBST3(root.right,root.data,max_range)\n",
    "    \n",
    "    return isLeftWithConstraints and isRightWithConstraints"
   ]
  },
  {
   "cell_type": "code",
   "execution_count": 22,
   "id": "a13e1ed0",
   "metadata": {},
   "outputs": [
    {
     "name": "stdout",
     "output_type": "stream",
     "text": [
      "Enter root\n",
      "4\n",
      "Enter left child of 4\n",
      "2\n",
      "Enter right child of 4\n",
      "6\n",
      "Enter left child of 2\n",
      "1\n",
      "Enter right child of 2\n",
      "30\n",
      "Enter left child of 6\n",
      "5\n",
      "Enter right child of 6\n",
      "7\n",
      "Enter left child of 1\n",
      "-1\n",
      "Enter right child of 1\n",
      "-1\n",
      "Enter left child of 30\n",
      "-1\n",
      "Enter right child of 30\n",
      "-1\n",
      "Enter left child of 5\n",
      "-1\n",
      "Enter right child of 5\n",
      "-1\n",
      "Enter left child of 7\n",
      "-1\n",
      "Enter right child of 7\n",
      "-1\n",
      "4:L 2,R 6 \n",
      "2:L 1,R 30 \n",
      "1:\n",
      "30:\n",
      "6:L 5,R 7 \n",
      "5:\n",
      "7:\n"
     ]
    },
    {
     "data": {
      "text/plain": [
       "False"
      ]
     },
     "execution_count": 22,
     "metadata": {},
     "output_type": "execute_result"
    }
   ],
   "source": [
    "root=takeLevelWiseTreeInput()\n",
    "printTreeDetailed(root)\n",
    "isBST3(root,-100000,100000)"
   ]
  },
  {
   "cell_type": "code",
   "execution_count": 25,
   "id": "d844d986",
   "metadata": {},
   "outputs": [
    {
     "name": "stdout",
     "output_type": "stream",
     "text": [
      "Enter root\n",
      "4\n",
      "Enter left child of 4\n",
      "2\n",
      "Enter right child of 4\n",
      "6\n",
      "Enter left child of 2\n",
      "1\n",
      "Enter right child of 2\n",
      "3\n",
      "Enter left child of 6\n",
      "5\n",
      "Enter right child of 6\n",
      "7\n",
      "Enter left child of 1\n",
      "-1\n",
      "Enter right child of 1\n",
      "-1\n",
      "Enter left child of 3\n",
      "-1\n",
      "Enter right child of 3\n",
      "-1\n",
      "Enter left child of 5\n",
      "-1\n",
      "Enter right child of 5\n",
      "-1\n",
      "Enter left child of 7\n",
      "-1\n",
      "Enter right child of 7\n",
      "-1\n",
      "4:L 2,R 6 \n",
      "2:L 1,R 3 \n",
      "1:\n",
      "3:\n",
      "6:L 5,R 7 \n",
      "5:\n",
      "7:\n"
     ]
    },
    {
     "data": {
      "text/plain": [
       "True"
      ]
     },
     "execution_count": 25,
     "metadata": {},
     "output_type": "execute_result"
    }
   ],
   "source": [
    "root=takeLevelWiseTreeInput()\n",
    "printTreeDetailed(root)\n",
    "isBST3(root,-100000,100000)"
   ]
  }
 ],
 "metadata": {
  "kernelspec": {
   "display_name": "Python 3",
   "language": "python",
   "name": "python3"
  },
  "language_info": {
   "codemirror_mode": {
    "name": "ipython",
    "version": 3
   },
   "file_extension": ".py",
   "mimetype": "text/x-python",
   "name": "python",
   "nbconvert_exporter": "python",
   "pygments_lexer": "ipython3",
   "version": "3.8.8"
  }
 },
 "nbformat": 4,
 "nbformat_minor": 5
}
