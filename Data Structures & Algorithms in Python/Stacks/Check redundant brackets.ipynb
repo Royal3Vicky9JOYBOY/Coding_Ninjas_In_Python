{
 "cells": [
  {
   "cell_type": "markdown",
   "id": "bbea93b4",
   "metadata": {},
   "source": [
    "# Check redundant brackets\n",
    "Send Feedback\n",
    "For a given expression in the form of a string, find if there exist any redundant brackets or not. It is given that the expression contains only rounded brackets or parenthesis and the input expression will always be balanced.\n",
    "A pair of the bracket is said to be redundant when a sub-expression is surrounded by unnecessary or needless brackets.\n",
    "Example:\n",
    "Expression: (a+b)+c\n",
    "Since there are no needless brackets, hence, the output must be 'false'.\n",
    "\n",
    "Expression: ((a+b))\n",
    "The expression can be reduced to (a+b). Hence the expression has redundant brackets and the output will be 'true'.\n",
    "Note:\n",
    "You will not get a partial score for this problem. You will get marks only if all the test cases are passed.\n",
    "Input Format :\n",
    "The first and the only line of input contains a string expression, without any spaces in between.\n",
    "Output Format :\n",
    "The first and the only line of output will print either 'true' or 'false'(without the quotes) denoting whether the input expression contains redundant brackets or not.\n",
    "Note:\n",
    "You are not required to print the expected result. It has already been taken care of.\n",
    "Constraints:\n",
    "0 <= N <= 10^6\n",
    "Where N is the length of the expression.\n",
    "\n",
    "Time Limit: 1 second\n",
    "Sample Input 1:\n",
    "a+(b)+c \n",
    "Sample Output 1:\n",
    "true\n",
    "Explanation:\n",
    "The expression can be reduced to a+b+c. Hence, the brackets are redundant.\n",
    "Sample Input 2:\n",
    "(a+b)\n",
    "Sample Output 2:\n",
    "false"
   ]
  },
  {
   "cell_type": "code",
   "execution_count": 2,
   "id": "db7a265c",
   "metadata": {},
   "outputs": [
    {
     "name": "stdout",
     "output_type": "stream",
     "text": [
      "false\n"
     ]
    }
   ],
   "source": [
    "from sys import stdin\n",
    "\n",
    "def checkRedundantBrackets(expression) :\n",
    "\t# Your code goes here\n",
    "    s=[]\n",
    "    for i in range(len(expression)):\n",
    "        if expression[i]==')':\n",
    "            count=0\n",
    "            #s.append(i)\n",
    "            while s[-1]!='(':\n",
    "                count=count+1\n",
    "                s.pop()\n",
    "            s.pop()\n",
    "            if count==0 or count==1:\n",
    "                return True\n",
    "        else:\n",
    "            ele=expression[i]\n",
    "            s.append(ele)\n",
    "    return False\n",
    "       \n",
    "#main\n",
    "expression = stdin.readline().strip()\n",
    "\n",
    "if checkRedundantBrackets(expression) :\n",
    "\tprint(\"true\")\n",
    "\n",
    "else :\n",
    "\tprint(\"false\")\n"
   ]
  }
 ],
 "metadata": {
  "kernelspec": {
   "display_name": "Python 3",
   "language": "python",
   "name": "python3"
  },
  "language_info": {
   "codemirror_mode": {
    "name": "ipython",
    "version": 3
   },
   "file_extension": ".py",
   "mimetype": "text/x-python",
   "name": "python",
   "nbconvert_exporter": "python",
   "pygments_lexer": "ipython3",
   "version": "3.8.8"
  }
 },
 "nbformat": 4,
 "nbformat_minor": 5
}
