{
 "cells": [
  {
   "cell_type": "markdown",
   "id": "bea3f3ee",
   "metadata": {},
   "source": [
    "# Stock Span\n",
    "Send Feedback\n",
    "Afzal has been working with an organization called 'Money Traders' for the past few years. The organization is into the money trading business. His manager assigned him a task. For a given array/list of stock's prices for N days, find the stock's span for each day.\n",
    "The span of the stock's price today is defined as the maximum number of consecutive days(starting from today and going backwards) for which the price of the stock was less than today's price.\n",
    "For example, if the price of a stock over a period of 7 days are [100, 80, 60, 70, 60, 75, 85], then the stock spans will be [1, 1, 1, 2, 1, 4, 6].\n",
    "Explanation:\n",
    "On the sixth day when the price of the stock was 75, the span came out to be 4, because the last 4 prices(including the current price of 75) were less than the current or the sixth day's price.\n",
    "\n",
    "Similarly, we can deduce the remaining results.\n",
    "Afzal has to return an array/list of spans corresponding to each day's stock's price. Help him to achieve the task.\n",
    "Input Format:\n",
    "The first line of input contains an integer N, denoting the total number of days.\n",
    "\n",
    "The second line of input contains the stock prices of each day. A single space will separate them.\n",
    "Output Format:\n",
    "The only line of output will print the span for each day's stock price. A single space will separate them.\n",
    "Note:\n",
    "You are not required to print the expected output explicitly. It has already been taken care of. \n",
    "Constraints:\n",
    "0 <= N <= 10^7\n",
    "1 <= X <= 10^9\n",
    "Where X denotes the stock's price for a day.\n",
    "\n",
    "Time Limit: 1 second\n",
    "Sample Input 1:\n",
    "4\n",
    "10 10 10 10\n",
    "Sample Output 1:\n",
    "1 1 1 1 \n",
    "Sample Input 2:\n",
    "8\n",
    "60 70 80 100 90 75 80 120\n",
    "Sample Output 2:\n",
    "1 2 3 4 1 1 2 8 "
   ]
  },
  {
   "cell_type": "code",
   "execution_count": 1,
   "id": "6027a6a1",
   "metadata": {},
   "outputs": [
    {
     "name": "stdout",
     "output_type": "stream",
     "text": [
      "3\n",
      "3 6 9\n",
      "1 2 3 "
     ]
    }
   ],
   "source": [
    "def stockSpan(price,n):\n",
    "    s=[]\n",
    "    s.append(1)\n",
    "\n",
    "    for i in range(1,len(price)):\n",
    "        k=1\n",
    "        j=i-1\n",
    "        while j>=0:\n",
    "            if price[j]<price[i]:\n",
    "                k=k+1\n",
    "                j=j-1\n",
    "            else:\n",
    "                break\n",
    "        s.append(k)\n",
    "    return s\n",
    "#### Implement Your Code Here\n",
    "\n",
    "n=int(input())\n",
    "p = [int(ele) for ele in input().split()]\n",
    "if len(p)>0:\n",
    "    price=p\n",
    "    spans = stockSpan(price,n)\n",
    "    for ele in spans:\n",
    "        print(ele,end= ' ') "
   ]
  }
 ],
 "metadata": {
  "kernelspec": {
   "display_name": "Python 3",
   "language": "python",
   "name": "python3"
  },
  "language_info": {
   "codemirror_mode": {
    "name": "ipython",
    "version": 3
   },
   "file_extension": ".py",
   "mimetype": "text/x-python",
   "name": "python",
   "nbconvert_exporter": "python",
   "pygments_lexer": "ipython3",
   "version": "3.8.8"
  }
 },
 "nbformat": 4,
 "nbformat_minor": 5
}
