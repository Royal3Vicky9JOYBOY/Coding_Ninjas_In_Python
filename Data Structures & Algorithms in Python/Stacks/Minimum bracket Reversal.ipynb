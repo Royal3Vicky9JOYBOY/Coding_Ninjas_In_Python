{
 "cells": [
  {
   "cell_type": "markdown",
   "id": "aadb37f8",
   "metadata": {},
   "source": [
    "# Minimum bracket Reversal\n",
    "Send Feedback\n",
    "For a given expression in the form of a string, find the minimum number of brackets that can be reversed in order to make the expression balanced. The expression will only contain curly brackets.\n",
    "If the expression can't be balanced, return -1.\n",
    "Example:\n",
    "Expression: {{{{\n",
    "If we reverse the second and the fourth opening brackets, the whole expression will get balanced. Since we have to reverse two brackets to make the expression balanced, the expected output will be 2.\n",
    "\n",
    "Expression: {{{\n",
    "In this example, even if we reverse the last opening bracket, we would be left with the first opening bracket and hence will not be able to make the expression balanced and the output will be -1.\n",
    "Input Format :\n",
    "The first and the only line of input contains a string expression, without any spaces in between.\n",
    "Output Format :\n",
    "The only line of output will print the number of reversals required to balance the whole expression. Prints -1, otherwise.\n",
    "Note:\n",
    "You don't have to print anything. It has already been taken care of.\n",
    "Constraints:\n",
    "0 <= N <= 10^6\n",
    "Where N is the length of the expression.\n",
    "\n",
    "Time Limit: 1sec\n",
    "Sample Input 1:\n",
    "{{{\n",
    "Sample Output 1:\n",
    "-1\n",
    "Sample Input 2:\n",
    "{{{{}}\n",
    "Sample Output 2:\n",
    "1"
   ]
  },
  {
   "cell_type": "code",
   "execution_count": 1,
   "id": "49c5aba7",
   "metadata": {},
   "outputs": [
    {
     "name": "stdout",
     "output_type": "stream",
     "text": [
      "{([\n",
      "-1\n"
     ]
    }
   ],
   "source": [
    "def inversion(string):\n",
    "    if len(string)%2 != 0:\n",
    "        return -1\n",
    "    inversion = 0\n",
    "    open = 0\n",
    "    for i in range(len(string)):\n",
    "        if string[i] == '{':\n",
    "            open = open + 1\n",
    "        else:\n",
    "            if open:\n",
    "                open = open - 1\n",
    "            else:\n",
    "                inversion = inversion + 1\n",
    "                open = 1\n",
    "    return inversion + open//2\n",
    "string = input()\n",
    "t = inversion(string)\n",
    "print(t)"
   ]
  }
 ],
 "metadata": {
  "kernelspec": {
   "display_name": "Python 3",
   "language": "python",
   "name": "python3"
  },
  "language_info": {
   "codemirror_mode": {
    "name": "ipython",
    "version": 3
   },
   "file_extension": ".py",
   "mimetype": "text/x-python",
   "name": "python",
   "nbconvert_exporter": "python",
   "pygments_lexer": "ipython3",
   "version": "3.8.8"
  }
 },
 "nbformat": 4,
 "nbformat_minor": 5
}
