{
 "cells": [
  {
   "cell_type": "markdown",
   "id": "b56b25a1",
   "metadata": {},
   "source": [
    "# Intro To Stacks"
   ]
  },
  {
   "cell_type": "markdown",
   "id": "dd5cdbaf",
   "metadata": {},
   "source": [
    "Stack -> Abstract Data Type\n",
    "\n",
    "1.Push(Insert)\n",
    "\n",
    "2.Pop(Delete)\n",
    "\n",
    "3.Top(Access the top element of stack)\n"
   ]
  },
  {
   "cell_type": "markdown",
   "id": "bf95c06f",
   "metadata": {},
   "source": [
    "A stack is a Linear tree"
   ]
  },
  {
   "cell_type": "markdown",
   "id": "3acaeb99",
   "metadata": {},
   "source": [
    "# Recursion Stack"
   ]
  },
  {
   "cell_type": "markdown",
   "id": "7658c8aa",
   "metadata": {},
   "source": [
    "# Use Recursion\n",
    "\n",
    "Which data structure is used for implementing recursion?\n",
    "\n",
    "ANS:Stack "
   ]
  },
  {
   "cell_type": "markdown",
   "id": "1909720e",
   "metadata": {},
   "source": [
    "# Stack Using Array - Explain"
   ]
  },
  {
   "cell_type": "markdown",
   "id": "c012bc0f",
   "metadata": {},
   "source": [
    "Push\n",
    "\n",
    "pop\n",
    "\n",
    "top\n",
    "\n",
    "isempty\n",
    "\n",
    "size"
   ]
  },
  {
   "cell_type": "markdown",
   "id": "e1a2b840",
   "metadata": {},
   "source": [
    "# Stack Using Array - Code"
   ]
  },
  {
   "cell_type": "code",
   "execution_count": 3,
   "id": "61d6211a",
   "metadata": {},
   "outputs": [],
   "source": [
    "class stack:\n",
    "    def __init__(self):        # try in stack python folder                \n",
    "        self.data=[]\n",
    "    def push(self,item):\n",
    "        self.__data.append(item)\n",
    "        \n",
    "    def pop(self):\n",
    "        if self.isEmpty():\n",
    "            print(\"Hey!stack is Empty!!\")\n",
    "            return\n",
    "        return self.__data.pop()\n",
    "            \n",
    "        \n",
    "    def top(self):\n",
    "        if self.isEmpty():\n",
    "            print(\"Hey! stack is Empty!!\")\n",
    "            return\n",
    "        return self.__data[len(self.__data)-1]\n",
    "        \n",
    "    def size(self):\n",
    "        return len(self.__data)\n",
    "        \n",
    "        \n",
    "    def isEmpty(self):\n",
    "        return self.size()==0"
   ]
  },
  {
   "cell_type": "code",
   "execution_count": 5,
   "id": "9da21434",
   "metadata": {},
   "outputs": [
    {
     "ename": "AttributeError",
     "evalue": "'stack' object has no attribute '_stack__data'",
     "output_type": "error",
     "traceback": [
      "\u001b[1;31m---------------------------------------------------------------------------\u001b[0m",
      "\u001b[1;31mAttributeError\u001b[0m                            Traceback (most recent call last)",
      "\u001b[1;32m<ipython-input-5-3fe48bc4df58>\u001b[0m in \u001b[0;36m<module>\u001b[1;34m\u001b[0m\n\u001b[0;32m      2\u001b[0m \u001b[1;33m\u001b[0m\u001b[0m\n\u001b[0;32m      3\u001b[0m \u001b[0ms\u001b[0m\u001b[1;33m=\u001b[0m\u001b[0mstack\u001b[0m\u001b[1;33m(\u001b[0m\u001b[1;33m)\u001b[0m\u001b[1;33m\u001b[0m\u001b[1;33m\u001b[0m\u001b[0m\n\u001b[1;32m----> 4\u001b[1;33m \u001b[0ms\u001b[0m\u001b[1;33m.\u001b[0m\u001b[0mpush\u001b[0m\u001b[1;33m(\u001b[0m\u001b[1;36m12\u001b[0m\u001b[1;33m)\u001b[0m\u001b[1;33m\u001b[0m\u001b[1;33m\u001b[0m\u001b[0m\n\u001b[0m\u001b[0;32m      5\u001b[0m \u001b[0ms\u001b[0m\u001b[1;33m.\u001b[0m\u001b[0mpush\u001b[0m\u001b[1;33m(\u001b[0m\u001b[1;36m13\u001b[0m\u001b[1;33m)\u001b[0m\u001b[1;33m\u001b[0m\u001b[1;33m\u001b[0m\u001b[0m\n\u001b[0;32m      6\u001b[0m \u001b[0ms\u001b[0m\u001b[1;33m.\u001b[0m\u001b[0mpush\u001b[0m\u001b[1;33m(\u001b[0m\u001b[1;36m15\u001b[0m\u001b[1;33m)\u001b[0m\u001b[1;33m\u001b[0m\u001b[1;33m\u001b[0m\u001b[0m\n",
      "\u001b[1;32m<ipython-input-3-02f2e3e9761d>\u001b[0m in \u001b[0;36mpush\u001b[1;34m(self, item)\u001b[0m\n\u001b[0;32m      3\u001b[0m         \u001b[0mself\u001b[0m\u001b[1;33m.\u001b[0m\u001b[0mdata\u001b[0m\u001b[1;33m=\u001b[0m\u001b[1;33m[\u001b[0m\u001b[1;33m]\u001b[0m\u001b[1;33m\u001b[0m\u001b[1;33m\u001b[0m\u001b[0m\n\u001b[0;32m      4\u001b[0m     \u001b[1;32mdef\u001b[0m \u001b[0mpush\u001b[0m\u001b[1;33m(\u001b[0m\u001b[0mself\u001b[0m\u001b[1;33m,\u001b[0m\u001b[0mitem\u001b[0m\u001b[1;33m)\u001b[0m\u001b[1;33m:\u001b[0m\u001b[1;33m\u001b[0m\u001b[1;33m\u001b[0m\u001b[0m\n\u001b[1;32m----> 5\u001b[1;33m         \u001b[0mself\u001b[0m\u001b[1;33m.\u001b[0m\u001b[0m__data\u001b[0m\u001b[1;33m.\u001b[0m\u001b[0mappend\u001b[0m\u001b[1;33m(\u001b[0m\u001b[0mitem\u001b[0m\u001b[1;33m)\u001b[0m\u001b[1;33m\u001b[0m\u001b[1;33m\u001b[0m\u001b[0m\n\u001b[0m\u001b[0;32m      6\u001b[0m \u001b[1;33m\u001b[0m\u001b[0m\n\u001b[0;32m      7\u001b[0m     \u001b[1;32mdef\u001b[0m \u001b[0mpop\u001b[0m\u001b[1;33m(\u001b[0m\u001b[0mself\u001b[0m\u001b[1;33m)\u001b[0m\u001b[1;33m:\u001b[0m\u001b[1;33m\u001b[0m\u001b[1;33m\u001b[0m\u001b[0m\n",
      "\u001b[1;31mAttributeError\u001b[0m: 'stack' object has no attribute '_stack__data'"
     ]
    }
   ],
   "source": [
    "# from StackUsingArray import Stack\n",
    "\n",
    "s=stack()\n",
    "s.push(12)\n",
    "s.push(13)\n",
    "s.push(15)\n",
    "\n",
    "while s.isEmpty() is False:\n",
    "    print(s.pop())\n",
    "s.top()  \n"
   ]
  },
  {
   "cell_type": "markdown",
   "id": "0d97728f",
   "metadata": {},
   "source": [
    "# Stack Using LL"
   ]
  },
  {
   "cell_type": "markdown",
   "id": "7421f0cb",
   "metadata": {},
   "source": [
    "# Stack Using LL code"
   ]
  },
  {
   "cell_type": "code",
   "execution_count": 7,
   "id": "9227e03d",
   "metadata": {},
   "outputs": [
    {
     "ename": "IndentationError",
     "evalue": "unindent does not match any outer indentation level (<tokenize>, line 26)",
     "output_type": "error",
     "traceback": [
      "\u001b[1;36m  File \u001b[1;32m\"<tokenize>\"\u001b[1;36m, line \u001b[1;32m26\u001b[0m\n\u001b[1;33m    data=self.__head.data\u001b[0m\n\u001b[1;37m    ^\u001b[0m\n\u001b[1;31mIndentationError\u001b[0m\u001b[1;31m:\u001b[0m unindent does not match any outer indentation level\n"
     ]
    }
   ],
   "source": [
    "from Node import Node\n",
    "class Stack:\n",
    "    def __init__(self):\n",
    "        self.__head=None\n",
    "        self.__count=0\n",
    "        \n",
    "    def push(self,element):\n",
    "        newNode=Node(element)\n",
    "        newNode.next=self.__head\n",
    "        self.__head=newNode\n",
    "        self.__count=self.__count+1\n",
    "        \n",
    "    def pop(self):\n",
    "        if self.isEmpty() is True:\n",
    "            print(\"Hey! stack is Empty!\")\n",
    "            return\n",
    "        data=self.__head.data\n",
    "        self.__head=self.__head.next\n",
    "        self.__count=self.__count-1\n",
    "        return data\n",
    "        \n",
    "    def top(self):\n",
    "           if self.isEmpty() is True:\n",
    "            print(\"Hey! stack is Empty!\")\n",
    "            return\n",
    "        data=self.__head.data\n",
    "        return data\n",
    "        \n",
    "    def size(self):\n",
    "        return self.__count\n",
    "        \n",
    "    def isEmpty(self):\n",
    "        return self.size()==0"
   ]
  },
  {
   "cell_type": "code",
   "execution_count": 8,
   "id": "65c49ca6",
   "metadata": {},
   "outputs": [
    {
     "ename": "ModuleNotFoundError",
     "evalue": "No module named 'StackUingLL'",
     "output_type": "error",
     "traceback": [
      "\u001b[1;31m---------------------------------------------------------------------------\u001b[0m",
      "\u001b[1;31mModuleNotFoundError\u001b[0m                       Traceback (most recent call last)",
      "\u001b[1;32m<ipython-input-8-d8b0b8744226>\u001b[0m in \u001b[0;36m<module>\u001b[1;34m\u001b[0m\n\u001b[1;32m----> 1\u001b[1;33m \u001b[1;32mfrom\u001b[0m \u001b[0mStackUingLL\u001b[0m \u001b[1;32mimport\u001b[0m \u001b[0mStack\u001b[0m\u001b[1;33m\u001b[0m\u001b[1;33m\u001b[0m\u001b[0m\n\u001b[0m\u001b[0;32m      2\u001b[0m \u001b[1;33m\u001b[0m\u001b[0m\n\u001b[0;32m      3\u001b[0m \u001b[0ms\u001b[0m\u001b[1;33m=\u001b[0m\u001b[0mstack\u001b[0m\u001b[1;33m(\u001b[0m\u001b[1;33m)\u001b[0m\u001b[1;33m\u001b[0m\u001b[1;33m\u001b[0m\u001b[0m\n\u001b[0;32m      4\u001b[0m \u001b[0ms\u001b[0m\u001b[1;33m.\u001b[0m\u001b[0mpush\u001b[0m\u001b[1;33m(\u001b[0m\u001b[1;36m12\u001b[0m\u001b[1;33m)\u001b[0m\u001b[1;33m\u001b[0m\u001b[1;33m\u001b[0m\u001b[0m\n\u001b[0;32m      5\u001b[0m \u001b[0ms\u001b[0m\u001b[1;33m.\u001b[0m\u001b[0mpush\u001b[0m\u001b[1;33m(\u001b[0m\u001b[1;36m13\u001b[0m\u001b[1;33m)\u001b[0m\u001b[1;33m\u001b[0m\u001b[1;33m\u001b[0m\u001b[0m\n",
      "\u001b[1;31mModuleNotFoundError\u001b[0m: No module named 'StackUingLL'"
     ]
    }
   ],
   "source": [
    "from StackUingLL import Stack\n",
    "\n",
    "s=stack()\n",
    "s.push(12)\n",
    "s.push(13)\n",
    "s.push(15)                 # try in stack python folder     \n",
    "\n",
    "while s.isEmpty() is False:\n",
    "    print(s.pop())\n",
    "s.top()  \n"
   ]
  },
  {
   "cell_type": "markdown",
   "id": "5c9e2350",
   "metadata": {},
   "source": [
    "# Stack Implementation\n",
    "\n",
    "Which of the following operation take worst case i.e. linear time (O(n)) in the array implementation of stack?\n",
    "\n",
    "ANS:IsEmpty"
   ]
  },
  {
   "cell_type": "markdown",
   "id": "8308b28d",
   "metadata": {},
   "source": [
    "# Inbuillt Stacks & Queues"
   ]
  },
  {
   "cell_type": "code",
   "execution_count": 10,
   "id": "ddbb9e2e",
   "metadata": {},
   "outputs": [
    {
     "name": "stdout",
     "output_type": "stream",
     "text": [
      "1\n",
      "2\n",
      "3\n",
      "4\n"
     ]
    }
   ],
   "source": [
    "# stack is last in first out\n",
    "import queue\n",
    "#inbuilt stack as list\n",
    "# s=[1,2,3]\n",
    "# s.append(4)\n",
    "# s.append(5)\n",
    "                                # try in stack python folder \n",
    "# print(s.pop())\n",
    "# print(s.pop())\n",
    "# inbuilt queue\n",
    "q=queue.Queue()\n",
    "q.put(1)\n",
    "q.put(2)\n",
    "q.put(3)\n",
    "q.put(4)\n",
    "\n",
    "while not q.empty():\n",
    "    print(q.get())"
   ]
  },
  {
   "cell_type": "code",
   "execution_count": 11,
   "id": "a7cf7dca",
   "metadata": {},
   "outputs": [
    {
     "name": "stdout",
     "output_type": "stream",
     "text": [
      "3\n",
      "2\n",
      "1\n"
     ]
    }
   ],
   "source": [
    "# stack is last in first out\n",
    "import queue\n",
    "#inbuilt stack as list\n",
    "# s=[1,2,3]\n",
    "# s.append(4)\n",
    "# s.append(5)\n",
    "                                # try in stack python folder \n",
    "# print(s.pop())\n",
    "# print(s.pop())\n",
    "# inbuilt queue\n",
    "# q=queue.Queue()\n",
    "# q.put(1)\n",
    "# q.put(2)\n",
    "# q.put(3)\n",
    "# q.put(4)\n",
    "\n",
    "# while not q.empty():\n",
    "#    print(q.get())\n",
    "\n",
    "q=queue.LifoQueue()\n",
    "q.put(1)\n",
    "q.put(2)\n",
    "q.put(3)\n",
    "\n",
    "while not q.empty():\n",
    "    print(q.get())"
   ]
  },
  {
   "cell_type": "markdown",
   "id": "b4bf0492",
   "metadata": {},
   "source": [
    "# Balanced Paranthesis"
   ]
  },
  {
   "cell_type": "markdown",
   "id": "9f5254bc",
   "metadata": {},
   "source": [
    "# Balanced Paranthesis-Code"
   ]
  },
  {
   "cell_type": "code",
   "execution_count": 12,
   "id": "5349a11b",
   "metadata": {},
   "outputs": [
    {
     "name": "stderr",
     "output_type": "stream",
     "text": [
      "<>:7: SyntaxWarning: \"is\" with a literal. Did you mean \"==\"?\n",
      "<>:12: SyntaxWarning: \"is\" with a literal. Did you mean \"==\"?\n",
      "<>:16: SyntaxWarning: \"is\" with a literal. Did you mean \"==\"?\n",
      "<>:7: SyntaxWarning: \"is\" with a literal. Did you mean \"==\"?\n",
      "<>:12: SyntaxWarning: \"is\" with a literal. Did you mean \"==\"?\n",
      "<>:16: SyntaxWarning: \"is\" with a literal. Did you mean \"==\"?\n",
      "<ipython-input-12-10c396ba99d2>:7: SyntaxWarning: \"is\" with a literal. Did you mean \"==\"?\n",
      "  elif char is ')':\n",
      "<ipython-input-12-10c396ba99d2>:12: SyntaxWarning: \"is\" with a literal. Did you mean \"==\"?\n",
      "  elif char is '}':\n",
      "<ipython-input-12-10c396ba99d2>:16: SyntaxWarning: \"is\" with a literal. Did you mean \"==\"?\n",
      "  elif char is ']':\n"
     ]
    },
    {
     "name": "stdout",
     "output_type": "stream",
     "text": [
      "{(a)}\n",
      "True\n"
     ]
    }
   ],
   "source": [
    "def isBalanced(string):\n",
    "    s=[]\n",
    "    for char in string:\n",
    "        \n",
    "        if char in '({[':\n",
    "            s.append(char)\n",
    "        elif char is ')':\n",
    "            if (not s or s[-1]!='('):\n",
    "                return False\n",
    "            \n",
    "            s.pop()\n",
    "        elif char is '}':\n",
    "            if(not s or s[-1]!='{'):\n",
    "                return False\n",
    "            s.pop()\n",
    "        elif char is ']':\n",
    "            if(not s or s[-1]!='['):\n",
    "                return False\n",
    "            s.pop()\n",
    "    if(not s):\n",
    "        return True\n",
    "    return False\n",
    "                \n",
    "string=input()\n",
    "ans=isBalanced(string)\n",
    "print(ans)"
   ]
  },
  {
   "cell_type": "code",
   "execution_count": 13,
   "id": "a6a794f8",
   "metadata": {},
   "outputs": [],
   "source": [
    "#[{a+b}+(p+q)]=True   # }(a+b) = false   # {a+b)}=False  # {a+b+(c+ga)}=True"
   ]
  },
  {
   "cell_type": "markdown",
   "id": "078b27e4",
   "metadata": {},
   "source": [
    "# Reverse Stack - Explain"
   ]
  },
  {
   "cell_type": "markdown",
   "id": "9608d356",
   "metadata": {},
   "source": [
    "# Reverse Stack code"
   ]
  },
  {
   "cell_type": "code",
   "execution_count": 14,
   "id": "40e52b06",
   "metadata": {},
   "outputs": [
    {
     "name": "stdout",
     "output_type": "stream",
     "text": [
      "4\n",
      "1 2 3 4\n",
      "1 2 3 4 "
     ]
    }
   ],
   "source": [
    "def reverseStack(s1,s2):\n",
    "    if(len(s1)<=1):\n",
    "        return\n",
    "    \n",
    "    while(len(s1)!=1):\n",
    "        ele=s1.pop()\n",
    "        s2.append(ele)\n",
    "        \n",
    "    lastElement=s1.pop()\n",
    "    \n",
    "    while(len(s2)!=0):\n",
    "        ele=s2.pop()\n",
    "        s1.append(ele)\n",
    "        \n",
    "    reverseStack(s1,s2)\n",
    "    s1.append(lastElement)\n",
    "\n",
    "\n",
    "    \n",
    "\n",
    "from sys import setrecursionlimit\n",
    "setrecursionlimit(11000)\n",
    "n=int(input())\n",
    "s1=[int(ele) for ele in input().split()]\n",
    "s2=[]\n",
    "reverseStack(s1,s2)\n",
    "while(len(s1)!=0):\n",
    "    print(s1.pop(),end=' ')\n",
    "  "
   ]
  }
 ],
 "metadata": {
  "kernelspec": {
   "display_name": "Python 3",
   "language": "python",
   "name": "python3"
  },
  "language_info": {
   "codemirror_mode": {
    "name": "ipython",
    "version": 3
   },
   "file_extension": ".py",
   "mimetype": "text/x-python",
   "name": "python",
   "nbconvert_exporter": "python",
   "pygments_lexer": "ipython3",
   "version": "3.8.8"
  }
 },
 "nbformat": 4,
 "nbformat_minor": 5
}
