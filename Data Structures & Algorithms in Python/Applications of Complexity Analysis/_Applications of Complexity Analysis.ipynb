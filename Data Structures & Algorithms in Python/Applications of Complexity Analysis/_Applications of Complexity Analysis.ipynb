{
 "cells": [
  {
   "cell_type": "markdown",
   "id": "d20a2976",
   "metadata": {},
   "source": [
    "# Power Intro"
   ]
  },
  {
   "cell_type": "markdown",
   "id": "cefdcb38",
   "metadata": {},
   "source": [
    "Analysis of Power Function"
   ]
  },
  {
   "cell_type": "markdown",
   "id": "a305cd81",
   "metadata": {},
   "source": [
    "Time complexity --> O(n)\n",
    "\n",
    "space complexity--> O(1)"
   ]
  },
  {
   "cell_type": "markdown",
   "id": "fba909c8",
   "metadata": {},
   "source": [
    "# Power Solution"
   ]
  },
  {
   "cell_type": "markdown",
   "id": "1727a263",
   "metadata": {},
   "source": [
    "# Array intersection intro"
   ]
  },
  {
   "cell_type": "markdown",
   "id": "7506c7b5",
   "metadata": {},
   "source": [
    "Analysis of Array Intersection Problem"
   ]
  },
  {
   "cell_type": "markdown",
   "id": "f13b0c26",
   "metadata": {},
   "source": [
    "# Array Intersection Optimal Solution"
   ]
  },
  {
   "cell_type": "markdown",
   "id": "6746281e",
   "metadata": {},
   "source": [
    "Better Solution for Array Intersection"
   ]
  },
  {
   "cell_type": "markdown",
   "id": "8767f936",
   "metadata": {},
   "source": [
    "1.O(mn)      \n",
    "\n",
    "2.O(mlogm+nlogn)\n",
    "\n",
    "3.O(mlogn+nlogn)"
   ]
  },
  {
   "cell_type": "markdown",
   "id": "41c87d3f",
   "metadata": {},
   "source": [
    "# Equilibrium Index Intro"
   ]
  },
  {
   "cell_type": "markdown",
   "id": "05e54902",
   "metadata": {},
   "source": [
    "#  Equilibrium Index Optimal Solution"
   ]
  }
 ],
 "metadata": {
  "kernelspec": {
   "display_name": "Python 3",
   "language": "python",
   "name": "python3"
  },
  "language_info": {
   "codemirror_mode": {
    "name": "ipython",
    "version": 3
   },
   "file_extension": ".py",
   "mimetype": "text/x-python",
   "name": "python",
   "nbconvert_exporter": "python",
   "pygments_lexer": "ipython3",
   "version": "3.8.8"
  }
 },
 "nbformat": 4,
 "nbformat_minor": 5
}
