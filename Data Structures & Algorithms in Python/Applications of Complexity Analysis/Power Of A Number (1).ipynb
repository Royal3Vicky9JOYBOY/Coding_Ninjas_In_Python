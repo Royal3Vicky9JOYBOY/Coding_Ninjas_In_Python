{
 "cells": [
  {
   "cell_type": "markdown",
   "id": "5c219fd6",
   "metadata": {},
   "source": [
    "# Power Of A Number\n",
    "Send Feedback\n",
    "Write a program to find x to the power n (i.e. x^n). Take x and n from the user. You need to return the answer.\n",
    "Do this recursively.\n",
    "Input format :\n",
    "Two integers x and n (separated by space)\n",
    "Output Format :\n",
    "x^n (i.e. x raise to the power n)\n",
    "Constraints :\n",
    "0 <= x <= 30\n",
    "0 <= n <= 30\n",
    "Sample Input 1 :\n",
    " 3 4\n",
    "Sample Output 1 :\n",
    "81\n",
    "Sample Input 2 :\n",
    " 2 5\n",
    "Sample Output 2 :\n",
    "32"
   ]
  },
  {
   "cell_type": "code",
   "execution_count": 1,
   "id": "6f63f7cf",
   "metadata": {},
   "outputs": [
    {
     "name": "stdout",
     "output_type": "stream",
     "text": [
      "3 9\n",
      "19683\n"
     ]
    }
   ],
   "source": [
    "def power(x, n):\n",
    "     #a = 0\n",
    "    if n==0:\n",
    "        return 1\n",
    "    return x*power(x,n-1)\n",
    "    #a = power(x, n//2)\n",
    "    #if n % 2 == 0:\n",
    "     #   return a*a         \n",
    "    #else:\n",
    "     #   return x*a*a\n",
    "    \n",
    "from sys import setrecursionlimit\n",
    "setrecursionlimit(11000)\n",
    "x, n=list(int(i) for i in input().strip().split(' '))\n",
    "print(power(x, n))\n"
   ]
  }
 ],
 "metadata": {
  "kernelspec": {
   "display_name": "Python 3",
   "language": "python",
   "name": "python3"
  },
  "language_info": {
   "codemirror_mode": {
    "name": "ipython",
    "version": 3
   },
   "file_extension": ".py",
   "mimetype": "text/x-python",
   "name": "python",
   "nbconvert_exporter": "python",
   "pygments_lexer": "ipython3",
   "version": "3.8.8"
  }
 },
 "nbformat": 4,
 "nbformat_minor": 5
}
