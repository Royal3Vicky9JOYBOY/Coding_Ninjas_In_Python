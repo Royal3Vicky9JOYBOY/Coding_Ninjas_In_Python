{
 "cells": [
  {
   "cell_type": "markdown",
   "id": "8b791224",
   "metadata": {},
   "source": [
    "# What is Complexity Analysis"
   ]
  },
  {
   "cell_type": "markdown",
   "id": "8705f420",
   "metadata": {},
   "source": [
    "# Efficiency of Algorithm"
   ]
  },
  {
   "cell_type": "markdown",
   "id": "2b0c41b2",
   "metadata": {},
   "source": [
    " Two main measures for the efficiency of an algorithm are - Time and space "
   ]
  },
  {
   "cell_type": "markdown",
   "id": "376ef3d4",
   "metadata": {},
   "source": [
    "# Experimental Analysis"
   ]
  },
  {
   "cell_type": "code",
   "execution_count": 17,
   "id": "4e34e925",
   "metadata": {},
   "outputs": [],
   "source": [
    "def merge(a1,a2,a):\n",
    "    i=0\n",
    "    j=0\n",
    "    k=0\n",
    "    while i<len(a1) and j<len(a2):\n",
    "        if (a1[i]<a2[j]):\n",
    "            a[k]=a1[i]\n",
    "            k=k+1\n",
    "            i=i+1\n",
    "        else:\n",
    "            a[k]=a2[j]\n",
    "            k=k+1\n",
    "            j=j+1\n",
    "    while i<len(a1):\n",
    "        a[k]=a1[i]\n",
    "        k=k+1\n",
    "        i=i+1\n",
    "    while j<len(a2):\n",
    "        a[k]=a2[j]\n",
    "        k=k+1\n",
    "        j=j+1\n",
    "        \n",
    "def merge_sort(a):\n",
    "    if len(a)==0 or len(a)==1:\n",
    "        return\n",
    "    mid=len(a)//2\n",
    "    a1=a[0:mid]\n",
    "    a2=a[mid:]      \n",
    "    \n",
    "    merge_sort(a1)\n",
    "    merge_sort(a2)\n",
    "    \n",
    "    merge(a1,a2,a)\n",
    "        "
   ]
  },
  {
   "cell_type": "code",
   "execution_count": 18,
   "id": "d6f59a52",
   "metadata": {},
   "outputs": [],
   "source": [
    "def selection_sort(a):\n",
    "    for i in range(len(a)):\n",
    "        min_idx=i\n",
    "        for j in range(i+1,len(a)):\n",
    "            if a[min_idx]>a[j]:\n",
    "                min_idx=j\n",
    "        a[i],a[min_idx]=a[min_idx],a[i]"
   ]
  },
  {
   "cell_type": "code",
   "execution_count": 19,
   "id": "0af8adcf",
   "metadata": {},
   "outputs": [],
   "source": [
    "def create_rev_array(n):\n",
    "    a=[]\n",
    "    for i in range(n,0,-1):\n",
    "        a.append(i)\n",
    "    return a"
   ]
  },
  {
   "cell_type": "code",
   "execution_count": 20,
   "id": "effe95c5",
   "metadata": {},
   "outputs": [],
   "source": [
    "import time"
   ]
  },
  {
   "cell_type": "code",
   "execution_count": 25,
   "id": "fac09317",
   "metadata": {},
   "outputs": [],
   "source": [
    "n=100000    #n=10 n=100 .."
   ]
  },
  {
   "cell_type": "code",
   "execution_count": 26,
   "id": "718d5dca",
   "metadata": {},
   "outputs": [
    {
     "name": "stdout",
     "output_type": "stream",
     "text": [
      "[10, 9, 8, 7, 6, 5, 4, 3, 2, 1]\n"
     ]
    },
    {
     "data": {
      "text/plain": [
       "[1, 2, 3, 4, 5, 6, 7, 8, 9, 10]"
      ]
     },
     "execution_count": 26,
     "metadata": {},
     "output_type": "execute_result"
    }
   ],
   "source": [
    "a=create_rev_array(n)        #n=10\n",
    "print(a)\n",
    "merge_sort(a)\n",
    "a"
   ]
  },
  {
   "cell_type": "code",
   "execution_count": 29,
   "id": "9e9275bb",
   "metadata": {},
   "outputs": [
    {
     "name": "stdout",
     "output_type": "stream",
     "text": [
      "10 0.0009980201721191406\n"
     ]
    }
   ],
   "source": [
    "a=create_rev_array(n)\n",
    "start=time.time()\n",
    "merge_sort(a)\n",
    "end=time.time()\n",
    "print(n,end - start)\n"
   ]
  },
  {
   "cell_type": "code",
   "execution_count": 31,
   "id": "a6bae170",
   "metadata": {},
   "outputs": [
    {
     "name": "stdout",
     "output_type": "stream",
     "text": [
      "10 0.00030612945556640625\n"
     ]
    }
   ],
   "source": [
    "a=create_rev_array(n)\n",
    "start=time.time()\n",
    "selection_sort(a)\n",
    "end=time.time()\n",
    "print(n,end - start)"
   ]
  },
  {
   "cell_type": "markdown",
   "id": "d019350e",
   "metadata": {},
   "source": [
    "# Theoretical Analysis"
   ]
  },
  {
   "cell_type": "markdown",
   "id": "4c908c46",
   "metadata": {},
   "source": [
    "In theoretical analysis the time factor when determining the efficiency of algorithm is measured by -Counting the number of unit operations "
   ]
  },
  {
   "cell_type": "markdown",
   "id": "f51ab758",
   "metadata": {},
   "source": [
    "# Big O notation - Iterative Linear"
   ]
  },
  {
   "cell_type": "markdown",
   "id": "58cc8466",
   "metadata": {},
   "source": [
    "[Time Complexity]\n",
    "\n",
    "If the number of primary operations of an algorithm that takes an array of size n as input are 3n^2 + 5n. The worst case time complexity of the algorithm will be --->O(n^2)"
   ]
  },
  {
   "cell_type": "markdown",
   "id": "70ad23ad",
   "metadata": {},
   "source": [
    "[Linear Search Time Complexity]\n",
    "\n",
    "The worst case time complexity of Linear search is : O(n)"
   ]
  },
  {
   "cell_type": "markdown",
   "id": "132d53ce",
   "metadata": {},
   "source": [
    "# Theoretical Analysis - Iterative Non Linear"
   ]
  },
  {
   "cell_type": "markdown",
   "id": "350550e5",
   "metadata": {},
   "source": [
    "Non Linear Algorithms"
   ]
  },
  {
   "cell_type": "markdown",
   "id": "e3294993",
   "metadata": {},
   "source": [
    "[Insertion Sort Time Complexity]\n",
    "\n",
    "Worst case time complexity of insertion sort is - O(N^2) "
   ]
  },
  {
   "cell_type": "markdown",
   "id": "9c64f00a",
   "metadata": {},
   "source": [
    "[Selection Sort]\n",
    "\n",
    "Worst case time complexity of Selection sort is - O(N^2) "
   ]
  },
  {
   "cell_type": "markdown",
   "id": "5a29514b",
   "metadata": {},
   "source": [
    "# Time Complexity Of Code\n",
    "\n",
    "What will be the Time Complexity of following code in terms of ‘n’ ?\n",
    "Note : Assume k to be a constant value\n",
    "\n",
    "[Refer the code in C++ -]\n",
    "\n",
    "  for(int i = 0; i < n; i++){\n",
    "  \n",
    "  for(int j = 1 ; j < k; j++){\n",
    "     \n",
    "   cout << (i + j ) << endl;\n",
    "        \n",
    "        \n",
    "      }\n",
    "  }\n",
    "  \n",
    "  \n",
    "  \n",
    "[Refer the same code in Java -]\n",
    "\n",
    "       for(int i = 0; i < n; i++){\n",
    "\n",
    "       for(int j = 1 ; j < k; j++){\n",
    "       \n",
    "        System.out.println(i + j);\n",
    "         \n",
    "         \n",
    "       }\n",
    "}\n",
    "\n",
    "\n",
    "\n",
    "[Refer the same code in Python -]\n",
    "\n",
    "  for i in range(n):\n",
    "\n",
    "    for j in range(k):\n",
    "    \n",
    "        print(i+j)  \n",
    "         \n",
    "        \n",
    "        \n",
    "ANS - O(n)"
   ]
  },
  {
   "cell_type": "markdown",
   "id": "4a39ee86",
   "metadata": {},
   "source": [
    "# Time Complexity Of Code\n",
    "\n",
    "What will be the Time Complexity of following code in terms of ‘n’ ’?\n",
    "\n",
    "for(int i = 0; i < n ; i++){\n",
    "\n",
    "    int k = n;\n",
    "    \n",
    "    while(k > 0){\n",
    "    \n",
    "           k/=2;  \n",
    "           \n",
    "    }\n",
    "}\n",
    "[Same code is Python is:]\n",
    "\n",
    "for i in range(n):\n",
    "\n",
    "    k=n\n",
    "    \n",
    "    while k>0:\n",
    "    \n",
    "        k //= 2\n",
    "        \n",
    "ANS - O(nlogn) \n"
   ]
  },
  {
   "cell_type": "markdown",
   "id": "07308062",
   "metadata": {},
   "source": [
    "# Time Complexity Of Code\n",
    "\n",
    "What will be the Time Complexity of following code in terms of ‘n’ ?\n",
    "\n",
    "while(n > 0){\n",
    "\n",
    "  n = n / 4;\n",
    "  \n",
    "}\n",
    "[Same code in Python is]\n",
    "\n",
    "while n>0:\n",
    "\n",
    "    n = n//4\n",
    "    \n",
    "ANS - O(logn to the base 4) \n"
   ]
  },
  {
   "cell_type": "markdown",
   "id": "93ed7ed3",
   "metadata": {},
   "source": [
    "# Theoretical Analysis - Recursive"
   ]
  },
  {
   "cell_type": "markdown",
   "id": "aca080eb",
   "metadata": {},
   "source": [
    "# Recursive Time Complexity\n",
    "\n",
    "What is the time complexity of following recursive code ?\n",
    "\n",
    "def multiplyRec(m, n):\n",
    "\n",
    "    if n==1:\n",
    "    \n",
    "        return m\n",
    "        \n",
    "    return m + multiplyRec(m,  n - 1)\n",
    "    \n",
    "ANS - O(n) \n",
    "    "
   ]
  },
  {
   "cell_type": "markdown",
   "id": "730faa54",
   "metadata": {},
   "source": [
    "# Recursive Time Complexity\n",
    "\n",
    "What is the time complexity of following recursive code ?\n",
    "\n",
    "def sumOfDigits(n):\n",
    "\n",
    "    if n < 10:\n",
    "    \n",
    "        return n\n",
    "        \n",
    "    sum = (n % 10) + sumOfDigits(n//10)\n",
    "    \n",
    "    return sum\n",
    "    \n",
    "ANS - O(logn) - log is to the base 10 "
   ]
  },
  {
   "cell_type": "markdown",
   "id": "33627c5b",
   "metadata": {},
   "source": [
    "# Theoretical Analysis--Binary Search"
   ]
  },
  {
   "cell_type": "markdown",
   "id": "5c80f3d5",
   "metadata": {},
   "source": [
    "Analysis of Binary Search"
   ]
  },
  {
   "cell_type": "markdown",
   "id": "31741376",
   "metadata": {},
   "source": [
    "BS - O(logn)\n",
    "\n",
    "Recursive algorithm --> 1.find recursive relation\n",
    "\n",
    "                    2.solve the recursive realation\n"
   ]
  },
  {
   "cell_type": "markdown",
   "id": "ca5d9480",
   "metadata": {},
   "source": [
    "# Recurrence For Merge Sort\n",
    "\n",
    "What is the recurrence relation for merge sort :  T(n) = 2T(n/2) + O(n) "
   ]
  },
  {
   "cell_type": "markdown",
   "id": "20be8e9a",
   "metadata": {},
   "source": [
    "# Operations For Merging\n",
    "\n",
    "For merging two sorted arrays of size m and n into a sorted array of size m+n, we require operations - O(m + n) "
   ]
  },
  {
   "cell_type": "markdown",
   "id": "5b2e99fd",
   "metadata": {},
   "source": [
    "# Merge Sort Time Complexity\n",
    "\n",
    "What is the time complexity of merge sort :  O(nlogn) "
   ]
  },
  {
   "cell_type": "markdown",
   "id": "380c0d2c",
   "metadata": {},
   "source": [
    "# Merge Sort Time Complexity"
   ]
  },
  {
   "cell_type": "markdown",
   "id": "c8d16ff3",
   "metadata": {},
   "source": [
    "Time complexity of merge sort"
   ]
  },
  {
   "cell_type": "markdown",
   "id": "ced88a72",
   "metadata": {},
   "source": [
    "# Fibonacci Time Complexity\n",
    "\n",
    "What is the time complexity of following recursive code ?\n",
    "\n",
    "def fib(n): \n",
    "\n",
    "    if n == 0 or n == 1:\n",
    "    \n",
    "    return n\n",
    "    \n",
    "return fib(n - 1) + fib(n - 2)\n",
    "\n",
    "ANS - O(2^n) "
   ]
  },
  {
   "cell_type": "markdown",
   "id": "2b4fd092",
   "metadata": {},
   "source": [
    "# Fibonacci Time Complexity Analysis"
   ]
  },
  {
   "cell_type": "markdown",
   "id": "b416218a",
   "metadata": {},
   "source": [
    "Analysis of Recursive Fibbonacci"
   ]
  }
 ],
 "metadata": {
  "kernelspec": {
   "display_name": "Python 3",
   "language": "python",
   "name": "python3"
  },
  "language_info": {
   "codemirror_mode": {
    "name": "ipython",
    "version": 3
   },
   "file_extension": ".py",
   "mimetype": "text/x-python",
   "name": "python",
   "nbconvert_exporter": "python",
   "pygments_lexer": "ipython3",
   "version": "3.8.8"
  }
 },
 "nbformat": 4,
 "nbformat_minor": 5
}
