{
 "cells": [
  {
   "cell_type": "markdown",
   "id": "e7fa5a99",
   "metadata": {},
   "source": [
    "# Matrix Chain Multiplication\n",
    "Send Feedback\n",
    "Given a chain of matrices A1, A2, A3,.....An, you have to figure out the most efficient way to multiply these matrices. In other words, determine where to place parentheses to minimize the number of multiplications.\n",
    "You will be given an array p[] of size n + 1. Dimension of matrix Ai is p[i - 1]*p[i]. You need to find minimum number of multiplications needed to multiply the chain.\n",
    "Input Format:\n",
    "The first line of input contains an integer, that denotes the value of n. The following line contains n+1 integers, that denote the value of elements of array p[].\n",
    "Output Format:\n",
    "The first and only line of output prints the minimum number of multiplication needed.\n",
    "Constraints :\n",
    "1 <= n <= 100\n",
    "Time limit: 1 second\n",
    "Sample Input 1:\n",
    "3\n",
    "10 15 20 25\n",
    "Sample Output 1:\n",
    "8000\n",
    "Sample Output Explanation:\n",
    "There are two ways to multiply the chain - A1*(A2*A3) or (A1*A2)*A3.\n",
    "If we multiply in order- A1*(A2*A3), then number of multiplications required are 11250.\n",
    "If we multiply in order- (A1*A2)*A3, then number of multiplications required are 8000.\n",
    "Thus minimum number of multiplications required are 8000. "
   ]
  },
  {
   "cell_type": "code",
   "execution_count": 2,
   "id": "11c0d473",
   "metadata": {},
   "outputs": [
    {
     "name": "stdout",
     "output_type": "stream",
     "text": [
      "3\n",
      "10 15 20 25\n",
      "8000\n"
     ]
    }
   ],
   "source": [
    "import sys\n",
    "from sys import stdin\n",
    "def mcm(p,i,j,dp):\n",
    "    # Write your code here\n",
    "    if i==j:\n",
    "        return 0\n",
    "    \n",
    "    min_value=sys.maxsize\n",
    "    for k in range(i,j):\n",
    "        if dp[i][k]==-1:\n",
    "            ans1=mcm(p,i,k,dp)\n",
    "            dp[i][k]=ans1\n",
    "        else:\n",
    "            ans1=dp[i][k]\n",
    "        if dp[k+1][j]==-1:\n",
    "            ans2=mcm(p,k+1,j,dp)\n",
    "            dp[k+1][j]=ans2\n",
    "        else:\n",
    "            ans2=dp[k+1][j]\n",
    "        \n",
    "        mCost=p[i-1]*p[k]*p[j]\n",
    "        curr_value=ans1+ans2+mCost\n",
    "        min_value=min(min_value,curr_value)\n",
    "        \n",
    "    return min_value\n",
    "\n",
    "\n",
    "\n",
    "\n",
    "\n",
    "\n",
    "\n",
    "\n",
    "\n",
    "\n",
    "\n",
    "n=int(input())\n",
    "p=[int(i) for i in input().split()]\n",
    "dp=[[-1 for j in range(n+1)] for i in range(n+1)]\n",
    "print(mcm(p,1,n,dp))"
   ]
  }
 ],
 "metadata": {
  "kernelspec": {
   "display_name": "Python 3",
   "language": "python",
   "name": "python3"
  },
  "language_info": {
   "codemirror_mode": {
    "name": "ipython",
    "version": 3
   },
   "file_extension": ".py",
   "mimetype": "text/x-python",
   "name": "python",
   "nbconvert_exporter": "python",
   "pygments_lexer": "ipython3",
   "version": "3.8.8"
  }
 },
 "nbformat": 4,
 "nbformat_minor": 5
}
