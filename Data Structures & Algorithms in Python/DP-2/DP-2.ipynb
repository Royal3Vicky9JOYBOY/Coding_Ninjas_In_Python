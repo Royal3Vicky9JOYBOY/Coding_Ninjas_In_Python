{
 "cells": [
  {
   "cell_type": "markdown",
   "id": "cb276073",
   "metadata": {},
   "source": [
    "# Minimum Cost Path"
   ]
  },
  {
   "cell_type": "markdown",
   "id": "00d321c1",
   "metadata": {},
   "source": [
    "# MinCost Recursively "
   ]
  },
  {
   "cell_type": "code",
   "execution_count": 1,
   "id": "4973b088",
   "metadata": {},
   "outputs": [
    {
     "name": "stdout",
     "output_type": "stream",
     "text": [
      "30\n"
     ]
    }
   ],
   "source": [
    "import sys\n",
    "def minCost(cost,i,j,n,m):\n",
    "    \n",
    "    # Special Case\n",
    "    if i==n-1 and j==m-1:\n",
    "        return cost[i][j]\n",
    "    # Base Case\n",
    "    if i >= n or j >= m:\n",
    "        return sys.maxsize\n",
    "    ans1 = minCost(cost,i,j+1,n,m)\n",
    "    ans2 = minCost(cost,i+1,j,n,m)\n",
    "    ans3 = minCost(cost,i+1,j+1,n,m)\n",
    "    \n",
    "    ans = cost[i][j] + min(ans1,ans2,ans3)\n",
    "    return ans\n",
    "\n",
    "cost = [[1,5,11],[8,13,12],[2,3,7],[15,16,18]]\n",
    "ans = minCost(cost,0,0,4,3)\n",
    "print(ans)"
   ]
  },
  {
   "cell_type": "markdown",
   "id": "01b3266a",
   "metadata": {},
   "source": [
    "# MinCost Memoization"
   ]
  },
  {
   "cell_type": "code",
   "execution_count": 4,
   "id": "3e8f3c18",
   "metadata": {},
   "outputs": [
    {
     "name": "stdout",
     "output_type": "stream",
     "text": [
      "30\n"
     ]
    }
   ],
   "source": [
    "import sys\n",
    "def minCost(cost,i,j,n,m,dp):\n",
    "    \n",
    "    # Special Case\n",
    "    if i==n-1 and j==m-1:\n",
    "        return cost[i][j]\n",
    "    # Base Case\n",
    "    if i >= n or j >= m:\n",
    "        return sys.maxsize\n",
    "    \n",
    "    if dp[i][j+1] == sys.maxsize:\n",
    "        ans1 = minCost(cost,i,j+1,n,m,dp)\n",
    "        dp[i][j+1]=ans1\n",
    "    else:\n",
    "        ans1=dp[i][j+1]\n",
    "    \n",
    "    if dp[i+1][j] == sys.maxsize:\n",
    "        ans2 = minCost(cost,i+1,j,n,m,dp)\n",
    "        dp[i+1][j]=ans2\n",
    "    else:\n",
    "        ans2 = dp[i+1][j]\n",
    "        \n",
    "    if dp[i+1][j+1] == sys.maxsize:\n",
    "        ans3 = minCost(cost,i+1,j+1,n,m,dp)\n",
    "        dp[i+1][j+1]=ans3\n",
    "    else:\n",
    "        ans3=dp[i+1][j+1]\n",
    "        \n",
    "    ans = cost[i][j] + min(ans1,ans2,ans3)\n",
    "    return ans\n",
    "\n",
    "cost = [[1,5,11],[8,13,12],[2,3,7],[15,16,18]]\n",
    "n=4\n",
    "m=3\n",
    "dp=[[ sys.maxsize for j in range(m+1)]for i in range(n+1)]\n",
    "ans = minCost(cost,0,0,4,3,dp)\n",
    "print(ans)"
   ]
  },
  {
   "cell_type": "markdown",
   "id": "df8dd3ba",
   "metadata": {},
   "source": [
    "# MinCost Iteratively"
   ]
  },
  {
   "cell_type": "code",
   "execution_count": 2,
   "id": "9201c161",
   "metadata": {},
   "outputs": [
    {
     "name": "stdout",
     "output_type": "stream",
     "text": [
      "30\n"
     ]
    }
   ],
   "source": [
    "import sys\n",
    "\n",
    "def minCostIterative(cost,n,m):\n",
    "    \n",
    "    dp = [[sys.maxsize for j in range(m+1)] for i in range(n+1)]\n",
    "    \n",
    "    for i in range(n-1,-1,-1):\n",
    "        for j in range(m-1,-1,-1):\n",
    "            if i == n-1 and j==m-1:\n",
    "                dp[i][j] = cost[i][j]\n",
    "            else:\n",
    "                ans1 = dp[i+1][j]\n",
    "                ans2 = dp[i][j+1]\n",
    "                ans3 = dp[i+1][j+1]\n",
    "                dp[i][j]=cost[i][j] + min(ans1,ans2,ans3)\n",
    "                \n",
    "    return dp[0][0]\n",
    "\n",
    "cost = [[1,5,11],[8,13,12],[2,3,7],[15,16,18]]\n",
    "n = 4\n",
    "m = 3\n",
    "ans = minCostIterative(cost,n,m)\n",
    "print(ans)"
   ]
  },
  {
   "cell_type": "markdown",
   "id": "3447856b",
   "metadata": {},
   "source": [
    "# Bottom Up And Top Down Approach"
   ]
  },
  {
   "cell_type": "code",
   "execution_count": 5,
   "id": "23531c6b",
   "metadata": {},
   "outputs": [
    {
     "name": "stdout",
     "output_type": "stream",
     "text": [
      "30\n"
     ]
    }
   ],
   "source": [
    "import sys\n",
    "\n",
    "def minCostIterativeTD(cost,n,m):\n",
    "    dp = [[sys.maxsize for j in range(m+1)] for i in range(n+1)]\n",
    "    \n",
    "    for i in range(1,n+1):\n",
    "        for j in range(1,m+1):\n",
    "            if i == 1 and j== 1:\n",
    "                dp[i][j] = cost[0][0]\n",
    "            else:\n",
    "                ans1 = dp[i-1][j]\n",
    "                ans2 = dp[i][j-1]\n",
    "                ans3 = dp[i-1][j-1]\n",
    "                dp[i][j]=cost[i-1][j-1] + min(ans1,ans2,ans3)\n",
    "                \n",
    "    return dp[n][m]\n",
    "    \n",
    "def minCostIterativeBU(cost,n,m):\n",
    "    \n",
    "    dp = [[sys.maxsize for j in range(m+1)] for i in range(n+1)]\n",
    "    \n",
    "    for i in range(n-1,-1,-1):\n",
    "        for j in range(m-1,-1,-1):\n",
    "            if i == n-1 and j==m-1:\n",
    "                dp[i][j] = cost[i][j]\n",
    "            else:\n",
    "                ans1 = dp[i+1][j]\n",
    "                ans2 = dp[i][j+1]\n",
    "                ans3 = dp[i+1][j+1]\n",
    "                dp[i][j]=cost[i][j] + min(ans1,ans2,ans3)\n",
    "                \n",
    "    return dp[0][0]\n",
    "\n",
    "cost = [[1,5,11],[8,13,12],[2,3,7],[15,16,18]]\n",
    "n = 4\n",
    "m = 3\n",
    "ans = minCostIterativeTD(cost,n,m)\n",
    "print(ans)"
   ]
  },
  {
   "cell_type": "markdown",
   "id": "d95d6401",
   "metadata": {},
   "source": [
    "# Longest Common Subsequence"
   ]
  },
  {
   "cell_type": "markdown",
   "id": "cdf87103",
   "metadata": {},
   "source": [
    "# LCS(Recursive)"
   ]
  },
  {
   "cell_type": "code",
   "execution_count": 10,
   "id": "b7a683fd",
   "metadata": {},
   "outputs": [
    {
     "name": "stdout",
     "output_type": "stream",
     "text": [
      "4\n"
     ]
    }
   ],
   "source": [
    " def lcs(str1,str2,i,j):\n",
    "    if i==len(str1) or j==len(str2):\n",
    "        return 0\n",
    "    \n",
    "    if str1[i] == str2[j]:\n",
    "        ans = 1+ lcs(str1,str2,i+1,j+1)\n",
    "    else:\n",
    "        ans1 = lcs(str1,str2,i+1,j)\n",
    "        ans2 = lcs(str1,str2,i,j+1)\n",
    "        ans = max(ans1,ans2)\n",
    "        \n",
    "    return ans\n",
    "        \n",
    "str1=\"abedgjc\"\n",
    "str2=\"bmdgsc\"\n",
    "ans = lcs(str1,str2,0,0)\n",
    "print(ans)"
   ]
  },
  {
   "cell_type": "markdown",
   "id": "80664a22",
   "metadata": {},
   "source": [
    "# LCS(Memoization)"
   ]
  },
  {
   "cell_type": "code",
   "execution_count": 12,
   "id": "db1e0ce5",
   "metadata": {},
   "outputs": [
    {
     "name": "stdout",
     "output_type": "stream",
     "text": [
      "4\n"
     ]
    }
   ],
   "source": [
    "def lcs(str1,str2,i,j,dp):\n",
    "    \n",
    "    if i==len(str1) or j==len(str2):\n",
    "        return 0\n",
    "    \n",
    "    if str1[i] == str2[j]:\n",
    "        if dp[i+1][j+1] == -1:\n",
    "            smallAns = lcs(str1,str2,i+1,j+1,dp)\n",
    "            dp[i+1][j+1]=smallAns\n",
    "            ans = 1+ smallAns\n",
    "        else:\n",
    "            ans = 1 +dp[i+1][j+1]\n",
    "    else:\n",
    "        if dp[i+1][j] == -1:\n",
    "            ans1 = lcs(str1,str2,i+1,j,dp)\n",
    "            dp[i+1][j] = ans1\n",
    "        else:\n",
    "            ans1 = dp[i+1][j]\n",
    "        \n",
    "        if dp[i][j+1] == -1:\n",
    "            ans2 = lcs(str1,str2,i,j+1,dp)\n",
    "            dp[i][j+1] = ans2\n",
    "        else:\n",
    "            ans2=dp[i][j+1]\n",
    "        ans = max(ans1,ans2)\n",
    "        \n",
    "    return ans\n",
    "        \n",
    "str1=\"abedgjc\"\n",
    "str2=\"bmdgsc\"\n",
    "n = len(str1)\n",
    "m = len(str2)\n",
    "dp = [[-1 for j in range(m+1)] for i in range(n+1)]\n",
    "ans = lcs(str1,str2,0,0,dp)\n",
    "print(ans)"
   ]
  },
  {
   "cell_type": "markdown",
   "id": "840bb63e",
   "metadata": {},
   "source": [
    "# LCS(Iterative)"
   ]
  },
  {
   "cell_type": "markdown",
   "id": "7ca3bd16",
   "metadata": {},
   "source": [
    "# LCS Iterative Code"
   ]
  },
  {
   "cell_type": "code",
   "execution_count": 2,
   "id": "70189768",
   "metadata": {},
   "outputs": [
    {
     "name": "stdout",
     "output_type": "stream",
     "text": [
      "4\n"
     ]
    }
   ],
   "source": [
    "\n",
    "def lcs(str1,str2):\n",
    "    \n",
    "    n = len(str1)\n",
    "    m = len(str2)\n",
    "    \n",
    "    dp = [[0 for j in range(m+1)] for i in range(n+1)]\n",
    "    \n",
    "    for i in range(n-1,-1,-1):\n",
    "        for j in range(m-1,-1,-1):\n",
    "            \n",
    "            if str1[i] == str2[j]:\n",
    "                dp[i][j] = 1+dp[i+1][j+1]\n",
    "            else:\n",
    "                dp[i][j] = max(dp[i+1][j],dp[i][j+1])\n",
    "    \n",
    "    return dp[0][0]\n",
    "                                \n",
    "\n",
    "str1=\"abedgjc\"\n",
    "str2=\"bmdgsc\"\n",
    "ans = lcs(str1,str2)\n",
    "print(ans)"
   ]
  },
  {
   "cell_type": "markdown",
   "id": "eb48fa0b",
   "metadata": {},
   "source": [
    "# Knapsack Explain"
   ]
  },
  {
   "cell_type": "markdown",
   "id": "dbfcaa5e",
   "metadata": {},
   "source": [
    "# Knapsack(Recursive Code)"
   ]
  },
  {
   "cell_type": "code",
   "execution_count": 3,
   "id": "513a667d",
   "metadata": {},
   "outputs": [
    {
     "name": "stdout",
     "output_type": "stream",
     "text": [
      "500\n"
     ]
    }
   ],
   "source": [
    "def knapsack(W,val,wt,n,i):\n",
    "    if i==n:\n",
    "        return 0\n",
    "    if wt[i] > W:\n",
    "        ans = knapsack(W,val,wt,n,i+1)\n",
    "    else:\n",
    "        # including of ith item\n",
    "        ans1 = val[i] + knapsack(W-wt[i],val,wt,n,i+1)\n",
    "        # exclusion of ith item\n",
    "        ans2 = knapsack(W,val,wt,n,i+1)\n",
    "        ans = max(ans1,ans2)\n",
    "        \n",
    "    return ans\n",
    "\n",
    "val = [200,300,100]\n",
    "wt = [20,25,30]\n",
    "W=50\n",
    "n=len(val)\n",
    "ans=knapsack(W,val,wt,n,0)\n",
    "print(ans)"
   ]
  },
  {
   "cell_type": "markdown",
   "id": "eb554f62",
   "metadata": {},
   "source": [
    "# Overlapping Problems In Knapsack"
   ]
  },
  {
   "cell_type": "code",
   "execution_count": null,
   "id": "00b93bbe",
   "metadata": {},
   "outputs": [],
   "source": [
    "# Overlapping SubProblems In Knapsack "
   ]
  },
  {
   "cell_type": "markdown",
   "id": "85dcd98e",
   "metadata": {},
   "source": [
    "# Knapsack Iterative"
   ]
  },
  {
   "cell_type": "code",
   "execution_count": 6,
   "id": "7c728d99",
   "metadata": {},
   "outputs": [
    {
     "name": "stdout",
     "output_type": "stream",
     "text": [
      "500\n"
     ]
    }
   ],
   "source": [
    "def knapsack(W,val,wt):\n",
    "\n",
    "    n=len(val)\n",
    "    dp = [[0 for j in range(W+1)] for i in range(n+1)]\n",
    "    \n",
    "    for i in range(1,n+1):\n",
    "        for j in range(1,W+1):\n",
    "            \n",
    "            if j < wt[i-1]:\n",
    "                ans = dp[i-1][j]\n",
    "            else:\n",
    "                ans1 = val[i-1] + dp[i-1][j-wt[i-1]]\n",
    "                ans2 = dp[i-1][j]\n",
    "                ans = max(ans1,ans2)\n",
    "            dp[i][j] = ans\n",
    "            \n",
    "    return dp[n][W]\n",
    "    \n",
    "val = [200,300,100]\n",
    "wt = [20,25,30]\n",
    "W=50\n",
    "\n",
    "ans=knapsack(W,val,wt)\n",
    "print(ans)"
   ]
  },
  {
   "cell_type": "markdown",
   "id": "98c4bc12",
   "metadata": {},
   "source": [
    "# Matrix Chain Multiplication"
   ]
  },
  {
   "cell_type": "markdown",
   "id": "b135c3ee",
   "metadata": {},
   "source": [
    "# MCM-Recurrence Relation"
   ]
  },
  {
   "cell_type": "markdown",
   "id": "48b6655c",
   "metadata": {},
   "source": [
    "# MCM-Subproblems"
   ]
  },
  {
   "cell_type": "markdown",
   "id": "f3601eb6",
   "metadata": {},
   "source": [
    "# MCM-Memoization Solution"
   ]
  },
  {
   "cell_type": "code",
   "execution_count": 9,
   "id": "032f321b",
   "metadata": {},
   "outputs": [
    {
     "name": "stdout",
     "output_type": "stream",
     "text": [
      "124\n"
     ]
    }
   ],
   "source": [
    "import sys\n",
    "def mcm(p,i,j):\n",
    "    if i == j:\n",
    "        return 0\n",
    "    \n",
    "    min_value = sys.maxsize\n",
    "    for k in range(i,j):\n",
    "        ans1 = mcm(p,i,k)\n",
    "        ans2 = mcm(p,k+1,j)\n",
    "        \n",
    "        mCost = p[i-1]*p[k]*p[j]\n",
    "        curr_value = ans1 + ans2 + mCost\n",
    "        min_value = min(min_value,curr_value)\n",
    "    \n",
    "    return min_value\n",
    "\n",
    "p = [2,3,4,5,6]\n",
    "n = len(p)-1\n",
    "\n",
    "ans = mcm(p,1,n)\n",
    "print(ans)\n"
   ]
  },
  {
   "cell_type": "code",
   "execution_count": 10,
   "id": "184592ce",
   "metadata": {},
   "outputs": [
    {
     "name": "stdout",
     "output_type": "stream",
     "text": [
      "124\n"
     ]
    }
   ],
   "source": [
    "import sys\n",
    "def mcm(p,i,j,dp):\n",
    "    \n",
    "    if i == j:\n",
    "        return 0\n",
    "    \n",
    "    min_value = sys.maxsize\n",
    "    for k in range(i,j):\n",
    "        if dp[i][k] == -1:\n",
    "            ans1 = mcm(p,i,k,dp)\n",
    "            dp[i][k] = ans1\n",
    "        else:\n",
    "            ans1 = dp[i][k]\n",
    "            \n",
    "        if dp[k+1][j] == -1:    \n",
    "            ans2 = mcm(p,k+1,j,dp)\n",
    "            dp[k+1][j] = ans2\n",
    "        else:\n",
    "            ans2 = dp[k+1][j]\n",
    "        \n",
    "        mCost = p[i-1]*p[k]*p[j]\n",
    "        curr_value = ans1 + ans2 + mCost\n",
    "        min_value = min(min_value,curr_value)\n",
    "    \n",
    "    return min_value\n",
    "\n",
    "p = [2,3,4,5,6]\n",
    "n = len(p)-1\n",
    "dp = [[-1 for j in range(n+1)] for i in range(n+1)]\n",
    "ans = mcm(p,1,n,dp)\n",
    "print(ans)"
   ]
  }
 ],
 "metadata": {
  "kernelspec": {
   "display_name": "Python 3",
   "language": "python",
   "name": "python3"
  },
  "language_info": {
   "codemirror_mode": {
    "name": "ipython",
    "version": 3
   },
   "file_extension": ".py",
   "mimetype": "text/x-python",
   "name": "python",
   "nbconvert_exporter": "python",
   "pygments_lexer": "ipython3",
   "version": "3.8.8"
  }
 },
 "nbformat": 4,
 "nbformat_minor": 5
}
