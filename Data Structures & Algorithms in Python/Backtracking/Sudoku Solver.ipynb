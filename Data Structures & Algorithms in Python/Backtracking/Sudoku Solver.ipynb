{
 "cells": [
  {
   "cell_type": "markdown",
   "id": "5bc580cc",
   "metadata": {},
   "source": [
    "# Sudoku Solver\n",
    "Send Feedback\n",
    "Given a 9*9 sudoku board, in which some entries are filled and others are 0 (0 indicates that the cell is empty), you need to find out whether the Sudoku puzzle can be solved or not i.e. return true or false.\n",
    "Input Format :\n",
    "9 Lines where ith line contains ith row elements separated by space\n",
    "Output Format :\n",
    " true or false\n",
    "Sample Input :\n",
    "9 0 0 0 2 0 7 5 0 ,\n",
    "6 0 0 0 5 0 0 4 0 ,\n",
    "0 2 0 4 0 0 0 1 0 ,\n",
    "2 0 8 0 0 0 0 0 0 ,\n",
    "0 7 0 5 0 9 0 6 0 ,\n",
    "0 0 0 0 0 0 4 0 1 ,\n",
    "0 1 0 0 0 5 0 8 0 ,\n",
    "0 9 0 0 7 0 0 0 4 ,\n",
    "0 8 2 0 4 0 0 0 6,\n",
    "Sample Output :\n",
    "true"
   ]
  },
  {
   "cell_type": "code",
   "execution_count": 1,
   "id": "820ecf2e",
   "metadata": {},
   "outputs": [
    {
     "name": "stdout",
     "output_type": "stream",
     "text": [
      "9 0 0 0 2 0 7 5 0 \n",
      "6 0 0 0 5 0 0 4 0 \n",
      "0 2 0 4 0 0 0 1 0 \n",
      "2 0 8 0 0 0 0 0 0 \n",
      "0 7 0 5 0 9 0 6 0 \n",
      "0 0 0 0 0 0 4 0 1 \n",
      "0 1 0 0 0 5 0 8 0 \n",
      "0 9 0 0 7 0 0 0 4 \n",
      "0 8 2 0 4 0 0 0 6\n",
      "true\n"
     ]
    }
   ],
   "source": [
    "def isSudokuValid(sudoku):\n",
    "\n",
    "    row = [dict() for i in range(9)]\n",
    "    col = [dict() for i in range(9)]\n",
    "    subGrid = [[dict() for i in range(3)] for i in range(3)]\n",
    "\n",
    "    for r in range(9):\n",
    "        for c in range(9):\n",
    "\n",
    "            if (sudoku[r][c] == 0):\n",
    "                continue\n",
    "\n",
    "            if (sudoku[r][c] in subGrid[r//3][c//3] or sudoku[r][c] in col[c] or sudoku[r][c] in row[r]):\n",
    "                return False\n",
    "\n",
    "            subGrid[r//3][c//3][sudoku[r][c]] = True\n",
    "            row[r][sudoku[r][c]] = True\n",
    "            col[c][sudoku[r][c]] = True\n",
    "\n",
    "    return True\n",
    "\n",
    "\n",
    "sudoku = [[int(ele) for ele in input().split()]for i in range(9)]\n",
    "ans = isSudokuValid(sudoku)\n",
    "if ans is True:\n",
    "    print('true')\n",
    "else:\n",
    "    print('false')"
   ]
  },
  {
   "cell_type": "code",
   "execution_count": null,
   "id": "85083ba7",
   "metadata": {},
   "outputs": [],
   "source": []
  }
 ],
 "metadata": {
  "kernelspec": {
   "display_name": "Python 3",
   "language": "python",
   "name": "python3"
  },
  "language_info": {
   "codemirror_mode": {
    "name": "ipython",
    "version": 3
   },
   "file_extension": ".py",
   "mimetype": "text/x-python",
   "name": "python",
   "nbconvert_exporter": "python",
   "pygments_lexer": "ipython3",
   "version": "3.8.8"
  }
 },
 "nbformat": 4,
 "nbformat_minor": 5
}
