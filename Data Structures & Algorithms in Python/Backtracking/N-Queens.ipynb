{
 "cells": [
  {
   "cell_type": "markdown",
   "id": "97789558",
   "metadata": {},
   "source": [
    "# N-Queens\n",
    "Send Feedback\n",
    "You are given N, and for a given N x N chessboard, find a way to place N queens such that no queen can attack any other queen on the chess board. A queen can be killed when it lies in the same row, or same column, or the same diagonal of any of the other queens. You have to print all such configurations.\n",
    "Input Format :\n",
    "Line 1 : Integer N\n",
    "Output Format :\n",
    "One Line for every board configuration. \n",
    "Every line will have N*N board elements printed row wise and are separated by space\n",
    "Note : Don't print anything if there isn't any valid configuration.\n",
    "Constraints :\n",
    "1<=N<=10\n",
    "Sample Input 1:\n",
    "4\n",
    "Sample Output 1 :\n",
    "0 1 0 0 0 0 0 1 1 0 0 0 0 0 1 0 \n",
    "0 0 1 0 1 0 0 0 0 0 0 1 0 1 0 0 "
   ]
  },
  {
   "cell_type": "code",
   "execution_count": 2,
   "id": "0f1543b7",
   "metadata": {},
   "outputs": [
    {
     "name": "stdout",
     "output_type": "stream",
     "text": [
      "4\n",
      "0 1 0 0 0 0 0 1 1 0 0 0 0 0 1 0 \n",
      "0 0 1 0 1 0 0 0 0 0 0 1 0 1 0 0 \n"
     ]
    }
   ],
   "source": [
    "def isSafe(row, col, board, n):\n",
    "    i = row-1\n",
    "    while i >= 0:\n",
    "        if board[i][col] == 1:\n",
    "            return False\n",
    "        i -= 1\n",
    "        \n",
    "    i = row-1\n",
    "    j = col-1\n",
    "    while i>=0 and j>=0:\n",
    "        if board[i][j] == 1:\n",
    "            return False\n",
    "        i -= 1\n",
    "        j -= 1\n",
    "        \n",
    "    i = row-1\n",
    "    j = col+1\n",
    "    while i >= 0 and j < n:\n",
    "        if board[i][j] == 1:\n",
    "            return False\n",
    "        i -= 1\n",
    "        j += 1\n",
    "        \n",
    "    return True\n",
    "\n",
    "def nQueenHelper(row, n, board):\n",
    "    if row == n:\n",
    "        for i in range(n):\n",
    "            for j in range(n):\n",
    "                print(board[i][j], end = \" \")\n",
    "        print()\n",
    "        return\n",
    "    for col in range(n):\n",
    "        if isSafe(row, col, board, n) is True:\n",
    "            board[row][col] = 1\n",
    "            nQueenHelper(row+1, n, board)\n",
    "            board[row][col] = 0\n",
    "    return\n",
    "\n",
    "    \n",
    "def nQueen(n):\n",
    "    #Implement Your Code Here\n",
    "    board = [[0 for j in range(n)] for i in range(n)]\n",
    "    nQueenHelper(0, n, board)\n",
    "\n",
    "\n",
    "n = int(input())\n",
    "nQueen(n)"
   ]
  }
 ],
 "metadata": {
  "kernelspec": {
   "display_name": "Python 3",
   "language": "python",
   "name": "python3"
  },
  "language_info": {
   "codemirror_mode": {
    "name": "ipython",
    "version": 3
   },
   "file_extension": ".py",
   "mimetype": "text/x-python",
   "name": "python",
   "nbconvert_exporter": "python",
   "pygments_lexer": "ipython3",
   "version": "3.8.8"
  }
 },
 "nbformat": 4,
 "nbformat_minor": 5
}
