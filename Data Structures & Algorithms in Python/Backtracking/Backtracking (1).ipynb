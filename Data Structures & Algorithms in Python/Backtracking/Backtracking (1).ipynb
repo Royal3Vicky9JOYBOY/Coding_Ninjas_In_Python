{
 "cells": [
  {
   "cell_type": "markdown",
   "id": "1d66e4c0",
   "metadata": {},
   "source": [
    "# Intro To Backtracking"
   ]
  },
  {
   "cell_type": "code",
   "execution_count": null,
   "id": "b407e987",
   "metadata": {},
   "outputs": [],
   "source": [
    "# check if path exist\n",
    "# get all the path\n",
    "# print all the path"
   ]
  },
  {
   "cell_type": "markdown",
   "id": "0f269f65",
   "metadata": {},
   "source": [
    "# Rat In A Maze"
   ]
  },
  {
   "cell_type": "code",
   "execution_count": 4,
   "id": "21e2161d",
   "metadata": {},
   "outputs": [
    {
     "name": "stdout",
     "output_type": "stream",
     "text": [
      "4\n",
      "1 1 1 1\n",
      "1 0 1 1\n",
      "1 1 0 1\n",
      "1 1 1 1\n",
      "[[1, 0, 0, 0], [1, 0, 0, 0], [1, 0, 0, 0], [1, 1, 1, 1]]\n",
      "[[1, 0, 0, 0], [1, 0, 0, 0], [1, 1, 0, 0], [0, 1, 1, 1]]\n",
      "[[1, 1, 1, 0], [0, 0, 1, 1], [0, 0, 0, 1], [0, 0, 0, 1]]\n",
      "[[1, 1, 1, 1], [0, 0, 0, 1], [0, 0, 0, 1], [0, 0, 0, 1]]\n"
     ]
    }
   ],
   "source": [
    "def printPathHelper(x,y,maze,n,solution):\n",
    "    \n",
    "    if x == n-1 and y == n-1:\n",
    "        solution[x][y] = 1\n",
    "        print(solution)\n",
    "        \n",
    "        return \n",
    "    if x < 0 or y < 0 or x >= n or y >= n or maze[x][y] == 0 or solution[x][y] == 1:\n",
    "        return\n",
    "    \n",
    "    solution[x][y] = 1\n",
    "    printPathHelper(x+1,y,maze,n,solution)\n",
    "    printPathHelper(x,y+1,maze,n,solution)\n",
    "    printPathHelper(x-1,y,maze,n,solution)\n",
    "    printPathHelper(x,y-1,maze,n,solution)\n",
    "    solution[x][y]=0\n",
    "    return\n",
    "    \n",
    "def printPath(maze):\n",
    "    n = len(maze)\n",
    "    solution = [[0 for j in range(n)]for i in range(n)]\n",
    "    printPathHelper(0,0,maze,n,solution)\n",
    "    \n",
    "n = int(input())\n",
    "maze = []\n",
    "for i in range(n):\n",
    "    row = [int(ele) for ele in input().split()]\n",
    "    maze.append(row)\n",
    "    \n",
    "printPath(maze)"
   ]
  },
  {
   "cell_type": "markdown",
   "id": "38e44546",
   "metadata": {},
   "source": [
    "# N-Queen Explain"
   ]
  },
  {
   "cell_type": "markdown",
   "id": "b6e11630",
   "metadata": {},
   "source": [
    "# N-Queen Code"
   ]
  },
  {
   "cell_type": "code",
   "execution_count": 6,
   "id": "f65ec05c",
   "metadata": {},
   "outputs": [
    {
     "name": "stdout",
     "output_type": "stream",
     "text": [
      "4\n",
      "0 1 0 0 0 0 0 1 1 0 0 0 0 0 1 0 \n",
      "0 0 1 0 1 0 0 0 0 0 0 1 0 1 0 0 \n"
     ]
    }
   ],
   "source": [
    "def isSafe(row,col,board,n):\n",
    "    # vertical direction\n",
    "    i = row-1\n",
    "    while i>=0:\n",
    "        if board[i][col] == 1:\n",
    "            return False\n",
    "        i -= 1\n",
    "        \n",
    "    i = row-1\n",
    "    j = col-1\n",
    "    \n",
    "    while i>=0 and j>=0:\n",
    "        if board[i][j] == 1:\n",
    "            return False\n",
    "        i-=1\n",
    "        j-=1\n",
    "        \n",
    "    i = row-1\n",
    "    j = col+1\n",
    "    while i>=0 and j <n:\n",
    "        if board[i][j] == 1:\n",
    "            return False\n",
    "        i-=1\n",
    "        j+=1\n",
    "    return True\n",
    "        \n",
    "def printPathHelper(row,n,board):\n",
    "    \n",
    "    if row == n:\n",
    "        for i in range(n):\n",
    "            for j in range(n):\n",
    "                print(board[i][j],end=' ')\n",
    "        print()\n",
    "        return\n",
    "    \n",
    "    for col in range(n):\n",
    "        if isSafe(row,col,board,n):\n",
    "            board[row][col] = 1\n",
    "            printPathHelper(row+1,n,board)\n",
    "            board[row][col] = 0\n",
    "            \n",
    "    return \n",
    "\n",
    "def printPaths(n):\n",
    "    board = [[0 for j in range(n)]for i in range(n)]\n",
    "    printPathHelper(0,n,board)\n",
    "    \n",
    "n = int(input())\n",
    "printPaths(n)"
   ]
  }
 ],
 "metadata": {
  "kernelspec": {
   "display_name": "Python 3",
   "language": "python",
   "name": "python3"
  },
  "language_info": {
   "codemirror_mode": {
    "name": "ipython",
    "version": 3
   },
   "file_extension": ".py",
   "mimetype": "text/x-python",
   "name": "python",
   "nbconvert_exporter": "python",
   "pygments_lexer": "ipython3",
   "version": "3.8.8"
  }
 },
 "nbformat": 4,
 "nbformat_minor": 5
}
