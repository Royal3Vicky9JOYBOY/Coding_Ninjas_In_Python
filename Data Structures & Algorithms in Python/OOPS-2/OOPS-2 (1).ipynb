{
 "cells": [
  {
   "cell_type": "markdown",
   "id": "713ff806",
   "metadata": {},
   "source": [
    "# Polymorphism"
   ]
  },
  {
   "cell_type": "markdown",
   "id": "d0a80b48",
   "metadata": {},
   "source": [
    "Selection Sort(code)"
   ]
  },
  {
   "cell_type": "code",
   "execution_count": 17,
   "id": "28ddbf00",
   "metadata": {},
   "outputs": [
    {
     "data": {
      "text/plain": [
       "3"
      ]
     },
     "execution_count": 17,
     "metadata": {},
     "output_type": "execute_result"
    }
   ],
   "source": [
    "1+2"
   ]
  },
  {
   "cell_type": "code",
   "execution_count": 18,
   "id": "77027aca",
   "metadata": {},
   "outputs": [
    {
     "data": {
      "text/plain": [
       "'ab'"
      ]
     },
     "execution_count": 18,
     "metadata": {},
     "output_type": "execute_result"
    }
   ],
   "source": [
    "\"a\"+\"b\""
   ]
  },
  {
   "cell_type": "code",
   "execution_count": 19,
   "id": "b9570550",
   "metadata": {},
   "outputs": [
    {
     "data": {
      "text/plain": [
       "4"
      ]
     },
     "execution_count": 19,
     "metadata": {},
     "output_type": "execute_result"
    }
   ],
   "source": [
    "len([1,2,3,4])"
   ]
  },
  {
   "cell_type": "code",
   "execution_count": 20,
   "id": "b376c962",
   "metadata": {},
   "outputs": [
    {
     "data": {
      "text/plain": [
       "16"
      ]
     },
     "execution_count": 20,
     "metadata": {},
     "output_type": "execute_result"
    }
   ],
   "source": [
    "len(\"my name is Luffy\")"
   ]
  },
  {
   "cell_type": "code",
   "execution_count": 21,
   "id": "b007efb5",
   "metadata": {},
   "outputs": [],
   "source": [
    "# Parent class\n",
    "class Vehicle():\n",
    "    current_year=2021\n",
    "    base_price=1000\n",
    "    \n",
    "    def __init__(self,make,model,fuel):\n",
    "        self.make=make\n",
    "        # private\n",
    "        self.__model=model\n",
    "        self.__fuel=fuel\n",
    "    \n",
    "    def __private_method_parent(self):\n",
    "        print(\"This is Private\")\n",
    "    \n",
    "    # default function to get value of car\n",
    "    def get_value(self):\n",
    "        age=Vehicle.current_year - self.model\n",
    "        print(\"this is default method of parent\")\n",
    "        return Vehicle.base_price*(1/age)\n",
    "        "
   ]
  },
  {
   "cell_type": "code",
   "execution_count": 22,
   "id": "fa1e7225",
   "metadata": {},
   "outputs": [],
   "source": [
    "#child class\n",
    "class car(Vehicle): \n",
    "    def __init__(self,make,model,fuel,air_conditioning,sunroof):\n",
    "        super(car,self).__init__(make,model,fuel)\n",
    "     \n",
    "        self.air_conditioning=air_conditioning\n",
    "        self.sunroof=sunroof\n",
    "     \n",
    "   # Overriding method - replaces the parent default method\n",
    "    def get_value(self):\n",
    "        Vehicle.base_price=5000\n",
    "        age=Vehicle.current_year - self._Vehicle__model\n",
    "        print(\"this is default method of parent\")\n",
    "        return Vehicle.base_price*(1/age)\n",
    "    "
   ]
  },
  {
   "cell_type": "code",
   "execution_count": 23,
   "id": "0675133d",
   "metadata": {},
   "outputs": [],
   "source": [
    "myobj=car(\"Tesla\",2019,\"Electric\",True,True)"
   ]
  },
  {
   "cell_type": "code",
   "execution_count": 24,
   "id": "1925b231",
   "metadata": {},
   "outputs": [
    {
     "data": {
      "text/plain": [
       "{'make': 'Tesla',\n",
       " '_Vehicle__model': 2019,\n",
       " '_Vehicle__fuel': 'Electric',\n",
       " 'air_conditioning': True,\n",
       " 'sunroof': True}"
      ]
     },
     "execution_count": 24,
     "metadata": {},
     "output_type": "execute_result"
    }
   ],
   "source": [
    "myobj.__dict__"
   ]
  },
  {
   "cell_type": "code",
   "execution_count": 25,
   "id": "da535c7f",
   "metadata": {},
   "outputs": [
    {
     "name": "stdout",
     "output_type": "stream",
     "text": [
      "This is Private\n"
     ]
    }
   ],
   "source": [
    "myobj._Vehicle__private_method_parent()"
   ]
  },
  {
   "cell_type": "code",
   "execution_count": 26,
   "id": "b39efce9",
   "metadata": {},
   "outputs": [
    {
     "name": "stdout",
     "output_type": "stream",
     "text": [
      "this is default method of parent\n"
     ]
    },
    {
     "data": {
      "text/plain": [
       "2500.0"
      ]
     },
     "execution_count": 26,
     "metadata": {},
     "output_type": "execute_result"
    }
   ],
   "source": [
    "myobj.get_value()"
   ]
  },
  {
   "cell_type": "code",
   "execution_count": 27,
   "id": "cec4236f",
   "metadata": {},
   "outputs": [],
   "source": [
    "# Parent class\n",
    "class Vehicle():\n",
    "    current_year=2021\n",
    "    base_price=1000\n",
    "    \n",
    "    def __init__(self,make,model,fuel):\n",
    "        self.make=make\n",
    "        # private\n",
    "        self.__model=model\n",
    "        self.__fuel=fuel\n",
    "    \n",
    "    def __private_method_parent(self):\n",
    "        print(\"This is Private\")\n",
    "    \n",
    "    # default function to get value of car\n",
    "    def get_value(self):\n",
    "        age=Vehicle.current_year - self.__model\n",
    "        print(\"this is default method of parent\")\n",
    "        return Vehicle.base_price*(1/age)\n",
    "        "
   ]
  },
  {
   "cell_type": "code",
   "execution_count": 28,
   "id": "4b70c6e6",
   "metadata": {},
   "outputs": [],
   "source": [
    "#child class\n",
    "class car(Vehicle): \n",
    "    def __init__(self,make,model,fuel,air_conditioning,sunroof):\n",
    "        super(car,self).__init__(make,model,fuel)\n",
    "     \n",
    "        self.air_conditioning=air_conditioning\n",
    "        self.sunroof=sunroof\n",
    "     \n",
    "   # Overriding method - replaces the parent default method\n",
    "    def get_value(self):\n",
    "        Vehicle.base_price=5000\n",
    "        age=Vehicle.current_year - self._Vehicle__model\n",
    "        print(\"This is child override method\")\n",
    "        return Vehicle.base_price*(1/age)\n",
    "    "
   ]
  },
  {
   "cell_type": "code",
   "execution_count": 29,
   "id": "b67c246f",
   "metadata": {},
   "outputs": [],
   "source": [
    "myparentobj=Vehicle(\"Ford\",2018,\"petrol\")"
   ]
  },
  {
   "cell_type": "code",
   "execution_count": 30,
   "id": "28d1f3ef",
   "metadata": {},
   "outputs": [
    {
     "name": "stdout",
     "output_type": "stream",
     "text": [
      "this is default method of parent\n"
     ]
    },
    {
     "data": {
      "text/plain": [
       "333.3333333333333"
      ]
     },
     "execution_count": 30,
     "metadata": {},
     "output_type": "execute_result"
    }
   ],
   "source": [
    "myparentobj.get_value()"
   ]
  },
  {
   "cell_type": "code",
   "execution_count": 31,
   "id": "4cfaa90b",
   "metadata": {},
   "outputs": [
    {
     "name": "stdout",
     "output_type": "stream",
     "text": [
      "black5\n"
     ]
    }
   ],
   "source": [
    "class Vehicle:\n",
    "    def __init__(self,color):\n",
    "        self.color = color\n",
    "    def print(self):\n",
    "        print(self.color,end=\"\")\n",
    "class Car(Vehicle):\n",
    "    def __init__(self,color,numGears):\n",
    "        super().__init__(color)\n",
    "        self.numGears = numGears\n",
    "    def print(self):\n",
    "       print(self.color,end=\"\")\n",
    "       print(self.numGears)\n",
    "c = Car(\"black\",5)\n",
    "c.print()"
   ]
  },
  {
   "cell_type": "code",
   "execution_count": 32,
   "id": "2a76fdbe",
   "metadata": {},
   "outputs": [
    {
     "ename": "RecursionError",
     "evalue": "maximum recursion depth exceeded",
     "output_type": "error",
     "traceback": [
      "\u001b[1;31m---------------------------------------------------------------------------\u001b[0m",
      "\u001b[1;31mRecursionError\u001b[0m                            Traceback (most recent call last)",
      "\u001b[1;32m<ipython-input-32-ebd1fcda7928>\u001b[0m in \u001b[0;36m<module>\u001b[1;34m\u001b[0m\n\u001b[0;32m     12\u001b[0m         \u001b[0mprint\u001b[0m\u001b[1;33m(\u001b[0m\u001b[0mc\u001b[0m\u001b[1;33m.\u001b[0m\u001b[0mnumGears\u001b[0m\u001b[1;33m)\u001b[0m\u001b[1;33m\u001b[0m\u001b[1;33m\u001b[0m\u001b[0m\n\u001b[0;32m     13\u001b[0m \u001b[0mc\u001b[0m \u001b[1;33m=\u001b[0m \u001b[0mCar\u001b[0m\u001b[1;33m(\u001b[0m\u001b[1;34m\"black\"\u001b[0m\u001b[1;33m,\u001b[0m\u001b[1;36m5\u001b[0m\u001b[1;33m)\u001b[0m\u001b[1;33m\u001b[0m\u001b[1;33m\u001b[0m\u001b[0m\n\u001b[1;32m---> 14\u001b[1;33m \u001b[0mc\u001b[0m\u001b[1;33m.\u001b[0m\u001b[0mprint\u001b[0m\u001b[1;33m(\u001b[0m\u001b[1;33m)\u001b[0m\u001b[1;33m\u001b[0m\u001b[1;33m\u001b[0m\u001b[0m\n\u001b[0m",
      "\u001b[1;32m<ipython-input-32-ebd1fcda7928>\u001b[0m in \u001b[0;36mprint\u001b[1;34m(self)\u001b[0m\n\u001b[0;32m      9\u001b[0m         \u001b[0mself\u001b[0m\u001b[1;33m.\u001b[0m\u001b[0mnumGears\u001b[0m \u001b[1;33m=\u001b[0m \u001b[0mnumGears\u001b[0m\u001b[1;33m\u001b[0m\u001b[1;33m\u001b[0m\u001b[0m\n\u001b[0;32m     10\u001b[0m     \u001b[1;32mdef\u001b[0m \u001b[0mprint\u001b[0m\u001b[1;33m(\u001b[0m\u001b[0mself\u001b[0m\u001b[1;33m)\u001b[0m\u001b[1;33m:\u001b[0m\u001b[1;33m\u001b[0m\u001b[1;33m\u001b[0m\u001b[0m\n\u001b[1;32m---> 11\u001b[1;33m         \u001b[0mself\u001b[0m\u001b[1;33m.\u001b[0m\u001b[0mprint\u001b[0m\u001b[1;33m(\u001b[0m\u001b[1;33m)\u001b[0m\u001b[1;33m\u001b[0m\u001b[1;33m\u001b[0m\u001b[0m\n\u001b[0m\u001b[0;32m     12\u001b[0m         \u001b[0mprint\u001b[0m\u001b[1;33m(\u001b[0m\u001b[0mc\u001b[0m\u001b[1;33m.\u001b[0m\u001b[0mnumGears\u001b[0m\u001b[1;33m)\u001b[0m\u001b[1;33m\u001b[0m\u001b[1;33m\u001b[0m\u001b[0m\n\u001b[0;32m     13\u001b[0m \u001b[0mc\u001b[0m \u001b[1;33m=\u001b[0m \u001b[0mCar\u001b[0m\u001b[1;33m(\u001b[0m\u001b[1;34m\"black\"\u001b[0m\u001b[1;33m,\u001b[0m\u001b[1;36m5\u001b[0m\u001b[1;33m)\u001b[0m\u001b[1;33m\u001b[0m\u001b[1;33m\u001b[0m\u001b[0m\n",
      "... last 1 frames repeated, from the frame below ...\n",
      "\u001b[1;32m<ipython-input-32-ebd1fcda7928>\u001b[0m in \u001b[0;36mprint\u001b[1;34m(self)\u001b[0m\n\u001b[0;32m      9\u001b[0m         \u001b[0mself\u001b[0m\u001b[1;33m.\u001b[0m\u001b[0mnumGears\u001b[0m \u001b[1;33m=\u001b[0m \u001b[0mnumGears\u001b[0m\u001b[1;33m\u001b[0m\u001b[1;33m\u001b[0m\u001b[0m\n\u001b[0;32m     10\u001b[0m     \u001b[1;32mdef\u001b[0m \u001b[0mprint\u001b[0m\u001b[1;33m(\u001b[0m\u001b[0mself\u001b[0m\u001b[1;33m)\u001b[0m\u001b[1;33m:\u001b[0m\u001b[1;33m\u001b[0m\u001b[1;33m\u001b[0m\u001b[0m\n\u001b[1;32m---> 11\u001b[1;33m         \u001b[0mself\u001b[0m\u001b[1;33m.\u001b[0m\u001b[0mprint\u001b[0m\u001b[1;33m(\u001b[0m\u001b[1;33m)\u001b[0m\u001b[1;33m\u001b[0m\u001b[1;33m\u001b[0m\u001b[0m\n\u001b[0m\u001b[0;32m     12\u001b[0m         \u001b[0mprint\u001b[0m\u001b[1;33m(\u001b[0m\u001b[0mc\u001b[0m\u001b[1;33m.\u001b[0m\u001b[0mnumGears\u001b[0m\u001b[1;33m)\u001b[0m\u001b[1;33m\u001b[0m\u001b[1;33m\u001b[0m\u001b[0m\n\u001b[0;32m     13\u001b[0m \u001b[0mc\u001b[0m \u001b[1;33m=\u001b[0m \u001b[0mCar\u001b[0m\u001b[1;33m(\u001b[0m\u001b[1;34m\"black\"\u001b[0m\u001b[1;33m,\u001b[0m\u001b[1;36m5\u001b[0m\u001b[1;33m)\u001b[0m\u001b[1;33m\u001b[0m\u001b[1;33m\u001b[0m\u001b[0m\n",
      "\u001b[1;31mRecursionError\u001b[0m: maximum recursion depth exceeded"
     ]
    }
   ],
   "source": [
    "class Vehicle:\n",
    "    def __init__(self,color):\n",
    "        self.color = color\n",
    "    def print(self):\n",
    "        print(c.color,end=\" \")\n",
    "class Car(Vehicle):\n",
    "    def __init__(self,color,numGears):\n",
    "        super().__init__(color)\n",
    "        self.numGears = numGears\n",
    "    def print(self):\n",
    "        self.print()\n",
    "        print(c.numGears)\n",
    "c = Car(\"black\",5)\n",
    "c.print()"
   ]
  },
  {
   "cell_type": "markdown",
   "id": "1ecf4abf",
   "metadata": {},
   "source": [
    "# Protected Members"
   ]
  },
  {
   "cell_type": "code",
   "execution_count": 33,
   "id": "ab583e89",
   "metadata": {},
   "outputs": [],
   "source": [
    "# Parent class\n",
    "class Vehicle():\n",
    "    current_year=2021\n",
    "    base_price=10000\n",
    "    \n",
    "    def __init__(self,make,model,fuel):\n",
    "        self.make=make\n",
    "        # protected attributes\n",
    "        self._model=model\n",
    "        self._fuel=fuel\n",
    "    \n",
    "    # default function to get value of car\n",
    "    def _get_value(self):\n",
    "        age=Vehicle.current_year - self._model\n",
    "        print(\"this is default method of parent\")\n",
    "        return Vehicle.base_price*(1/age)"
   ]
  },
  {
   "cell_type": "code",
   "execution_count": 34,
   "id": "d6aabae2",
   "metadata": {},
   "outputs": [],
   "source": [
    "#child class\n",
    "class car(Vehicle): \n",
    "    def __init__(self,make,model,fuel,air_conditioning,sunroof):\n",
    "        super(car,self).__init__(make,model,fuel)\n",
    "        # protected\n",
    "        self._air_conditioning=air_conditioning\n",
    "        self._sunroof=sunroof\n",
    "     \n",
    "   # Overriding method - replaces the parent default method\n",
    "   # protected method\n",
    "    def _get_value(self):\n",
    "        Vehicle.base_price=5000\n",
    "        age=Vehicle.current_year - self._model\n",
    "        print(\"This is child override method\")\n",
    "        return Vehicle.base_price*(1/age)"
   ]
  },
  {
   "cell_type": "code",
   "execution_count": 35,
   "id": "c95c46dd",
   "metadata": {},
   "outputs": [],
   "source": [
    "myObj=car(\"Tesla\",2019,\"electric\",True,True)"
   ]
  },
  {
   "cell_type": "code",
   "execution_count": 36,
   "id": "64238662",
   "metadata": {},
   "outputs": [
    {
     "data": {
      "text/plain": [
       "True"
      ]
     },
     "execution_count": 36,
     "metadata": {},
     "output_type": "execute_result"
    }
   ],
   "source": [
    "myObj._air_conditioning"
   ]
  },
  {
   "cell_type": "code",
   "execution_count": 37,
   "id": "e9a750f3",
   "metadata": {},
   "outputs": [
    {
     "data": {
      "text/plain": [
       "True"
      ]
     },
     "execution_count": 37,
     "metadata": {},
     "output_type": "execute_result"
    }
   ],
   "source": [
    "myObj._sunroof"
   ]
  },
  {
   "cell_type": "code",
   "execution_count": 38,
   "id": "f4d2c836",
   "metadata": {},
   "outputs": [
    {
     "name": "stdout",
     "output_type": "stream",
     "text": [
      "This is child override method\n"
     ]
    },
    {
     "data": {
      "text/plain": [
       "2500.0"
      ]
     },
     "execution_count": 38,
     "metadata": {},
     "output_type": "execute_result"
    }
   ],
   "source": [
    "myObj._get_value()               "
   ]
  },
  {
   "cell_type": "markdown",
   "id": "47d938e7",
   "metadata": {},
   "source": [
    "# Object Class"
   ]
  },
  {
   "cell_type": "code",
   "execution_count": 39,
   "id": "03926587",
   "metadata": {},
   "outputs": [],
   "source": [
    "# __new__\n",
    "# __init__\n",
    "# __str__"
   ]
  },
  {
   "cell_type": "code",
   "execution_count": 40,
   "id": "a3b788b4",
   "metadata": {},
   "outputs": [
    {
     "name": "stdout",
     "output_type": "stream",
     "text": [
      "<__main__.circle object at 0x000002C5FE15A940>\n"
     ]
    }
   ],
   "source": [
    "class circle(object):\n",
    "    def __init__(self,radius):\n",
    "        self.__radius=radius\n",
    "        \n",
    "c=circle(3)\n",
    "print(c)"
   ]
  },
  {
   "cell_type": "code",
   "execution_count": 41,
   "id": "fa3b64f2",
   "metadata": {},
   "outputs": [
    {
     "name": "stdout",
     "output_type": "stream",
     "text": [
      "this is a circle class which takes radius as an argument.\n"
     ]
    }
   ],
   "source": [
    "class circle(object):\n",
    "    def __init__(self,radius):\n",
    "        self.__radius=radius\n",
    "    def __str__(self):\n",
    "        return \"this is a circle class which takes radius as an argument.\"\n",
    "        \n",
    "c=circle(3)\n",
    "print(c)"
   ]
  },
  {
   "cell_type": "code",
   "execution_count": 43,
   "id": "696f3ba8",
   "metadata": {},
   "outputs": [
    {
     "name": "stdout",
     "output_type": "stream",
     "text": [
      "This is a Circle Class\n"
     ]
    }
   ],
   "source": [
    "class Circle(object):\n",
    "    def __str__(self):\n",
    "        return \"This is a Circle Class\"\n",
    "c = Circle()\n",
    "print(c)"
   ]
  },
  {
   "cell_type": "markdown",
   "id": "ee37d6f2",
   "metadata": {},
   "source": [
    "# Multilevel Inheritance"
   ]
  },
  {
   "cell_type": "code",
   "execution_count": 44,
   "id": "96406d57",
   "metadata": {},
   "outputs": [],
   "source": [
    "# parent class\n",
    "class Vehicle():\n",
    "    \n",
    "    def __init__(self,make,model,fuel):\n",
    "        self.make=make\n",
    "        self.model=model\n",
    "        self.fuel=fuel\n",
    "        \n",
    "# child class\n",
    "class car(Vehicle):\n",
    "    def __init__(self,make,model,fuel,air_conditioning,sunroof):\n",
    "        \n",
    "        super(car,self).__init__(make,model,fuel)\n",
    "        \n",
    "        self._air_conditioning=air_conditioning\n",
    "        self._sunroof=sunroof\n",
    "    \n",
    "class ElectricVehcile(car):\n",
    "    def __init__(self,make,model,fuel,air_conditioning,sunroof,distance):\n",
    "        \n",
    "        super(ElectricVehcile,self).__init__(make,model,fuel,air_conditioning,sunroof)\n",
    "        \n",
    "        self.distance=distance\n",
    "        "
   ]
  },
  {
   "cell_type": "code",
   "execution_count": 45,
   "id": "c9ce339d",
   "metadata": {},
   "outputs": [],
   "source": [
    "myobj=ElectricVehcile(\"tesla\",2019,\"Electric\",True,True,500)"
   ]
  },
  {
   "cell_type": "code",
   "execution_count": 46,
   "id": "bfa25edf",
   "metadata": {},
   "outputs": [
    {
     "data": {
      "text/plain": [
       "{'make': 'tesla',\n",
       " 'model': 2019,\n",
       " 'fuel': 'Electric',\n",
       " '_air_conditioning': True,\n",
       " '_sunroof': True,\n",
       " 'distance': 500}"
      ]
     },
     "execution_count": 46,
     "metadata": {},
     "output_type": "execute_result"
    }
   ],
   "source": [
    "myobj.__dict__"
   ]
  },
  {
   "cell_type": "code",
   "execution_count": 47,
   "id": "4d54f080",
   "metadata": {},
   "outputs": [
    {
     "name": "stdout",
     "output_type": "stream",
     "text": [
      "init of B called\n"
     ]
    }
   ],
   "source": [
    "class A:\n",
    "\n",
    "    def __init__(self):\n",
    "        print(\"init of A called\")\n",
    "class B:\n",
    "    def __init__(self):\n",
    "        print(\"init of B called\")\n",
    "\n",
    "class C(B,A):\n",
    "    def __init__(self):\n",
    "        super().__init__()\n",
    "\n",
    "c = C()"
   ]
  },
  {
   "cell_type": "markdown",
   "id": "6dbc6792",
   "metadata": {},
   "source": [
    "# MRO[Method Resolution Order]"
   ]
  },
  {
   "cell_type": "code",
   "execution_count": 74,
   "id": "788ebd8a",
   "metadata": {},
   "outputs": [],
   "source": [
    "class car():\n",
    "    def __init__(self,make,model,fuel):\n",
    "        self.make=make\n",
    "        self.model=model\n",
    "        self.fuel=fuel\n",
    "        \n",
    "    def get_car_detail(self):\n",
    "        return \"the make of the car is\", self.make, \"from car class\"\n",
    "    \n",
    "class ElectricCar():\n",
    "    def __init__(self,make,model,fuel):\n",
    "        self.make=make\n",
    "        self.model=model\n",
    "        self.fuel=fuel\n",
    "        \n",
    "    def get_car_detail(self):\n",
    "        return \"the make of the car is\", self.make, \"from Electric Car class\""
   ]
  },
  {
   "cell_type": "code",
   "execution_count": 75,
   "id": "42e7864b",
   "metadata": {},
   "outputs": [],
   "source": [
    "class Taxi(car,ElectricCar):   # Multiple Inheritence\n",
    "    def __init__(self,make,model,fuel):\n",
    "        super().__init__(make,model,fuel)\n"
   ]
  },
  {
   "cell_type": "code",
   "execution_count": 76,
   "id": "e846978a",
   "metadata": {
    "scrolled": true
   },
   "outputs": [],
   "source": [
    "myobj = Taxi(\"Tesla\",2019,\"electric\")"
   ]
  },
  {
   "cell_type": "code",
   "execution_count": 77,
   "id": "1a1be09c",
   "metadata": {},
   "outputs": [
    {
     "data": {
      "text/plain": [
       "('the make of the car is', 'Tesla', 'from car class')"
      ]
     },
     "execution_count": 77,
     "metadata": {},
     "output_type": "execute_result"
    }
   ],
   "source": [
    "myobj.get_car_detail()"
   ]
  },
  {
   "cell_type": "code",
   "execution_count": 82,
   "id": "1b0c0795",
   "metadata": {},
   "outputs": [],
   "source": [
    "class Car():\n",
    "    def __init__(self,make,model,fuel):\n",
    "        self.make=make\n",
    "        self.model=model\n",
    "        self.fuel=fuel\n",
    "    def get_car_detail(self):\n",
    "        return \"the make of the car is\", self.make,\"from car class\"\n",
    "    \n",
    "class ElectricCar():\n",
    "    def __init__(self,make,model,fuel):\n",
    "        self.make=make\n",
    "        self.model=model\n",
    "        self.fuel=fuel\n",
    "        \n",
    "    def get_car_detail(self):\n",
    "        return \"the make of the car is\",self.make,\"from Electric Car class\"\n",
    "\n",
    "class Taxi(ElectricCar,Car):#Multiple Inheritance\n",
    "    def __init__(self,make,model,fuel):\n",
    "        super().__init__(make,model,fuel)\n",
    "\n",
    "myobj=Taxi(\"Tesla\",2019,\"electric\")"
   ]
  },
  {
   "cell_type": "code",
   "execution_count": 83,
   "id": "3bed1e82",
   "metadata": {},
   "outputs": [
    {
     "data": {
      "text/plain": [
       "('the make of the car is', 'Tesla', 'from Electric Car class')"
      ]
     },
     "execution_count": 83,
     "metadata": {},
     "output_type": "execute_result"
    }
   ],
   "source": [
    "myobj.get_car_detail()"
   ]
  },
  {
   "cell_type": "code",
   "execution_count": 84,
   "id": "8adf6577",
   "metadata": {},
   "outputs": [
    {
     "data": {
      "text/plain": [
       "(__main__.Taxi, __main__.ElectricCar, __main__.Car, object)"
      ]
     },
     "execution_count": 84,
     "metadata": {},
     "output_type": "execute_result"
    }
   ],
   "source": [
    "Taxi.__mro__"
   ]
  },
  {
   "cell_type": "code",
   "execution_count": 85,
   "id": "70c804c9",
   "metadata": {},
   "outputs": [
    {
     "data": {
      "text/plain": [
       "[__main__.Taxi, __main__.ElectricCar, __main__.Car, object]"
      ]
     },
     "execution_count": 85,
     "metadata": {},
     "output_type": "execute_result"
    }
   ],
   "source": [
    "Taxi.mro()"
   ]
  },
  {
   "cell_type": "code",
   "execution_count": 87,
   "id": "d3ba5432",
   "metadata": {},
   "outputs": [],
   "source": [
    "class X: pass\n",
    "class Y: pass\n",
    "class Z:pass\n",
    "class A(X,Y):pass\n",
    "class B(Y,Z):pass\n",
    "class C(B,A,Y):pass"
   ]
  },
  {
   "cell_type": "markdown",
   "id": "f83ff06e",
   "metadata": {},
   "source": [
    "# Operator Overloading"
   ]
  },
  {
   "cell_type": "markdown",
   "id": "7ca5f8ae",
   "metadata": {},
   "source": [
    "# https://www.programiz.com/python-programming\n",
    "https://python-textbok.readthedocs.io/en/1.0/Object_Oriented_Programming.html"
   ]
  },
  {
   "cell_type": "code",
   "execution_count": 97,
   "id": "97e8c52f",
   "metadata": {},
   "outputs": [],
   "source": [
    "class Vehicle:\n",
    "    def __init__(self,make,model,fare):\n",
    "        self.make=make\n",
    "        self.model=model\n",
    "        self.fare=fare\n",
    "        \n",
    "    def __str__(self):\n",
    "        return \"The make of the car is {} and the model is of {} with a fare of {}\".format(self.make,self.model,self.fare)\n",
    "    \n",
    "    def __add__(self,other):\n",
    "        return self.fare+other.fare"
   ]
  },
  {
   "cell_type": "code",
   "execution_count": 98,
   "id": "9a4edb31",
   "metadata": {},
   "outputs": [],
   "source": [
    "myobj1=Vehicle(\"Tesla\",2019,40)\n",
    "myobj2=Vehicle(\"Ford\",2018,80)"
   ]
  },
  {
   "cell_type": "code",
   "execution_count": 99,
   "id": "8106834c",
   "metadata": {},
   "outputs": [
    {
     "name": "stdout",
     "output_type": "stream",
     "text": [
      "The make of the car is Tesla and the model is of 2019 with a fare of 40\n"
     ]
    }
   ],
   "source": [
    "print(myobj1)"
   ]
  },
  {
   "cell_type": "code",
   "execution_count": 100,
   "id": "82bc7777",
   "metadata": {},
   "outputs": [
    {
     "data": {
      "text/plain": [
       "120"
      ]
     },
     "execution_count": 100,
     "metadata": {},
     "output_type": "execute_result"
    }
   ],
   "source": [
    "myobj1+myobj2"
   ]
  }
 ],
 "metadata": {
  "kernelspec": {
   "display_name": "Python 3",
   "language": "python",
   "name": "python3"
  },
  "language_info": {
   "codemirror_mode": {
    "name": "ipython",
    "version": 3
   },
   "file_extension": ".py",
   "mimetype": "text/x-python",
   "name": "python",
   "nbconvert_exporter": "python",
   "pygments_lexer": "ipython3",
   "version": "3.8.8"
  }
 },
 "nbformat": 4,
 "nbformat_minor": 5
}
