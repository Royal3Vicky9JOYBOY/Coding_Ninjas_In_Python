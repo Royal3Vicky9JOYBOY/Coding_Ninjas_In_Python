{
 "cells": [
  {
   "cell_type": "markdown",
   "id": "2f4f58ab",
   "metadata": {},
   "source": [
    "# Time Complexity In Binary Tree Problems"
   ]
  },
  {
   "cell_type": "code",
   "execution_count": null,
   "id": "863aeca1",
   "metadata": {},
   "outputs": [],
   "source": [
    "#  def numNodes(root):\n",
    "      #BASE CASE\n",
    "# a=numnodes(root.left)                  # n*(k1+k2)->O(n)\n",
    "# b=numnodes(root.right)\n",
    "   # return 1+a+b;"
   ]
  },
  {
   "cell_type": "markdown",
   "id": "c0a724d2",
   "metadata": {},
   "source": [
    "# Remove Leaf Nodes"
   ]
  },
  {
   "cell_type": "code",
   "execution_count": null,
   "id": "d5bbf802",
   "metadata": {},
   "outputs": [],
   "source": [
    "# Base case\n",
    "# root == None\n",
    "\n",
    "# 1->None(the only case when root of the tree is changing after removing leaf nodes){return the resultent root node}\n",
    "\n",
    "# 1. Base case:\n",
    "#     root==None\n",
    "#     root is leaf (we need to remove the root itself we will return None representing the new root is nothing its an empty tree)\n",
    "# BASE CASE\n",
    "# remove((left))    {root.left=remove(root.left)}\n",
    "# remove((right))   {root.right=remove(root.right)}"
   ]
  },
  {
   "cell_type": "code",
   "execution_count": 6,
   "id": "9768b444",
   "metadata": {},
   "outputs": [],
   "source": [
    "class BinaryTreeNode:\n",
    "    def __init__(self, data):\n",
    "        self.data=data\n",
    "        self.left=None\n",
    "        self.right=None "
   ]
  },
  {
   "cell_type": "code",
   "execution_count": 7,
   "id": "07f3a2f7",
   "metadata": {},
   "outputs": [],
   "source": [
    "def printTreeDetailed(root):   \n",
    "    if root == None:\n",
    "        return                   \n",
    "    print(root.data, end=\":\") \n",
    "    if root.left != None:\n",
    "        print(\"L\", root.left.data,end=\",\")\n",
    "    if root.right != None:\n",
    "        print(\"R\", root.right.data,end=\" \")\n",
    "    print()\n",
    "    printTreeDetailed(root.left)         \n",
    "    printTreeDetailed(root.right)"
   ]
  },
  {
   "cell_type": "code",
   "execution_count": 8,
   "id": "f7f39056",
   "metadata": {},
   "outputs": [],
   "source": [
    "def treeInput():\n",
    "    rootData=int(input())\n",
    "    if rootData == -1:\n",
    "        return None\n",
    "    \n",
    "    root=BinaryTreeNode(rootData)\n",
    "    leftTree=treeInput()\n",
    "    rightTree=treeInput()\n",
    "    root.left=leftTree\n",
    "    root.right=rightTree\n",
    "    return root"
   ]
  },
  {
   "cell_type": "code",
   "execution_count": 9,
   "id": "c1237e95",
   "metadata": {},
   "outputs": [],
   "source": [
    "def removeLeaves(root):\n",
    "    if root==None:\n",
    "        return None\n",
    "    if root.left==None and root.right==None:\n",
    "        return None\n",
    "    removeLeaves(root.left)\n",
    "    removeLeaves(root.right)"
   ]
  },
  {
   "cell_type": "code",
   "execution_count": 10,
   "id": "d0074e46",
   "metadata": {},
   "outputs": [
    {
     "name": "stdout",
     "output_type": "stream",
     "text": [
      "1\n",
      "2\n",
      "-1\n",
      "-1\n",
      "3\n",
      "-1\n",
      "-1\n",
      "1:L 2,R 3 \n",
      "2:\n",
      "3:\n",
      "1:L 2,R 3 \n",
      "2:\n",
      "3:\n"
     ]
    }
   ],
   "source": [
    "root = treeInput()\n",
    "printTreeDetailed(root)\n",
    "removeLeaves(root)\n",
    "printTreeDetailed(root)"
   ]
  },
  {
   "cell_type": "markdown",
   "id": "9950abfe",
   "metadata": {},
   "source": [
    "                            1\n",
    "                           / \\\n",
    "                          2   3"
   ]
  },
  {
   "cell_type": "code",
   "execution_count": 11,
   "id": "8a2de583",
   "metadata": {},
   "outputs": [],
   "source": [
    "def removeLeaves(root):\n",
    "    if root==None:\n",
    "        return None\n",
    "    if root.left==None and root.right==None:\n",
    "        return None\n",
    "    root.left=removeLeaves(root.left)\n",
    "    root.right=removeLeaves(root.right)\n",
    "    return root"
   ]
  },
  {
   "cell_type": "code",
   "execution_count": 13,
   "id": "ddcc90f8",
   "metadata": {},
   "outputs": [
    {
     "name": "stdout",
     "output_type": "stream",
     "text": [
      "1\n",
      "2\n",
      "-1\n",
      "-1\n",
      "3\n",
      "-1\n",
      "-1\n",
      "1:L 2,R 3 \n",
      "2:\n",
      "3:\n",
      "1:\n"
     ]
    }
   ],
   "source": [
    "root = treeInput()\n",
    "printTreeDetailed(root)\n",
    "root=removeLeaves(root)\n",
    "printTreeDetailed(root)"
   ]
  },
  {
   "cell_type": "code",
   "execution_count": 14,
   "id": "47d029b8",
   "metadata": {},
   "outputs": [
    {
     "name": "stdout",
     "output_type": "stream",
     "text": [
      "1\n",
      "2\n",
      "4\n",
      "-1\n",
      "-1\n",
      "5\n",
      "8\n",
      "-1\n",
      "-1\n",
      "9\n",
      "-1\n",
      "-1\n",
      "3\n",
      "6\n",
      "-1\n",
      "-1\n",
      "7\n",
      "-1\n",
      "-1\n",
      "1:L 2,R 3 \n",
      "2:L 4,R 5 \n",
      "4:\n",
      "5:L 8,R 9 \n",
      "8:\n",
      "9:\n",
      "3:L 6,R 7 \n",
      "6:\n",
      "7:\n",
      "1:L 2,R 3 \n",
      "2:R 5 \n",
      "5:\n",
      "3:\n"
     ]
    }
   ],
   "source": [
    "root = treeInput()\n",
    "printTreeDetailed(root)\n",
    "root=removeLeaves(root)\n",
    "printTreeDetailed(root)"
   ]
  },
  {
   "cell_type": "markdown",
   "id": "a1098b71",
   "metadata": {},
   "source": [
    "                        1\n",
    "                       / \\\n",
    "                      2   3\n",
    "                     / \\ / \\\n",
    "                    4  5 6  7\n",
    "                      / \\ \n",
    "                     8   9"
   ]
  },
  {
   "cell_type": "markdown",
   "id": "171d27d1",
   "metadata": {},
   "source": [
    "                         1\n",
    "                        / \\\n",
    "                       2   3\n",
    "                        \\\n",
    "                         5"
   ]
  },
  {
   "cell_type": "markdown",
   "id": "32c76f29",
   "metadata": {},
   "source": [
    "# Check If Binary Tree Is Balanced? "
   ]
  },
  {
   "cell_type": "code",
   "execution_count": null,
   "id": "115d587e",
   "metadata": {},
   "outputs": [],
   "source": [
    "# Balanced or not\n",
    "# Balanced-->each node in our tree that nodes left and right subtree should not have height difference more than one."
   ]
  },
  {
   "cell_type": "code",
   "execution_count": 35,
   "id": "e43170e3",
   "metadata": {},
   "outputs": [],
   "source": [
    "class BinaryTreeNode:\n",
    "    def __init__(self, data):\n",
    "        self.data=data\n",
    "        self.left=None\n",
    "        self.right=None "
   ]
  },
  {
   "cell_type": "code",
   "execution_count": 36,
   "id": "7012a926",
   "metadata": {},
   "outputs": [],
   "source": [
    "def printTreeDetailed(root):   \n",
    "    if root == None:\n",
    "        return                   \n",
    "    print(root.data, end=\":\") \n",
    "    if root.left != None:\n",
    "        print(\"L\", root.left.data,end=\",\")\n",
    "    if root.right != None:\n",
    "        print(\"R\", root.right.data,end=\" \")\n",
    "    print()\n",
    "    printTreeDetailed(root.left)         \n",
    "    printTreeDetailed(root.right)"
   ]
  },
  {
   "cell_type": "code",
   "execution_count": 37,
   "id": "0ffea580",
   "metadata": {},
   "outputs": [],
   "source": [
    "def treeInput():\n",
    "    rootData=int(input())\n",
    "    if rootData == -1:\n",
    "        return None\n",
    "    \n",
    "    root=BinaryTreeNode(rootData)\n",
    "    leftTree=treeInput()\n",
    "    rightTree=treeInput()\n",
    "    root.left=leftTree\n",
    "    root.right=rightTree\n",
    "    return root"
   ]
  },
  {
   "cell_type": "code",
   "execution_count": 38,
   "id": "6fbe1031",
   "metadata": {},
   "outputs": [],
   "source": [
    "def height(root):\n",
    "    if root==None:\n",
    "        return 0\n",
    "    return 1+max(height(root.left),height(root.right))"
   ]
  },
  {
   "cell_type": "code",
   "execution_count": 39,
   "id": "55f35c77",
   "metadata": {},
   "outputs": [],
   "source": [
    "def isBalanced(root):\n",
    "    if root == None:\n",
    "        return True\n",
    "    lh=height(root.left)\n",
    "    rh=height(root.right)\n",
    "    if lh-rh>1 or rh-lh>1:\n",
    "        return False\n",
    "    isLeftBalanced=isBalanced(root.left)\n",
    "    isRightBalanced=isBalanced(root.right)\n",
    "    if isLeftBalanced and isRightBalanced:\n",
    "        return True\n",
    "    else:\n",
    "        return False\n"
   ]
  },
  {
   "cell_type": "code",
   "execution_count": 40,
   "id": "e30ba60a",
   "metadata": {},
   "outputs": [
    {
     "name": "stdout",
     "output_type": "stream",
     "text": [
      "1\n",
      "2\n",
      "-1\n",
      "-1\n",
      "3\n",
      "-1\n",
      "-1\n",
      "1:L 2,R 3 \n",
      "2:\n",
      "3:\n",
      "True\n"
     ]
    }
   ],
   "source": [
    "root = treeInput()\n",
    "printTreeDetailed(root)\n",
    "print(isBalanced(root))"
   ]
  },
  {
   "cell_type": "markdown",
   "id": "273cafb1",
   "metadata": {},
   "source": [
    "                          1\n",
    "                         / \\\n",
    "                        2   3"
   ]
  },
  {
   "cell_type": "code",
   "execution_count": 41,
   "id": "c79e4489",
   "metadata": {},
   "outputs": [
    {
     "name": "stdout",
     "output_type": "stream",
     "text": [
      "1\n",
      "2\n",
      "4\n",
      "6\n",
      "-1\n",
      "-1\n",
      "-1\n",
      "-1\n",
      "3\n",
      "-1\n",
      "5\n",
      "-1\n",
      "-1\n",
      "1:L 2,R 3 \n",
      "2:L 4,\n",
      "4:L 6,\n",
      "6:\n",
      "3:R 5 \n",
      "5:\n",
      "False\n"
     ]
    }
   ],
   "source": [
    "root = treeInput()\n",
    "printTreeDetailed(root)\n",
    "print(isBalanced(root))"
   ]
  },
  {
   "cell_type": "markdown",
   "id": "bf6286e5",
   "metadata": {},
   "source": [
    "                                  1\n",
    "                                 / \\\n",
    "                                2   3\n",
    "                               /     \\\n",
    "                              4       5\n",
    "                             /\n",
    "                            6"
   ]
  },
  {
   "cell_type": "markdown",
   "id": "53f8180d",
   "metadata": {},
   "source": [
    "# Time Complexity Of Balanced Binary Tree"
   ]
  },
  {
   "cell_type": "markdown",
   "id": "c5806dc7",
   "metadata": {},
   "source": [
    "                          O\n",
    "                         / \\\n",
    "                        O   O\n",
    "                       / \\ / \\\n",
    "                      O  O O  O\n",
    "                     /\\ /\\ /\\ /\\\n",
    "                    O O O OO OO O\n",
    "                    \n",
    "                   \n",
    "                   \n",
    "    \n",
    "T(n)=kn+2T(n/2)\n",
    "\n",
    "  O(nlogn)\n",
    "  \n",
    " h=logn"
   ]
  },
  {
   "cell_type": "markdown",
   "id": "46043031",
   "metadata": {},
   "source": [
    "                     O\n",
    "                      \\\n",
    "                       O\n",
    "                        \\\n",
    "                         O\n",
    "                          \\\n",
    "                           O \n",
    "                            \\\n",
    "                             O\n",
    "                              \\\n",
    "                               O\n",
    "                                \\ \n",
    "                                 O\n",
    "                                 \n",
    "                                 \n",
    "  O(nsquare)\n",
    "\n",
    "T(n)=kn+T(n-1)\n",
    "\n",
    "h=n"
   ]
  },
  {
   "cell_type": "markdown",
   "id": "29824544",
   "metadata": {},
   "source": [
    "O(n h)"
   ]
  },
  {
   "cell_type": "markdown",
   "id": "97b01a6e",
   "metadata": {},
   "source": [
    "# Check Balanced - Improved"
   ]
  },
  {
   "cell_type": "code",
   "execution_count": 42,
   "id": "c4547204",
   "metadata": {},
   "outputs": [],
   "source": [
    "# 1.Traverse left subtree completely for height\n",
    "# 2.had to call height for 4 & 5 when you asked 2 for its height"
   ]
  },
  {
   "cell_type": "markdown",
   "id": "8260affa",
   "metadata": {},
   "source": [
    "                         1\n",
    "                        / \\\n",
    "                       2   O\n",
    "                      / \\ / \\\n",
    "                     4  5 O  6\n",
    "                    / \\  / \\\n",
    "                   O   O O  O"
   ]
  },
  {
   "cell_type": "code",
   "execution_count": null,
   "id": "243de924",
   "metadata": {},
   "outputs": [],
   "source": [
    "# 2. check if you are balanced\n",
    "# * find height of 4 and height of 5"
   ]
  },
  {
   "cell_type": "code",
   "execution_count": null,
   "id": "e800c5c9",
   "metadata": {},
   "outputs": [],
   "source": [
    "# BASE CASE\n",
    "# root == None\n",
    "# height = 0\n",
    "# balance = True\n",
    "# return 0/True\n",
    "\n",
    "# lh is left balanced \n",
    "# rh is right balanced\n",
    "\n",
    "# h=1+max(lh;rh)\n",
    "# isbalance "
   ]
  },
  {
   "cell_type": "code",
   "execution_count": 27,
   "id": "c86e1311",
   "metadata": {},
   "outputs": [],
   "source": [
    "class BinaryTreeNode:\n",
    "    def __init__(self, data):\n",
    "        self.data=data\n",
    "        self.left=None\n",
    "        self.right=None "
   ]
  },
  {
   "cell_type": "code",
   "execution_count": 28,
   "id": "60e678dd",
   "metadata": {},
   "outputs": [],
   "source": [
    "def printTreeDetailed(root):   \n",
    "    if root == None:\n",
    "        return                   \n",
    "    print(root.data, end=\":\") \n",
    "    if root.left != None:\n",
    "        print(\"L\", root.left.data,end=\",\")\n",
    "    if root.right != None:\n",
    "        print(\"R\", root.right.data,end=\" \")\n",
    "    print()\n",
    "    printTreeDetailed(root.left)         \n",
    "    printTreeDetailed(root.right)"
   ]
  },
  {
   "cell_type": "code",
   "execution_count": 29,
   "id": "0383b271",
   "metadata": {},
   "outputs": [],
   "source": [
    "def treeInput():\n",
    "    rootData=int(input())\n",
    "    if rootData == -1:\n",
    "        return None\n",
    "    \n",
    "    root=BinaryTreeNode(rootData)\n",
    "    leftTree=treeInput()\n",
    "    rightTree=treeInput()\n",
    "    root.left=leftTree\n",
    "    root.right=rightTree\n",
    "    return root"
   ]
  },
  {
   "cell_type": "code",
   "execution_count": 30,
   "id": "f8e867b5",
   "metadata": {},
   "outputs": [],
   "source": [
    "def height(root):\n",
    "    if root==None:\n",
    "        return 0\n",
    "    return 1+max(height(root.left),height(root.right))"
   ]
  },
  {
   "cell_type": "code",
   "execution_count": 31,
   "id": "3ad550d0",
   "metadata": {},
   "outputs": [],
   "source": [
    "def isBalanced(root):\n",
    "    if root == None:\n",
    "        return True\n",
    "    lh=height(root.left)\n",
    "    rh=height(root.right)\n",
    "    if lh-rh>1 or rh-lh>1:\n",
    "        return False\n",
    "    isLeftBalanced=isBalanced(root.left)\n",
    "    isRightBalanced=isBalanced(root.right)\n",
    "    if isLeftBalanced and isRightBalanced:\n",
    "        return True\n",
    "    else:\n",
    "        return False"
   ]
  },
  {
   "cell_type": "code",
   "execution_count": 32,
   "id": "aa012227",
   "metadata": {},
   "outputs": [],
   "source": [
    "def getHeightAndCheckBalanced(root):\n",
    "    if root == None:\n",
    "        return 0, True\n",
    "    lh, isLeftBalanced=getHeightAndCheckBalanced(root.left)\n",
    "    rh, isRightBalanced=getHeightAndCheckBalanced(root.right)\n",
    "    \n",
    "    h=1+max(lh,rh)\n",
    "    if lh-rh>1 or rh-lh>1:\n",
    "        return h, False\n",
    "    \n",
    "    if isLeftBalanced and isRightBalanced:\n",
    "        return h, True\n",
    "    else:\n",
    "        return h, False\n",
    "    \n",
    "    "
   ]
  },
  {
   "cell_type": "code",
   "execution_count": null,
   "id": "eb22f721",
   "metadata": {},
   "outputs": [],
   "source": [
    "def isBalanced2(root):\n",
    "    h, isRotBalanced=getHeightAndCheckBalanced(root)\n",
    "    return isRotBalanced"
   ]
  },
  {
   "cell_type": "code",
   "execution_count": 33,
   "id": "4ea6c587",
   "metadata": {},
   "outputs": [
    {
     "name": "stdout",
     "output_type": "stream",
     "text": [
      "1\n",
      "2\n",
      "4\n",
      "5\n",
      "-1\n",
      "-1\n",
      "-1\n",
      "-1\n",
      "3\n",
      "-1\n",
      "6\n",
      "-1\n",
      "-1\n",
      "1:L 2,R 3 \n",
      "2:L 4,\n",
      "4:L 5,\n",
      "5:\n",
      "3:R 6 \n",
      "6:\n",
      "(4, False)\n"
     ]
    }
   ],
   "source": [
    "root = treeInput()\n",
    "printTreeDetailed(root)\n",
    "print(getHeightAndCheckBalanced(root))"
   ]
  },
  {
   "cell_type": "markdown",
   "id": "b91b5be7",
   "metadata": {},
   "source": [
    "                              1\n",
    "                             / \\\n",
    "                            2   3\n",
    "                           /     \\\n",
    "                          4       6\n",
    "                         /\n",
    "                        5\n",
    "                        \n",
    "                        \n",
    "                        \n",
    "height = 4\n",
    "\n",
    "balanced = false"
   ]
  },
  {
   "cell_type": "markdown",
   "id": "bf5c6d35",
   "metadata": {},
   "source": [
    "# Diameter Of Binary Tree"
   ]
  },
  {
   "cell_type": "markdown",
   "id": "6cc0cd7b",
   "metadata": {},
   "source": [
    "# Levelwise Input Binary Tree"
   ]
  },
  {
   "cell_type": "code",
   "execution_count": null,
   "id": "78e4d752",
   "metadata": {},
   "outputs": [],
   "source": [
    "# 1. take root input\n",
    "# 2. add it to the queue\n",
    "# 3. while queue is not empty \n",
    "# *take the front of queue -->a\n",
    "# * ask for its children\n",
    "# if valid children attach them to a & add them to queue"
   ]
  },
  {
   "cell_type": "code",
   "execution_count": 5,
   "id": "572eff79",
   "metadata": {},
   "outputs": [],
   "source": [
    "class BinaryTreeNode:\n",
    "    def __init__(self, data):\n",
    "        self.data=data\n",
    "        self.left=None\n",
    "        self.right=None "
   ]
  },
  {
   "cell_type": "code",
   "execution_count": 6,
   "id": "441d5e8a",
   "metadata": {},
   "outputs": [],
   "source": [
    "def printTreeDetailed(root):   \n",
    "    if root == None:\n",
    "        return                   \n",
    "    print(root.data, end=\":\") \n",
    "    if root.left != None:\n",
    "        print(\"L\", root.left.data,end=\",\")\n",
    "    if root.right != None:\n",
    "        print(\"R\", root.right.data,end=\" \")\n",
    "    print()\n",
    "    printTreeDetailed(root.left)         \n",
    "    printTreeDetailed(root.right)"
   ]
  },
  {
   "cell_type": "code",
   "execution_count": 10,
   "id": "77ab4bde",
   "metadata": {},
   "outputs": [],
   "source": [
    "import queue\n",
    "def takeLevelWiseTreeInput():\n",
    "    q=queue.Queue()\n",
    "    print(\"Enter root\")\n",
    "    rootData=int(input())\n",
    "    if(rootData==-1):\n",
    "        return None\n",
    "    root=BinaryTreeNode(rootData)\n",
    "    q.put(root)\n",
    "    while(not(q.empty())):\n",
    "        current_node=q.get()\n",
    "        print(\"Enter left child of\",current_node.data)\n",
    "        leftChildData=int(input())\n",
    "        if leftChildData !=-1:\n",
    "            leftChild=BinaryTreeNode(leftChildData)\n",
    "            current_node.left=leftChild\n",
    "            q.put(leftChild)\n",
    "            \n",
    "        print(\"Enter right child of\",current_node.data)\n",
    "        rightChildData=int(input())\n",
    "        if rightChildData !=-1:\n",
    "            rightChild=BinaryTreeNode(rightChildData)\n",
    "            current_node.right=rightChild\n",
    "            q.put(rightChild)\n",
    "            \n",
    "    return root\n",
    "    \n",
    "    "
   ]
  },
  {
   "cell_type": "code",
   "execution_count": 11,
   "id": "aa1e904a",
   "metadata": {
    "scrolled": true
   },
   "outputs": [
    {
     "name": "stdout",
     "output_type": "stream",
     "text": [
      "Enter root\n",
      "1\n",
      "Enter left child of 1\n",
      "2\n",
      "Enter right child of 1\n",
      "3\n",
      "Enter left child of 2\n",
      "-1\n",
      "Enter right child of 2\n",
      "-1\n",
      "Enter left child of 3\n",
      "-1\n",
      "Enter right child of 3\n",
      "-1\n",
      "1:L 2,R 3 \n",
      "2:\n",
      "3:\n"
     ]
    }
   ],
   "source": [
    "root=takeLevelWiseTreeInput()\n",
    "printTreeDetailed(root)"
   ]
  },
  {
   "cell_type": "code",
   "execution_count": 13,
   "id": "edf2d830",
   "metadata": {
    "scrolled": true
   },
   "outputs": [
    {
     "name": "stdout",
     "output_type": "stream",
     "text": [
      "Enter root\n",
      "1\n",
      "Enter left child of 1\n",
      "2\n",
      "Enter right child of 1\n",
      "3\n",
      "Enter left child of 2\n",
      "4\n",
      "Enter right child of 2\n",
      "5\n",
      "Enter left child of 3\n",
      "6\n",
      "Enter right child of 3\n",
      "7\n",
      "Enter left child of 4\n",
      "-1\n",
      "Enter right child of 4\n",
      "8\n",
      "Enter left child of 5\n",
      "-1\n",
      "Enter right child of 5\n",
      "-1\n",
      "Enter left child of 6\n",
      "-1\n",
      "Enter right child of 6\n",
      "-1\n",
      "Enter left child of 7\n",
      "-1\n",
      "Enter right child of 7\n",
      "-1\n",
      "Enter left child of 8\n",
      "-1\n",
      "Enter right child of 8\n",
      "-1\n",
      "1:L 2,R 3 \n",
      "2:L 4,R 5 \n",
      "4:R 8 \n",
      "8:\n",
      "5:\n",
      "3:L 6,R 7 \n",
      "6:\n",
      "7:\n"
     ]
    }
   ],
   "source": [
    "root=takeLevelWiseTreeInput()\n",
    "printTreeDetailed(root)"
   ]
  },
  {
   "cell_type": "markdown",
   "id": "ac444320",
   "metadata": {},
   "source": [
    "# Print Levelwise Binary Tree"
   ]
  },
  {
   "cell_type": "code",
   "execution_count": null,
   "id": "4ec4588d",
   "metadata": {},
   "outputs": [],
   "source": [
    "# 1. add root to the queue\n",
    "# 2. while queue is not empty \n",
    "   #   take out first node --> a\n",
    "    #  print for a\n",
    "    # check a\"s children\n",
    "     # if they are not none add them to queue"
   ]
  },
  {
   "cell_type": "markdown",
   "id": "9f04c238",
   "metadata": {},
   "source": [
    "# Build Tree Using Inorder And Preorder"
   ]
  },
  {
   "cell_type": "code",
   "execution_count": null,
   "id": "b698e362",
   "metadata": {},
   "outputs": [],
   "source": [
    " # 1. find the root\n",
    " # 2. find inorder of both left/right subtree\n",
    " # 3. find preorder of both left/right subtree\n",
    " # 4. use recursion to build left/right subtree\n",
    " # 5. root with both"
   ]
  },
  {
   "cell_type": "code",
   "execution_count": null,
   "id": "aef87435",
   "metadata": {},
   "outputs": [],
   "source": [
    "# pre ( root left right)\n",
    "# in  ( left root right)"
   ]
  },
  {
   "cell_type": "markdown",
   "id": "d693e4f3",
   "metadata": {},
   "source": [
    "# Inorder Prorder Postorder\n",
    "\n",
    "The inorder and preorder traversal of a binary tree are\n",
    "\n",
    "   Inorder:   d b e a p q r\n",
    "   \n",
    "   PreOrder:  a b d e q p r \n",
    "   \n",
    "The postorder traversal of the binary tree is: d e b p r q a"
   ]
  },
  {
   "cell_type": "markdown",
   "id": "7325b9c9",
   "metadata": {},
   "source": [
    "# Build Tree From Inorder And Preorder - Code"
   ]
  },
  {
   "cell_type": "code",
   "execution_count": 7,
   "id": "66bb6cd4",
   "metadata": {},
   "outputs": [],
   "source": [
    "class BinaryTreeNode:\n",
    "    def __init__(self, data):\n",
    "        self.data=data\n",
    "        self.left=None\n",
    "        self.right=None "
   ]
  },
  {
   "cell_type": "code",
   "execution_count": 8,
   "id": "1cd69562",
   "metadata": {},
   "outputs": [],
   "source": [
    "def printTree(root):\n",
    "    if root == None:\n",
    "        return\n",
    "    print(root.data)\n",
    "    printTree(root.left)\n",
    "    printTree(root.right)"
   ]
  },
  {
   "cell_type": "code",
   "execution_count": 9,
   "id": "c23958fb",
   "metadata": {},
   "outputs": [],
   "source": [
    "def printTreeDetailed(root):   \n",
    "    if root == None:\n",
    "        return                   \n",
    "    print(root.data, end=\":\") \n",
    "    if root.left != None:\n",
    "        print(\"L\", root.left.data,end=\",\")\n",
    "    if root.right != None:\n",
    "        print(\"R\", root.right.data,end=\" \")\n",
    "    print()\n",
    "    printTreeDetailed(root.left)         \n",
    "    printTreeDetailed(root.right)"
   ]
  },
  {
   "cell_type": "code",
   "execution_count": 12,
   "id": "6ff37882",
   "metadata": {},
   "outputs": [],
   "source": [
    "def buildTreeFromPreIn(pre, inorder):\n",
    "    if len(pre)==0:\n",
    "        return None\n",
    "    \n",
    "    rootData=pre[0]\n",
    "    root=BinaryTreeNode(rootData)\n",
    "    rootIndexInInorder=-1\n",
    "    for i in range(0,len(inorder)):\n",
    "        if inorder[i]==rootData:\n",
    "            rootIndexInInorder=i\n",
    "            break\n",
    "    if rootIndexInInorder == -1:\n",
    "        return None\n",
    "\n",
    "    leftInorder=inorder[0:rootIndexInInorder]\n",
    "    rightInorder=inorder[rootIndexInInorder+1:]\n",
    "    \n",
    "    lenLeftSubtree=len(leftInorder)\n",
    "    \n",
    "    leftPreorder=pre[1:lenLeftSubtree +1]\n",
    "    rightPreorder=pre[lenLeftSubtree +1:]\n",
    "    \n",
    "    leftChild=buildTreeFromPreIn(leftPreorder,leftInorder)\n",
    "    rightChild=buildTreeFromPreIn(rightPreorder,rightInorder)\n",
    "    \n",
    "    root.left=leftChild\n",
    "    root.right=rightChild\n",
    "    return root"
   ]
  },
  {
   "cell_type": "code",
   "execution_count": 13,
   "id": "59ed3155",
   "metadata": {},
   "outputs": [
    {
     "name": "stdout",
     "output_type": "stream",
     "text": [
      "1:L 2,R 3 \n",
      "2:L 4,R 5 \n",
      "4:\n",
      "5:\n",
      "3:L 6,R 7 \n",
      "6:\n",
      "7:\n"
     ]
    }
   ],
   "source": [
    "pre=[1,2,4,5,3,6,7]\n",
    "inorder=[4,2,5,1,6,3,7]\n",
    "root= buildTreeFromPreIn(pre, inorder)\n",
    "printTreeDetailed(root)"
   ]
  },
  {
   "cell_type": "markdown",
   "id": "f3838d78",
   "metadata": {},
   "source": [
    "                           1\n",
    "                          / \\\n",
    "                         2   3\n",
    "                        / \\ / \\\n",
    "                       4  5 6  7\n",
    "                    "
   ]
  }
 ],
 "metadata": {
  "kernelspec": {
   "display_name": "Python 3",
   "language": "python",
   "name": "python3"
  },
  "language_info": {
   "codemirror_mode": {
    "name": "ipython",
    "version": 3
   },
   "file_extension": ".py",
   "mimetype": "text/x-python",
   "name": "python",
   "nbconvert_exporter": "python",
   "pygments_lexer": "ipython3",
   "version": "3.8.8"
  }
 },
 "nbformat": 4,
 "nbformat_minor": 5
}
