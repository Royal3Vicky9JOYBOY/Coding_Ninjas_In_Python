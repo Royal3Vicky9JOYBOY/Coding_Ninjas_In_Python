{
 "cells": [
  {
   "cell_type": "markdown",
   "id": "587dc40e",
   "metadata": {},
   "source": [
    "# Return Keypad\n",
    "Send Feedback\n",
    "Given an integer n, using phone keypad find out and return all the possible strings that can be made using digits of input n.\n",
    "Note : The order of strings are not important.\n",
    "Input Format :\n",
    "Integer n\n",
    "Output Format :\n",
    "All possible strings in different lines\n",
    "Constraints :\n",
    "1 <= n <= 10^6\n",
    "Sample Input:\n",
    "23\n",
    "Sample Output:\n",
    "ad\n",
    "ae\n",
    "af\n",
    "bd\n",
    "be\n",
    "bf\n",
    "cd\n",
    "ce\n",
    "cf"
   ]
  },
  {
   "cell_type": "code",
   "execution_count": 1,
   "id": "89f495d5",
   "metadata": {},
   "outputs": [
    {
     "name": "stdout",
     "output_type": "stream",
     "text": [
      "33\n",
      "dd\n",
      "de\n",
      "df\n",
      "ed\n",
      "ee\n",
      "ef\n",
      "fd\n",
      "fe\n",
      "ff\n"
     ]
    }
   ],
   "source": [
    "def getstring(d):\n",
    "    if d==2:\n",
    "        return \"abc\"\n",
    "    if d==3:\n",
    "        return \"def\"\n",
    "    if d==4:\n",
    "        return \"ghi\"\n",
    "    if d==5:\n",
    "        return \"jkl\"\n",
    "    if d==6:\n",
    "        return \"mno\"\n",
    "    if d==7:\n",
    "        return \"pqrs\"\n",
    "    if d==8:\n",
    "        return \"tuv\"\n",
    "    if d==9:\n",
    "        return \"wxyz\"\n",
    "    return \"\" \n",
    "def keypad(n):\n",
    "    #Implement Your Code Here\n",
    "    if n==0:\n",
    "        output=[]\n",
    "        output.append(\"\")\n",
    "        return output\n",
    "    \n",
    "    smallnumber=n//10\n",
    "    lastdigit=n%10\n",
    "    \n",
    "    smalleroutput=keypad(smallnumber)\n",
    "    lastoption=getstring(lastdigit)\n",
    "    \n",
    "    output=[]\n",
    "    \n",
    "    for s in smalleroutput:\n",
    "        for c in lastoption:\n",
    "            option= s + c\n",
    "            output.append(option)\n",
    "    return output\n",
    "    pass\n",
    "\n",
    "n = int(input())\n",
    "ans = keypad(n)\n",
    "for s in ans:\n",
    "    print(s)"
   ]
  }
 ],
 "metadata": {
  "kernelspec": {
   "display_name": "Python 3",
   "language": "python",
   "name": "python3"
  },
  "language_info": {
   "codemirror_mode": {
    "name": "ipython",
    "version": 3
   },
   "file_extension": ".py",
   "mimetype": "text/x-python",
   "name": "python",
   "nbconvert_exporter": "python",
   "pygments_lexer": "ipython3",
   "version": "3.8.8"
  }
 },
 "nbformat": 4,
 "nbformat_minor": 5
}
