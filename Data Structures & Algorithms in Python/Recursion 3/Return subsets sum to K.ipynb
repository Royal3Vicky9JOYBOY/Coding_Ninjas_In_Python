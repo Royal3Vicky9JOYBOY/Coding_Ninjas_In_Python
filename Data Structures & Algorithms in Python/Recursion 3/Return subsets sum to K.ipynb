{
 "cells": [
  {
   "cell_type": "markdown",
   "id": "c522192a",
   "metadata": {},
   "source": [
    "# Return subsets sum to K\n",
    "Send Feedback\n",
    "Given an array A of size n and an integer K, return all subsets of A which sum to K.\n",
    "Subsets are of length varying from 0 to n, that contain elements of the array. But the order of elements should remain same as in the input array.\n",
    "Note : The order of subsets are not important.\n",
    "Input format :\n",
    "Line 1 : Integer n, Size of input array\n",
    "Line 2 : Array elements separated by space\n",
    "Line 3 : K \n",
    "Constraints :\n",
    "1 <= n <= 20\n",
    "Sample Input :\n",
    "9 \n",
    "5 12 3 17 1 18 15 3 17 \n",
    "6\n",
    "Sample Output :\n",
    "3 3\n",
    "5 1"
   ]
  },
  {
   "cell_type": "code",
   "execution_count": 1,
   "id": "7b93070e",
   "metadata": {},
   "outputs": [
    {
     "name": "stdout",
     "output_type": "stream",
     "text": [
      "9\n",
      "5 12 3 17 1 18 15 3 17\n",
      "6\n",
      "5 1 \n",
      "3 3 \n"
     ]
    }
   ],
   "source": [
    "import sys\n",
    "sys.setrecursionlimit(10 ** 8)\n",
    "\n",
    "\n",
    "def subsetsSumK(arr, k):\n",
    "    if len(arr) == 0:\n",
    "        if k == 0:\n",
    "            return [[]]\n",
    "        else:\n",
    "            return []\n",
    "\n",
    "    output = []\n",
    "    if arr[0] <= k:\n",
    "        smallOutput = subsetsSumK(arr[1:], k-arr[0])\n",
    "        if len(smallOutput) > 0:\n",
    "            for i in range(len(smallOutput)):\n",
    "                smallOutput[i].insert(0, arr[0])\n",
    "                output.append(smallOutput[i])\n",
    "\n",
    "    smallOutput = subsetsSumK(arr[1:], k)\n",
    "    if len(smallOutput) > 0:\n",
    "        for i in range(len(smallOutput)):\n",
    "            output.append(smallOutput[i])\n",
    "    return output\n",
    "\n",
    "\n",
    "def takeInput():\n",
    "    n = int(input().strip())\n",
    "\n",
    "    if n == 0:\n",
    "        return list(), 0\n",
    "\n",
    "    arr = [int(element) for element in list(input().strip().split(\" \"))]\n",
    "    return arr, n\n",
    "\n",
    "\n",
    "#printing the list of lists\n",
    "def printListOfList(liOfLi):\n",
    "    for li in liOfLi:\n",
    "        for elem in li:\n",
    "            print(elem, end=\" \")\n",
    "        print()\n",
    "\n",
    "\n",
    "#main\n",
    "arr, n = takeInput()\n",
    "\n",
    "if n != 0:\n",
    "    k = int(input().strip())\n",
    "    liOfLi = subsetsSumK(arr, k)\n",
    "\n",
    "    printListOfList(liOfLi)\n",
    "\n",
    "\n",
    "\n",
    "\n",
    "\n",
    "\n",
    "\n",
    "\n",
    "\n",
    "\n",
    "\n",
    "\n",
    "\n",
    "\n",
    "\n"
   ]
  }
 ],
 "metadata": {
  "kernelspec": {
   "display_name": "Python 3",
   "language": "python",
   "name": "python3"
  },
  "language_info": {
   "codemirror_mode": {
    "name": "ipython",
    "version": 3
   },
   "file_extension": ".py",
   "mimetype": "text/x-python",
   "name": "python",
   "nbconvert_exporter": "python",
   "pygments_lexer": "ipython3",
   "version": "3.8.8"
  }
 },
 "nbformat": 4,
 "nbformat_minor": 5
}
