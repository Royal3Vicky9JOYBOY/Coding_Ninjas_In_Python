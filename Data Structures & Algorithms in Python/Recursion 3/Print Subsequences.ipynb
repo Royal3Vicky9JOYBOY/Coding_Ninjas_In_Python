{
 "cells": [
  {
   "cell_type": "markdown",
   "id": "ba4b3b20",
   "metadata": {},
   "source": [
    "# Print Subsequences\n",
    "Send Feedback\n",
    "Given a string (lets say of length n), print all the subsequences of the given string.\n",
    "Subsequences contain all the strings of length varying from 0 to n. But the order of characters should remain same as in the input string.\n",
    "Note :\n",
    "The order of subsequences are not important. Print every subsequence in new line.\n",
    "Input format\n",
    "The input only consists of one line which consists of a single string\n",
    "Output format\n",
    "The output consists of all subsequences of the input string where each subsequence is printed in a different line. The order of the subsequences doesn't matter\n",
    "Constraints\n",
    "1 <= |S| <= 15\n",
    "where |S| represents the length of the input string\n",
    "\n",
    "Time limit: 1 sec\n",
    "Sample Input:\n",
    "abc\n",
    "Sample Output:\n",
    "\"\" (the double quotes just signifies an empty string, don't worry about the quotes)\n",
    "c \n",
    "b \n",
    "bc \n",
    "a \n",
    "ac \n",
    "ab \n",
    "abc "
   ]
  },
  {
   "cell_type": "code",
   "execution_count": 1,
   "id": "60adcb17",
   "metadata": {},
   "outputs": [
    {
     "name": "stdout",
     "output_type": "stream",
     "text": [
      "abc\n",
      "abc\n",
      "ab\n",
      "ac\n",
      "a\n",
      "bc\n",
      "b\n",
      "c\n",
      "\n"
     ]
    }
   ],
   "source": [
    "def PrintSubSeq(s,ans=\"\"):\n",
    "    if len(s)==0:\n",
    "        print(ans)\n",
    "        return\n",
    "    \n",
    "    PrintSubSeq(s[1:],ans+s[0])\n",
    "    PrintSubSeq(s[1:],ans)\n",
    "    \n",
    "s=input()\n",
    "PrintSubSeq(s)\n"
   ]
  }
 ],
 "metadata": {
  "kernelspec": {
   "display_name": "Python 3",
   "language": "python",
   "name": "python3"
  },
  "language_info": {
   "codemirror_mode": {
    "name": "ipython",
    "version": 3
   },
   "file_extension": ".py",
   "mimetype": "text/x-python",
   "name": "python",
   "nbconvert_exporter": "python",
   "pygments_lexer": "ipython3",
   "version": "3.8.8"
  }
 },
 "nbformat": 4,
 "nbformat_minor": 5
}
