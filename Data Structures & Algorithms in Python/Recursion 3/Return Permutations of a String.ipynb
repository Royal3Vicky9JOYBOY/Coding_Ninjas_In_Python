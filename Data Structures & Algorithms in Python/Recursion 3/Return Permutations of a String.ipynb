{
 "cells": [
  {
   "cell_type": "markdown",
   "id": "e7ea4a9e",
   "metadata": {},
   "source": [
    "# Return Permutations of a String\n",
    "Send Feedback\n",
    "Given a string, find and return all the possible permutations of the input string.\n",
    "Note : The order of permutations are not important.\n",
    "Sample Input :\n",
    "abc\n",
    "Sample Output :\n",
    "abc\n",
    "acb\n",
    "bac\n",
    "bca\n",
    "cab\n",
    "cba"
   ]
  },
  {
   "cell_type": "code",
   "execution_count": 1,
   "id": "5ce64252",
   "metadata": {},
   "outputs": [
    {
     "name": "stdout",
     "output_type": "stream",
     "text": [
      "abc\n",
      "abc\n",
      "acb\n",
      "bac\n",
      "bca\n",
      "cba\n",
      "cab\n"
     ]
    }
   ],
   "source": [
    "def permutations(data, i, l):\n",
    "    \n",
    "    if i == l:\n",
    "        result.append(''.join(data))\n",
    "    for j in range(i, l):\n",
    "        data[i], data[j] = data[j], data[i]\n",
    "        permutations(data, i+1, l)\n",
    "        data[i], data[j] = data[j], data[i]\n",
    "    \n",
    "    \n",
    "    #Implement Your Code Here\n",
    "    \n",
    "\n",
    "result = []\n",
    "string = input()\n",
    "permutations(list(string), 0, len(string))\n",
    "for i in result:\n",
    "    print(i)\n",
    "\n",
    "\n",
    "\n",
    "\n",
    "\n",
    "\n"
   ]
  }
 ],
 "metadata": {
  "kernelspec": {
   "display_name": "Python 3",
   "language": "python",
   "name": "python3"
  },
  "language_info": {
   "codemirror_mode": {
    "name": "ipython",
    "version": 3
   },
   "file_extension": ".py",
   "mimetype": "text/x-python",
   "name": "python",
   "nbconvert_exporter": "python",
   "pygments_lexer": "ipython3",
   "version": "3.8.8"
  }
 },
 "nbformat": 4,
 "nbformat_minor": 5
}
