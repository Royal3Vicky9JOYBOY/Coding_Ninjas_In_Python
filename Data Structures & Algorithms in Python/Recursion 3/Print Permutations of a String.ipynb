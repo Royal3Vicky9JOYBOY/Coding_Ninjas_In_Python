{
 "cells": [
  {
   "cell_type": "markdown",
   "id": "197e019b",
   "metadata": {},
   "source": [
    "# Print Permutations of a String\n",
    "Send Feedback\n",
    "Given a string, find and print all the possible permutations of the input string.\n",
    "Note : The order of permutations are not important. Just print them in different lines.\n",
    "Sample Input :\n",
    "abc\n",
    "Sample Output :\n",
    "abc\n",
    "acb\n",
    "bac\n",
    "bca\n",
    "cab\n",
    "cba"
   ]
  },
  {
   "cell_type": "code",
   "execution_count": 1,
   "id": "d826a108",
   "metadata": {},
   "outputs": [
    {
     "name": "stdout",
     "output_type": "stream",
     "text": [
      "abc\n",
      "abc\n",
      "bac\n",
      "bca\n",
      "acb\n",
      "cab\n",
      "cba\n"
     ]
    }
   ],
   "source": [
    "from itertools import permutations\n",
    "def permutations(string):\n",
    "    #Implement Your Code Here\n",
    "    if len(string)==1:\n",
    "        return [string]\n",
    "    smalloutput = permutations(string[1:])\n",
    "    ans=[]\n",
    "    for i in range(len(smalloutput)):\n",
    "        for j in range(len(smalloutput[i])+1):\n",
    "            front = smalloutput[i][:j]\n",
    "            back = smalloutput[i][j:]\n",
    "            ans.append(front+string[0]+back)\n",
    "    return ans\n",
    "    # permList = permutations(string)\n",
    "    # for pre in list(permList):\n",
    "    #     print(' '.join(pre))\n",
    "    # pass\n",
    "\n",
    "\n",
    "string = input()\n",
    "ans = permutations(string)\n",
    "for s in ans:\n",
    "    print(s)\n",
    "\n",
    "\n",
    "\n",
    "\n",
    "\n",
    "\n"
   ]
  }
 ],
 "metadata": {
  "kernelspec": {
   "display_name": "Python 3",
   "language": "python",
   "name": "python3"
  },
  "language_info": {
   "codemirror_mode": {
    "name": "ipython",
    "version": 3
   },
   "file_extension": ".py",
   "mimetype": "text/x-python",
   "name": "python",
   "nbconvert_exporter": "python",
   "pygments_lexer": "ipython3",
   "version": "3.8.8"
  }
 },
 "nbformat": 4,
 "nbformat_minor": 5
}
