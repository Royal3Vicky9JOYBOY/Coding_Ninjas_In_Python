{
 "cells": [
  {
   "cell_type": "markdown",
   "id": "db4f45d5",
   "metadata": {},
   "source": [
    "# Print Subsets of Array\n",
    "Send Feedback\n",
    "Given an integer array (of length n), find and print all the subsets of input array.\n",
    "Subsets are of length varying from 0 to n, that contain elements of the array. But the order of elements should remain same as in the input array.\n",
    "Note : The order of subsets are not important. Just print the subsets in different lines.\n",
    "Input format :\n",
    "Line 1 : Integer n, Size of array\n",
    "Line 2 : Array elements (separated by space)\n",
    "Constraints :\n",
    "1 <= n <= 15\n",
    "Sample Input:\n",
    "3\n",
    "15 20 12\n",
    "Sample Output:\n",
    "[] (this just represents an empty array, don't worry about the square brackets)\n",
    "12 \n",
    "20 \n",
    "20 12 \n",
    "15 \n",
    "15 12 \n",
    "15 20 \n",
    "15 20 12 "
   ]
  },
  {
   "cell_type": "code",
   "execution_count": 1,
   "id": "03f75b87",
   "metadata": {},
   "outputs": [
    {
     "name": "stdout",
     "output_type": "stream",
     "text": [
      "3\n",
      "15 20 12\n",
      "\n",
      "15 \n",
      "20 \n",
      "15 20 \n",
      "12 \n",
      "15 12 \n",
      "20 12 \n",
      "15 20 12 \n"
     ]
    }
   ],
   "source": [
    "def subset(arr):\n",
    "    n=len(arr)\n",
    "    if(n<=0):\n",
    "        output = [ [] ]\n",
    "        return output\n",
    "\n",
    "    output = subset(arr[:n-1])\n",
    "    outputLen = len(output)\n",
    "    #output *= 2 This copies the reference. We need shallow copies\n",
    "    for i in range(0, outputLen):\n",
    "        output.append(output[i].copy())\n",
    "        output[outputLen+i].append(arr[n-1])\n",
    "    return output\n",
    "\n",
    "n=int(input())\n",
    "arr=list(int(i) for i in input().strip().split(' '))\n",
    "output=subset(arr)\n",
    "for lst in output:\n",
    "    for num in lst:\n",
    "        print(num, end=' ')\n",
    "    print()\n"
   ]
  }
 ],
 "metadata": {
  "kernelspec": {
   "display_name": "Python 3",
   "language": "python",
   "name": "python3"
  },
  "language_info": {
   "codemirror_mode": {
    "name": "ipython",
    "version": 3
   },
   "file_extension": ".py",
   "mimetype": "text/x-python",
   "name": "python",
   "nbconvert_exporter": "python",
   "pygments_lexer": "ipython3",
   "version": "3.8.8"
  }
 },
 "nbformat": 4,
 "nbformat_minor": 5
}
