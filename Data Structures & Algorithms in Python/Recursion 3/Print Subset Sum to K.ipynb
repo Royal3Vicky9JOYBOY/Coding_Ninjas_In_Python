{
 "cells": [
  {
   "cell_type": "markdown",
   "id": "4ce7892c",
   "metadata": {},
   "source": [
    "# Print Subset Sum to K\n",
    "Send Feedback\n",
    "Given an array A and an integer K, print all subsets of A which sum to K.\n",
    "Subsets are of length varying from 0 to n, that contain elements of the array. But the order of elements should remain same as in the input array.\n",
    "Note : The order of subsets are not important. Just print them in different lines.\n",
    "Input format :\n",
    "Line 1 : Size of input array\n",
    "Line 2 : Array elements separated by space\n",
    "Line 3 : K \n",
    "Sample Input:\n",
    "9 \n",
    "5 12 3 17 1 18 15 3 17 \n",
    "6\n",
    "Sample Output:\n",
    "3 3\n",
    "5 1"
   ]
  },
  {
   "cell_type": "code",
   "execution_count": 1,
   "id": "1ea06eec",
   "metadata": {},
   "outputs": [
    {
     "name": "stdout",
     "output_type": "stream",
     "text": [
      "9\n",
      "5 12 3 17 1 18 15 3 17\n",
      "6\n",
      "5 1\n",
      "3 3\n"
     ]
    }
   ],
   "source": [
    "import sys\n",
    "sys.setrecursionlimit(10 ** 8)\n",
    "\n",
    "\n",
    "def printsubset(arr, k ,lst):\n",
    "    n=len(arr)\n",
    "    if n==0:\n",
    "        return\n",
    "    if n==1:\n",
    "        if arr[0]==k:\n",
    "            print(k,*lst)\n",
    "            return\n",
    "    printsubset(arr[:-1], k ,lst)\n",
    "    printsubset(arr[:-1], k-arr[-1] ,[arr[-1]]+lst)\n",
    "    if arr[-1]==k:\n",
    "        print(k,*lst)\n",
    "\n",
    "def printsubsetMain(arr, k):\n",
    "     printsubset(arr,k, [])\n",
    "\n",
    "n=int(input())\n",
    "arr = [int(element) for element in list(input().strip().split(\" \"))]\n",
    "k=int(input())\n",
    "printsubsetMain(arr, k)\n"
   ]
  }
 ],
 "metadata": {
  "kernelspec": {
   "display_name": "Python 3",
   "language": "python",
   "name": "python3"
  },
  "language_info": {
   "codemirror_mode": {
    "name": "ipython",
    "version": 3
   },
   "file_extension": ".py",
   "mimetype": "text/x-python",
   "name": "python",
   "nbconvert_exporter": "python",
   "pygments_lexer": "ipython3",
   "version": "3.8.8"
  }
 },
 "nbformat": 4,
 "nbformat_minor": 5
}
