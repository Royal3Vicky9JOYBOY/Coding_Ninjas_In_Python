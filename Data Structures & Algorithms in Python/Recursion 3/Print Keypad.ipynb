{
 "cells": [
  {
   "cell_type": "markdown",
   "id": "aa783640",
   "metadata": {},
   "source": [
    "# Print Keypad\n",
    "Send Feedback\n",
    "Given an integer n, using phone keypad find out and print all the possible strings that can be made using digits of input n.\n",
    "Note : The order of strings are not important. Just print different strings in new lines.\n",
    "Input Format :\n",
    "Integer n\n",
    "Output Format :\n",
    "All possible strings in different lines\n",
    "Constraints :\n",
    "1 <= n <= 10^6\n",
    "Sample Input:\n",
    "23\n",
    "Sample Output:\n",
    "ad\n",
    "ae\n",
    "af\n",
    "bd\n",
    "be\n",
    "bf\n",
    "cd\n",
    "ce\n",
    "cf"
   ]
  },
  {
   "cell_type": "code",
   "execution_count": 1,
   "id": "dc013883",
   "metadata": {},
   "outputs": [
    {
     "name": "stdout",
     "output_type": "stream",
     "text": [
      "33\n",
      "dd\n",
      "ed\n",
      "fd\n",
      "de\n",
      "ee\n",
      "fe\n",
      "df\n",
      "ef\n",
      "ff\n"
     ]
    }
   ],
   "source": [
    "def getstring(n):\n",
    "    if n == 2 :\n",
    "        return \"abc\"\n",
    "    if n == 3:\n",
    "        return \"def\"\n",
    "    if n == 4 :\n",
    "        return \"ghi\"\n",
    "    if n == 5:\n",
    "        return \"jkl\"\n",
    "    if n == 6 :\n",
    "        return \"mno\"\n",
    "    if n == 7:\n",
    "        return \"pqrs\"\n",
    "    if n == 8 :\n",
    "        return \"tuv\"\n",
    "    if n == 9 :\n",
    "        return \"wxyz\"\n",
    "    else:\n",
    "        return \" \"\n",
    "def printKeypad(n , outputsofar):\n",
    "    if n == 0 :\n",
    "        print(outputsofar)\n",
    "        return\n",
    "    smallNumber = n //10\n",
    "    lastdigit = n % 10\n",
    "    optionforlastDigit = getstring(lastdigit)\n",
    "    for c in optionforlastDigit:\n",
    "        newOutput = c + outputsofar\n",
    "        printKeypad(smallNumber,newOutput)\n",
    "        \n",
    "n = int(input())\n",
    "printKeypad(n,\"\")"
   ]
  }
 ],
 "metadata": {
  "kernelspec": {
   "display_name": "Python 3",
   "language": "python",
   "name": "python3"
  },
  "language_info": {
   "codemirror_mode": {
    "name": "ipython",
    "version": 3
   },
   "file_extension": ".py",
   "mimetype": "text/x-python",
   "name": "python",
   "nbconvert_exporter": "python",
   "pygments_lexer": "ipython3",
   "version": "3.8.8"
  }
 },
 "nbformat": 4,
 "nbformat_minor": 5
}
