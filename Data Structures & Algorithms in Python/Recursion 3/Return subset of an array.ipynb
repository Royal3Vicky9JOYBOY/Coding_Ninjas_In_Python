{
 "cells": [
  {
   "cell_type": "markdown",
   "id": "6112d992",
   "metadata": {},
   "source": [
    "# Return subset of an array\n",
    "Send Feedback\n",
    "Given an integer array (of length n), find and return all the subsets of input array.\n",
    "Subsets are of length varying from 0 to n, that contain elements of the array. But the order of elements should remain same as in the input array.\n",
    "Note : The order of subsets are not important.\n",
    "Input format :\n",
    "\n",
    "Line 1 : Size of array\n",
    "\n",
    "Line 2 : Array elements (separated by space)\n",
    "\n",
    "Sample Input:\n",
    "3\n",
    "15 20 12\n",
    "Sample Output:\n",
    "[] (this just represents an empty array, don't worry about the square brackets)\n",
    "12 \n",
    "20 \n",
    "20 12 \n",
    "15 \n",
    "15 12 \n",
    "15 20 \n",
    "15 20 12 "
   ]
  },
  {
   "cell_type": "code",
   "execution_count": 1,
   "id": "0b652519",
   "metadata": {},
   "outputs": [
    {
     "name": "stdout",
     "output_type": "stream",
     "text": [
      "3\n",
      "15 20 12\n",
      "\n",
      "12 \n",
      "20 \n",
      "20 12 \n",
      "15 \n",
      "15 12 \n",
      "15 20 \n",
      "15 20 12 \n"
     ]
    }
   ],
   "source": [
    "def subsets(arr):\n",
    "    if arr==[]:\n",
    "        return [\"\"]\n",
    "    new_arr = subsets(arr[1:])\n",
    "    l = []\n",
    "    for i in new_arr:\n",
    "        l.append(i)\n",
    "    for i in new_arr:\n",
    "    \tl.append(str(arr[0])+\" \" +str(i))\n",
    "    return l\n",
    "        \n",
    "    \n",
    "    \n",
    "    \n",
    "\n",
    "def takeInput() :\n",
    "    n = int(input().strip())\n",
    "\n",
    "    if n == 0 :\n",
    "        return list(), 0\n",
    "\n",
    "    arr = [int(element) for element in list(input().strip().split(\" \"))]\n",
    "    return arr, n\n",
    "\n",
    "#main\n",
    "arr, n = takeInput()\n",
    "ans = subsets(arr)\n",
    "for i in ans:\n",
    "    print(i)\n",
    "    \n",
    "    "
   ]
  }
 ],
 "metadata": {
  "kernelspec": {
   "display_name": "Python 3",
   "language": "python",
   "name": "python3"
  },
  "language_info": {
   "codemirror_mode": {
    "name": "ipython",
    "version": 3
   },
   "file_extension": ".py",
   "mimetype": "text/x-python",
   "name": "python",
   "nbconvert_exporter": "python",
   "pygments_lexer": "ipython3",
   "version": "3.8.8"
  }
 },
 "nbformat": 4,
 "nbformat_minor": 5
}
