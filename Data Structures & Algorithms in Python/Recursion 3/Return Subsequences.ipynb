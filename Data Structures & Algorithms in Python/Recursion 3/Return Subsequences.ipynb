{
 "cells": [
  {
   "cell_type": "markdown",
   "id": "ac93c3e9",
   "metadata": {},
   "source": [
    "# Return Subsequences\n",
    "Send Feedback\n",
    "Given a string (let's say of length n), return all the subsequences of the given string.\n",
    "Subsequences contain all the strings of length varying from 0 to n. But the order of characters should remain the same as in the input string.\n",
    "Note: The order of subsequences are not important.\n",
    "Sample Input:\n",
    "abc\n",
    "Sample Output:\n",
    "\"\" (the double quotes just signifies an empty string, don't worry about the quotes)\n",
    "c \n",
    "b \n",
    "bc \n",
    "a \n",
    "ac \n",
    "ab \n",
    "abc "
   ]
  },
  {
   "cell_type": "code",
   "execution_count": 1,
   "id": "7f785881",
   "metadata": {},
   "outputs": [
    {
     "name": "stdout",
     "output_type": "stream",
     "text": [
      "abc\n",
      "\n",
      "c\n",
      "b\n",
      "bc\n",
      "a\n",
      "ac\n",
      "ab\n",
      "abc\n"
     ]
    }
   ],
   "source": [
    "\n",
    "\n",
    "def subsequences(string):\n",
    "    #Implement Your Code Here\n",
    "    if len(string)==0:\n",
    "        output_arr=[]\n",
    "        output_arr.append('')\n",
    "        return output_arr\n",
    "    smallstring=string[1:]\n",
    "    output_string=subsequences(smallstring)\n",
    "    output_arr=[]\n",
    "    for sub in output_string:\n",
    "        output_arr.append(sub)\n",
    "    for sub in output_string:\n",
    "        output_arr.append(string[0]+sub)\n",
    "    return output_arr\n",
    "\n",
    "string = input()\n",
    "ans = subsequences(string)\n",
    "for ele in ans:\n",
    "    print(ele)\n",
    "\n",
    "\n",
    "\n",
    "\n",
    "\n"
   ]
  }
 ],
 "metadata": {
  "kernelspec": {
   "display_name": "Python 3",
   "language": "python",
   "name": "python3"
  },
  "language_info": {
   "codemirror_mode": {
    "name": "ipython",
    "version": 3
   },
   "file_extension": ".py",
   "mimetype": "text/x-python",
   "name": "python",
   "nbconvert_exporter": "python",
   "pygments_lexer": "ipython3",
   "version": "3.8.8"
  }
 },
 "nbformat": 4,
 "nbformat_minor": 5
}
