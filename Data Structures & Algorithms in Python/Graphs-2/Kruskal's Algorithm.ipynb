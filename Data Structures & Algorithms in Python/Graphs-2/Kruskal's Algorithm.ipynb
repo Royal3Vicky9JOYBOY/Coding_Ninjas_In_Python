{
 "cells": [
  {
   "cell_type": "markdown",
   "id": "2aa89408",
   "metadata": {},
   "source": [
    "# Kruskal's Algorithm\n",
    "Send Feedback\n",
    "Given an undirected, connected and weighted graph G(V, E) with V number of vertices (which are numbered from 0 to V-1) and E number of edges.\n",
    "Find and print the Minimum Spanning Tree (MST) using Kruskal's algorithm.\n",
    "For printing MST follow the steps -\n",
    "1. In one line, print an edge which is part of MST in the format - \n",
    "v1 v2 w\n",
    "where, v1 and v2 are the vertices of the edge which is included in MST and whose weight is w. And v1  <= v2 i.e. print the smaller vertex first while printing an edge.\n",
    "2. Print V-1 edges in above format in different lines.\n",
    "Note : Order of different edges doesn't matter.\n",
    "Input Format :\n",
    "Line 1: Two Integers V and E (separated by space)\n",
    "Next E lines : Three integers ei, ej and wi, denoting that there exists an edge between vertex ei and vertex ej with weight wi (separated by space)\n",
    "Output Format :\n",
    "Print the MST, as described in the task.\n",
    "Constraints :\n",
    "2 <= V, E <= 10^5\n",
    "Time Limit: 1 sec\n",
    "Sample Input 1 :\n",
    "4 4\n",
    "0 1 3\n",
    "0 3 5\n",
    "1 2 1\n",
    "2 3 8\n",
    "Sample Output 1 :\n",
    "1 2 1\n",
    "0 1 3\n",
    "0 3 5"
   ]
  },
  {
   "cell_type": "code",
   "execution_count": 1,
   "id": "dd48624a",
   "metadata": {},
   "outputs": [
    {
     "name": "stdout",
     "output_type": "stream",
     "text": [
      "4 4\n",
      "0 1 3\n",
      "0 3 5\n",
      "1 2 1\n",
      "2 3 8\n",
      "0 1 3\n",
      "1 2 1\n",
      "0 3 5\n"
     ]
    }
   ],
   "source": [
    "import sys\n",
    "def Edge(v1,v2,w,adjmat):\n",
    "    adjmat[v1][v2]=w\n",
    "    adjmat[v2][v1]=w\n",
    "    \n",
    "    \n",
    "def getminvertex(visited,weight):\n",
    "    min_vertex=-1\n",
    "    for i in range(n):\n",
    "        if(visited[i] is False and (min_vertex==-1 or weight[min_vertex]>weight[i])):\n",
    "            min_vertex=i\n",
    "    return min_vertex         \n",
    "def prims():\n",
    "    visited=[False for i in range(n)]\n",
    "    parent=[-1 for i in range (n)]\n",
    "    weight=[sys.maxsize for i in range(n)]\n",
    "    #weight[0]=0\n",
    "    for i in range(n-1):\n",
    "        min_vertex=getminvertex(visited,weight)\n",
    "        visited[min_vertex]=True\n",
    "        for j in range(n):\n",
    "            if adjmat[min_vertex][j]>0 and visited[j] is False:\n",
    "                if weight[j]>adjmat[min_vertex][j]:\n",
    "                    weight[j]=adjmat[min_vertex][j]\n",
    "                    parent[j]=min_vertex\n",
    "    for i in range(1,n):\n",
    "        if i<parent[i]:\n",
    "            print(str(i)+\" \"+str(parent[i])+\" \"+str(weight[i]))\n",
    "        else:\n",
    "            print(str(parent[i])+\" \"+str(i)+\" \"+str(weight[i]))\n",
    "li=[int(ele) for ele in input().split()]\n",
    "n=li[0]\n",
    "E=li[1]\n",
    "adjmat=[[0 for j in range(n)] for i in range(n)]\n",
    "for i in range (E):\n",
    "    curr_input=[int(ele) for  ele in input().split()]\n",
    "    src=curr_input[0]\n",
    "    dest=curr_input[1]\n",
    "    wt=curr_input[2]\n",
    "    Edge(src,dest,wt,adjmat)\n",
    "prims()"
   ]
  }
 ],
 "metadata": {
  "kernelspec": {
   "display_name": "Python 3",
   "language": "python",
   "name": "python3"
  },
  "language_info": {
   "codemirror_mode": {
    "name": "ipython",
    "version": 3
   },
   "file_extension": ".py",
   "mimetype": "text/x-python",
   "name": "python",
   "nbconvert_exporter": "python",
   "pygments_lexer": "ipython3",
   "version": "3.8.8"
  }
 },
 "nbformat": 4,
 "nbformat_minor": 5
}
