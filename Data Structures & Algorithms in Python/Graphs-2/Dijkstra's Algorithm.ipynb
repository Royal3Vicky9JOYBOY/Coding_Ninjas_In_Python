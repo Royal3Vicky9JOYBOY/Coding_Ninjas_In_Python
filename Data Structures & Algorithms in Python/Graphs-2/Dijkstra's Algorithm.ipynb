{
 "cells": [
  {
   "cell_type": "markdown",
   "id": "100a61da",
   "metadata": {},
   "source": [
    "# Dijkstra's Algorithm\n",
    "Send Feedback\n",
    "Given an undirected, connected and weighted graph G(V, E) with V number of vertices (which are numbered from 0 to V-1) and E number of edges.\n",
    "Find and print the shortest distance from the source vertex (i.e. Vertex 0) to all other vertices (including source vertex also) using Dijkstra's Algorithm.\n",
    "Input Format :\n",
    "Line 1: Two Integers V and E (separated by space)\n",
    "Next E lines : Three integers ei, ej and wi, denoting that there exists an edge between vertex ei and vertex ej with weight wi (separated by space)\n",
    "Output Format :\n",
    "For each vertex, print its vertex number and its distance from source, in a separate line. The vertex number and its distance needs to be separated by a single space.\n",
    "Note : Order of vertices in output doesn't matter.\n",
    "Constraints :\n",
    "2 <= V, E <= 10^5\n",
    "Time Limit: 1 sec\n",
    "Sample Input 1 :\n",
    "4 4\n",
    "0 1 3\n",
    "0 3 5\n",
    "1 2 1\n",
    "2 3 8\n",
    "Sample Output 1 :\n",
    "0 0\n",
    "1 3\n",
    "2 4\n",
    "3 5"
   ]
  },
  {
   "cell_type": "code",
   "execution_count": 5,
   "id": "71ebff50",
   "metadata": {},
   "outputs": [
    {
     "name": "stdout",
     "output_type": "stream",
     "text": [
      "4 4\n",
      "0 1 3\n",
      "0 3 5\n",
      "1 2 1\n",
      "2 3 8\n",
      "0 0\n",
      "1 3\n",
      "2 4\n",
      "3 5\n"
     ]
    }
   ],
   "source": [
    "import sys \n",
    "  \n",
    "class Graph(): \n",
    "  \n",
    "    def __init__(self, vertices): \n",
    "        self.V = vertices \n",
    "        self.graph = [[0 for column in range(vertices)] for row in range(vertices)] \n",
    "  \n",
    "    def printSolution(self, dist): \n",
    "        for node in range(self.V): \n",
    "            print (str(node)+' '+ str(dist[node]) )\n",
    "            \n",
    "    def addEdge(self, v1,v2,wt):\n",
    "        self.graph[v1][v2] = wt\n",
    "        self.graph[v2][v1] = wt\n",
    "\n",
    "\n",
    "    def minDistance(self, dist, sptSet): \n",
    "        min_ = -1\n",
    "        for v in range(self.V): \n",
    "            if(sptSet[v] is False and (min_ == -1 or (dist[min_]>dist[v]))):\n",
    "                min_ = v \n",
    "        return min_\n",
    " \n",
    "    def dijkstra(self): \n",
    "        dist = [sys.maxsize] * self.V \n",
    "        dist[0] = 0\n",
    "        sptSet = [False] * self.V \n",
    "        for cout in range(self.V-1): \n",
    "            u = self.minDistance(dist, sptSet) \n",
    "            sptSet[u] = True\n",
    "            for v in range(self.V): \n",
    "                if self.graph[u][v]> 0 and sptSet[v] == False and dist[v] > dist[u] + self.graph[u][v]:\n",
    "                    dist[v] = dist[u] + self.graph[u][v] \n",
    "        for i in range(self.V):\n",
    "            print(i,dist[i])\n",
    "\n",
    "li = [int(ele) for ele in input().split()]\n",
    "n = li[0]\n",
    "E = li[1]\n",
    "g = Graph(n)\n",
    "\n",
    "for i in range (E):\n",
    "    curr_edge = [int(ele) for ele in input().split()]\n",
    "    g.addEdge(curr_edge[0], curr_edge[1], curr_edge[2])\n",
    "g.dijkstra()"
   ]
  }
 ],
 "metadata": {
  "kernelspec": {
   "display_name": "Python 3",
   "language": "python",
   "name": "python3"
  },
  "language_info": {
   "codemirror_mode": {
    "name": "ipython",
    "version": 3
   },
   "file_extension": ".py",
   "mimetype": "text/x-python",
   "name": "python",
   "nbconvert_exporter": "python",
   "pygments_lexer": "ipython3",
   "version": "3.8.8"
  }
 },
 "nbformat": 4,
 "nbformat_minor": 5
}
