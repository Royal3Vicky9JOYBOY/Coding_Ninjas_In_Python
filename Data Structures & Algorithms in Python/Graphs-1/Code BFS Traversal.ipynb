{
 "cells": [
  {
   "cell_type": "markdown",
   "id": "0cec4c2a",
   "metadata": {},
   "source": [
    "# Code : BFS Traversal\n",
    "Send Feedback\n",
    "Given an undirected and disconnected graph G(V, E), print its BFS traversal.\n",
    "Note:\n",
    "1. Here you need to consider that you need to print BFS path starting from vertex 0 only. \n",
    "2. V is the number of vertices present in graph G and vertices are numbered from 0 to V-1. \n",
    "3. E is the number of edges present in graph G.\n",
    "4. Take graph input in the adjacency matrix.\n",
    "5. Handle for Disconnected Graphs as well\n",
    "Input Format :\n",
    "The first line of input contains two integers, that denote the value of V and E.\n",
    "Each of the following E lines contains space separated two integers, that denote that there exists an edge between vertex a and b.\n",
    "Output Format :\n",
    "Print the BFS Traversal, as described in the task.\n",
    "Constraints :\n",
    "0 <= V <= 1000\n",
    "0 <= E <= (V * (V - 1)) / 2\n",
    "0 <= a <= V - 1\n",
    "0 <= b <= V - 1\n",
    "Time Limit: 1 second\n",
    "Sample Input 1:\n",
    "4 4\n",
    "0 1\n",
    "0 3\n",
    "1 2\n",
    "2 3\n",
    "Sample Output 1:\n",
    "0 1 3 2"
   ]
  },
  {
   "cell_type": "code",
   "execution_count": 1,
   "id": "6a9ddeee",
   "metadata": {},
   "outputs": [
    {
     "ename": "IndexError",
     "evalue": "list index out of range",
     "output_type": "error",
     "traceback": [
      "\u001b[1;31m---------------------------------------------------------------------------\u001b[0m",
      "\u001b[1;31mIndexError\u001b[0m                                Traceback (most recent call last)",
      "\u001b[1;32m<ipython-input-1-fdc04e58b140>\u001b[0m in \u001b[0;36m<module>\u001b[1;34m\u001b[0m\n\u001b[0;32m     41\u001b[0m \u001b[0mli\u001b[0m\u001b[1;33m=\u001b[0m\u001b[0mstdin\u001b[0m\u001b[1;33m.\u001b[0m\u001b[0mreadline\u001b[0m\u001b[1;33m(\u001b[0m\u001b[1;33m)\u001b[0m\u001b[1;33m.\u001b[0m\u001b[0mstrip\u001b[0m\u001b[1;33m(\u001b[0m\u001b[1;33m)\u001b[0m\u001b[1;33m.\u001b[0m\u001b[0msplit\u001b[0m\u001b[1;33m(\u001b[0m\u001b[1;33m)\u001b[0m\u001b[1;33m\u001b[0m\u001b[1;33m\u001b[0m\u001b[0m\n\u001b[0;32m     42\u001b[0m \u001b[1;33m\u001b[0m\u001b[0m\n\u001b[1;32m---> 43\u001b[1;33m \u001b[0mV\u001b[0m\u001b[1;33m=\u001b[0m\u001b[0mint\u001b[0m\u001b[1;33m(\u001b[0m\u001b[0mli\u001b[0m\u001b[1;33m[\u001b[0m\u001b[1;36m0\u001b[0m\u001b[1;33m]\u001b[0m\u001b[1;33m)\u001b[0m\u001b[1;33m\u001b[0m\u001b[1;33m\u001b[0m\u001b[0m\n\u001b[0m\u001b[0;32m     44\u001b[0m \u001b[0mE\u001b[0m\u001b[1;33m=\u001b[0m\u001b[0mint\u001b[0m\u001b[1;33m(\u001b[0m\u001b[0mli\u001b[0m\u001b[1;33m[\u001b[0m\u001b[1;36m1\u001b[0m\u001b[1;33m]\u001b[0m\u001b[1;33m)\u001b[0m\u001b[1;33m\u001b[0m\u001b[1;33m\u001b[0m\u001b[0m\n\u001b[0;32m     45\u001b[0m \u001b[1;33m\u001b[0m\u001b[0m\n",
      "\u001b[1;31mIndexError\u001b[0m: list index out of range"
     ]
    }
   ],
   "source": [
    "import queue\n",
    "\n",
    "from sys import stdin\n",
    "class Graph():\n",
    "    \n",
    "    def __init__(self,V):\n",
    "        self.V=V\n",
    "        self.adj=[[0 for i in range(V)] for j in range(V)]\n",
    "        \n",
    "    def addEdge(self,v1,v2):\n",
    "        self.adj[v1][v2]=1\n",
    "        self.adj[v2][v1]=1\n",
    "        \n",
    "    def removeEdge(self,v1,v2):\n",
    "        self.adj[v1][v2]=0\n",
    "        self.adj[v2][v1]=0\n",
    "    def hasEdge(self,v1,v2):\n",
    "        if(self.adj[v1][v2]==0):\n",
    "            return False\n",
    "        else:\n",
    "            return True\n",
    "    def __bfs(self,sv,visited):\n",
    "        Q=queue.Queue()\n",
    "        Q.put(sv)\n",
    "        visited[sv]=True\n",
    "        while Q.empty() is not True:\n",
    "            curV=Q.get()\n",
    "            print(curV,end=' ')\n",
    "            for i in range(self.V):\n",
    "                if(visited[i]==False and self.hasEdge(curV,i)):\n",
    "                    Q.put(i)\n",
    "                    visited[i]=True\n",
    "        return\n",
    "    def bfs(self):\n",
    "        visited=[False for i in range(self.V)]\n",
    "        for i in range(self.V):\n",
    "            if visited[i] is not True:\n",
    "                self.__bfs(i,visited)\n",
    "        return\n",
    "    \n",
    "li=stdin.readline().strip().split()\n",
    "\n",
    "V=int(li[0])\n",
    "E=int(li[1])\n",
    "\n",
    "graph=Graph(V)\n",
    "\n",
    "\n",
    "for i in range(E):\n",
    "    arr=stdin.readline().strip().split()\n",
    "    graph.addEdge(int(arr[0]),int(arr[1]))\n",
    "\n",
    "graph.bfs()"
   ]
  }
 ],
 "metadata": {
  "kernelspec": {
   "display_name": "Python 3",
   "language": "python",
   "name": "python3"
  },
  "language_info": {
   "codemirror_mode": {
    "name": "ipython",
    "version": 3
   },
   "file_extension": ".py",
   "mimetype": "text/x-python",
   "name": "python",
   "nbconvert_exporter": "python",
   "pygments_lexer": "ipython3",
   "version": "3.8.8"
  }
 },
 "nbformat": 4,
 "nbformat_minor": 5
}
