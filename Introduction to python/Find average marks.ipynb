{
 "cells": [
  {
   "cell_type": "code",
   "execution_count": 1,
   "id": "86614f14",
   "metadata": {},
   "outputs": [
    {
     "name": "stdout",
     "output_type": "stream",
     "text": [
      "3\n",
      "6\n",
      "9\n",
      "6.0\n"
     ]
    }
   ],
   "source": [
    "#Find average Marks\n",
    "\n",
    "# Write a program to input marks of three tests of a student (all integers). Then calculate and print the average of all test marks\n",
    "\n",
    "a=int(input())\n",
    "b=int(input())\n",
    "c=int(input())\n",
    "total_marks=a+b+c\n",
    "average_marks=(total_marks)/3\n",
    "print(average_marks)\n",
    "\n"
   ]
  },
  {
   "cell_type": "markdown",
   "id": "49912a8d",
   "metadata": {},
   "source": [
    "Input format :\n",
    "3 Test marks (in different lines)\n",
    "Output format :\n",
    "Average \n",
    "Sample Input 1 :\n",
    "3 \n",
    "4 \n",
    "6\n",
    "Sample Output 1 :\n",
    "4.333333333333333\n",
    "Sample Input 2 :\n",
    "5 \n",
    "10 \n",
    "5\n",
    "Sample Output 2 :\n",
    "6.666666666666667"
   ]
  }
 ],
 "metadata": {
  "kernelspec": {
   "display_name": "Python 3",
   "language": "python",
   "name": "python3"
  },
  "language_info": {
   "codemirror_mode": {
    "name": "ipython",
    "version": 3
   },
   "file_extension": ".py",
   "mimetype": "text/x-python",
   "name": "python",
   "nbconvert_exporter": "python",
   "pygments_lexer": "ipython3",
   "version": "3.8.8"
  }
 },
 "nbformat": 4,
 "nbformat_minor": 5
}
